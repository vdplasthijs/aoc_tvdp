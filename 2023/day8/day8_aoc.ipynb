{
 "cells": [
  {
   "cell_type": "code",
   "execution_count": 1,
   "metadata": {},
   "outputs": [],
   "source": [
    "%load_ext autoreload\n",
    "%autoreload 2\n",
    "\n",
    "import numpy as np\n",
    "import os, sys \n",
    "sys.path.append('..')\n",
    "import collections\n",
    "import copy\n",
    "import itertools\n",
    "import aoc_utils as au\n"
   ]
  },
  {
   "cell_type": "code",
   "execution_count": 2,
   "metadata": {},
   "outputs": [],
   "source": [
    "input_text = au.read_txt_file_lines()"
   ]
  },
  {
   "cell_type": "code",
   "execution_count": 17,
   "metadata": {},
   "outputs": [
    {
     "name": "stdout",
     "output_type": "stream",
     "text": [
      "target reached in 20093 steps\n"
     ]
    }
   ],
   "source": [
    "instructions = input_text[0]\n",
    "node = collections.namedtuple('node', ['L', 'R'])\n",
    "dict_nodes = {}\n",
    "for l in input_text[2:]:\n",
    "    l = l.split()\n",
    "    dict_nodes[l[0]] = node(L=l[2].lstrip('()').rstrip(','), R=l[3].rstrip(')'))\n",
    "\n",
    "curr_node = 'AAA'\n",
    "target_node = 'ZZZ'\n",
    "n_steps = 0\n",
    "n_while_loops = 0\n",
    "while curr_node != target_node:\n",
    "    for direction in instructions:\n",
    "        if direction == 'L':\n",
    "            curr_node = dict_nodes[curr_node].L\n",
    "        else:\n",
    "            curr_node = dict_nodes[curr_node].R\n",
    "        n_steps += 1\n",
    "        if curr_node == target_node:\n",
    "            print('target reached in {} steps'.format(n_steps))\n",
    "            break\n",
    "    n_while_loops += 1\n",
    "    # print('n_while_loops = {}'.format(n_while_loops))\n",
    "    if n_while_loops == 1000:\n",
    "        break"
   ]
  },
  {
   "cell_type": "markdown",
   "metadata": {},
   "source": [
    "## part 2 \n",
    "Thoughts:\n",
    "- Searching naively takes too long .. \n",
    "- Search for each individual node, get list of n_step values per starting node. Then find greatest common divider? Although with changing outcomes per sequence this doesnt work actually. **Update**: Turns out all of these starting nodes have normally repeating sequences, so that's it."
   ]
  },
  {
   "cell_type": "code",
   "execution_count": 20,
   "metadata": {},
   "outputs": [
    {
     "name": "stdout",
     "output_type": "stream",
     "text": [
      "['VGA', 'AAA', 'LHA', 'RHA', 'CVA', 'LDA']\n"
     ]
    },
    {
     "data": {
      "text/plain": [
       "798"
      ]
     },
     "execution_count": 20,
     "metadata": {},
     "output_type": "execute_result"
    }
   ],
   "source": [
    "start_nodes = [x for x in list(dict_nodes.keys()) if x[-1] == 'A'] \n",
    "print(start_nodes)\n",
    "len(dict_nodes)"
   ]
  },
  {
   "cell_type": "code",
   "execution_count": 62,
   "metadata": {},
   "outputs": [],
   "source": [
    "def get_nsteps_till_target(start_node, instructions, target_letter='Z', verbose=0):\n",
    "    n_step_list = []\n",
    "    n_steps = 0 \n",
    "    n_while_loops = 0\n",
    "    while True:\n",
    "        for direction in instructions:\n",
    "            if direction == 'L':\n",
    "                start_node = dict_nodes[start_node].L\n",
    "            else:\n",
    "                start_node = dict_nodes[start_node].R\n",
    "            n_steps += 1\n",
    "            if start_node[-1] == target_letter:\n",
    "                if verbose > 0:\n",
    "                    print('target reached in {} steps'.format(n_steps))\n",
    "                n_step_list.append(n_steps)\n",
    "                # break\n",
    "        n_while_loops += 1\n",
    "        if n_while_loops == 1000:\n",
    "            break\n",
    "    return np.array(n_step_list)\n",
    "\n",
    "dict_diffs = {}\n",
    "for start_node in start_nodes:\n",
    "    arr_n_steps = get_nsteps_till_target(start_node, instructions, target_letter='Z')\n",
    "    dict_diffs[start_node] = np.diff(arr_n_steps)\n",
    "    assert len(set(dict_diffs[start_node])) == 1, 'More than 1 sequence of steps to reach target found -- GCD approach no longer works'"
   ]
  },
  {
   "cell_type": "code",
   "execution_count": 63,
   "metadata": {},
   "outputs": [
    {
     "data": {
      "text/plain": [
       "array([20659, 20093, 14999, 17263, 22357, 16697])"
      ]
     },
     "execution_count": 63,
     "metadata": {},
     "output_type": "execute_result"
    }
   ],
   "source": [
    "diffs = np.array([x[0] for x in dict_diffs.values()])\n",
    "diffs"
   ]
  },
  {
   "cell_type": "code",
   "execution_count": 68,
   "metadata": {},
   "outputs": [
    {
     "name": "stdout",
     "output_type": "stream",
     "text": [
      "283\n",
      "283\n",
      "283\n",
      "283\n",
      "283\n",
      "283\n",
      "283\n",
      "283\n",
      "283\n",
      "283\n",
      "283\n",
      "283\n",
      "283\n",
      "283\n",
      "283\n"
     ]
    }
   ],
   "source": [
    "## Print GCDs of all pairs:\n",
    "for ii in range(len(diffs)):\n",
    "    for jj in range(ii+1, len(diffs)):\n",
    "        print(au.gcd(diffs[ii], diffs[jj]))\n"
   ]
  },
  {
   "cell_type": "code",
   "execution_count": 59,
   "metadata": {},
   "outputs": [
    {
     "data": {
      "text/plain": [
       "22103062509257"
      ]
     },
     "execution_count": 59,
     "metadata": {},
     "output_type": "execute_result"
    }
   ],
   "source": [
    "## All the same, so number of steps to reach Z for all can be found as follows:\n",
    "int(np.prod(diffs / 283) * 283)"
   ]
  }
 ],
 "metadata": {
  "kernelspec": {
   "display_name": "py37",
   "language": "python",
   "name": "python3"
  },
  "language_info": {
   "codemirror_mode": {
    "name": "ipython",
    "version": 3
   },
   "file_extension": ".py",
   "mimetype": "text/x-python",
   "name": "python",
   "nbconvert_exporter": "python",
   "pygments_lexer": "ipython3",
   "version": "3.7.4"
  }
 },
 "nbformat": 4,
 "nbformat_minor": 2
}
