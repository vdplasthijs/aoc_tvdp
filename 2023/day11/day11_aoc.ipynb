{
 "cells": [
  {
   "cell_type": "code",
   "execution_count": 1,
   "metadata": {},
   "outputs": [],
   "source": [
    "%load_ext autoreload\n",
    "%autoreload 2\n",
    "\n",
    "import numpy as np\n",
    "import os, sys \n",
    "sys.path.append('..')\n",
    "import collections\n",
    "import copy\n",
    "import itertools\n",
    "import aoc_utils as au\n"
   ]
  },
  {
   "cell_type": "code",
   "execution_count": 2,
   "metadata": {},
   "outputs": [
    {
     "name": "stdout",
     "output_type": "stream",
     "text": [
      "input has 140 rows and 140 cols\n"
     ]
    }
   ],
   "source": [
    "input_text = au.read_txt_file_lines()\n",
    "n_rows = len(input_text)\n",
    "n_cols = len(input_text[0])\n",
    "for ii in range(1, n_rows):\n",
    "    assert len(input_text[ii]) == n_cols, f'row {ii} has {len(input_text[ii])} cols, not {n_cols}'\n",
    "print(f'input has {n_rows} rows and {n_cols} cols')"
   ]
  },
  {
   "cell_type": "code",
   "execution_count": 6,
   "metadata": {},
   "outputs": [
    {
     "name": "stdout",
     "output_type": "stream",
     "text": [
      "There are 6 empty rows and 10 empty cols\n"
     ]
    }
   ],
   "source": [
    "def expand_universe(input_text, expand=True):\n",
    "    '''Turn into 2D np array. Expand all empty rows and col'''\n",
    "    arr_universe = np.zeros((n_rows, n_cols), dtype=np.int8)\n",
    "    for row in range(n_rows):\n",
    "        for col in range(n_cols):\n",
    "            if input_text[row][col] == '#':\n",
    "                arr_universe[row, col] = 1\n",
    "            else:\n",
    "                arr_universe[row, col] = 0\n",
    "\n",
    "    empty_rows = np.all(arr_universe == 0, axis=1)\n",
    "    empty_cols = np.all(arr_universe == 0, axis=0)\n",
    "    print(f'There are {np.sum(empty_rows)} empty rows and {np.sum(empty_cols)} empty cols')\n",
    "    # print(f'Empty rows; {np.where(empty_rows)[0]}, empty cols: {np.where(empty_cols)[0]}')\n",
    "\n",
    "    if expand:\n",
    "        arr_universe = np.insert(arr_universe, np.where(empty_rows)[0], 0, axis=0)\n",
    "        arr_universe = np.insert(arr_universe, np.where(empty_cols)[0], 0, axis=1)\n",
    "\n",
    "    return arr_universe, (empty_rows, empty_cols)\n",
    "\n",
    "arr_universe, _ = expand_universe(input_text)"
   ]
  },
  {
   "cell_type": "code",
   "execution_count": 5,
   "metadata": {},
   "outputs": [
    {
     "name": "stdout",
     "output_type": "stream",
     "text": [
      "There are 96580 pairs of galaxies\n",
      "Total distance: 9918828\n"
     ]
    }
   ],
   "source": [
    "def find_distance_all_pairs(arr_universe):\n",
    "    inds_galaxy = np.where(arr_universe == 1)\n",
    "    n_galaxies = len(inds_galaxy[0])\n",
    "    total_distance = 0 \n",
    "    n_pairs = 0\n",
    "    for ii in range(n_galaxies):\n",
    "        for jj in range(ii, n_galaxies):\n",
    "            if ii != jj:\n",
    "                n_pairs += 1\n",
    "                dist = abs(inds_galaxy[0][ii] - inds_galaxy[0][jj]) + abs(inds_galaxy[1][ii] - inds_galaxy[1][jj])\n",
    "                # print(f'Inds: {inds_galaxy[0][ii], inds_galaxy[1][ii]} and {inds_galaxy[0][jj], inds_galaxy[1][jj]}. Distance: {dist}')\n",
    "                total_distance += dist\n",
    "    print(f'There are {n_pairs} pairs of galaxies')\n",
    "    return total_distance\n",
    "total_dist = find_distance_all_pairs(arr_universe)\n",
    "print(f'Total distance: {total_dist}')"
   ]
  },
  {
   "cell_type": "markdown",
   "metadata": {},
   "source": [
    "## part 2 \n"
   ]
  },
  {
   "cell_type": "code",
   "execution_count": 22,
   "metadata": {},
   "outputs": [
    {
     "name": "stdout",
     "output_type": "stream",
     "text": [
      "There are 6 empty rows and 10 empty cols\n",
      "Total distance: 692506533832\n"
     ]
    }
   ],
   "source": [
    "arr_universe, (empty_rows, empty_cols) = expand_universe(input_text, expand=False)\n",
    "inds_empty_rows = np.where(empty_rows)[0]\n",
    "inds_empty_cols = np.where(empty_cols)[0]\n",
    "\n",
    "def find_distance_all_pairs_including_empty(arr_universe, inds_empty_rows, inds_empty_cols):\n",
    "    inds_galaxy = np.where(arr_universe == 1)\n",
    "    n_galaxies = len(inds_galaxy[0])\n",
    "    total_distance = 0 \n",
    "    dist_empty = 999999  # 1e6 - 1 because 1 is already added  for the original (empty) row/col \n",
    "    for ii in range(n_galaxies):\n",
    "        for jj in range(ii, n_galaxies):\n",
    "            if ii != jj:\n",
    "                dist_init = abs(inds_galaxy[0][ii] - inds_galaxy[0][jj]) + abs(inds_galaxy[1][ii] - inds_galaxy[1][jj])\n",
    "                row_min = np.minimum(inds_galaxy[0][ii], inds_galaxy[0][jj])\n",
    "                row_max = np.maximum(inds_galaxy[0][ii], inds_galaxy[0][jj])\n",
    "                col_min = np.minimum(inds_galaxy[1][ii], inds_galaxy[1][jj])\n",
    "                col_max = np.maximum(inds_galaxy[1][ii], inds_galaxy[1][jj])\n",
    "                n_empty = 0\n",
    "                for row in inds_empty_rows:\n",
    "                    if row in range(row_min, row_max):\n",
    "                        n_empty += 1\n",
    "                for col in inds_empty_cols:\n",
    "                    if col in range(col_min, col_max):\n",
    "                        n_empty += 1    \n",
    "                dist = dist_init + n_empty * dist_empty\n",
    "                total_distance += dist\n",
    "    return total_distance\n",
    "\n",
    "total_dist = find_distance_all_pairs_including_empty(arr_universe, inds_empty_rows, inds_empty_cols)\n",
    "print(f'Total distance: {total_dist}')"
   ]
  }
 ],
 "metadata": {
  "kernelspec": {
   "display_name": "py37",
   "language": "python",
   "name": "python3"
  },
  "language_info": {
   "codemirror_mode": {
    "name": "ipython",
    "version": 3
   },
   "file_extension": ".py",
   "mimetype": "text/x-python",
   "name": "python",
   "nbconvert_exporter": "python",
   "pygments_lexer": "ipython3",
   "version": "3.7.4"
  }
 },
 "nbformat": 4,
 "nbformat_minor": 2
}
