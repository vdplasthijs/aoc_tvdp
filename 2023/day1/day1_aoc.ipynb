{
 "cells": [
  {
   "cell_type": "code",
   "execution_count": 2,
   "metadata": {},
   "outputs": [
    {
     "name": "stdout",
     "output_type": "stream",
     "text": [
      "The autoreload extension is already loaded. To reload it, use:\n",
      "  %reload_ext autoreload\n"
     ]
    }
   ],
   "source": [
    "%load_ext autoreload\n",
    "%autoreload 2\n",
    "\n",
    "import numpy as np\n",
    "import os, sys \n",
    "sys.path.append('..')\n",
    "\n",
    "import aoc_utils as au"
   ]
  },
  {
   "cell_type": "code",
   "execution_count": 3,
   "metadata": {},
   "outputs": [],
   "source": [
    "input_text = au.read_txt_file_lines()"
   ]
  },
  {
   "cell_type": "code",
   "execution_count": 4,
   "metadata": {},
   "outputs": [
    {
     "data": {
      "text/plain": [
       "54667"
      ]
     },
     "execution_count": 4,
     "metadata": {},
     "output_type": "execute_result"
    }
   ],
   "source": [
    "def return_two_digits_from_str(s):\n",
    "    s_digits = ''.join([x if x.isdigit() else '' for x in s])\n",
    "    two_digit = s_digits[0] + s_digits[-1]\n",
    "    return int(two_digit)\n",
    "\n",
    "def return_all_two_digits_from_list(l):\n",
    "    return [return_two_digits_from_str(x) for x in l]\n",
    "\n",
    "np.sum(return_all_two_digits_from_list(input_text))"
   ]
  },
  {
   "cell_type": "markdown",
   "metadata": {},
   "source": [
    "## Part 2:"
   ]
  },
  {
   "cell_type": "code",
   "execution_count": 15,
   "metadata": {},
   "outputs": [
    {
     "data": {
      "text/plain": [
       "54203"
      ]
     },
     "execution_count": 15,
     "metadata": {},
     "output_type": "execute_result"
    }
   ],
   "source": [
    "def return_two_digits_incl_spelled_out_from_str(s):\n",
    "    list_digits_spelled_out = ['one', 'two', 'three', 'four', 'five', 'six', 'seven', 'eight', 'nine']\n",
    "   \n",
    "    keep_searching = True\n",
    "    while keep_searching:\n",
    "        for i, x in enumerate(s):\n",
    "            if x.isdigit():\n",
    "                first_digit = x\n",
    "                keep_searching = False \n",
    "                break \n",
    "            else:\n",
    "                for dig in list_digits_spelled_out:\n",
    "                    len_dig = len(dig)\n",
    "                    if s[i:i+len_dig] == dig:\n",
    "                        first_digit = str(list_digits_spelled_out.index(dig) + 1)\n",
    "                        keep_searching = False\n",
    "                        break\n",
    "                if keep_searching == False:\n",
    "                    break\n",
    "                \n",
    "\n",
    "    keep_searching = True\n",
    "    while keep_searching:\n",
    "        for i, x in enumerate(s[::-1]):\n",
    "            if x.isdigit():\n",
    "                second_digit = x\n",
    "                keep_searching = False \n",
    "                break \n",
    "            else:\n",
    "                for dig in list_digits_spelled_out:\n",
    "                    len_dig = len(dig)\n",
    "                    if s[::-1][i:i+len_dig][::-1] == dig:\n",
    "                        second_digit = str(list_digits_spelled_out.index(dig) + 1)\n",
    "                        keep_searching = False\n",
    "                        break\n",
    "                if keep_searching == False:\n",
    "                    break\n",
    "\n",
    "    two_digit = first_digit + second_digit\n",
    "    return int(two_digit)\n",
    "\n",
    "def return_all_two_digits_from_list(l):\n",
    "    return [return_two_digits_incl_spelled_out_from_str(x) for x in l]\n",
    "\n",
    "np.sum(return_all_two_digits_from_list(input_text))"
   ]
  },
  {
   "cell_type": "markdown",
   "metadata": {},
   "source": [
    "## Part 2 alternative:\n",
    "(Thought of this days later)"
   ]
  },
  {
   "cell_type": "code",
   "execution_count": 16,
   "metadata": {},
   "outputs": [
    {
     "data": {
      "text/plain": [
       "53623"
      ]
     },
     "execution_count": 16,
     "metadata": {},
     "output_type": "execute_result"
    }
   ],
   "source": [
    "def return_two_digits_from_str_incl_spelled_out_v2(s):\n",
    "    list_digit_names = ['one', 'two', 'three', 'four', 'five', 'six', 'seven', 'eight', 'nine']\n",
    "    for ind, name in enumerate(list_digit_names):\n",
    "        s = s.replace(name, str(ind + 1))\n",
    "    s_digits = ''.join([x if x.isdigit() else '' for x in s])\n",
    "    two_digit = s_digits[0] + s_digits[-1]\n",
    "    return int(two_digit)\n",
    "\n",
    "def return_all_two_digits_from_list(l):\n",
    "    return [return_two_digits_from_str_incl_spelled_out_v2(x) for x in l]\n",
    "    \n",
    "np.sum(return_all_two_digits_from_list(input_text))\n"
   ]
  },
  {
   "cell_type": "markdown",
   "metadata": {},
   "source": [
    "Doesn't work!! Compare to my first solution that I know is correct:"
   ]
  },
  {
   "cell_type": "code",
   "execution_count": 17,
   "metadata": {},
   "outputs": [
    {
     "name": "stdout",
     "output_type": "stream",
     "text": [
      "heightwosixthzdf7gdtllhsnfive1onemfcqkqfqkj1\n",
      "81 21\n"
     ]
    }
   ],
   "source": [
    "for l in input_text:\n",
    "    a = return_two_digits_incl_spelled_out_from_str(l)\n",
    "    b = return_two_digits_from_str_incl_spelled_out_v2(l)\n",
    "    if a != b:\n",
    "        print(l)\n",
    "        print(a, b)\n",
    "        break \n",
    "\n",
    "    "
   ]
  },
  {
   "cell_type": "markdown",
   "metadata": {},
   "source": [
    "Problem is combined-digit-words like `eightwo`, which my v2 function transforms to `eigh2` and then cant find the `8` anymore. Hah!"
   ]
  }
 ],
 "metadata": {
  "kernelspec": {
   "display_name": "py37",
   "language": "python",
   "name": "python3"
  },
  "language_info": {
   "codemirror_mode": {
    "name": "ipython",
    "version": 3
   },
   "file_extension": ".py",
   "mimetype": "text/x-python",
   "name": "python",
   "nbconvert_exporter": "python",
   "pygments_lexer": "ipython3",
   "version": "3.10.13"
  }
 },
 "nbformat": 4,
 "nbformat_minor": 2
}
