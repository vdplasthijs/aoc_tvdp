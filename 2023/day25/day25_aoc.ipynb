{
 "cells": [
  {
   "cell_type": "code",
   "execution_count": 7,
   "metadata": {},
   "outputs": [
    {
     "name": "stdout",
     "output_type": "stream",
     "text": [
      "The autoreload extension is already loaded. To reload it, use:\n",
      "  %reload_ext autoreload\n"
     ]
    }
   ],
   "source": [
    "%load_ext autoreload\n",
    "%autoreload 2\n",
    "\n",
    "import numpy as np\n",
    "import os, sys \n",
    "sys.path.append('..')\n",
    "import collections\n",
    "import copy\n",
    "import itertools\n",
    "import aoc_utils as au\n",
    "import math \n",
    "from tqdm import tqdm\n",
    "import matplotlib.pyplot as plt"
   ]
  },
  {
   "cell_type": "code",
   "execution_count": 8,
   "metadata": {},
   "outputs": [],
   "source": [
    "input_text = au.read_txt_file_lines()\n",
    "n_rows = len(input_text)"
   ]
  },
  {
   "cell_type": "code",
   "execution_count": 13,
   "metadata": {},
   "outputs": [
    {
     "data": {
      "text/plain": [
       "<matplotlib.image.AxesImage at 0x7f17299332d0>"
      ]
     },
     "execution_count": 13,
     "metadata": {},
     "output_type": "execute_result"
    },
    {
     "data": {
      "image/png": "[encoded data removed]",
      "text/plain": [
       "<Figure size 432x288 with 1 Axes>"
      ]
     },
     "metadata": {
      "needs_background": "light"
     },
     "output_type": "display_data"
    }
   ],
   "source": [
    "list_comps = []\n",
    "for l in input_text:\n",
    "    comps = l.split(':')\n",
    "    assert len(comps) == 2\n",
    "    comps = [comps[0]] + comps[1].split()\n",
    "    comps = [x.strip() for x in comps]\n",
    "    for c in comps:\n",
    "        if c not in list_comps:\n",
    "            list_comps.append(c)\n",
    "\n",
    "n_comps = len(list_comps)\n",
    "mat_connect = np.zeros((n_comps, n_comps), dtype=int)\n",
    "for l in input_text:\n",
    "    comps = l.split(':')\n",
    "    assert len(comps) == 2\n",
    "    start_comp = comps[0].strip()\n",
    "    end_comps = [x.strip() for x in comps[1].split()]\n",
    "    ind_start = list_comps.index(start_comp)\n",
    "    for c in end_comps:\n",
    "        ind_end = list_comps.index(c)\n",
    "        mat_connect[ind_start, ind_end] = 1\n",
    "        mat_connect[ind_end, ind_start] = 1\n",
    "\n",
    "plt.imshow(mat_connect[:100, :100], interpolation='none')"
   ]
  },
  {
   "cell_type": "markdown",
   "metadata": {},
   "source": [
    "- remove 3 components to disconnect matric into 2 groups"
   ]
  },
  {
   "cell_type": "code",
   "execution_count": 53,
   "metadata": {},
   "outputs": [],
   "source": [
    "def check_connected(mat_connect, start_ind=0, nodes_skip=[]):\n",
    "    queue_nodes = collections.deque([start_ind])\n",
    "    set_visited_nodes = set()\n",
    "    nodes_skip = set(nodes_skip)\n",
    "    n_total = mat_connect.shape[0]# - len(nodes_skip)\n",
    "    if len(nodes_skip) > 0:\n",
    "        for x in nodes_skip:\n",
    "            set_visited_nodes.add(x)\n",
    "    ## juts work with inds \n",
    "    while len(queue_nodes) > 0:\n",
    "        curr_node = queue_nodes.popleft()\n",
    "        # print(curr_node)\n",
    "        assert curr_node not in set_visited_nodes, curr_node\n",
    "        set_visited_nodes.add(curr_node)\n",
    "        connected_nodes = np.where(mat_connect[curr_node, :])[0]\n",
    "        connected_nodes = set(connected_nodes).difference(set_visited_nodes)\n",
    "        connected_nodes = [x for x in connected_nodes if x not in queue_nodes]\n",
    "        queue_nodes.extend(connected_nodes)\n",
    "\n",
    "    n_final = len(set_visited_nodes)\n",
    "    if n_total == n_final:\n",
    "        return True, None\n",
    "    else:\n",
    "        print(f'only {n_final}/{n_total} comps')\n",
    "        return False, set_visited_nodes"
   ]
  },
  {
   "cell_type": "code",
   "execution_count": 54,
   "metadata": {},
   "outputs": [],
   "source": [
    "# %timeit check_connected(mat_connect)"
   ]
  },
  {
   "cell_type": "code",
   "execution_count": 56,
   "metadata": {},
   "outputs": [
    {
     "name": "stderr",
     "output_type": "stream",
     "text": [
      "  0%|          | 0/20 [00:00<?, ?it/s]"
     ]
    },
    {
     "name": "stderr",
     "output_type": "stream",
     "text": [
      "100%|██████████| 20/20 [04:20<00:00, 13.03s/it]\n"
     ]
    }
   ],
   "source": [
    "grade_nodes = np.sum(mat_connect, 0)\n",
    "inds_nodes_sorted = np.argsort(grade_nodes)[::-1]  # large to small \n",
    "candidate_nodes = inds_nodes_sorted[:20]\n",
    "for c1 in tqdm(candidate_nodes):\n",
    "    for c2 in candidate_nodes:\n",
    "        for c3 in candidate_nodes:\n",
    "            if len(set([c1, c2, c3])) != 3:\n",
    "                continue\n",
    "            is_full, set_nodes = check_connected(mat_connect=mat_connect, nodes_skip=[c1, c2, c3])\n",
    "            assert is_full, f'{c1} {c2} {c3}'\n",
    "            "
   ]
  },
  {
   "cell_type": "code",
   "execution_count": 47,
   "metadata": {},
   "outputs": [
    {
     "data": {
      "text/plain": [
       "(1568, 1568)"
      ]
     },
     "execution_count": 47,
     "metadata": {},
     "output_type": "execute_result"
    }
   ],
   "source": [
    "len(set_nodes), len(list_comps)"
   ]
  }
 ],
 "metadata": {
  "kernelspec": {
   "display_name": "py37",
   "language": "python",
   "name": "python3"
  },
  "language_info": {
   "codemirror_mode": {
    "name": "ipython",
    "version": 3
   },
   "file_extension": ".py",
   "mimetype": "text/x-python",
   "name": "python",
   "nbconvert_exporter": "python",
   "pygments_lexer": "ipython3",
   "version": "3.7.4"
  }
 },
 "nbformat": 4,
 "nbformat_minor": 2
}
