{
 "cells": [
  {
   "cell_type": "code",
   "execution_count": 2,
   "metadata": {},
   "outputs": [],
   "source": [
    "%load_ext autoreload\n",
    "%autoreload 2\n",
    "\n",
    "import numpy as np\n",
    "import os, sys \n",
    "sys.path.append('..')\n",
    "\n",
    "from tqdm import tqdm\n",
    "import aoc_utils as au\n"
   ]
  },
  {
   "cell_type": "code",
   "execution_count": 3,
   "metadata": {},
   "outputs": [
    {
     "data": {
      "text/plain": [
       "['seeds: 929142010 467769747 2497466808 210166838 3768123711 33216796 1609270159 86969850 199555506 378609832 1840685500 314009711 1740069852 36868255 2161129344 170490105 2869967743 265455365 3984276455 31190888',\n",
       " '',\n",
       " 'seed-to-soil map:',\n",
       " '3788621315 24578909 268976974',\n",
       " '3633843608 2672619957 154777707',\n",
       " '1562003446 2827397664 767899879',\n",
       " '2618130896 293555883 1015712712',\n",
       " '178572254 3595297543 462300746',\n",
       " '640873000 1553961386 921130446',\n",
       " '2373438105 1435027522 118933864',\n",
       " '2492371969 1309268595 125758927',\n",
       " '2329903325 2629085177 43534780',\n",
       " '24578909 2475091832 153993345',\n",
       " '',\n",
       " 'soil-to-fertilizer map:',\n",
       " '3438795585 3489901885 246180709',\n",
       " '2207634271 2882741084 20404178',\n",
       " '2921657379 3093830975 5578539',\n",
       " '3684976294 494116589 47356386',\n",
       " '3924272359 3740035076 65483093',\n",
       " '501906244 2178419272 30310459',\n",
       " '1234683323 1988217660 166809869',\n",
       " '1901474422 3380297447 5929907',\n",
       " '1561485292 902794130 43191607',\n",
       " '3740035076 4064176085 35875061',\n",
       " '1756130945 2337296126 107889556',\n",
       " '1631134020 2212299201 124996925',\n",
       " '3775910137 4100051146 148362222',\n",
       " '1907404329 355795024 25976339',\n",
       " '98608320 1132323727 78740039',\n",
       " '177348359 323563608 17306027',\n",
       " '3181146272 2546033985 176714999',\n",
       " '1135867625 395300891 98815698',\n",
       " '1604676899 381771363 13529528',\n",
       " '1062398411 3348792067 31505380',\n",
       " '1933380668 1211063766 135031541',\n",
       " '4152704827 4248413368 14047124',\n",
       " '2231607919 3386227354 49301269',\n",
       " '2068412209 1349845221 139222062',\n",
       " '1618206427 0 12927593',\n",
       " '4166751951 3935960740 128215345',\n",
       " '4055852131 3871614848 64345892',\n",
       " '1093903791 340869635 14925389',\n",
       " '2280909188 93861907 229701701',\n",
       " '252523691 3099409514 249382553',\n",
       " '194654386 640081295 34477562',\n",
       " '2228038449 2208729731 3569470',\n",
       " '2927235918 674558857 8851379',\n",
       " '3989755452 3805518169 66096679',\n",
       " '3732332680 1346095307 3749914',\n",
       " '229131948 2155027529 23391743',\n",
       " '1108829180 945985737 27038445',\n",
       " '2510610889 683410236 219383894',\n",
       " '2729994783 973024182 159299545',\n",
       " '2936087297 2903145262 190685713',\n",
       " '2889294328 1489067283 32363051',\n",
       " '4120198023 4262460492 32506804',\n",
       " '633065006 1558884255 429333405',\n",
       " '3126773010 3435528623 54373262',\n",
       " '0 541472975 98608320',\n",
       " '3357861271 12927593 80934314',\n",
       " '532216703 2445185682 100848303',\n",
       " '1401493192 2722748984 159992100',\n",
       " '1864020501 1521430334 37453921',\n",
       " '',\n",
       " 'fertilizer-to-water map:',\n",
       " '1947541026 454827174 151424508',\n",
       " '2368626375 2974348911 49282632',\n",
       " '1180361458 1899400011 39609082',\n",
       " '680762316 1808139816 91260195',\n",
       " '3146089823 3660401583 124406340',\n",
       " '1750346896 411180537 43646637',\n",
       " '812988815 228261758 177656250',\n",
       " '1318675555 1023120195 274976204',\n",
       " '1593651759 866425058 156695137',\n",
       " '3971733879 2669799085 75517075',\n",
       " '3655228757 4176552157 118415139',\n",
       " '3441507492 3915100392 170047342',\n",
       " '3888713098 2412300298 83020781',\n",
       " '552417940 99917382 128344376',\n",
       " '1799256062 1298096399 110644443',\n",
       " '0 825619231 40805827',\n",
       " '123867918 1939009093 176811732',\n",
       " '3835793763 4085147734 52919335',\n",
       " '300679650 1712674949 32370741',\n",
       " '772022511 1598457235 40966304',\n",
       " '1219970540 1639423539 73251410',\n",
       " '3297826708 3784807923 40826594',\n",
       " '1793993533 405918008 5262529',\n",
       " '3056623948 3825634517 89465875',\n",
       " '3773643896 3023631543 62149867',\n",
       " '1909900505 1770499295 37640521',\n",
       " '40805827 16855291 83062091',\n",
       " '2417909007 2745316160 229032751',\n",
       " '3611554834 2368626375 43673923',\n",
       " '2646941758 4138067069 38485088',\n",
       " '4047250954 2598175269 71623816',\n",
       " '3338653302 2495321079 102854190',\n",
       " '2685426846 3279231811 71633749',\n",
       " '4118874770 3085781410 165769241',\n",
       " '3028942788 3251550651 27681160',\n",
       " '333050391 606251682 219367549',\n",
       " '2757060595 3388519390 271882193',\n",
       " '1293221950 1745045690 25453605',\n",
       " '3270496163 3350865560 27330545',\n",
       " '4284644011 3378196105 10323285',\n",
       " '990645065 1408740842 189716393',\n",
       " '2098965534 0 16855291',\n",
       " '',\n",
       " 'water-to-light map:',\n",
       " '1069022530 222696536 26137468',\n",
       " '509774651 1001927432 264687540',\n",
       " '2799496570 4178737505 91960917',\n",
       " '2622746937 2920297784 87218886',\n",
       " '998047684 72317843 70974846',\n",
       " '20975330 248834004 16650836',\n",
       " '1516625244 2418736444 445891562',\n",
       " '867141089 265484840 130906595',\n",
       " '1452450963 1912658188 64174281',\n",
       " '2891457487 2382365765 36370679',\n",
       " '837778702 42955456 29362387',\n",
       " '3824593525 1874523410 38134778',\n",
       " '87390794 857485915 142625628',\n",
       " '3874640725 2075355481 18387003',\n",
       " '774462191 529657635 63316511',\n",
       " '3607044420 4131300557 47436948',\n",
       " '2288390345 3657176164 11501412',\n",
       " '3042932184 1976832469 64291113',\n",
       " '2947540744 4035909117 95391440',\n",
       " '87126518 42691180 264276',\n",
       " '1425451487 3765808292 26999476',\n",
       " '3893027728 3579750125 77426039',\n",
       " '2203098143 3680516090 85292202',\n",
       " '3992272144 3274151418 290856638',\n",
       " '2927828166 4033389105 2520012',\n",
       " '278763375 464023676 18702895',\n",
       " '3114215141 1527053163 335557825',\n",
       " '3654481368 3014508514 170112157',\n",
       " '2930348178 3565008056 14742069',\n",
       " '230016422 482726571 46931064',\n",
       " '3970453767 4270698422 21818377',\n",
       " '4283128782 3668677576 11838514',\n",
       " '1223923792 0 42691180',\n",
       " '3505442744 1425451487 101601676',\n",
       " '2709965823 3184620671 89530747',\n",
       " '1174563845 737650286 49359947',\n",
       " '3862728303 1862610988 11912422',\n",
       " '37626166 787010233 49500352',\n",
       " '3449772966 2864628006 55669778',\n",
       " '297466270 592974146 144676140',\n",
       " '2334123656 2093742484 288623281',\n",
       " '2945090247 4292516799 2450497',\n",
       " '1095159998 143292689 79403847',\n",
       " '3107223297 3007516670 6991844',\n",
       " '0 836510585 20975330',\n",
       " '2299891757 2041123582 34231899',\n",
       " '276947486 1000111543 1815889',\n",
       " '442142410 396391435 67632241',\n",
       " '1962516806 3792807768 240581337',\n",
       " '',\n",
       " 'light-to-temperature map:',\n",
       " '3884798542 3179257010 5536030',\n",
       " '2221366309 1722332134 176062455',\n",
       " '550850442 2239976316 812984276',\n",
       " '1811481549 3100760963 78496047',\n",
       " '2640090257 457193060 313876206',\n",
       " '2495814208 2197536573 42439743',\n",
       " '3995825312 1898394589 299141984',\n",
       " '3754849534 3407613625 129949008',\n",
       " '3890334572 3302122885 105490740',\n",
       " '1889977596 771069266 255516805',\n",
       " '3300733900 3052960592 47800371',\n",
       " '3497312635 4294682795 284501',\n",
       " '3348534271 3830987352 148778364',\n",
       " '3181367714 3537562633 118078810',\n",
       " '2397428764 3655641443 98385444',\n",
       " '2563129792 3754026887 11234150',\n",
       " '3497597136 3279737798 22385087',\n",
       " '2538253951 1249809462 24875841',\n",
       " '2953966463 4067281544 227401251',\n",
       " '2145494401 3979765716 75871908',\n",
       " '1363834718 1274685303 447646831',\n",
       " '457193060 3184793040 93657382',\n",
       " '3519982223 4055637624 11643920',\n",
       " '2574363942 3765261037 65726315',\n",
       " '3299446524 3278450422 1287376',\n",
       " '3531626143 1026586071 223223391',\n",
       " '',\n",
       " 'temperature-to-humidity map:',\n",
       " '1042511941 613297634 21380371',\n",
       " '1338560988 2467432579 195807105',\n",
       " '1689790100 2663239684 5147838',\n",
       " '1534368093 1255646654 123554085',\n",
       " '1657922178 472280060 31867922',\n",
       " '1063892312 634678005 22101508',\n",
       " '3020373353 2743804882 227587056',\n",
       " '3354622010 3207836814 51442173',\n",
       " '279315000 1414949840 172148078',\n",
       " '2333443661 0 36016786',\n",
       " '2656069043 859373847 9250148',\n",
       " '81520987 1873230878 37317266',\n",
       " '2452902712 868623995 174257482',\n",
       " '2665319191 1042881477 3068331',\n",
       " '1085993820 504147982 109149652',\n",
       " '1875725935 36016786 328594859',\n",
       " '3247960409 4062312657 86516416',\n",
       " '2743804882 3833392893 10707972',\n",
       " '2204320794 2254867447 129122867',\n",
       " '1302811887 1379200739 35749101',\n",
       " '3930773544 4267797728 7024383',\n",
       " '4056766582 3259278987 238200714',\n",
       " '1195143472 364611645 107668415',\n",
       " '0 656779513 81520987',\n",
       " '2369460447 2383990314 83442265',\n",
       " '3334476825 4274822111 20145185',\n",
       " '451463078 1910548144 344319303',\n",
       " '811683287 1642402224 230828654',\n",
       " '2754512854 3160188107 47648707',\n",
       " '2802161561 3844100865 218211792',\n",
       " '3741977375 2971391938 188796169',\n",
       " '2627160194 1226737805 28908849',\n",
       " '3406064183 3497479701 245403322',\n",
       " '795782381 843472941 15900906',\n",
       " '174142559 738300500 105172441',\n",
       " '1694937938 1045949808 180787997',\n",
       " '3651467505 3742883023 90509870',\n",
       " '3937797927 4148829073 118968655',\n",
       " '118838253 1587097918 55304306',\n",
       " '',\n",
       " 'humidity-to-location map:',\n",
       " '561172837 465568195 974822499',\n",
       " '3386805071 4164489434 100929125',\n",
       " '1899981360 1440390694 188334950',\n",
       " '459590666 0 101582171',\n",
       " '0 1735512469 459590666',\n",
       " '3517282933 3386805071 777684363',\n",
       " '2088316310 1628725644 106786825',\n",
       " '3487734196 4265418559 29548737',\n",
       " '1535995336 101582171 363986024']"
      ]
     },
     "execution_count": 3,
     "metadata": {},
     "output_type": "execute_result"
    }
   ],
   "source": [
    "input_text = au.read_txt_file_lines()\n",
    "input_text"
   ]
  },
  {
   "cell_type": "code",
   "execution_count": 4,
   "metadata": {},
   "outputs": [],
   "source": [
    "list_seeds = [int(x) for x in input_text[0].lstrip('seeds: ').split()]\n",
    "list_maps = input_text[2:]\n"
   ]
  },
  {
   "cell_type": "markdown",
   "metadata": {},
   "source": [
    "## plan part 1:\n",
    "extract map values into dictionary \n",
    "then create if statements to do the mapping. "
   ]
  },
  {
   "cell_type": "code",
   "execution_count": 5,
   "metadata": {},
   "outputs": [
    {
     "name": "stdout",
     "output_type": "stream",
     "text": [
      "found min location 600279879 at seed 3984276455\n"
     ]
    }
   ],
   "source": [
    "dict_map_values = {}\n",
    "for l in list_maps:\n",
    "    if 'map' in l:\n",
    "        # print(l)\n",
    "        name_map = l.rstrip(' map:')\n",
    "        dict_map_values[name_map] = []\n",
    "    elif l == '':\n",
    "        pass \n",
    "    else:\n",
    "        nums = [int(x) for x in l.split()]\n",
    "        assert len(nums) == 3\n",
    "        tmp_dict = {}\n",
    "        tmp_dict['dest'] = nums[0]\n",
    "        tmp_dict['source'] = nums[1]\n",
    "        tmp_dict['len'] = nums[2]\n",
    "        dict_map_values[name_map].append(tmp_dict)\n",
    "\n",
    "def transform_seed_to_location(seed, dict_map_values):\n",
    "    dict_solution = {'seed': seed}\n",
    "    curr_name = 'seed'\n",
    "    curr_val = seed\n",
    "    for map_name in dict_map_values.keys():\n",
    "        map_name_split = map_name.split('-')\n",
    "        assert len(map_name_split) == 3\n",
    "        assert map_name_split[0] == curr_name \n",
    "        new_name = map_name_split[2]\n",
    "        new_val = None\n",
    "        for d in dict_map_values[map_name]:\n",
    "            if curr_val >= d['source'] and curr_val < d['source'] + d['len']:\n",
    "                new_val = d['dest'] + curr_val - d['source']\n",
    "                break\n",
    "        if new_val is None:\n",
    "            new_val = curr_val \n",
    "        dict_solution[new_name] = new_val\n",
    "        # print(f'found {new_name} = {new_val} from {curr_name} = {curr_val}')\n",
    "        curr_name = new_name\n",
    "        curr_val = new_val\n",
    "\n",
    "    return dict_solution\n",
    "\n",
    "def transform_seed_to_location_fast(seed, dict_map_values):\n",
    "    curr_val = seed\n",
    "    for map_name in dict_map_values.keys():\n",
    "        for d in dict_map_values[map_name]:\n",
    "            if curr_val >= d['source'] and curr_val < d['source'] + d['len']:\n",
    "                new_val = d['dest'] + curr_val - d['source']\n",
    "                break\n",
    "        if new_val is None:\n",
    "            new_val = curr_val \n",
    "        curr_val = new_val\n",
    "\n",
    "    return curr_val\n",
    "\n",
    "def list_all_locations(list_seeds, dict_map_values, find_min=True):\n",
    "\n",
    "    dict_solutions = {}\n",
    "    for seed in list_seeds:\n",
    "        dict_solutions[seed] = transform_seed_to_location(seed, dict_map_values)['location']\n",
    "\n",
    "    if find_min:\n",
    "        min_val = min(dict_solutions.values())\n",
    "        for k in dict_solutions.keys():\n",
    "            if dict_solutions[k] == min_val:\n",
    "                print(f'found min location {min_val} at seed {k}')\n",
    "                break\n",
    "\n",
    "    return dict_solutions\n",
    "\n",
    "dict_solutions = list_all_locations(list_seeds, dict_map_values)\n",
    "# dict_solutions"
   ]
  },
  {
   "cell_type": "markdown",
   "metadata": {},
   "source": [
    "## part 2\n",
    "should be v easy now! :) \n",
    "\n",
    "(Or are the numbers too large to brute force?) - > yes .. \n"
   ]
  },
  {
   "cell_type": "code",
   "execution_count": 6,
   "metadata": {},
   "outputs": [
    {
     "data": {
      "text/plain": [
       "[929142010,\n",
       " 467769747,\n",
       " 2497466808,\n",
       " 210166838,\n",
       " 3768123711,\n",
       " 33216796,\n",
       " 1609270159,\n",
       " 86969850,\n",
       " 199555506,\n",
       " 378609832,\n",
       " 1840685500,\n",
       " 314009711,\n",
       " 1740069852,\n",
       " 36868255,\n",
       " 2161129344,\n",
       " 170490105,\n",
       " 2869967743,\n",
       " 265455365,\n",
       " 3984276455,\n",
       " 31190888]"
      ]
     },
     "execution_count": 6,
     "metadata": {},
     "output_type": "execute_result"
    }
   ],
   "source": [
    "list_seeds"
   ]
  },
  {
   "cell_type": "code",
   "execution_count": 7,
   "metadata": {},
   "outputs": [
    {
     "name": "stdout",
     "output_type": "stream",
     "text": [
      "8.18 µs ± 70.7 ns per loop (mean ± std. dev. of 7 runs, 100,000 loops each)\n"
     ]
    }
   ],
   "source": [
    "%timeit transform_seed_to_location(list_seeds[0], dict_map_values)"
   ]
  },
  {
   "cell_type": "code",
   "execution_count": 9,
   "metadata": {},
   "outputs": [
    {
     "name": "stdout",
     "output_type": "stream",
     "text": [
      "6.92 µs ± 56.9 ns per loop (mean ± std. dev. of 7 runs, 100,000 loops each)\n"
     ]
    }
   ],
   "source": [
    "%timeit transform_seed_to_location_fast(list_seeds[0], dict_map_values)  # not fast enough"
   ]
  },
  {
   "cell_type": "code",
   "execution_count": 15,
   "metadata": {},
   "outputs": [
    {
     "data": {
      "text/plain": [
       "array([[ 19,  57],\n",
       "       [ 92, 139],\n",
       "       [160, 169],\n",
       "       [174, 177],\n",
       "       [184, 215],\n",
       "       [216, 233],\n",
       "       [249, 270],\n",
       "       [286, 313],\n",
       "       [376, 380],\n",
       "       [398, 401]])"
      ]
     },
     "execution_count": 15,
     "metadata": {},
     "output_type": "execute_result"
    }
   ],
   "source": [
    "len_seeds1 = len(list_seeds)\n",
    "assert len_seeds1 % 2 == 0\n",
    "arr_seed_ranges_approx = np.zeros((len_seeds1 // 2, 2), dtype=int)\n",
    "arr_seed_ranges_precise = np.zeros((len_seeds1 // 2, 2), dtype=int)\n",
    "\n",
    "for ii in range(len_seeds1 // 2):\n",
    "\n",
    "    start_range_ind = int(ii * 2)\n",
    "    len_range_ind = int(ii * 2 + 1)\n",
    "    start_range = list_seeds[start_range_ind]\n",
    "    len_range = list_seeds[len_range_ind]\n",
    "    end_range = start_range + len_range - 1\n",
    "    arr_seed_ranges_approx[ii, 0] = int(start_range / 1e7)\n",
    "    arr_seed_ranges_approx[ii, 1] = int(end_range / 1e7)\n",
    "    arr_seed_ranges_precise[ii, 0] = start_range\n",
    "    arr_seed_ranges_precise[ii, 1] = end_range\n",
    "    \n",
    "arr_seed_ranges_approx = arr_seed_ranges_approx[arr_seed_ranges_approx[:, 0].argsort()]\n",
    "arr_seed_ranges_precise = arr_seed_ranges_precise[arr_seed_ranges_precise[:, 0].argsort()]\n",
    "arr_seed_ranges_approx"
   ]
  },
  {
   "cell_type": "markdown",
   "metadata": {},
   "source": [
    "## Some thoughts\n",
    "\n",
    "1. Brute-forcing all numbers doesnt work. \n",
    "2. Seems sensible to try to work with ranges. Eg backtrack from locations: how do ranges split up into humidity etc.? Difficulty with back-tracking is that I don't think the solution is isomorph in the sense that multiple humidity values could map to the same location value.. Therefore I think you should stick with forward passes. Can I work with ranges in forward pass? Not sure how to (easily code this)\n",
    "3. Rogue idea: on the one hand, the mapping from seed to location is very non-linear. However, there is some local continuity. The sources/dest/ranges are very large (1e7-1e9), so there must be a lot of local continuity. Maybe approach it like a parameter sweep optimisation: first optimise every 1000th, then assume that the global minimum is close to the local minimum found there .. \n",
    "\n",
    "Update: tried **3.** and it worked! feels very hacky but ah well .. "
   ]
  },
  {
   "cell_type": "code",
   "execution_count": 16,
   "metadata": {},
   "outputs": [
    {
     "name": "stderr",
     "output_type": "stream",
     "text": [
      "  5%|▌         | 23474/467770 [00:00<00:03, 118682.89it/s]"
     ]
    },
    {
     "name": "stdout",
     "output_type": "stream",
     "text": [
      "Found new best seed 929142010 with location 2928341086\n",
      "Found new best seed 933492010 with location 2883781920\n"
     ]
    },
    {
     "name": "stderr",
     "output_type": "stream",
     "text": [
      " 17%|█▋        | 79081/467770 [00:00<00:02, 139281.02it/s]"
     ]
    },
    {
     "name": "stdout",
     "output_type": "stream",
     "text": [
      "Found new best seed 977138010 with location 1875261567\n",
      "Found new best seed 987753010 with location 1553251742\n"
     ]
    },
    {
     "name": "stderr",
     "output_type": "stream",
     "text": [
      " 46%|████▌     | 213316/467770 [00:01<00:02, 108524.10it/s]"
     ]
    },
    {
     "name": "stdout",
     "output_type": "stream",
     "text": [
      "Found new best seed 1129825010 with location 23846622\n"
     ]
    },
    {
     "name": "stderr",
     "output_type": "stream",
     "text": [
      "100%|██████████| 467770/467770 [00:03<00:00, 125416.58it/s]\n",
      "100%|██████████| 210167/210167 [00:01<00:00, 128947.99it/s]\n",
      "100%|██████████| 33217/33217 [00:00<00:00, 203398.38it/s]\n",
      "100%|██████████| 86970/86970 [00:00<00:00, 103575.41it/s]\n",
      " 55%|█████▌    | 208263/378610 [00:01<00:01, 133412.28it/s]"
     ]
    },
    {
     "name": "stdout",
     "output_type": "stream",
     "text": [
      "Found new best seed 391178506 with location 20191348\n"
     ]
    },
    {
     "name": "stderr",
     "output_type": "stream",
     "text": [
      "100%|██████████| 378610/378610 [00:02<00:00, 132426.60it/s]\n",
      "100%|██████████| 314010/314010 [00:02<00:00, 140033.94it/s]\n",
      "100%|██████████| 36869/36869 [00:00<00:00, 109130.44it/s]\n",
      "100%|██████████| 170491/170491 [00:01<00:00, 131543.98it/s]\n",
      "100%|██████████| 265456/265456 [00:02<00:00, 129805.30it/s]\n",
      "100%|██████████| 31191/31191 [00:00<00:00, 157170.76it/s]"
     ]
    },
    {
     "name": "stdout",
     "output_type": "stream",
     "text": [
      "final best: seed 391178506 with location 20191348\n"
     ]
    },
    {
     "name": "stderr",
     "output_type": "stream",
     "text": [
      "\n"
     ]
    }
   ],
   "source": [
    "loc_min = np.inf\n",
    "seed_min = None\n",
    "\n",
    "## Try every 1000th seed:\n",
    "for ii in range(len_seeds1 // 2):\n",
    "    ## get seed range\n",
    "    start_range_ind = int(ii * 2)\n",
    "    len_range_ind = int(ii * 2 + 1)\n",
    "    start_range = list_seeds[start_range_ind]\n",
    "    len_range = list_seeds[len_range_ind]\n",
    "    end_range = start_range + len_range - 1\n",
    "\n",
    "    ## try every 1000th seed\n",
    "    for seed in tqdm(range(start_range, end_range + 1, 1000)):        \n",
    "        loc = transform_seed_to_location(seed, dict_map_values)['location']\n",
    "        if loc < loc_min:\n",
    "            loc_min = loc\n",
    "            seed_min = seed\n",
    "            print(f'Found new best seed {seed_min} with location {loc_min}')\n",
    "print(f'final best: seed {seed_min} with location {loc_min}')"
   ]
  },
  {
   "cell_type": "markdown",
   "metadata": {},
   "source": [
    "Now evaluate every 100th of the entire seed range that contained the best previously:"
   ]
  },
  {
   "cell_type": "code",
   "execution_count": 17,
   "metadata": {},
   "outputs": [
    {
     "name": "stdout",
     "output_type": "stream",
     "text": [
      "range 4: 199555506 to 578165337\n"
     ]
    },
    {
     "name": "stderr",
     "output_type": "stream",
     "text": [
      "  1%|          | 19867/3786099 [00:00<00:37, 99779.71it/s]"
     ]
    },
    {
     "name": "stdout",
     "output_type": "stream",
     "text": [
      "Found new best seed 199555506 with location 2768526595\n"
     ]
    },
    {
     "name": "stderr",
     "output_type": "stream",
     "text": [
      "  3%|▎         | 101691/3786099 [00:00<00:28, 129195.07it/s]"
     ]
    },
    {
     "name": "stdout",
     "output_type": "stream",
     "text": [
      "Found new best seed 207005906 with location 1468108862\n"
     ]
    },
    {
     "name": "stderr",
     "output_type": "stream",
     "text": [
      " 12%|█▏        | 466820/3786099 [00:03<00:21, 157513.78it/s]"
     ]
    },
    {
     "name": "stdout",
     "output_type": "stream",
     "text": [
      "Found new best seed 243884106 with location 1228300982\n"
     ]
    },
    {
     "name": "stderr",
     "output_type": "stream",
     "text": [
      " 51%|█████     | 1937598/3786099 [00:13<00:14, 127602.20it/s]"
     ]
    },
    {
     "name": "stdout",
     "output_type": "stream",
     "text": [
      "Found new best seed 391178306 with location 20191148\n"
     ]
    },
    {
     "name": "stderr",
     "output_type": "stream",
     "text": [
      "100%|██████████| 3786099/3786099 [00:29<00:00, 129644.51it/s]"
     ]
    },
    {
     "name": "stdout",
     "output_type": "stream",
     "text": [
      "final best: seed 391178306 with location 20191148\n"
     ]
    },
    {
     "name": "stderr",
     "output_type": "stream",
     "text": [
      "\n"
     ]
    }
   ],
   "source": [
    "loc_min = np.inf\n",
    "\n",
    "for ii in range(len_seeds1 // 2):\n",
    "    start_range_ind = int(ii * 2)\n",
    "    len_range_ind = int(ii * 2 + 1)\n",
    "    start_range = list_seeds[start_range_ind]\n",
    "    len_range = list_seeds[len_range_ind]\n",
    "    end_range = start_range + len_range - 1\n",
    "\n",
    "    ## Only do the 4th range (which is the one with previous best seed 391178506)\n",
    "    if ii == 4:\n",
    "        print(f'range {ii}: {start_range} to {end_range}')\n",
    "    else:\n",
    "        continue\n",
    "\n",
    "    ## try every 100th\n",
    "    for seed in tqdm(range(start_range, end_range + 1, 100)):        \n",
    "        loc = transform_seed_to_location(seed, dict_map_values)['location']\n",
    "        if loc < loc_min:\n",
    "            loc_min = loc\n",
    "            seed_min = seed\n",
    "            print(f'Found new best seed {seed_min} with location {loc_min}')\n",
    "    break # don't do the rest after this range \n",
    "\n",
    "print(f'final best: seed {seed_min} with location {loc_min}')"
   ]
  },
  {
   "cell_type": "markdown",
   "metadata": {},
   "source": [
    "Found almost the same seed again! only 200 different. Now try every seed around 391178506 (milliion seeds either side)"
   ]
  },
  {
   "cell_type": "code",
   "execution_count": 18,
   "metadata": {},
   "outputs": [
    {
     "name": "stderr",
     "output_type": "stream",
     "text": [
      " 51%|█████     | 1023291/2000000 [00:07<00:07, 126618.23it/s]"
     ]
    },
    {
     "name": "stdout",
     "output_type": "stream",
     "text": [
      "Found new best seed 391178260 with location 20191102\n"
     ]
    },
    {
     "name": "stderr",
     "output_type": "stream",
     "text": [
      "100%|██████████| 2000000/2000000 [00:15<00:00, 125185.56it/s]\n"
     ]
    }
   ],
   "source": [
    "for seed in tqdm(range(391178506 - 1000000, 391178506 + 1000000)):\n",
    "    loc = transform_seed_to_location(seed, dict_map_values)['location']\n",
    "    if loc < loc_min:\n",
    "        loc_min = loc\n",
    "        seed_min = seed\n",
    "        print(f'Found new best seed {seed_min} with location {loc_min}')"
   ]
  },
  {
   "cell_type": "markdown",
   "metadata": {},
   "source": [
    "And that's it! "
   ]
  }
 ],
 "metadata": {
  "kernelspec": {
   "display_name": "py37",
   "language": "python",
   "name": "python3"
  },
  "language_info": {
   "codemirror_mode": {
    "name": "ipython",
    "version": 3
   },
   "file_extension": ".py",
   "mimetype": "text/x-python",
   "name": "python",
   "nbconvert_exporter": "python",
   "pygments_lexer": "ipython3",
   "version": "3.10.13"
  }
 },
 "nbformat": 4,
 "nbformat_minor": 2
}
