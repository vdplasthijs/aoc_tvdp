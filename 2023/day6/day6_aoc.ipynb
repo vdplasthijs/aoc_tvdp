{
 "cells": [
  {
   "cell_type": "code",
   "execution_count": 1,
   "metadata": {},
   "outputs": [],
   "source": [
    "%load_ext autoreload\n",
    "%autoreload 2\n",
    "\n",
    "import numpy as np\n",
    "import os, sys \n",
    "sys.path.append('..')\n",
    "\n",
    "import aoc_utils as au\n"
   ]
  },
  {
   "cell_type": "code",
   "execution_count": 2,
   "metadata": {},
   "outputs": [],
   "source": [
    "input_text = au.read_txt_file_lines()"
   ]
  },
  {
   "cell_type": "code",
   "execution_count": 13,
   "metadata": {},
   "outputs": [],
   "source": [
    "times = [int(x) for x in input_text[0].split()[1:]]\n",
    "distances = [int(x) for x in input_text[1].split()[1:]]\n",
    "\n",
    "def dist_as_fun_of_button_time(button_time=0, total_time=10):\n",
    "    speed = button_time \n",
    "    dist = speed * (total_time - button_time)\n",
    "    return dist \n",
    "\n",
    "def is_button_time_greater_than_th(button_time=0, total_time=10, threshold=10):\n",
    "    dist = dist_as_fun_of_button_time(button_time, total_time)\n",
    "    return dist > threshold\n",
    "\n",
    "list_number_of_ways = [] \n",
    "for ii in range(len(times)):\n",
    "    total_time = times[ii] \n",
    "    threshold = distances[ii]\n",
    "    n_ways = 0\n",
    "    for button_time in range(total_time):\n",
    "        if is_button_time_greater_than_th(button_time, total_time, threshold):\n",
    "            n_ways += 1\n",
    "    list_number_of_ways.append(n_ways)"
   ]
  },
  {
   "cell_type": "code",
   "execution_count": 15,
   "metadata": {},
   "outputs": [
    {
     "data": {
      "text/plain": [
       "128700"
      ]
     },
     "execution_count": 15,
     "metadata": {},
     "output_type": "execute_result"
    }
   ],
   "source": [
    "np.prod(list_number_of_ways)"
   ]
  },
  {
   "cell_type": "markdown",
   "metadata": {},
   "source": [
    "## part 2"
   ]
  },
  {
   "cell_type": "code",
   "execution_count": 19,
   "metadata": {},
   "outputs": [
    {
     "name": "stdout",
     "output_type": "stream",
     "text": [
      "39594072\n"
     ]
    }
   ],
   "source": [
    "new_total_time = int(''.join([str(x) for x in times]))\n",
    "new_threshold = int(''.join([str(x) for x in distances]))\n",
    "\n",
    "## just use that we only need to find min and max \n",
    "\n",
    "for button_time in range(new_total_time):\n",
    "    if is_button_time_greater_than_th(button_time, new_total_time, new_threshold):\n",
    "        min_button_time = button_time\n",
    "        break\n",
    "\n",
    "for button_time in range(new_total_time, 0, -1):\n",
    "    if is_button_time_greater_than_th(button_time, new_total_time, new_threshold):\n",
    "        max_button_time = button_time\n",
    "        break\n",
    "\n",
    "n_ways = max_button_time - min_button_time + 1\n",
    "print(n_ways)"
   ]
  }
 ],
 "metadata": {
  "kernelspec": {
   "display_name": "py37",
   "language": "python",
   "name": "python3"
  },
  "language_info": {
   "codemirror_mode": {
    "name": "ipython",
    "version": 3
   },
   "file_extension": ".py",
   "mimetype": "text/x-python",
   "name": "python",
   "nbconvert_exporter": "python",
   "pygments_lexer": "ipython3",
   "version": "3.7.4"
  }
 },
 "nbformat": 4,
 "nbformat_minor": 2
}
