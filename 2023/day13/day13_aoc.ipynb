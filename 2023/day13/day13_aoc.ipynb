{
 "cells": [
  {
   "cell_type": "code",
   "execution_count": 1,
   "metadata": {},
   "outputs": [],
   "source": [
    "%load_ext autoreload\n",
    "%autoreload 2\n",
    "\n",
    "import numpy as np\n",
    "import os, sys \n",
    "sys.path.append('..')\n",
    "import collections\n",
    "import copy\n",
    "import itertools\n",
    "import aoc_utils as au\n",
    "import math \n",
    "from tqdm import tqdm"
   ]
  },
  {
   "cell_type": "code",
   "execution_count": 25,
   "metadata": {},
   "outputs": [],
   "source": [
    "input_text = au.read_txt_file_lines('input.txt')\n",
    "dict_matrices = {}\n",
    "i_mat = 0 \n",
    "inds_break = np.where([row == '' for row in input_text])[0]\n",
    "inds_break = np.concatenate([[-1], inds_break, [len(input_text)]]) \n",
    "for i in range(len(inds_break)-1):\n",
    "    tmp_mat = np.array([list(row.replace('.', '0').replace('#', '1')) \n",
    "                        for row in input_text[inds_break[i] + 1:inds_break[i + 1]]]).astype(int)\n",
    "    dict_matrices[i_mat] = tmp_mat\n",
    "    i_mat += 1\n",
    "n_mat = i_mat\n",
    "assert n_mat == len(dict_matrices)"
   ]
  },
  {
   "cell_type": "code",
   "execution_count": 13,
   "metadata": {},
   "outputs": [
    {
     "data": {
      "text/plain": [
       "31739"
      ]
     },
     "execution_count": 13,
     "metadata": {},
     "output_type": "execute_result"
    }
   ],
   "source": [
    "\n",
    "\n",
    "def find_row_and_col_numbers_mirror(dict_matrices, ):\n",
    "    total = 0\n",
    "    for i_mat, mat in dict_matrices.items():\n",
    "        match_mirror = False\n",
    "        n_rows, n_cols = mat.shape\n",
    "        for i_row in range(n_rows):\n",
    "            mat_top = mat[:i_row, :]\n",
    "            mat_bottom = mat[i_row:, :]\n",
    "            n_rows_top = mat_top.shape[0]\n",
    "            n_rows_bottom = mat_bottom.shape[0]\n",
    "            if n_rows_top == 0 or n_rows_bottom == 0:\n",
    "                continue\n",
    "            if n_rows_top > n_rows_bottom: \n",
    "                mat_top = mat_top[-n_rows_bottom:, :]\n",
    "            elif n_rows_top < n_rows_bottom:\n",
    "                mat_bottom = mat_bottom[:n_rows_top, :]\n",
    "            assert mat_top.shape == mat_bottom.shape\n",
    "            mat_bottom = np.flipud(mat_bottom)\n",
    "            if np.all(mat_top == mat_bottom):\n",
    "                total += 100 * i_row \n",
    "                match_mirror = True\n",
    "                break # assuming there is only one \n",
    "        if match_mirror:\n",
    "            continue\n",
    "        for i_col in range(n_cols):\n",
    "            mat_left = mat[:, :i_col]\n",
    "            mat_right = mat[:, i_col:]\n",
    "            n_cols_left = mat_left.shape[1]\n",
    "            n_cols_right = mat_right.shape[1]\n",
    "            if n_cols_left == 0 or n_cols_right == 0:\n",
    "                continue\n",
    "            if n_cols_left > n_cols_right:\n",
    "                mat_left = mat_left[:, -n_cols_right:]\n",
    "            elif n_cols_left < n_cols_right:\n",
    "                mat_right = mat_right[:, :n_cols_left]\n",
    "            assert mat_left.shape == mat_right.shape\n",
    "            mat_right = np.fliplr(mat_right)\n",
    "            if np.all(mat_left == mat_right):\n",
    "                total += i_col \n",
    "                match_mirror = True\n",
    "                break\n",
    "        assert match_mirror, f'no match for {i_mat}: {mat}' \n",
    "    return total\n",
    "\n",
    "find_row_and_col_numbers_mirror(dict_matrices)\n"
   ]
  },
  {
   "cell_type": "markdown",
   "metadata": {},
   "source": [
    "## part 2:\n",
    "\n",
    "copy pasting function above, just changing condition to `(mat_top == mat_bottom).sum() == np.prod(mat_top.shape) - 1`"
   ]
  },
  {
   "cell_type": "code",
   "execution_count": 28,
   "metadata": {},
   "outputs": [
    {
     "name": "stdout",
     "output_type": "stream",
     "text": [
      "found match for 1: row 1\n",
      "found match for 2: row 2\n",
      "found match for 3: row 6\n",
      "found match for 4: row 7\n",
      "found match for 5: row 6\n",
      "found match for 6: row 2\n",
      "found match for 10: row 7\n",
      "found match for 12: row 8\n",
      "found match for 16: row 11\n",
      "found match for 17: row 4\n",
      "found match for 19: row 8\n",
      "found match for 21: row 16\n",
      "found match for 22: row 3\n",
      "found match for 23: row 5\n",
      "found match for 24: row 10\n",
      "found match for 28: row 6\n",
      "found match for 29: row 7\n",
      "found match for 30: row 8\n",
      "found match for 33: row 2\n",
      "found match for 35: row 10\n",
      "found match for 40: row 13\n",
      "found match for 42: row 9\n",
      "found match for 46: row 3\n",
      "found match for 48: row 14\n",
      "found match for 49: row 10\n",
      "found match for 51: row 7\n",
      "found match for 52: row 5\n",
      "found match for 53: row 3\n",
      "found match for 54: row 11\n",
      "found match for 55: row 2\n",
      "found match for 57: row 5\n",
      "found match for 58: row 3\n",
      "found match for 60: row 9\n",
      "found match for 62: row 3\n",
      "found match for 68: row 10\n",
      "found match for 69: row 4\n",
      "found match for 70: row 14\n",
      "found match for 72: row 2\n",
      "found match for 76: row 3\n",
      "found match for 77: row 2\n",
      "found match for 78: row 5\n",
      "found match for 81: row 7\n",
      "found match for 84: row 2\n",
      "found match for 87: row 9\n",
      "found match for 88: row 1\n",
      "found match for 92: row 3\n",
      "found match for 95: row 16\n",
      "found match for 98: row 7\n",
      "found match for 99: row 1\n"
     ]
    },
    {
     "data": {
      "text/plain": [
       "31539"
      ]
     },
     "execution_count": 28,
     "metadata": {},
     "output_type": "execute_result"
    }
   ],
   "source": [
    "def find_row_and_col_numbers_mirror_part2(dict_matrices):\n",
    "    total = 0\n",
    "    for i_mat, mat in dict_matrices.items():\n",
    "        match_mirror = False\n",
    "        n_rows, n_cols = mat.shape\n",
    "        for i_row in range(n_rows):\n",
    "            mat_top = mat[:i_row, :]\n",
    "            mat_bottom = mat[i_row:, :]\n",
    "            n_rows_top = mat_top.shape[0]\n",
    "            n_rows_bottom = mat_bottom.shape[0]\n",
    "            if n_rows_top == 0 or n_rows_bottom == 0:\n",
    "                continue\n",
    "            if n_rows_top > n_rows_bottom: \n",
    "                mat_top = mat_top[-n_rows_bottom:, :]\n",
    "            elif n_rows_top < n_rows_bottom:\n",
    "                mat_bottom = mat_bottom[:n_rows_top, :]\n",
    "            assert mat_top.shape == mat_bottom.shape\n",
    "            mat_bottom = np.flipud(mat_bottom)\n",
    "            if not (mat_top == mat_bottom).all() and (mat_top == mat_bottom).sum() == (np.prod(mat_top.shape) - 1):\n",
    "                total += 100 * i_row \n",
    "                match_mirror = True\n",
    "                print(f'found match for {i_mat}: row {i_row}')\n",
    "                break # assuming there is only one \n",
    "\n",
    "        if match_mirror:\n",
    "            continue\n",
    "\n",
    "        for i_col in range(n_cols):\n",
    "            mat_left = mat[:, :i_col]\n",
    "            mat_right = mat[:, i_col:]\n",
    "            n_cols_left = mat_left.shape[1]\n",
    "            n_cols_right = mat_right.shape[1]\n",
    "            if n_cols_left == 0 or n_cols_right == 0:\n",
    "                continue\n",
    "            if n_cols_left > n_cols_right:\n",
    "                mat_left = mat_left[:, -n_cols_right:]\n",
    "            elif n_cols_left < n_cols_right:\n",
    "                mat_right = mat_right[:, :n_cols_left]\n",
    "            assert mat_left.shape == mat_right.shape\n",
    "            mat_right = np.fliplr(mat_right)\n",
    "            if not (mat_left == mat_right).all() and (mat_left == mat_right).sum() == (np.prod(mat_right.shape) - 1):\n",
    "                total += i_col \n",
    "                match_mirror = True\n",
    "                break\n",
    "        assert match_mirror, f'no match for {i_mat}: {mat}' \n",
    "    return total\n",
    "\n",
    "find_row_and_col_numbers_mirror_part2(dict_matrices)\n"
   ]
  },
  {
   "cell_type": "code",
   "execution_count": null,
   "metadata": {},
   "outputs": [],
   "source": []
  }
 ],
 "metadata": {
  "kernelspec": {
   "display_name": "py37",
   "language": "python",
   "name": "python3"
  },
  "language_info": {
   "codemirror_mode": {
    "name": "ipython",
    "version": 3
   },
   "file_extension": ".py",
   "mimetype": "text/x-python",
   "name": "python",
   "nbconvert_exporter": "python",
   "pygments_lexer": "ipython3",
   "version": "3.10.13"
  }
 },
 "nbformat": 4,
 "nbformat_minor": 2
}
