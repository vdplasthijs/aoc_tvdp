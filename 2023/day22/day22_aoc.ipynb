{
 "cells": [
  {
   "cell_type": "code",
   "execution_count": 1,
   "metadata": {},
   "outputs": [],
   "source": [
    "%load_ext autoreload\n",
    "%autoreload 2\n",
    "\n",
    "import numpy as np\n",
    "import os, sys \n",
    "sys.path.append('..')\n",
    "import collections\n",
    "import copy\n",
    "import itertools\n",
    "import aoc_utils as au\n",
    "import math \n",
    "from tqdm import tqdm"
   ]
  },
  {
   "cell_type": "code",
   "execution_count": 2,
   "metadata": {},
   "outputs": [
    {
     "name": "stdout",
     "output_type": "stream",
     "text": [
      "n_rows = 1229\n"
     ]
    }
   ],
   "source": [
    "input_text = au.read_txt_file_lines('input.txt')\n",
    "n_rows = len(input_text)\n",
    "print(f\"n_rows = {n_rows}\")\n",
    "brick_coords = collections.namedtuple('brick_coords', 'x_1 y_1 z_1 x_2 y_2 z_2 xy_footprint')\n",
    "list_of_brick_coords = []\n",
    "for l in input_text:\n",
    "    coords = l.split('~')\n",
    "    x_1, y_1, z_1 = [int(x) for x in coords[0].split(',')]\n",
    "    x_2, y_2, z_2 = [int(x) for x in coords[1].split(',')]\n",
    "    assert z_1 <= z_2, l\n",
    "    assert y_1 <= y_2, l\n",
    "    assert x_1 <= x_2, l\n",
    "    assert int(x_1 == x_2) + int(y_1 == y_2) + int(z_1 == z_2) >= 2, l\n",
    "    if x_1 == x_2 and y_1 == y_2:\n",
    "        xy_footprint = set((x_1, y_1) for _ in range(2))  # do this trick to make it a set of two equal numbers inside tuple \n",
    "    elif x_1 == x_2 and y_1 != y_2:\n",
    "        xy_footprint = set((x_1, y) for y in range(y_1, y_2 + 1))\n",
    "    elif x_1 != x_2 and y_1 == y_2:\n",
    "        xy_footprint = set((x, y_1) for x in range(x_1, x_2 + 1))\n",
    "    else:\n",
    "        assert False, l\n",
    "    list_of_brick_coords.append(brick_coords(x_1, y_1, z_1, x_2, y_2, z_2, xy_footprint))\n",
    "    "
   ]
  },
  {
   "cell_type": "code",
   "execution_count": 3,
   "metadata": {},
   "outputs": [
    {
     "data": {
      "text/plain": [
       "[brick_coords(x_1=1, y_1=2, z_1=1, x_2=1, y_2=3, z_2=1, xy_footprint={(1, 2), (1, 3)}),\n",
       " brick_coords(x_1=5, y_1=5, z_1=1, x_2=5, y_2=7, z_2=1, xy_footprint={(5, 5), (5, 6), (5, 7)}),\n",
       " brick_coords(x_1=7, y_1=5, z_1=1, x_2=7, y_2=9, z_2=1, xy_footprint={(7, 7), (7, 9), (7, 6), (7, 5), (7, 8)}),\n",
       " brick_coords(x_1=0, y_1=4, z_1=1, x_2=1, y_2=4, z_2=1, xy_footprint={(0, 4), (1, 4)}),\n",
       " brick_coords(x_1=4, y_1=2, z_1=1, x_2=6, y_2=2, z_2=1, xy_footprint={(6, 2), (4, 2), (5, 2)}),\n",
       " brick_coords(x_1=8, y_1=5, z_1=1, x_2=8, y_2=8, z_2=1, xy_footprint={(8, 7), (8, 8), (8, 5), (8, 6)}),\n",
       " brick_coords(x_1=1, y_1=6, z_1=1, x_2=4, y_2=6, z_2=1, xy_footprint={(1, 6), (4, 6), (2, 6), (3, 6)}),\n",
       " brick_coords(x_1=7, y_1=2, z_1=1, x_2=7, y_2=4, z_2=1, xy_footprint={(7, 4), (7, 2), (7, 3)}),\n",
       " brick_coords(x_1=2, y_1=0, z_1=1, x_2=2, y_2=0, z_2=1, xy_footprint={(2, 0)}),\n",
       " brick_coords(x_1=1, y_1=5, z_1=1, x_2=2, y_2=5, z_2=1, xy_footprint={(2, 5), (1, 5)})]"
      ]
     },
     "execution_count": 3,
     "metadata": {},
     "output_type": "execute_result"
    }
   ],
   "source": [
    "## sort by z_max then z_min:\n",
    "list_of_brick_coords = sorted(list_of_brick_coords, key=lambda x: x.z_2)\n",
    "list_of_brick_coords = sorted(list_of_brick_coords, key=lambda x: x.z_1)\n",
    "list_of_brick_coords[:10]"
   ]
  },
  {
   "cell_type": "code",
   "execution_count": 4,
   "metadata": {},
   "outputs": [],
   "source": [
    "def check_for_other_bricks_below(focal_brick, list_bricks):\n",
    "    curr_z = focal_brick.z_1\n",
    "    if curr_z == 1:\n",
    "        # print('reached bottom')\n",
    "        return True\n",
    "    for brick in list_bricks:\n",
    "        if brick.z_2 == curr_z - 1:\n",
    "            if len(focal_brick.xy_footprint.intersection(brick.xy_footprint)) > 0:\n",
    "                # print(f\"brick {brick} is below {focal_brick}\")\n",
    "                return True\n",
    "    return False\n",
    "\n",
    "def check_for_all_other_bricks_below(focal_brick, list_bricks):\n",
    "    curr_z = focal_brick.z_1\n",
    "    if curr_z == 1:\n",
    "        assert False, 'not expecting to reach bottom'\n",
    "        return []\n",
    "    list_bricks_below = []\n",
    "    for i_brick, brick in enumerate(list_bricks):\n",
    "        if brick.z_2 == curr_z - 1:\n",
    "            if len(focal_brick.xy_footprint.intersection(brick.xy_footprint)) > 0:\n",
    "                list_bricks_below.append(i_brick)\n",
    "    return list_bricks_below\n",
    "    \n"
   ]
  },
  {
   "cell_type": "code",
   "execution_count": 5,
   "metadata": {},
   "outputs": [
    {
     "name": "stdout",
     "output_type": "stream",
     "text": [
      "BRICKS SETTLED\n"
     ]
    }
   ],
   "source": [
    "def settle_bricks(list_of_brick_coords, verbose=1):\n",
    "    for ii, brick in enumerate(list_of_brick_coords):\n",
    "        if brick.z_1 == 1:\n",
    "            if verbose > 0:\n",
    "                print(f\"brick {ii} is on the bottom\")\n",
    "            continue\n",
    "\n",
    "        tmp_brick = copy.deepcopy(brick)\n",
    "        while not check_for_other_bricks_below(tmp_brick, list_of_brick_coords[:ii]):\n",
    "            # print('fall')\n",
    "            tmp_brick = brick_coords(tmp_brick.x_1, tmp_brick.y_1, tmp_brick.z_1 - 1, tmp_brick.x_2, tmp_brick.y_2, tmp_brick.z_2 - 1, tmp_brick.xy_footprint)\n",
    "            if verbose > 0:\n",
    "                print(f\"tmp_brick = {tmp_brick}\")\n",
    "        list_of_brick_coords[ii] = tmp_brick  \n",
    "    return list_of_brick_coords\n",
    "\n",
    "settled_list_of_brick_coords = settle_bricks(list_of_brick_coords, verbose=0)\n",
    "\n",
    "print('BRICKS SETTLED')\n",
    "    "
   ]
  },
  {
   "cell_type": "code",
   "execution_count": 6,
   "metadata": {},
   "outputs": [
    {
     "data": {
      "text/plain": [
       "437"
      ]
     },
     "execution_count": 6,
     "metadata": {},
     "output_type": "execute_result"
    }
   ],
   "source": [
    "list_unique_supporting_bricks = []\n",
    "for ii, brick in enumerate(settled_list_of_brick_coords):\n",
    "    if brick.z_1 == 1:\n",
    "        # print(f\"brick {ii} is on the bottom\")\n",
    "        continue \n",
    "\n",
    "    list_bricks_below = check_for_all_other_bricks_below(brick, settled_list_of_brick_coords)\n",
    "    assert len(list_bricks_below) > 0, f\"brick {ii} has no bricks below it\"\n",
    "    # print(f\"brick {ii} has {len(list_bricks_below)} bricks below it\")\n",
    "    if len(list_bricks_below) == 1:\n",
    "        list_unique_supporting_bricks.append(list_bricks_below[0])\n",
    "    \n",
    "n_unique_supporting_bricks = len(set(list_unique_supporting_bricks))\n",
    "# assert len(list_unique_supporting_bricks) == len(set(list_unique_supporting_bricks)), f' {len(list_unique_supporting_bricks)} != {len(set(list_unique_supporting_bricks))}'\n",
    "len(settled_list_of_brick_coords) - np.unique(list_unique_supporting_bricks).shape[0]   "
   ]
  },
  {
   "cell_type": "markdown",
   "metadata": {},
   "source": [
    "## part 2"
   ]
  },
  {
   "cell_type": "code",
   "execution_count": 7,
   "metadata": {},
   "outputs": [
    {
     "name": "stderr",
     "output_type": "stream",
     "text": [
      "1229it [00:52, 23.57it/s]"
     ]
    },
    {
     "name": "stdout",
     "output_type": "stream",
     "text": [
      "42561\n"
     ]
    },
    {
     "name": "stderr",
     "output_type": "stream",
     "text": [
      "\n"
     ]
    }
   ],
   "source": [
    "n_new_falls = 0\n",
    "    \n",
    "for ii, brick in tqdm(enumerate(settled_list_of_brick_coords)):\n",
    "    new_list_of_bricks_without_brick = settled_list_of_brick_coords[:ii] + settled_list_of_brick_coords[ii + 1:]\n",
    "    new_settled_list = settle_bricks(copy.deepcopy(new_list_of_bricks_without_brick), verbose=0)\n",
    "    ## see how many bricks changed z_1:\n",
    "    for jj, new_brick in enumerate(new_settled_list):\n",
    "        if new_brick.z_1 != new_list_of_bricks_without_brick[jj].z_1:\n",
    "            n_new_falls += 1\n",
    "    # print(ii, n_new_falls)\n",
    "\n",
    "print(n_new_falls)\n"
   ]
  }
 ],
 "metadata": {
  "kernelspec": {
   "display_name": "py37",
   "language": "python",
   "name": "python3"
  },
  "language_info": {
   "codemirror_mode": {
    "name": "ipython",
    "version": 3
   },
   "file_extension": ".py",
   "mimetype": "text/x-python",
   "name": "python",
   "nbconvert_exporter": "python",
   "pygments_lexer": "ipython3",
   "version": "3.10.13"
  }
 },
 "nbformat": 4,
 "nbformat_minor": 2
}
