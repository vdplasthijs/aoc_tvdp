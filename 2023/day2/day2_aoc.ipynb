{
 "cells": [
  {
   "cell_type": "code",
   "execution_count": 1,
   "metadata": {},
   "outputs": [],
   "source": [
    "%load_ext autoreload\n",
    "%autoreload 2\n",
    "\n",
    "import numpy as np\n",
    "import os, sys \n",
    "sys.path.append('..')\n",
    "\n",
    "import aoc_utils as au\n"
   ]
  },
  {
   "cell_type": "code",
   "execution_count": 2,
   "metadata": {},
   "outputs": [],
   "source": [
    "input_text = au.read_txt_file_lines()"
   ]
  },
  {
   "cell_type": "code",
   "execution_count": 15,
   "metadata": {},
   "outputs": [
    {
     "name": "stdout",
     "output_type": "stream",
     "text": [
      "The sum of the IDs of the games that can be played is: 2237\n"
     ]
    }
   ],
   "source": [
    "def create_dict_with_matrix(input_text):\n",
    "    mat_sets = {}\n",
    "    for i, line in enumerate(input_text):\n",
    "        line = line.split(':')\n",
    "        id_game = int(line[0].lstrip('Game '))\n",
    "        sets = line[1].split(';')\n",
    "        n_sets = len(sets) \n",
    "        mat_sets[id_game] = np.zeros((n_sets, 3))\n",
    "        for s in range(n_sets):\n",
    "            curr_set = sets[s].split(',')\n",
    "            for el in curr_set:\n",
    "                el = el.strip() \n",
    "                if el[-3:] == 'red':\n",
    "                    mat_sets[id_game][s, 0] = int(el[:-4])\n",
    "                elif el[-5:] == 'green':\n",
    "                    mat_sets[id_game][s, 1] = int(el[:-6])\n",
    "                elif el[-4:] == 'blue':\n",
    "                    mat_sets[id_game][s, 2] = int(el[:-5])\n",
    "    return mat_sets\n",
    "\n",
    "mat_sets = create_dict_with_matrix(input_text)\n",
    "        \n",
    "def compare_max_score(mat_sets, max_red=12, max_green=13, max_blue=14):\n",
    "    cum_game_ids = 0\n",
    "    for id_game in mat_sets.keys():\n",
    "        max_score = np.max(mat_sets[id_game], axis=0)\n",
    "        assert len(max_score) == 3\n",
    "        if np.all(max_score <= [max_red, max_green, max_blue]):\n",
    "            cum_game_ids += id_game\n",
    "    return cum_game_ids\n",
    "\n",
    "cum_game_ids = compare_max_score(mat_sets)\n",
    "print('The sum of the IDs of the games that can be played is: {}'.format(cum_game_ids))"
   ]
  },
  {
   "cell_type": "code",
   "execution_count": 16,
   "metadata": {},
   "outputs": [
    {
     "name": "stdout",
     "output_type": "stream",
     "text": [
      "The total power of the games that can be played is: 66681.0\n"
     ]
    }
   ],
   "source": [
    "def compute_power(mat_sets):\n",
    "    total_power = 0\n",
    "    for id_game in mat_sets.keys():\n",
    "        min_set = np.max(mat_sets[id_game], axis=0)\n",
    "        assert len(min_set) == 3\n",
    "        power = np.prod(min_set)\n",
    "        total_power += power\n",
    "    return total_power\n",
    "\n",
    "total_power = compute_power(mat_sets)\n",
    "print('The total power of the games that can be played is: {}'.format(total_power))"
   ]
  }
 ],
 "metadata": {
  "kernelspec": {
   "display_name": "py37",
   "language": "python",
   "name": "python3"
  },
  "language_info": {
   "codemirror_mode": {
    "name": "ipython",
    "version": 3
   },
   "file_extension": ".py",
   "mimetype": "text/x-python",
   "name": "python",
   "nbconvert_exporter": "python",
   "pygments_lexer": "ipython3",
   "version": "3.7.4"
  }
 },
 "nbformat": 4,
 "nbformat_minor": 2
}
