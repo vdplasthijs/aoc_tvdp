{
 "cells": [
  {
   "cell_type": "code",
   "execution_count": 1,
   "metadata": {},
   "outputs": [],
   "source": [
    "%load_ext autoreload\n",
    "%autoreload 2\n",
    "\n",
    "import numpy as np\n",
    "import os, sys \n",
    "sys.path.append('..')\n",
    "import collections\n",
    "import copy\n",
    "import itertools\n",
    "import aoc_utils as au\n",
    "import math \n",
    "from tqdm import tqdm"
   ]
  },
  {
   "cell_type": "code",
   "execution_count": 79,
   "metadata": {},
   "outputs": [
    {
     "name": "stdout",
     "output_type": "stream",
     "text": [
      "input has 110 rows and 110 cols\n"
     ]
    }
   ],
   "source": [
    "input_text = au.read_txt_file_lines('input.txt')\n",
    "input_fixed = []\n",
    "for l in input_text:\n",
    "    input_fixed.append(l.replace('\\\\', 'm'))\n",
    "input_text = input_fixed \n",
    "n_rows = len(input_text)\n",
    "n_cols = len(input_text[0])\n",
    "for ii in range(1, n_rows):\n",
    "    assert len(input_text[ii]) == n_cols, f'row {ii} has {len(input_text[ii])} cols, not {n_cols}'\n",
    "print(f'input has {n_rows} rows and {n_cols} cols')"
   ]
  },
  {
   "cell_type": "markdown",
   "metadata": {},
   "source": [
    "## plan  part 1 \n",
    "bit like day 10 .. But bit too different so didnt re-use code but copy pasted some bits. \n",
    "\n",
    "**Update:** still a bit tricky, struggled a bit with checking all the conditions. Was working with presence only map but realised in the end that directional map is of course needed to allow multiple passes at mirrors. Complicated things for myself ... "
   ]
  },
  {
   "cell_type": "code",
   "execution_count": 81,
   "metadata": {},
   "outputs": [
    {
     "name": "stdout",
     "output_type": "stream",
     "text": [
      "unique characters:\n",
      "['-' '.' '/' 'm' '|']\n"
     ]
    }
   ],
   "source": [
    "\n",
    "## print unique characters\n",
    "print('unique characters:')\n",
    "print(np.unique(np.array(list(itertools.chain(*input_text)))))"
   ]
  },
  {
   "cell_type": "code",
   "execution_count": 82,
   "metadata": {},
   "outputs": [],
   "source": [
    "start_point = collections.namedtuple('start_point', ['pos', 'dir'])\n",
    "\n",
    "def traject_pipe(input_text, verbose=0,\n",
    "                 new_input=None, new_input_char='presence_only',\n",
    "                 start=collections.namedtuple('start_point', ['pos', 'dir'])((0, 0), 'S')):\n",
    "    list_new_start_points = []\n",
    "    n_steps = 0 \n",
    "    curr_dir = start.dir\n",
    "    curr_pos = start.pos\n",
    "    assert new_input_char in ['presence_only', 'presence_and_dir']\n",
    "    max_steps = 10000 \n",
    "    if verbose > 0:\n",
    "        print(f'starting at {curr_pos}')\n",
    "    continue_traj = True\n",
    "    while continue_traj:\n",
    "        n_steps += 1\n",
    "        curr_row, curr_col = curr_pos\n",
    "        \n",
    "        if curr_col >= 0 and curr_row >= 0 and curr_col < len(input_text[0]) and curr_row < len(input_text): \n",
    "            pass \n",
    "        else:\n",
    "            if verbose > 0:\n",
    "                print(f'out of bounds at {curr_pos}')\n",
    "            continue_traj = False\n",
    "            break\n",
    "\n",
    "        ## option to create new map (new_input)\n",
    "        if new_input is not None:\n",
    "            if new_input_char == 'presence_only':  # map pipe piece\n",
    "                new_input[curr_row][curr_col] = '#'\n",
    "            elif new_input_char == 'presence_and_dir':  # map pipe piece and direction\n",
    "                new_input[curr_row][curr_col].append(curr_dir)\n",
    "            else:\n",
    "                pass\n",
    "\n",
    "        ## calculate next position\n",
    "        if curr_dir == 'N':\n",
    "            next_pos = (curr_row - 1, curr_col)\n",
    "        elif curr_dir == 'E':\n",
    "            next_pos = (curr_row, curr_col + 1)\n",
    "        elif curr_dir == 'S':\n",
    "            next_pos = (curr_row + 1, curr_col)\n",
    "        elif curr_dir == 'W':\n",
    "            next_pos = (curr_row, curr_col - 1)\n",
    "\n",
    "        if next_pos[1] >= 0 and next_pos[0] >= 0 and next_pos[1] < len(input_text[0]) and next_pos[0] < len(input_text): \n",
    "            repeated_traj = False \n",
    "        else:\n",
    "            if verbose > 0:\n",
    "                print(f'out of bounds at {next_pos}')\n",
    "            continue_traj = False\n",
    "            break\n",
    "\n",
    "        ## find new point:\n",
    "        next_point = input_text[next_pos[0]][next_pos[1]]\n",
    "\n",
    "        ## check end:\n",
    "        if next_point == '.':\n",
    "            curr_pos = next_pos  # curr_dir stays the same\n",
    "        elif next_point == '-':\n",
    "            if curr_dir in ['E', 'W']:\n",
    "                curr_pos = next_pos  # curr_dir stays the same\n",
    "            elif curr_dir in ['N', 'S']:\n",
    "                if verbose > 0:\n",
    "                    print(f'hit - at {next_pos}')\n",
    "                list_new_start_points.append(start_point(next_pos, 'E'))\n",
    "                list_new_start_points.append(start_point(next_pos, 'W'))\n",
    "                continue_traj = False\n",
    "                break\n",
    "        elif next_point == '|':\n",
    "            if curr_dir in ['N', 'S']:\n",
    "                curr_pos = next_pos\n",
    "            elif curr_dir in ['E', 'W']:\n",
    "                if verbose > 0:\n",
    "                    print(f'hit | at {next_pos}')\n",
    "                list_new_start_points.append(start_point(next_pos, 'N'))\n",
    "                list_new_start_points.append(start_point(next_pos, 'S'))\n",
    "                continue_traj = False\n",
    "                break\n",
    "        elif next_point == '/':\n",
    "            if curr_dir in ['N', 'S']:\n",
    "                curr_dir = 'E' if curr_dir == 'N' else 'W'\n",
    "                curr_pos = next_pos\n",
    "            elif curr_dir in ['E', 'W']:\n",
    "                curr_dir = 'N' if curr_dir == 'E' else 'S'\n",
    "                curr_pos = next_pos\n",
    "        elif next_point == 'm':  # '\\'\n",
    "            if curr_dir in ['N', 'S']:\n",
    "                curr_dir = 'W' if curr_dir == 'N' else 'E'\n",
    "                curr_pos = next_pos\n",
    "            elif curr_dir in ['E', 'W']:\n",
    "                curr_dir = 'S' if curr_dir == 'E' else 'N'\n",
    "                curr_pos = next_pos\n",
    "        else:\n",
    "            assert False, f'unknown point {next_point} at {curr_pos}'\n",
    "\n",
    "        if new_input_char == 'presence_only' and new_input[next_pos[0]][next_pos[1]] == '#':\n",
    "            repeated_traj = True\n",
    "        elif new_input_char == 'presence_and_dir' and curr_dir in new_input[next_pos[0]][next_pos[1]]:\n",
    "            repeated_traj = True \n",
    "        if repeated_traj:\n",
    "            if verbose > 0:\n",
    "                print(f'hash already exists at {next_pos}')\n",
    "            continue_traj = False\n",
    "            break\n",
    "\n",
    "        if n_steps > max_steps:\n",
    "            if verbose > 0:\n",
    "                print('max steps reached')\n",
    "            continue_traj = False\n",
    "            break\n",
    "\n",
    "    return new_input, list_new_start_points, n_steps"
   ]
  },
  {
   "cell_type": "code",
   "execution_count": 86,
   "metadata": {},
   "outputs": [
    {
     "data": {
      "text/plain": [
       "7074"
      ]
     },
     "execution_count": 86,
     "metadata": {},
     "output_type": "execute_result"
    }
   ],
   "source": [
    "def get_n_hash_for_start(start_tile=start_point((0, 0), 'S')):\n",
    "\n",
    "    list_start_points = [start_tile]\n",
    "    # new_input =[['.' for _ in range(n_cols)] for __ in range(n_rows)]\n",
    "    new_input = [[[] for _ in range(n_cols)] for __ in range(n_rows)]\n",
    "    n_loops = 0\n",
    "    while len(list_start_points) > 0:\n",
    "        n_loops += 1\n",
    "        if n_loops > 10000:\n",
    "            print('MAX LOOPS REACHED')\n",
    "            break\n",
    "        elif n_loops % 1000 == 0:\n",
    "            print(f'loop {n_loops}, {len(list_start_points)} start points remaining: {list_start_points}')\n",
    "        new_start_point = list_start_points.pop(0)\n",
    "        # print(f'new start point: {new_start_point}')\n",
    "        new_input, list_new_start_points, n_steps = traject_pipe(input_text=input_text, new_input=new_input, verbose=0,\n",
    "                                                                    new_input_char='presence_and_dir', start=new_start_point)\n",
    "        list_start_points.extend(list_new_start_points)\n",
    "        # print(f'new list_start_points: {list_start_points}')\n",
    "\n",
    "    n_hash = 0\n",
    "    presence_only_map = copy.deepcopy(new_input)\n",
    "    for ii in range(len(presence_only_map)):\n",
    "        for jj in range(len(presence_only_map[0])):\n",
    "            if len(presence_only_map[ii][jj]) > 0:\n",
    "                presence_only_map[ii][jj] = '#'\n",
    "                n_hash += 1\n",
    "            else:\n",
    "                presence_only_map[ii][jj] = '.'\n",
    "    return n_hash\n",
    "\n",
    "get_n_hash_for_start()"
   ]
  },
  {
   "cell_type": "markdown",
   "metadata": {},
   "source": [
    "## part 2\n",
    "\n",
    "Easy with what we got. Actually the code below worked right away, even thought technically it's not correct.. (Problem is that I initiate the edge tile away from the edge, while if that edge tile is a mirror it should change direction. I guess the best solution happened to not be like that. (And I just wanted to try before changing the initial condition))"
   ]
  },
  {
   "cell_type": "code",
   "execution_count": 87,
   "metadata": {},
   "outputs": [],
   "source": [
    "n_max = 0 \n",
    "\n",
    "for ii in range(n_rows):\n",
    "    tmp_n_hash = get_n_hash_for_start(start_tile=start_point((ii, 0), 'E'))\n",
    "    if tmp_n_hash > n_max:\n",
    "        n_max = tmp_n_hash\n",
    "    tmp_n_hash = get_n_hash_for_start(start_tile=start_point((ii, n_cols - 1), 'W'))\n",
    "    if tmp_n_hash > n_max:\n",
    "        n_max = tmp_n_hash\n",
    "\n",
    "for jj in range(n_cols):\n",
    "    tmp_n_hash = get_n_hash_for_start(start_tile=start_point((0, jj), 'S'))\n",
    "    if tmp_n_hash > n_max:\n",
    "        n_max = tmp_n_hash\n",
    "    tmp_n_hash = get_n_hash_for_start(start_tile=start_point((n_rows - 1, jj), 'N'))\n",
    "    if tmp_n_hash > n_max:\n",
    "        n_max = tmp_n_hash"
   ]
  },
  {
   "cell_type": "code",
   "execution_count": 88,
   "metadata": {},
   "outputs": [
    {
     "data": {
      "text/plain": [
       "7530"
      ]
     },
     "execution_count": 88,
     "metadata": {},
     "output_type": "execute_result"
    }
   ],
   "source": [
    "n_max"
   ]
  }
 ],
 "metadata": {
  "kernelspec": {
   "display_name": "py37",
   "language": "python",
   "name": "python3"
  },
  "language_info": {
   "codemirror_mode": {
    "name": "ipython",
    "version": 3
   },
   "file_extension": ".py",
   "mimetype": "text/x-python",
   "name": "python",
   "nbconvert_exporter": "python",
   "pygments_lexer": "ipython3",
   "version": "3.10.13"
  }
 },
 "nbformat": 4,
 "nbformat_minor": 2
}
