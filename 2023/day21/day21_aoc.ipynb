{
 "cells": [
  {
   "cell_type": "code",
   "execution_count": 7,
   "metadata": {},
   "outputs": [
    {
     "name": "stdout",
     "output_type": "stream",
     "text": [
      "The autoreload extension is already loaded. To reload it, use:\n",
      "  %reload_ext autoreload\n"
     ]
    }
   ],
   "source": [
    "%load_ext autoreload\n",
    "%autoreload 2\n",
    "\n",
    "import numpy as np\n",
    "import os, sys \n",
    "sys.path.append('..')\n",
    "import collections\n",
    "import copy\n",
    "import itertools\n",
    "import aoc_utils as au\n",
    "import math \n",
    "from tqdm import tqdm\n",
    "import matplotlib.pyplot as plt"
   ]
  },
  {
   "cell_type": "code",
   "execution_count": 2,
   "metadata": {},
   "outputs": [
    {
     "name": "stdout",
     "output_type": "stream",
     "text": [
      "input has 131 rows and 131 cols\n"
     ]
    }
   ],
   "source": [
    "input_text = au.read_txt_file_lines()\n",
    "n_rows = len(input_text)\n",
    "n_cols = len(input_text[0])\n",
    "for ii in range(1, n_rows):\n",
    "    assert len(input_text[ii]) == n_cols, f'row {ii} has {len(input_text[ii])} cols, not {n_cols}'\n",
    "print(f'input has {n_rows} rows and {n_cols} cols')"
   ]
  },
  {
   "cell_type": "code",
   "execution_count": 10,
   "metadata": {},
   "outputs": [
    {
     "name": "stdout",
     "output_type": "stream",
     "text": [
      "(65, 65)\n"
     ]
    },
    {
     "data": {
      "text/plain": [
       "<matplotlib.image.AxesImage at 0x13796c790>"
      ]
     },
     "execution_count": 10,
     "metadata": {},
     "output_type": "execute_result"
    },
    {
     "data": {
      "image/png": "[encoded data removed]",
      "text/plain": [
       "<Figure size 640x480 with 1 Axes>"
      ]
     },
     "metadata": {},
     "output_type": "display_data"
    }
   ],
   "source": [
    "for ii in range(n_rows):\n",
    "    for jj in range(n_cols):\n",
    "        if input_text[ii][jj] == 'S':\n",
    "            start = (ii, jj)\n",
    "            print(start)\n",
    "\n",
    "empty_map = np.zeros((n_rows, n_cols), dtype=int)\n",
    "for ii in range(n_rows):\n",
    "    for jj in range(n_cols):\n",
    "        if input_text[ii][jj] == '.':\n",
    "            empty_map[ii, jj] = 0\n",
    "        elif input_text[ii][jj] == '#':\n",
    "            empty_map[ii, jj] = 1\n",
    "        elif input_text[ii][jj] == 'S':\n",
    "            empty_map[ii, jj] = 0\n",
    "        else:\n",
    "            print(f'unknown character {input_text[ii][jj]}')\n",
    "\n",
    "plt.imshow(empty_map, interpolation='none')"
   ]
  },
  {
   "cell_type": "code",
   "execution_count": 16,
   "metadata": {},
   "outputs": [],
   "source": [
    "n_steps = 64 \n",
    "map_possibilities_old = np.zeros((n_rows, n_cols), dtype=int) \n",
    "map_possibilities_old[start] = 1\n",
    "\n",
    "for step in range(n_steps):\n",
    "    map_possibilities_new = np.zeros((n_rows, n_cols), dtype=int) \n",
    "    for ii in range(n_rows):\n",
    "        for jj in range(n_cols):\n",
    "            if empty_map[ii, jj] == 1:  # if rock, ignore \n",
    "                continue\n",
    "            if ii > 0 and map_possibilities_old[ii - 1, jj] == 1:\n",
    "                map_possibilities_new[ii, jj] = 1\n",
    "                continue \n",
    "            if ii < n_rows - 1 and map_possibilities_old[ii + 1, jj] == 1:\n",
    "                map_possibilities_new[ii, jj] = 1\n",
    "                continue\n",
    "            if jj > 0 and map_possibilities_old[ii, jj - 1] == 1:\n",
    "                map_possibilities_new[ii, jj] = 1\n",
    "                continue\n",
    "            if jj < n_cols - 1 and map_possibilities_old[ii, jj + 1] == 1:\n",
    "                map_possibilities_new[ii, jj] = 1\n",
    "                continue\n",
    "    map_possibilities_old = map_possibilities_new.copy()"
   ]
  },
  {
   "cell_type": "code",
   "execution_count": 15,
   "metadata": {},
   "outputs": [
    {
     "data": {
      "text/plain": [
       "3574"
      ]
     },
     "execution_count": 15,
     "metadata": {},
     "output_type": "execute_result"
    }
   ],
   "source": [
    "map_possibilities_new.sum()"
   ]
  },
  {
   "cell_type": "markdown",
   "metadata": {},
   "source": [
    "## part 2: \n",
    "- **map infinitely repeats in all directions** (not periodic, but extending). `S` is replaced by `.` everywhere else. \n",
    "\n",
    "Thoughts:\n",
    "- Do something with flip-flopping ..? If there were no rocks, the possiblities would be a diagonal grid, and the intersecting diagonal grid would be no-gos (even vs odd number of steps). How does this change with rocks? Note that the grid is square with start in the middle so that should make this a bit easier"
   ]
  },
  {
   "cell_type": "code",
   "execution_count": null,
   "metadata": {},
   "outputs": [],
   "source": [
    "\n",
    "n_steps_part2 = 26501365"
   ]
  }
 ],
 "metadata": {
  "kernelspec": {
   "display_name": "py37",
   "language": "python",
   "name": "python3"
  },
  "language_info": {
   "codemirror_mode": {
    "name": "ipython",
    "version": 3
   },
   "file_extension": ".py",
   "mimetype": "text/x-python",
   "name": "python",
   "nbconvert_exporter": "python",
   "pygments_lexer": "ipython3",
   "version": "3.10.13"
  }
 },
 "nbformat": 4,
 "nbformat_minor": 2
}
