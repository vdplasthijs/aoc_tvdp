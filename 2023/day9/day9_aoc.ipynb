{
 "cells": [
  {
   "cell_type": "code",
   "execution_count": 1,
   "metadata": {},
   "outputs": [],
   "source": [
    "%load_ext autoreload\n",
    "%autoreload 2\n",
    "\n",
    "import numpy as np\n",
    "import os, sys \n",
    "sys.path.append('..')\n",
    "import collections\n",
    "import copy\n",
    "import itertools\n",
    "import aoc_utils as au\n"
   ]
  },
  {
   "cell_type": "code",
   "execution_count": 10,
   "metadata": {},
   "outputs": [],
   "source": [
    "input_text = au.read_txt_file_lines()\n",
    "input_numbers = [np.array([int(x) for x in l.split()]) for l in input_text]"
   ]
  },
  {
   "cell_type": "code",
   "execution_count": 32,
   "metadata": {},
   "outputs": [
    {
     "name": "stdout",
     "output_type": "stream",
     "text": [
      "1743490457\n"
     ]
    }
   ],
   "source": [
    "def get_diffs_per_seq(l):\n",
    "    '''Create list of np array diffs '''\n",
    "    end_loop = False\n",
    "    diff_list = []\n",
    "    curr_seq = l\n",
    "    while not end_loop:\n",
    "        curr_diffs = np.diff(curr_seq)\n",
    "        assert len(curr_diffs) > 1\n",
    "        diff_list.append(curr_diffs)\n",
    "        if np.all(curr_diffs == 0):\n",
    "            end_loop = True\n",
    "        else:\n",
    "            curr_seq = curr_diffs\n",
    "    return diff_list\n",
    "\n",
    "def extrapolate_per_seq(l):\n",
    "    '''return extrapolated new last value for a sequence'''\n",
    "    diff_list = get_diffs_per_seq(l)\n",
    "    for i in range(len(diff_list) - 1, 0, -1):\n",
    "        if i == len(diff_list) - 1:\n",
    "            diff_list[i] = np.concatenate((diff_list[i], [0]))\n",
    "        diff_list[i - 1] = np.concatenate((diff_list[i - 1], [diff_list[i - 1][-1] + diff_list[i][-1]]))\n",
    "    return l[-1] + diff_list[0][-1]\n",
    "\n",
    "total_extrapolated = 0 \n",
    "for l in input_numbers:\n",
    "    total_extrapolated += extrapolate_per_seq(l)\n",
    "print(total_extrapolated)"
   ]
  },
  {
   "cell_type": "markdown",
   "metadata": {},
   "source": [
    "## part 2 \n"
   ]
  },
  {
   "cell_type": "code",
   "execution_count": 54,
   "metadata": {},
   "outputs": [
    {
     "name": "stdout",
     "output_type": "stream",
     "text": [
      "1053\n"
     ]
    }
   ],
   "source": [
    "def extrapolate_per_seq_part2(l, verbose=False):\n",
    "    '''Find extrapolated new first number'''\n",
    "    diff_list = get_diffs_per_seq(l)\n",
    "    for i in range(len(diff_list) - 1, 0, -1):\n",
    "        if i == len(diff_list) - 1:\n",
    "            diff_list[i] = np.concatenate(([0], diff_list[i]))\n",
    "        diff_list[i - 1] = np.concatenate(([diff_list[i - 1][0] - diff_list[i][0]], diff_list[i - 1]))\n",
    "    return l[0] - diff_list[0][0]\n",
    "\n",
    "total_extrapolated = 0\n",
    "for l in input_numbers:\n",
    "    total_extrapolated += extrapolate_per_seq_part2(l)\n",
    "print(total_extrapolated)\n"
   ]
  }
 ],
 "metadata": {
  "kernelspec": {
   "display_name": "py37",
   "language": "python",
   "name": "python3"
  },
  "language_info": {
   "codemirror_mode": {
    "name": "ipython",
    "version": 3
   },
   "file_extension": ".py",
   "mimetype": "text/x-python",
   "name": "python",
   "nbconvert_exporter": "python",
   "pygments_lexer": "ipython3",
   "version": "3.7.4"
  }
 },
 "nbformat": 4,
 "nbformat_minor": 2
}
