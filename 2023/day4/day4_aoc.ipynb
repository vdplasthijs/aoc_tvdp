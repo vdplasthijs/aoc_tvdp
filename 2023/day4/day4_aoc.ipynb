{
 "cells": [
  {
   "cell_type": "code",
   "execution_count": 1,
   "metadata": {},
   "outputs": [],
   "source": [
    "%load_ext autoreload\n",
    "%autoreload 2\n",
    "\n",
    "import numpy as np\n",
    "import os, sys \n",
    "sys.path.append('..')\n",
    "\n",
    "import aoc_utils as au\n"
   ]
  },
  {
   "cell_type": "code",
   "execution_count": 2,
   "metadata": {},
   "outputs": [],
   "source": [
    "input_text = au.read_txt_file_lines()"
   ]
  },
  {
   "cell_type": "code",
   "execution_count": 11,
   "metadata": {},
   "outputs": [],
   "source": [
    "dict_numbers = {} \n",
    "for line in input_text:\n",
    "    line = line.split(':')\n",
    "    key = int(line[0].strip('Card '))\n",
    "    line = line[1].split(' | ')\n",
    "    winners = [int(x) for x in line[0].split(' ') if x.isdigit()]\n",
    "    own_nums = [int(x) for x in line[1].split(' ') if x.isdigit()] \n",
    "    dict_numbers[key] = [winners, own_nums]"
   ]
  },
  {
   "cell_type": "code",
   "execution_count": 12,
   "metadata": {},
   "outputs": [
    {
     "name": "stdout",
     "output_type": "stream",
     "text": [
      "24733\n"
     ]
    }
   ],
   "source": [
    "total_score = 0 \n",
    "for key, val in dict_numbers.items():\n",
    "    winners = val[0]\n",
    "    own_nums = val[1]\n",
    "    score = 0 \n",
    "    for num in own_nums:\n",
    "        if num in winners:\n",
    "            if score == 0:\n",
    "                score = 1 \n",
    "            else:\n",
    "                score *= 2\n",
    "\n",
    "    total_score += score  \n",
    "\n",
    "print(total_score)"
   ]
  },
  {
   "cell_type": "markdown",
   "metadata": {},
   "source": [
    "part 2"
   ]
  },
  {
   "cell_type": "code",
   "execution_count": 21,
   "metadata": {},
   "outputs": [
    {
     "name": "stdout",
     "output_type": "stream",
     "text": [
      "5422730\n"
     ]
    }
   ],
   "source": [
    "assert (np.array(list(dict_numbers.keys())) == np.arange(1, len(dict_numbers) + 1)).all()\n",
    "arr_copies = np.zeros(len(dict_numbers) + 1, dtype=int) # number of copies. 1-indexed, so added a 0th element which will always be zero \n",
    "arr_copies[1:] = 1\n",
    "\n",
    "for key, val in dict_numbers.items():\n",
    "    winners = val[0]\n",
    "    own_nums = val[1]\n",
    "    n_winners = 0\n",
    "    for num in own_nums:\n",
    "        if num in winners:\n",
    "            n_winners += 1\n",
    "\n",
    "    if n_winners > 0:\n",
    "        start_ind = key + 1\n",
    "        end_ind = np.minimum(key + n_winners + 1, len(arr_copies))\n",
    "        arr_copies[start_ind:end_ind] += 1 * arr_copies[key]\n",
    "\n",
    "print(np.sum(arr_copies))"
   ]
  }
 ],
 "metadata": {
  "kernelspec": {
   "display_name": "py37",
   "language": "python",
   "name": "python3"
  },
  "language_info": {
   "codemirror_mode": {
    "name": "ipython",
    "version": 3
   },
   "file_extension": ".py",
   "mimetype": "text/x-python",
   "name": "python",
   "nbconvert_exporter": "python",
   "pygments_lexer": "ipython3",
   "version": "3.7.4"
  }
 },
 "nbformat": 4,
 "nbformat_minor": 2
}
