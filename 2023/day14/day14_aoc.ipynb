{
 "cells": [
  {
   "cell_type": "code",
   "execution_count": 1,
   "metadata": {},
   "outputs": [],
   "source": [
    "%load_ext autoreload\n",
    "%autoreload 2\n",
    "\n",
    "import numpy as np\n",
    "import os, sys \n",
    "sys.path.append('..')\n",
    "import collections\n",
    "import copy\n",
    "import itertools\n",
    "import aoc_utils as au\n",
    "import math \n",
    "from tqdm import tqdm"
   ]
  },
  {
   "cell_type": "code",
   "execution_count": 19,
   "metadata": {},
   "outputs": [
    {
     "name": "stdout",
     "output_type": "stream",
     "text": [
      "input has 100 rows and 100 cols\n"
     ]
    }
   ],
   "source": [
    "input_text = au.read_txt_file_lines()\n",
    "n_rows = len(input_text)\n",
    "n_cols = len(input_text[0])\n",
    "for ii in range(1, n_rows):\n",
    "    assert len(input_text[ii]) == n_cols, f'row {ii} has {len(input_text[ii])} cols, not {n_cols}'\n",
    "print(f'input has {n_rows} rows and {n_cols} cols')\n",
    "\n",
    "input_text = [list(x) for x in input_text]"
   ]
  },
  {
   "cell_type": "code",
   "execution_count": 24,
   "metadata": {},
   "outputs": [
    {
     "data": {
      "text/plain": [
       "108857"
      ]
     },
     "execution_count": 24,
     "metadata": {},
     "output_type": "execute_result"
    }
   ],
   "source": [
    "def move_stones_north(input_text):\n",
    "\n",
    "    n_rows = len(input_text)\n",
    "    n_cols = len(input_text[0])\n",
    "    stone = 'O'\n",
    "    space = '.'\n",
    "\n",
    "    for i_row in range(n_rows - 1):\n",
    "        for i_col in range(n_cols):\n",
    "            if input_text[i_row][i_col] == space and input_text[i_row + 1][i_col] == stone:\n",
    "                # print(f'moving stone from {i_row}, {i_col} to {i_row}, {i_col + 1}')\n",
    "                input_text[i_row][i_col] = stone\n",
    "                input_text[i_row + 1][i_col] = space\n",
    "\n",
    "                j_row = i_row - 1 \n",
    "                while j_row >= 0 and input_text[j_row][i_col] == space:\n",
    "                    input_text[j_row][i_col] = stone\n",
    "                    input_text[j_row + 1][i_col] = space\n",
    "                    j_row -= 1\n",
    "\n",
    "    return input_text\n",
    "\n",
    "def count_stones(input_text):\n",
    "    n_rows = len(input_text)\n",
    "    stone = 'O'\n",
    "    total_count = 0 \n",
    "    for i_row, row in enumerate(input_text):\n",
    "        n_stones = row.count(stone)\n",
    "        total_count += n_stones * (n_rows - i_row)\n",
    "    return total_count\n",
    "\n",
    "input_stones_north = move_stones_north(copy.deepcopy(input_text))\n",
    "count_stones(input_stones_north)"
   ]
  },
  {
   "cell_type": "code",
   "execution_count": 25,
   "metadata": {},
   "outputs": [
    {
     "data": {
      "text/plain": [
       "['OOOO..OOO.O.OOO...OO.OOOOO.OO#O#OO.#OO..O.#O..O.##.##.O.O.#OOO..#..O.O##O#O#O.....OOO#.OO.#.O#O..OOO',\n",
       " '..OO.#OO.#O#O.O..#O....OO.#OOOO.O#.#OO..O##...##..#O#.O#.##..#..O.#O#O##O#O#O#....O.O#.O.#..OO...OOO',\n",
       " '..OO#.O..#OOO#.#..O.#.#O..O.OO...O#OOO#....#...O..OO..OO.O#..#.#..OOOOO.OOOO...##...O.#..O#.O.....O.',\n",
       " '..O.O...#O.O.O.#..O...#O.#O.O......O..O...#O##.O#..O.#OO#..#.#.#..OO#OO....O....##.#O#...OO#O..#....',\n",
       " '##..#....O.O..#O...#.#.O#OO.O..#...O..O.##OOOO..O#.O##O......#.O##.OOO.....O....O#.OO.......O...#...',\n",
       " '#O..O.#..O...........O.OOOO....O..#.#..#O#O.OO#.O#.OOOO......O.OOO.OOO.....O.###OO.OO#.#....O.#....#',\n",
       " '#O..O.O..O...#.....#.O#.OOO....#.#O......O...O#..##OO..........OO..O.O...#...#O....O.#.O...#O.O.#..O',\n",
       " 'O...O.O..O....#....O..O.OO....#O.OO#...#.O...OO..O.O.#...#.##.#.O.....##.O..##....#..#.O...#.#..O#..',\n",
       " '....O#O.#O......##..#...O..#...O..OO#..O...#.O.....O.O...O.O..O.O#.....##O..OO.......O.....#........',\n",
       " '.#..OO..OO....#.OO..O...O....#....OO..#....O#O....#O.O.##..O..O..O..#.#OOO...O.....#.......O........']"
      ]
     },
     "execution_count": 25,
     "metadata": {},
     "output_type": "execute_result"
    }
   ],
   "source": [
    "[''.join(l) for l in input_stones_north][:10]"
   ]
  },
  {
   "cell_type": "code",
   "execution_count": null,
   "metadata": {},
   "outputs": [],
   "source": []
  },
  {
   "cell_type": "markdown",
   "metadata": {},
   "source": [
    "## part 2 \n",
    "- cycle: `N`, `W`, `S`, `E`\n",
    "- run `1000000000` cycles\n",
    "- calculate north load \n",
    "\n",
    "Wonder how they converge? \n",
    "- they will keep spinning on every cycle (otherwise they would need to be lodged in `#` which cant happen). So is there is stable cycle, or set of cycles? So look for repeated outcomes after `E`, then stop cycling and give that? "
   ]
  },
  {
   "cell_type": "code",
   "execution_count": 27,
   "metadata": {},
   "outputs": [
    {
     "name": "stderr",
     "output_type": "stream",
     "text": [
      "  1%|          | 6/1000 [00:00<00:17, 56.75it/s]"
     ]
    },
    {
     "name": "stdout",
     "output_type": "stream",
     "text": [
      "4 3\n",
      "3 2\n",
      "2 1\n",
      "1 0\n"
     ]
    },
    {
     "name": "stderr",
     "output_type": "stream",
     "text": [
      "100%|██████████| 1000/1000 [00:11<00:00, 85.28it/s]\n"
     ]
    }
   ],
   "source": [
    "for ii in range(4, 0, -1):\n",
    "     print(ii, ii - 1)\n",
    "\n",
    "def move_stones_south(input_text):\n",
    "    \n",
    "        n_rows = len(input_text)\n",
    "        n_cols = len(input_text[0])\n",
    "        stone = 'O'\n",
    "        space = '.'\n",
    "    \n",
    "        for i_row in range(n_rows - 1, 0, -1):\n",
    "            for i_col in range(n_cols):\n",
    "                if input_text[i_row][i_col] == space and input_text[i_row - 1][i_col] == stone:\n",
    "                    # print(f'moving stone from {i_row}, {i_col} to {i_row}, {i_col + 1}')\n",
    "                    input_text[i_row][i_col] = stone\n",
    "                    input_text[i_row - 1][i_col] = space\n",
    "    \n",
    "                    j_row = i_row + 1 \n",
    "                    while j_row < n_rows and input_text[j_row][i_col] == space:\n",
    "                        input_text[j_row][i_col] = stone\n",
    "                        input_text[j_row - 1][i_col] = space\n",
    "                        j_row += 1\n",
    "    \n",
    "        return input_text\n",
    "\n",
    "def move_stones_west(input_text):\n",
    "     \n",
    "    n_rows = len(input_text)\n",
    "    n_cols = len(input_text[0])\n",
    "    stone = 'O'\n",
    "    space = '.'\n",
    "\n",
    "    for i_col in range(n_cols - 1):\n",
    "         for i_row in range(n_rows):\n",
    "                if input_text[i_row][i_col] == space and input_text[i_row][i_col + 1] == stone:\n",
    "                    # print(f'moving stone from {i_row}, {i_col} to {i_row}, {i_col + 1}')\n",
    "                    input_text[i_row][i_col] = stone\n",
    "                    input_text[i_row][i_col + 1] = space\n",
    "    \n",
    "                    j_col = i_col - 1 \n",
    "                    while j_col >= 0 and input_text[i_row][j_col] == space:\n",
    "                        input_text[i_row][j_col] = stone\n",
    "                        input_text[i_row][j_col + 1] = space\n",
    "                        j_col -= 1\n",
    "\n",
    "    return input_text\n",
    "\n",
    "def move_stones_east(input_text):\n",
    "         \n",
    "        n_rows = len(input_text)\n",
    "        n_cols = len(input_text[0])\n",
    "        stone = 'O'\n",
    "        space = '.'\n",
    "    \n",
    "        for i_col in range(n_cols - 1, 0, -1):\n",
    "             for i_row in range(n_rows):\n",
    "                    if input_text[i_row][i_col] == space and input_text[i_row][i_col - 1] == stone:\n",
    "                        # print(f'moving stone from {i_row}, {i_col} to {i_row}, {i_col + 1}')\n",
    "                        input_text[i_row][i_col] = stone\n",
    "                        input_text[i_row][i_col - 1] = space\n",
    "        \n",
    "                        j_col = i_col + 1 \n",
    "                        while j_col < n_cols and input_text[i_row][j_col] == space:\n",
    "                            input_text[i_row][j_col] = stone\n",
    "                            input_text[i_row][j_col - 1] = space\n",
    "                            j_col += 1\n",
    "    \n",
    "        return input_text\n",
    "\n",
    "def cycle_stones(input_text):\n",
    "    input_text = move_stones_north(input_text)\n",
    "    input_text = move_stones_west(input_text)\n",
    "    input_text = move_stones_south(input_text)\n",
    "    input_text = move_stones_east(input_text)\n",
    "    return input_text\n",
    "\n",
    "def cycle_and_count(input_text):\n",
    "    input_text = cycle_stones(input_text)\n",
    "    return count_stones(input_text), input_text\n",
    "\n",
    "max_cycles = 1000 \n",
    "cycle_counts = []\n",
    "for ii in tqdm(range(max_cycles)):\n",
    "    count, input_text = cycle_and_count(input_text)\n",
    "    cycle_counts.append(count)"
   ]
  },
  {
   "cell_type": "code",
   "execution_count": 38,
   "metadata": {},
   "outputs": [
    {
     "name": "stdout",
     "output_type": "stream",
     "text": [
      "[103 117 131 145 159 173 187 201 215 229 243 257 271 285 299 313 327 341\n",
      " 355 369 383 397 411 425 439 453 467 481 495 509 523 537 551 565 579 593\n",
      " 607 621 635 649 663 677 691 705 719 733 747 761 775 789 803 817 831 845\n",
      " 859 873 887 901 915 929 943 957 971 985 999]\n",
      "5\n"
     ]
    },
    {
     "data": {
      "text/plain": [
       "145"
      ]
     },
     "execution_count": 38,
     "metadata": {},
     "output_type": "execute_result"
    }
   ],
   "source": [
    "cycle_counts = np.array(cycle_counts)\n",
    "print(np.where(cycle_counts == cycle_counts[-1])[0])\n",
    "\n",
    "## okay so repeat every 14 cycles, starting a bit later, so count backwards: \n",
    "ind_end = 1000000000 - 1  # zero indexing \n",
    "ind_start = ind_end % 14\n",
    "print(ind_start)\n",
    "## add like 140 to get in range where cycle start occurring:\n",
    "ind_start + 140\n",
    "## and 145 is in the inds where cycle counts are the same as cycle_counts[999] !! so that's it"
   ]
  },
  {
   "cell_type": "code",
   "execution_count": 39,
   "metadata": {},
   "outputs": [
    {
     "data": {
      "text/plain": [
       "95273"
      ]
     },
     "execution_count": 39,
     "metadata": {},
     "output_type": "execute_result"
    }
   ],
   "source": [
    "cycle_counts[-1]"
   ]
  }
 ],
 "metadata": {
  "kernelspec": {
   "display_name": "py37",
   "language": "python",
   "name": "python3"
  },
  "language_info": {
   "codemirror_mode": {
    "name": "ipython",
    "version": 3
   },
   "file_extension": ".py",
   "mimetype": "text/x-python",
   "name": "python",
   "nbconvert_exporter": "python",
   "pygments_lexer": "ipython3",
   "version": "3.7.4"
  }
 },
 "nbformat": 4,
 "nbformat_minor": 2
}
