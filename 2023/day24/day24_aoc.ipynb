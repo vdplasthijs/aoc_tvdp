{
 "cells": [
  {
   "cell_type": "code",
   "execution_count": 1,
   "metadata": {},
   "outputs": [],
   "source": [
    "%load_ext autoreload\n",
    "%autoreload 2\n",
    "\n",
    "import numpy as np\n",
    "import os, sys \n",
    "sys.path.append('..')\n",
    "import collections\n",
    "import copy\n",
    "import itertools\n",
    "import aoc_utils as au\n",
    "import math \n",
    "from tqdm import tqdm"
   ]
  },
  {
   "cell_type": "code",
   "execution_count": 20,
   "metadata": {},
   "outputs": [],
   "source": [
    "filename = 'input2.txt'\n",
    "input_text = au.read_txt_file_lines(filename)\n",
    "n_rows = len(input_text)\n",
    "\n",
    "## coord min/max, both inclusive\n",
    "if filename == 'input.txt':\n",
    "    coord_min = 200000000000000\n",
    "    coord_max = 400000000000000\n",
    "elif filename == 'input2.txt':\n",
    "    coord_min = 7 \n",
    "    coord_max = 27"
   ]
  },
  {
   "cell_type": "code",
   "execution_count": 27,
   "metadata": {},
   "outputs": [],
   "source": [
    "class Hailstone:\n",
    "    def __init__(self, input_line, coord_min, coord_max):\n",
    "        self.process_text(input_line)\n",
    "        self.solve_linear_xy()\n",
    "        self.coord_min = coord_min\n",
    "        self.coord_max = coord_max        \n",
    "\n",
    "    def process_text(self, input_line):\n",
    "        pos, vel = input_line.split('@')\n",
    "        pos = np.array([int(x.strip()) for x in pos.split(',')])\n",
    "        vel = np.array([int(x.strip()) for x in vel.split(',')])\n",
    "        self.pos = pos\n",
    "        self.vel = vel\n",
    "\n",
    "        self.px = pos[0]\n",
    "        self.py = pos[1]\n",
    "        self.pz = pos[2]\n",
    "        self.vx = vel[0]\n",
    "        self.vy = vel[1]\n",
    "        self.vz = vel[2]\n",
    "\n",
    "        # assert self.px >= coord_min and self.px <= coord_max\n",
    "        # assert self.py >= coord_min and self.py <= coord_max\n",
    "        # assert self.pz >= coord_min and self.pz <= coord_max\n",
    "\n",
    "    def solve_linear_xy(self):\n",
    "        '''get solution to y = ax + b'''\n",
    "        self.slope = self.vy / self.vx\n",
    "        self.intercept = self.py - self.slope * self.px\n",
    "\n",
    "    def get_xy_end_point(self):\n",
    "        x = self.coord_max\n",
    "        y = self.slope * x + self.intercept\n",
    "        return (x, y)\n",
    "    \n",
    "    def __repr__(self):\n",
    "        return f'pos: {self.pos}. vel: {self.vel}'\n",
    "    \n",
    "def calculate_intercept_two_lines(h1, h2):\n",
    "    '''return x,y of intercept of two lines'''\n",
    "    if h1.slope == h2.slope:\n",
    "        return None, None \n",
    "    x = (h2.intercept - h1.intercept) / (h1.slope - h2.slope)\n",
    "    y = h1.slope * x + h1.intercept\n",
    "    return (x, y)\n",
    "\n",
    "def determine_intercept_in_bounds(h1, h2):\n",
    "    '''determine if intercept is in bounds'''\n",
    "    x, y = calculate_intercept_two_lines(h1, h2)\n",
    "    if x is None:\n",
    "        return False\n",
    "    if x >= h1.coord_min and x <= h1.coord_max and y >= h1.coord_min and y <= h1.coord_max:\n",
    "        pass\n",
    "    else:\n",
    "        return False\n",
    "    \n",
    "    if h1.vx > 0 and x < h1.px:\n",
    "        return False\n",
    "    elif h1.vx < 0 and x > h1.px:\n",
    "        return False\n",
    "    elif h1.vy > 0 and y < h1.py:\n",
    "        return False\n",
    "    elif h1.vy < 0 and y > h1.py:\n",
    "        return False\n",
    "    if h2.vx > 0 and x < h2.px:\n",
    "        return False\n",
    "    elif h2.vx < 0 and x > h2.px:\n",
    "        return False\n",
    "    elif h2.vy > 0 and y < h2.py:\n",
    "        return False\n",
    "    elif h2.vy < 0 and y > h2.py:\n",
    "        return False\n",
    "    return True\n",
    "\n",
    "list_hailstones = [Hailstone(x, coord_min, coord_max) for x in input_text]"
   ]
  },
  {
   "cell_type": "code",
   "execution_count": 28,
   "metadata": {},
   "outputs": [
    {
     "name": "stderr",
     "output_type": "stream",
     "text": [
      "100%|██████████| 5/5 [00:00<00:00, 974.74it/s]"
     ]
    },
    {
     "name": "stdout",
     "output_type": "stream",
     "text": [
      "2\n"
     ]
    },
    {
     "name": "stderr",
     "output_type": "stream",
     "text": [
      "\n"
     ]
    }
   ],
   "source": [
    "n_valid_intercepts = 0\n",
    "for ii in tqdm(range(len(list_hailstones))):\n",
    "    for jj in range(ii + 1, len(list_hailstones)):\n",
    "        h1 = list_hailstones[ii]\n",
    "        h2 = list_hailstones[jj]\n",
    "        if determine_intercept_in_bounds(h1, h2):\n",
    "            n_valid_intercepts += 1\n",
    "\n",
    "print(n_valid_intercepts)"
   ]
  },
  {
   "cell_type": "markdown",
   "metadata": {},
   "source": [
    "## part 2:\n",
    "Thoughts:\n",
    "- First thought I could do something with border (maybe a/some lines are only a few time steps away, thereby revealing a v small subset of initial positions), but actually i don't think the border constraints is present in part 2. \n",
    "- New idea: the time component at first seemed to make things extra difficult, but actually, in 3D (NOT 2D), there should only be one intersecting line I expect? Because if multiple different 3D-slopes are on the same line, then at the next pos they won't be. So actually, we probably just need to find any line that connects all lines regardles of time (and I'm sure the time will work out). \n",
    "- For 2 lines, there are infinite possibilities\n",
    "- For 3 lines, I think if there is 1 possibliity, then you can rotate (wiht middle line at centre point) it so that there infinite \n",
    "- for 4, no longer? -> could I start with any 4 lines, find intersection and then see if that works for others..? \n",
    "\n",
    ".. \n",
    "\n",
    "Try to solve analytically:\n",
    "For hail `k`, its line is given by $y = a_k * x + b_k$. The solution is of the form $y = a_S * x + b_S$. So that means that for all $k$, there is a $(x, y)$ that satifies both lines. \n"
   ]
  },
  {
   "cell_type": "code",
   "execution_count": 71,
   "metadata": {},
   "outputs": [],
   "source": [
    "import scipy.optimize\n",
    "\n",
    "def optimise_four_lines(h1, h2, h3, h4):\n",
    "\n",
    "    init_guess = [0, 1]\n",
    "    tmp_fun = lambda x: loss_fun_intersect(h1, h2, h3, h4, x[0], x[1]) \n",
    "    result = scipy.optimize.minimize(tmp_fun, init_guess, method='L-BFGS-B')\n",
    "\n",
    "    if result.success:\n",
    "        pos_line, vel_line = line_from_two_crossings(h1, h2, result.x[0], result.x[1])\n",
    "        assert np.all(np.isclose(pos_line + vel_line * result.x[0], h1.pos + h1.vel * result.x[0]))\n",
    "        assert np.all(np.isclose(pos_line + vel_line * result.x[1], h2.pos + h2.vel * result.x[1]))\n",
    "    return result\n",
    "\n",
    "def line_from_two_crossings(h1, h2, t_a, t_b):\n",
    "    pos_a = h1.pos + t_a * h1.vel \n",
    "    pos_b = h2.pos + t_b * h2.vel\n",
    "    delta_t = t_b - t_a \n",
    "    if delta_t == 0:\n",
    "        print('meh')\n",
    "    vel_line = (pos_a - pos_b) / delta_t \n",
    "    pos_line = pos_a - t_a * vel_line\n",
    "    return pos_line, vel_line\n",
    "\n",
    "def loss_fun_intersect(h1, h2, h3, h4, t_a, t_b):\n",
    "    pos_line, vel_line = line_from_two_crossings(h1, h2, t_a, t_b)\n",
    "    loss_3 = min_distance_two_lines(pos1=pos_line, pos2=h3.pos, vel1=vel_line, vel2=h3.vel)\n",
    "    loss_4 = min_distance_two_lines(pos1=pos_line, pos2=h4.pos, vel1=vel_line, vel2=h4.vel)\n",
    "    return loss_3 + loss_4\n",
    "\n",
    "def distance_two_lines(pos1, pos2, vel1, vel2, t):\n",
    "    pos1_current = pos1 + t * vel1 \n",
    "    pos2_current = pos2 + t * vel2 \n",
    "    dist = np.sqrt(np.sum(np.power(pos1_current - pos2_current, 2)))\n",
    "    return dist \n",
    "\n",
    "def min_distance_two_lines(pos1, pos2, vel1, vel2):\n",
    "    min_dist = scipy.optimize.minimize_scalar(lambda x: distance_two_lines(pos1=pos1, pos2=pos2, vel1=vel1,\n",
    "                                                                           vel2=vel2, t=x))\n",
    "    assert min_dist.success\n",
    "    return min_dist.x"
   ]
  },
  {
   "cell_type": "code",
   "execution_count": 72,
   "metadata": {},
   "outputs": [
    {
     "ename": "AssertionError",
     "evalue": "",
     "output_type": "error",
     "traceback": [
      "\u001b[0;31m---------------------------------------------------------------------------\u001b[0m",
      "\u001b[0;31mAssertionError\u001b[0m                            Traceback (most recent call last)",
      "\u001b[0;32m<ipython-input-72-0d2eace2f930>\u001b[0m in \u001b[0;36m<module>\u001b[0;34m\u001b[0m\n\u001b[1;32m      1\u001b[0m \u001b[0;31m# min_distance_two_lines(list_hailstones[0].pos, list_hailstones[1].pos, list_hailstones[0].vel, list_hailstones[1].vel)\u001b[0m\u001b[0;34m\u001b[0m\u001b[0;34m\u001b[0m\u001b[0;34m\u001b[0m\u001b[0m\n\u001b[0;32m----> 2\u001b[0;31m \u001b[0mresult\u001b[0m \u001b[0;34m=\u001b[0m \u001b[0moptimise_four_lines\u001b[0m\u001b[0;34m(\u001b[0m\u001b[0mlist_hailstones\u001b[0m\u001b[0;34m[\u001b[0m\u001b[0;36m0\u001b[0m\u001b[0;34m]\u001b[0m\u001b[0;34m,\u001b[0m \u001b[0mlist_hailstones\u001b[0m\u001b[0;34m[\u001b[0m\u001b[0;36m1\u001b[0m\u001b[0;34m]\u001b[0m\u001b[0;34m,\u001b[0m \u001b[0mlist_hailstones\u001b[0m\u001b[0;34m[\u001b[0m\u001b[0;36m2\u001b[0m\u001b[0;34m]\u001b[0m\u001b[0;34m,\u001b[0m \u001b[0mlist_hailstones\u001b[0m\u001b[0;34m[\u001b[0m\u001b[0;36m3\u001b[0m\u001b[0;34m]\u001b[0m\u001b[0;34m)\u001b[0m\u001b[0;34m\u001b[0m\u001b[0;34m\u001b[0m\u001b[0m\n\u001b[0m\u001b[1;32m      3\u001b[0m \u001b[0mprint\u001b[0m\u001b[0;34m(\u001b[0m\u001b[0mresult\u001b[0m\u001b[0;34m)\u001b[0m\u001b[0;34m\u001b[0m\u001b[0;34m\u001b[0m\u001b[0m\n",
      "\u001b[0;32m<ipython-input-71-520222e6ee6b>\u001b[0m in \u001b[0;36moptimise_four_lines\u001b[0;34m(h1, h2, h3, h4)\u001b[0m\n\u001b[1;32m     10\u001b[0m         \u001b[0mpos_line\u001b[0m\u001b[0;34m,\u001b[0m \u001b[0mvel_line\u001b[0m \u001b[0;34m=\u001b[0m \u001b[0mline_from_two_crossings\u001b[0m\u001b[0;34m(\u001b[0m\u001b[0mh1\u001b[0m\u001b[0;34m,\u001b[0m \u001b[0mh2\u001b[0m\u001b[0;34m,\u001b[0m \u001b[0mresult\u001b[0m\u001b[0;34m.\u001b[0m\u001b[0mx\u001b[0m\u001b[0;34m[\u001b[0m\u001b[0;36m0\u001b[0m\u001b[0;34m]\u001b[0m\u001b[0;34m,\u001b[0m \u001b[0mresult\u001b[0m\u001b[0;34m.\u001b[0m\u001b[0mx\u001b[0m\u001b[0;34m[\u001b[0m\u001b[0;36m1\u001b[0m\u001b[0;34m]\u001b[0m\u001b[0;34m)\u001b[0m\u001b[0;34m\u001b[0m\u001b[0;34m\u001b[0m\u001b[0m\n\u001b[1;32m     11\u001b[0m         \u001b[0;32massert\u001b[0m \u001b[0mnp\u001b[0m\u001b[0;34m.\u001b[0m\u001b[0mall\u001b[0m\u001b[0;34m(\u001b[0m\u001b[0mnp\u001b[0m\u001b[0;34m.\u001b[0m\u001b[0misclose\u001b[0m\u001b[0;34m(\u001b[0m\u001b[0mpos_line\u001b[0m \u001b[0;34m+\u001b[0m \u001b[0mvel_line\u001b[0m \u001b[0;34m*\u001b[0m \u001b[0mresult\u001b[0m\u001b[0;34m.\u001b[0m\u001b[0mx\u001b[0m\u001b[0;34m[\u001b[0m\u001b[0;36m0\u001b[0m\u001b[0;34m]\u001b[0m\u001b[0;34m,\u001b[0m \u001b[0mh1\u001b[0m\u001b[0;34m.\u001b[0m\u001b[0mpos\u001b[0m \u001b[0;34m+\u001b[0m \u001b[0mh1\u001b[0m\u001b[0;34m.\u001b[0m\u001b[0mvel\u001b[0m \u001b[0;34m*\u001b[0m \u001b[0mresult\u001b[0m\u001b[0;34m.\u001b[0m\u001b[0mx\u001b[0m\u001b[0;34m[\u001b[0m\u001b[0;36m0\u001b[0m\u001b[0;34m]\u001b[0m\u001b[0;34m)\u001b[0m\u001b[0;34m)\u001b[0m\u001b[0;34m\u001b[0m\u001b[0;34m\u001b[0m\u001b[0m\n\u001b[0;32m---> 12\u001b[0;31m         \u001b[0;32massert\u001b[0m \u001b[0mnp\u001b[0m\u001b[0;34m.\u001b[0m\u001b[0mall\u001b[0m\u001b[0;34m(\u001b[0m\u001b[0mnp\u001b[0m\u001b[0;34m.\u001b[0m\u001b[0misclose\u001b[0m\u001b[0;34m(\u001b[0m\u001b[0mpos_line\u001b[0m \u001b[0;34m+\u001b[0m \u001b[0mvel_line\u001b[0m \u001b[0;34m*\u001b[0m \u001b[0mresult\u001b[0m\u001b[0;34m.\u001b[0m\u001b[0mx\u001b[0m\u001b[0;34m[\u001b[0m\u001b[0;36m1\u001b[0m\u001b[0;34m]\u001b[0m\u001b[0;34m,\u001b[0m \u001b[0mh2\u001b[0m\u001b[0;34m.\u001b[0m\u001b[0mpos\u001b[0m \u001b[0;34m+\u001b[0m \u001b[0mh2\u001b[0m\u001b[0;34m.\u001b[0m\u001b[0mvel\u001b[0m \u001b[0;34m*\u001b[0m \u001b[0mresult\u001b[0m\u001b[0;34m.\u001b[0m\u001b[0mx\u001b[0m\u001b[0;34m[\u001b[0m\u001b[0;36m1\u001b[0m\u001b[0;34m]\u001b[0m\u001b[0;34m)\u001b[0m\u001b[0;34m)\u001b[0m\u001b[0;34m\u001b[0m\u001b[0;34m\u001b[0m\u001b[0m\n\u001b[0m\u001b[1;32m     13\u001b[0m     \u001b[0;32mreturn\u001b[0m \u001b[0mresult\u001b[0m\u001b[0;34m\u001b[0m\u001b[0;34m\u001b[0m\u001b[0m\n\u001b[1;32m     14\u001b[0m \u001b[0;34m\u001b[0m\u001b[0m\n",
      "\u001b[0;31mAssertionError\u001b[0m: "
     ]
    }
   ],
   "source": [
    "# min_distance_two_lines(list_hailstones[0].pos, list_hailstones[1].pos, list_hailstones[0].vel, list_hailstones[1].vel)\n",
    "result = optimise_four_lines(list_hailstones[0], list_hailstones[1], list_hailstones[2], list_hailstones[3])\n",
    "print(result)"
   ]
  },
  {
   "cell_type": "code",
   "execution_count": 63,
   "metadata": {},
   "outputs": [
    {
     "data": {
      "text/plain": [
       "(array([53.33940632, -3.76822095, 71.98996058]),\n",
       " array([ 1.76809677, -0.83999335,  2.6075996 ]))"
      ]
     },
     "execution_count": 63,
     "metadata": {},
     "output_type": "execute_result"
    }
   ],
   "source": [
    "line_from_two_crossings(list_hailstones[0], list_hailstones[1], result.x[0], result.x[1])"
   ]
  }
 ],
 "metadata": {
  "kernelspec": {
   "display_name": "py37",
   "language": "python",
   "name": "python3"
  },
  "language_info": {
   "codemirror_mode": {
    "name": "ipython",
    "version": 3
   },
   "file_extension": ".py",
   "mimetype": "text/x-python",
   "name": "python",
   "nbconvert_exporter": "python",
   "pygments_lexer": "ipython3",
   "version": "3.7.4"
  }
 },
 "nbformat": 4,
 "nbformat_minor": 2
}
