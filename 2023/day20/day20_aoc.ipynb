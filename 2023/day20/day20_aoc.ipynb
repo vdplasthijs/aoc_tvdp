{
 "cells": [
  {
   "cell_type": "code",
   "execution_count": 1,
   "metadata": {},
   "outputs": [],
   "source": [
    "%load_ext autoreload\n",
    "%autoreload 2\n",
    "\n",
    "import numpy as np\n",
    "import os, sys \n",
    "sys.path.append('..')\n",
    "import collections\n",
    "import copy\n",
    "import itertools\n",
    "import aoc_utils as au\n",
    "import math \n",
    "from tqdm import tqdm"
   ]
  },
  {
   "cell_type": "code",
   "execution_count": 7,
   "metadata": {},
   "outputs": [
    {
     "name": "stdout",
     "output_type": "stream",
     "text": [
      "All modules/definitions are unique\n"
     ]
    }
   ],
   "source": [
    "input_text = au.read_txt_file_lines('input.txt')\n",
    "n_rows = len(input_text)\n",
    "\n",
    "list_module_names = []\n",
    "for l in input_text:\n",
    "    tmp = l.split() \n",
    "    assert tmp[0] not in list_module_names\n",
    "    list_module_names.append(tmp[0])\n",
    "print('All modules/definitions are unique')"
   ]
  },
  {
   "cell_type": "markdown",
   "metadata": {},
   "source": [
    "### More info:\n",
    "- **pulse**: `0` (low) or `1` (high)\n",
    "- **broadcast module**: when it receives a pulse, it sends the same pulse to all its destination modules \n",
    "- **button module**: when activated, it send a single low pulse to broadcast module \n",
    "- **conjunction module**: `&` prefix. 1) remembers most recent pusle received from EACH connected input module. 2) default to low pulse for each. 3) when it receives a pulse: a) update memory, b) if ALL memories are high, send low. Else, send high. \n",
    "- **flip flop**: `%` prefix. Default: off. if receives high pulse, pass. if receives low pulse, switch on/off. If new state is on; send high pulse. if new state is off; send low pulse. \n",
    "- **untyped**: no definition. nothing happens. \n",
    "\n",
    "- Process pulses in order they are sent. (deque?)\n",
    "\n"
   ]
  },
  {
   "cell_type": "code",
   "execution_count": 8,
   "metadata": {},
   "outputs": [],
   "source": [
    "pulse = collections.namedtuple('pulse', 'source state dest') \n",
    "\n",
    "class Mod():\n",
    "    def __init__(self, name, mod_type, list_dest):\n",
    "        assert mod_type in ['flipflop', 'conjunction', 'broadcast', 'button', 'untyped'], f' {mod_type} is not a valid mod_type'\n",
    "        self.name = name\n",
    "        self.mod_type = mod_type\n",
    "        self.list_dest = list_dest\n",
    "\n",
    "        if mod_type == 'flipflop':\n",
    "            self.flipflop_state = 0\n",
    "        elif mod_type == 'conjunction':\n",
    "            self.list_input_mods = []\n",
    "\n",
    "    def activate(self, input_pulse):\n",
    "        state_pulse = input_pulse.state\n",
    "        assert input_pulse.dest == self.name\n",
    "\n",
    "        if self.mod_type == 'broadcast':\n",
    "            return [pulse(self.name, state_pulse, dest) for dest in self.list_dest]\n",
    "        elif self.mod_type == 'conjunction':\n",
    "            assert input_pulse.source in self.list_input_mods\n",
    "            self.conjunction_memory[input_pulse.source] = state_pulse\n",
    "            if np.all(list(self.conjunction_memory.values())):\n",
    "                return [pulse(self.name, 0, dest) for dest in self.list_dest]\n",
    "            else:\n",
    "                return [pulse(self.name, 1, dest) for dest in self.list_dest]\n",
    "        elif self.mod_type == 'flipflop':\n",
    "            if state_pulse == 1:\n",
    "                return None \n",
    "            else:\n",
    "                self.flipflop_state = 1 - self.flipflop_state\n",
    "                return [pulse(self.name, self.flipflop_state, dest) for dest in self.list_dest]\n",
    "        elif self.mod_type == 'button':\n",
    "            assert False, 'Button should not be activated'\n",
    "        elif self.mod_type == 'untyped':   \n",
    "            return None \n",
    "        else:\n",
    "            assert False, 'Unknown mod_type'\n",
    "\n",
    "    def create_conjunction_memory(self):\n",
    "        assert self.mod_type == 'conjunction'\n",
    "        assert len(self.list_input_mods) > 0\n",
    "        self.conjunction_memory = {mod_name: 0 for mod_name in self.list_input_mods}\n",
    "        \n",
    "    def press_button(self):\n",
    "        assert self.mod_type == 'button'\n",
    "        return [pulse(self.name, 0, 'broadcaster')]\n",
    "    \n",
    "def get_state_all_mods(dict_mods):\n",
    "    list_states = []\n",
    "    for k, v in dict_mods.items():\n",
    "        if v.mod_type == 'flipflop':\n",
    "            list_states.append(v.flipflop_state)\n",
    "        elif v.mod_type == 'conjunction':\n",
    "            list_states.append(v.conjunction_memory)\n",
    "        else:\n",
    "            list_states.append(None)\n",
    "    return tuple(list_states)\n"
   ]
  },
  {
   "cell_type": "code",
   "execution_count": 22,
   "metadata": {},
   "outputs": [
    {
     "name": "stdout",
     "output_type": "stream",
     "text": [
      "Number of mods: 60\n",
      "Following input nodes to qt: ['mr', 'kk', 'gl', 'bb']\n"
     ]
    }
   ],
   "source": [
    "dict_mods = {}\n",
    "for l in input_text:\n",
    "    tmp = l.split(' ->')\n",
    "    assert len(tmp) == 2\n",
    "    source_name = tmp[0]\n",
    "    assert source_name not in dict_mods\n",
    "    list_dest = tmp[1].split(',')\n",
    "    list_dest = [d.strip() for d in list_dest]\n",
    "\n",
    "    if source_name.startswith('%'):\n",
    "        mod_type = 'flipflop'\n",
    "        source_name = source_name[1:]\n",
    "    elif source_name.startswith('&'):\n",
    "        mod_type = 'conjunction'\n",
    "        source_name = source_name[1:]\n",
    "    elif source_name == 'broadcaster':\n",
    "        mod_type = 'broadcast'\n",
    "    else:\n",
    "        assert False, f'Unknown mod_type for {source_name}'\n",
    "\n",
    "    dict_mods[source_name] = Mod(source_name, mod_type, list_dest)\n",
    "\n",
    "# assert len(dict_mods) == 58\n",
    "dict_mods['button'] = Mod('button', 'button', [])\n",
    "\n",
    "## create conjunction memory\n",
    "dict_mods_untyped = {}\n",
    "list_input_to_qt = []\n",
    "for mod_name, mod in dict_mods.items():\n",
    "    if mod.mod_type == 'conjunction':\n",
    "        for mod_name_tmp, mod_tmp in dict_mods.items():\n",
    "            if mod_name in mod_tmp.list_dest:\n",
    "                mod.list_input_mods.append(mod_name_tmp)\n",
    "\n",
    "        mod.create_conjunction_memory()\n",
    "    for dest_name in mod.list_dest:\n",
    "        if dest_name not in dict_mods:\n",
    "            dict_mods_untyped[dest_name] = Mod(dest_name, 'untyped', [])\n",
    "        if dest_name == 'qt':\n",
    "            list_input_to_qt.append(mod_name)\n",
    "\n",
    "dict_mods.update(dict_mods_untyped)\n",
    "print(f'Number of mods: {len(dict_mods)}')\n",
    "print(f'Following input nodes to qt: {list_input_to_qt}')"
   ]
  },
  {
   "cell_type": "code",
   "execution_count": 23,
   "metadata": {},
   "outputs": [
    {
     "name": "stderr",
     "output_type": "stream",
     "text": [
      "100%|██████████| 100000/100000 [01:16<00:00, 1307.21it/s]\n"
     ]
    }
   ],
   "source": [
    "pulses_deque = collections.deque() \n",
    "\n",
    "n_pulses_high, n_pulses_low = 0, 0\n",
    "n_buttons = 100000\n",
    "i_save= []\n",
    "curr_total_state = get_state_all_mods(dict_mods)\n",
    "list_all_states = []\n",
    "dict_n_button_presses_to_reach_node = {x: [] for x in list_input_to_qt}\n",
    "for i in tqdm(range(n_buttons)):\n",
    "    list_all_states.append(curr_total_state)\n",
    "    start_pulse = dict_mods['button'].press_button()\n",
    "    assert len(start_pulse) == 1\n",
    "    pulses_deque.extend(start_pulse)\n",
    "\n",
    "    while len(pulses_deque) > 0:\n",
    "        curr_pulse = pulses_deque.popleft()\n",
    "        if curr_pulse.state == 1:\n",
    "            n_pulses_high += 1\n",
    "        elif curr_pulse.state == 0:\n",
    "            n_pulses_low += 1\n",
    "        # print(curr_pulse)\n",
    "            \n",
    "\n",
    "        if curr_pulse.source in list_input_to_qt and curr_pulse.state == 1:\n",
    "            dict_n_button_presses_to_reach_node[curr_pulse.source].append(i + 1)\n",
    "\n",
    "        # if curr_pulse.dest == 'rx':\n",
    "        #     if curr_pulse.state == 0:\n",
    "        #         i_save.append(i + 1)\n",
    "        #         print('part 2: low rx', i + 1)\n",
    "\n",
    "        curr_mod = dict_mods[curr_pulse.dest]\n",
    "        new_pulses = curr_mod.activate(curr_pulse)\n",
    "        if new_pulses is not None:\n",
    "            pulses_deque.extend(new_pulses)\n",
    "\n",
    "    new_total_state = get_state_all_mods(dict_mods)\n",
    "    if new_total_state in list_all_states:\n",
    "        print('part 2: stable after', i + 1)\n",
    "        break\n",
    "    \n",
    "    curr_total_state = new_total_state\n",
    "\n",
    "if n_buttons == 1000:\n",
    "    print(f'part 1: {n_pulses_high * n_pulses_low}')"
   ]
  },
  {
   "cell_type": "markdown",
   "metadata": {},
   "source": [
    "## part 2:\n",
    "attempt brute-forcing did not find a result, but also showed that the initial state was never repeated. After seeing a hint, I then looked for the cycles that each input node to `qt` activates and find first time they all activate:"
   ]
  },
  {
   "cell_type": "code",
   "execution_count": 34,
   "metadata": {},
   "outputs": [
    {
     "name": "stdout",
     "output_type": "stream",
     "text": [
      "mr [3907, 7814, 11721, 15628, 19535] [3907]\n",
      "conjunction\n",
      "kk [3931, 7862, 11793, 15724, 19655] [3931]\n",
      "conjunction\n",
      "gl [3989, 7978, 11967, 15956, 19945] [3989]\n",
      "conjunction\n",
      "bb [3967, 7934, 11901, 15868, 19835] [3967]\n",
      "conjunction\n"
     ]
    }
   ],
   "source": [
    "for k , v in dict_n_button_presses_to_reach_node.items():\n",
    "    print(k, v[:5], np.unique(np.diff(v)))\n",
    "    print(dict_mods[k].mod_type)\n",
    "\n",
    "list_intervals_input_nodes = [v[0] for k, v in dict_n_button_presses_to_reach_node.items()]"
   ]
  },
  {
   "cell_type": "code",
   "execution_count": 36,
   "metadata": {},
   "outputs": [
    {
     "data": {
      "text/plain": [
       "243037165713371"
      ]
     },
     "execution_count": 36,
     "metadata": {},
     "output_type": "execute_result"
    }
   ],
   "source": [
    "for ii in range(len(list_intervals_input_nodes)):\n",
    "    for jj in range(ii + 1, len(list_intervals_input_nodes)):\n",
    "        assert au.gcd(list_intervals_input_nodes[ii], list_intervals_input_nodes[jj]) == 1\n",
    "\n",
    "np.prod(list_intervals_input_nodes)"
   ]
  }
 ],
 "metadata": {
  "kernelspec": {
   "display_name": "py37",
   "language": "python",
   "name": "python3"
  },
  "language_info": {
   "codemirror_mode": {
    "name": "ipython",
    "version": 3
   },
   "file_extension": ".py",
   "mimetype": "text/x-python",
   "name": "python",
   "nbconvert_exporter": "python",
   "pygments_lexer": "ipython3",
   "version": "3.10.13"
  }
 },
 "nbformat": 4,
 "nbformat_minor": 2
}
