{
 "cells": [
  {
   "cell_type": "code",
   "execution_count": 55,
   "metadata": {},
   "outputs": [
    {
     "name": "stdout",
     "output_type": "stream",
     "text": [
      "The autoreload extension is already loaded. To reload it, use:\n",
      "  %reload_ext autoreload\n"
     ]
    }
   ],
   "source": [
    "%load_ext autoreload\n",
    "%autoreload 2\n",
    "\n",
    "import numpy as np\n",
    "import os, sys \n",
    "sys.path.append('..')\n",
    "import collections\n",
    "import copy\n",
    "import itertools\n",
    "import aoc_utils as au\n"
   ]
  },
  {
   "cell_type": "code",
   "execution_count": 2,
   "metadata": {},
   "outputs": [],
   "source": [
    "input_text = au.read_txt_file_lines()"
   ]
  },
  {
   "cell_type": "markdown",
   "metadata": {},
   "source": [
    "Actually reminded me of an example from Fluent Python. Will try to implement something like that. (https://learning.oreilly.com/library/view/fluent-python/9781491946237/ch01.html)"
   ]
  },
  {
   "cell_type": "code",
   "execution_count": 70,
   "metadata": {},
   "outputs": [],
   "source": [
    "hand = collections.namedtuple('hand', ['cards', 'bet'])\n",
    "\n",
    "## create ranking by mapping all possible combinations to a rank\n",
    "all_cards_sorted_part1 = 'AKQJT98765432'\n",
    "dict_ranking_part1 = {}\n",
    "rank = 0 \n",
    "for c in itertools.product(all_cards_sorted_part1[::-1], repeat=5):  # reverse so we can start with rank=0\n",
    "    dict_ranking_part1[''.join(c)] = rank\n",
    "    rank += 1\n",
    "assert 13 ** 5 < 1e6  # check that we have less than 1e6 combinations\n",
    "## to determine overall rank, just add combis as 1e6 intervals. bit lazy but works \n",
    "dict_combi_to_overall_rank = {'five of a kind': 6e6, 'four of a kind': 5e6, 'full house': 4e6, \n",
    "                              'three of a kind': 3e6, 'two pairs': 2e6, 'one pair': 1e6, 'high card': 0}\n",
    "\n",
    "class Cards:\n",
    "    def __init__(self, cards, dict_ranking):\n",
    "        self.cards = cards\n",
    "        assert type(cards) == str\n",
    "        assert len(cards) == 5 \n",
    "        self.rank = dict_ranking[cards]\n",
    "        self.combi = self.determine_combi()\n",
    "        self.determine_overall_rank()\n",
    "        \n",
    "    def determine_overall_rank(self):\n",
    "        self.overall_rank = int(dict_combi_to_overall_rank[self.combi] + self.rank)\n",
    "\n",
    "    def determine_combi(self, cards=None):\n",
    "        ## get unique cards\n",
    "        if cards is None:\n",
    "            cards = self.cards\n",
    "        unique_cards = set(cards)\n",
    "        if len(unique_cards) == 1:\n",
    "            return 'five of a kind'\n",
    "        elif len(unique_cards) == 2:\n",
    "            ## check if we have 4 of a kind or full house\n",
    "            for c in unique_cards:\n",
    "                if cards.count(c) == 4:\n",
    "                    return 'four of a kind'\n",
    "            return 'full house'\n",
    "        elif len(unique_cards) == 3:\n",
    "            ## check if we have 3 of a kind or two pairs\n",
    "            for c in unique_cards:\n",
    "                if cards.count(c) == 3:\n",
    "                    return 'three of a kind'\n",
    "            return 'two pairs'\n",
    "        elif len(unique_cards) == 4:\n",
    "            return 'one pair'\n",
    "        elif len(unique_cards) == 5:\n",
    "            return 'high card'\n",
    "\n",
    "    def __repr__(self):  # for debugging\n",
    "        return f'Cards({self.cards}), combi {self.combi}, rank {self.rank}, overall rank {self.overall_rank}'\n",
    "    \n",
    "## load all hands\n",
    "all_hands = [] \n",
    "for l in input_text:\n",
    "    data = l.split()\n",
    "    cards = Cards(cards=data[0], dict_ranking=dict_ranking_part1)\n",
    "    bet = int(data[1])\n",
    "    all_hands.append(hand(cards, bet))"
   ]
  },
  {
   "cell_type": "code",
   "execution_count": 71,
   "metadata": {},
   "outputs": [
    {
     "name": "stdout",
     "output_type": "stream",
     "text": [
      "total winnings 250951660\n"
     ]
    }
   ],
   "source": [
    "ii = 0\n",
    "total_winnings = 0\n",
    "for k in sorted(all_hands, key=lambda x: x.cards.overall_rank, reverse=False):  # now we can easily sort by overall rank :) \n",
    "    ii += 1\n",
    "    total_winnings += k.bet * ii\n",
    "\n",
    "print(f'total winnings {total_winnings}')"
   ]
  },
  {
   "cell_type": "markdown",
   "metadata": {},
   "source": [
    "## part 2\n",
    "this is now pretty easy, just need to overwrite some methods. will inherit class and feed new ranking"
   ]
  },
  {
   "cell_type": "code",
   "execution_count": 85,
   "metadata": {},
   "outputs": [],
   "source": [
    "## new ranking for part 2:\n",
    "all_cards_sorted_part2 = 'AKQT98765432J'\n",
    "dict_ranking_part2 = {}\n",
    "rank = 0\n",
    "for c in itertools.product(all_cards_sorted_part2[::-1], repeat=5):  # reverse so we can start with rank=0\n",
    "    dict_ranking_part2[''.join(c)] = rank\n",
    "    rank += 1\n",
    "\n",
    "class CardsPart2(Cards): # inherit all methods, but write new determine_combi method to replace J\n",
    "    def __init__(self, cards, dict_ranking):\n",
    "        super().__init__(cards, dict_ranking)\n",
    "        self.determine_combi_part2()\n",
    "        \n",
    "    def determine_combi_part2(self):\n",
    "        unique_cards = set(self.cards)\n",
    "        new_cards = copy.deepcopy(self.cards)\n",
    "        if 'J' in unique_cards:\n",
    "            if new_cards == 'JJJJJ': # special case, otherwise max_count will be empty\n",
    "                pass \n",
    "            else:\n",
    "                counts = []\n",
    "                for c in unique_cards - set('J'):  # get c with highest count, don't count J\n",
    "                    counts.append(new_cards.count(c))\n",
    "                max_count = max(counts)\n",
    "                for c in 'AKQT98765432': # replace c with J, go from high to low and then break\n",
    "                    if new_cards.count(c) == max_count:\n",
    "                        new_cards = new_cards.replace('J', c)\n",
    "                        break\n",
    "\n",
    "        ## now rerun combi with new cards, and determine overall rank again:\n",
    "        self.combi = self.determine_combi(cards=new_cards)\n",
    "        self.determine_overall_rank()"
   ]
  },
  {
   "cell_type": "code",
   "execution_count": 86,
   "metadata": {},
   "outputs": [
    {
     "data": {
      "text/plain": [
       "Cards(AJQJT), combi three of a kind, rank 364320, overall rank 3364320"
      ]
     },
     "execution_count": 86,
     "metadata": {},
     "output_type": "execute_result"
    }
   ],
   "source": [
    "CardsPart2('AJQJT', dict_ranking_part1)"
   ]
  },
  {
   "cell_type": "code",
   "execution_count": 87,
   "metadata": {},
   "outputs": [
    {
     "name": "stdout",
     "output_type": "stream",
     "text": [
      "total winnings 251481660\n"
     ]
    }
   ],
   "source": [
    "all_hands = [] \n",
    "for l in input_text:\n",
    "    data = l.split()\n",
    "    cards = CardsPart2(cards=data[0], dict_ranking=dict_ranking_part2)\n",
    "    bet = int(data[1])\n",
    "    all_hands.append(hand(cards, bet))\n",
    "    \n",
    "ii = 0\n",
    "total_winnings = 0\n",
    "for k in sorted(all_hands, key=lambda x: x.cards.overall_rank, reverse=False):\n",
    "    # print(k)\n",
    "    ii += 1\n",
    "    total_winnings += k.bet * ii\n",
    "\n",
    "print(f'total winnings {total_winnings}')"
   ]
  },
  {
   "cell_type": "code",
   "execution_count": null,
   "metadata": {},
   "outputs": [],
   "source": []
  }
 ],
 "metadata": {
  "kernelspec": {
   "display_name": "py37",
   "language": "python",
   "name": "python3"
  },
  "language_info": {
   "codemirror_mode": {
    "name": "ipython",
    "version": 3
   },
   "file_extension": ".py",
   "mimetype": "text/x-python",
   "name": "python",
   "nbconvert_exporter": "python",
   "pygments_lexer": "ipython3",
   "version": "3.10.13"
  }
 },
 "nbformat": 4,
 "nbformat_minor": 2
}
