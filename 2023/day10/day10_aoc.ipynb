{
 "cells": [
  {
   "cell_type": "code",
   "execution_count": 1,
   "metadata": {},
   "outputs": [],
   "source": [
    "%load_ext autoreload\n",
    "%autoreload 2\n",
    "\n",
    "import numpy as np\n",
    "import os, sys \n",
    "sys.path.append('..')\n",
    "import collections\n",
    "import copy\n",
    "import itertools\n",
    "import aoc_utils as au\n"
   ]
  },
  {
   "cell_type": "code",
   "execution_count": 2,
   "metadata": {},
   "outputs": [],
   "source": [
    "input_text = au.read_txt_file_lines('input.txt')"
   ]
  },
  {
   "cell_type": "code",
   "execution_count": 3,
   "metadata": {},
   "outputs": [],
   "source": [
    "#  |  vertical \n",
    "#  _  horizontal\n",
    "#  L  NE\n",
    "#  J  NW\n",
    "#  7  SW\n",
    "#  F  SE \n",
    "#  .  nothing\n",
    "#  S  start\n",
    "\n",
    "## from seein ght einput, we can see that the start is NW (J)\n",
    "# start_pipe = 'J'"
   ]
  },
  {
   "cell_type": "code",
   "execution_count": 30,
   "metadata": {},
   "outputs": [
    {
     "name": "stdout",
     "output_type": "stream",
     "text": [
      "starting at (76, 109)\n",
      "part 1: 6697\n"
     ]
    }
   ],
   "source": [
    "dict_directions = {\n",
    "    ## (pipe, direction) : new direction\n",
    "    ('L', 'S'): 'E',\n",
    "    ('L', 'W'): 'N',    \n",
    "    ('J', 'S'): 'W',\n",
    "    ('J', 'E'): 'N',\n",
    "    ('7', 'N'): 'W',\n",
    "    ('7', 'E'): 'S',\n",
    "    ('F', 'N'): 'E',\n",
    "    ('F', 'W'): 'S',  \n",
    "    ('|', 'N'): 'N',\n",
    "    ('|', 'S'): 'S',\n",
    "    ('-', 'E'): 'E',\n",
    "    ('-', 'W'): 'W'\n",
    "}\n",
    "\n",
    "def traject_pipe(input_text, dict_directions=dict_directions, new_input=None, new_input_char='pipe',\n",
    "                start_dir='N'):\n",
    "    ## find start pos:\n",
    "    for row in range(len(input_text)):\n",
    "        if 'S' in input_text[row]:\n",
    "            start_pos = (row, input_text[row].index('S'))\n",
    "            break\n",
    "     \n",
    "    n_steps = 0 \n",
    "    prev_pointer = ''\n",
    "    curr_dir = start_dir\n",
    "    curr_pos = start_pos\n",
    "    print(f'starting at {curr_pos}')\n",
    "    continue_traj = True\n",
    "    while continue_traj:\n",
    "        n_steps += 1\n",
    "        curr_row, curr_col = curr_pos\n",
    "        assert curr_col >= 0 and curr_row >= 0, 'out of bounds'\n",
    "        assert curr_col < len(input_text[0]) and curr_row < len(input_text), 'out of bounds'\n",
    "        \n",
    "        ## calculate next position\n",
    "        if curr_dir == 'N':\n",
    "            next_pos = (curr_row - 1, curr_col)\n",
    "        elif curr_dir == 'E':\n",
    "            next_pos = (curr_row, curr_col + 1)\n",
    "        elif curr_dir == 'S':\n",
    "            next_pos = (curr_row + 1, curr_col)\n",
    "        elif curr_dir == 'W':\n",
    "            next_pos = (curr_row, curr_col - 1)\n",
    "\n",
    "        ## find new pipe:\n",
    "        next_pipe = input_text[next_pos[0]][next_pos[1]]\n",
    "\n",
    "        ## option to create new map (new_input)\n",
    "        if new_input is not None:\n",
    "            if new_input_char == 'pipe':  # map pipe piece\n",
    "                new_input[curr_row][curr_col] = input_text[curr_row][curr_col]\n",
    "            elif new_input_char == 'direction':  # map current direction\n",
    "                new_input[curr_row][curr_col] = curr_dir\n",
    "            elif new_input_char == 'inside_pointer_90deg_left':  ## map inside pointer 90 deg left of curr_dir\n",
    "                ### we know that start dir is N and start pointer is W. I believe that inside_pointer always pointers 90 deg left of curr_dir\n",
    "                if curr_dir == 'N':\n",
    "                    new_pointer = 'W'\n",
    "                elif curr_dir == 'E':\n",
    "                    new_pointer = 'N'\n",
    "                elif curr_dir == 'S':\n",
    "                    new_pointer = 'E'\n",
    "                elif curr_dir == 'W':\n",
    "                    new_pointer = 'S'\n",
    "                new_input[curr_row][curr_col] = new_pointer + prev_pointer\n",
    "                prev_pointer = new_pointer\n",
    "            elif new_input_char == 'inside_pointer_90deg_right':  # map inside pointer 90 deg right of curr_dir\n",
    "                if curr_dir == 'N':\n",
    "                    new_pointer = 'E'\n",
    "                elif curr_dir == 'E':\n",
    "                    new_pointer = 'S'\n",
    "                elif curr_dir == 'S':\n",
    "                    new_pointer = 'W'\n",
    "                elif curr_dir == 'W':\n",
    "                    new_pointer = 'N'\n",
    "                new_input[curr_row][curr_col] = new_pointer + prev_pointer\n",
    "                prev_pointer = new_pointer\n",
    "            elif new_input_char == 'X':  # map X\n",
    "                new_input[curr_row][curr_col] = 'X'\n",
    "\n",
    "        ## check end:\n",
    "        if next_pipe == 'S':\n",
    "            continue_traj = False\n",
    "            break\n",
    "        elif next_pipe == '.':\n",
    "            assert False, f'found . at {next_pos}'\n",
    "        else:\n",
    "            key = (next_pipe, curr_dir)\n",
    "            assert key in dict_directions, f'key {key} not in dict_directions at {next_pos}, {n_steps} steps'\n",
    "            new_dir = dict_directions[key]\n",
    "            curr_dir = new_dir\n",
    "            curr_pos = next_pos \n",
    "\n",
    "    return n_steps\n",
    "\n",
    "n_steps_pipe = traject_pipe(input_text=input_text, start_dir='W')\n",
    "print(f'part 1: {n_steps_pipe // 2}')"
   ]
  },
  {
   "cell_type": "markdown",
   "metadata": {},
   "source": [
    "## part 2\n",
    "Plan:\n",
    "- First, change all pipes that arent part of the main loop into `.`\n",
    "- Then, traject through pipe, with vector pointing inside. Map the vector in a new map `new_input`. \n",
    "- **Update:** NB: on corners, there can be two vectors. So I now map multiple directions. (Without these I got 416 one way and 421 other way)\n",
    "- Then go through map of vectors. If identify a `.`, see if it is next to a vector pointing to it or and `X`. If so, change to `X`. (This recursively captures all `X`)."
   ]
  },
  {
   "cell_type": "code",
   "execution_count": 25,
   "metadata": {},
   "outputs": [
    {
     "name": "stdout",
     "output_type": "stream",
     "text": [
      "starting at (76, 109)\n"
     ]
    }
   ],
   "source": [
    "new_input = [] \n",
    "for row in range(len(input_text)):\n",
    "    new_input.append(['.'] * len(input_text[0]))\n",
    "\n",
    "## only difference it's now a list of ['.', '.'] instead of ['..'] to make it mutable. \n",
    "n_steps_pipe = traject_pipe(input_text=input_text, new_input=new_input, new_input_char='inside_pointer_90deg_left', start_dir='W')\n",
    "\n",
    "## Visualise new map:\n",
    "# new_input_form = [''.join(row) for row in new_input]\n",
    "# new_input_form"
   ]
  },
  {
   "cell_type": "code",
   "execution_count": 31,
   "metadata": {},
   "outputs": [
    {
     "name": "stdout",
     "output_type": "stream",
     "text": [
      "part 2: 423\n"
     ]
    }
   ],
   "source": [
    "n_r = len(input_text)\n",
    "n_c = len(input_text[0])\n",
    "\n",
    "def check_if_dot_inside(map_inside_pointers, row, col):\n",
    "    '''see if dot is next to a X or a vector pointing to it.'''\n",
    "    if map_inside_pointers[row][col] != '.':\n",
    "        return False\n",
    "    if col > 0 and np.any([pointer in ['E', 'X'] for pointer in map_inside_pointers[row][col - 1]]):  # use any constructions because it can contain multiple vectors (eg ['NW', 'SE', 'S', 'S', .. ])\n",
    "        return True\n",
    "    elif col < n_c - 1 and np.any([pointer in ['W', 'X'] for pointer in map_inside_pointers[row][col + 1]]):\n",
    "        return True\n",
    "    elif row > 0 and np.any([pointer in ['S', 'X'] for pointer in map_inside_pointers[row - 1][col]]):\n",
    "        return True\n",
    "    elif row < n_r - 1 and np.any([pointer in ['N', 'X'] for pointer in map_inside_pointers[row + 1][col]]):\n",
    "        return True\n",
    "    else:\n",
    "        return False\n",
    "\n",
    "def mark_dots_inside(map_inside_pointers, row, col):\n",
    "    '''Check if dot should be marked X. If so, check all its neighbours recursively.'''\n",
    "    found_X = check_if_dot_inside(map_inside_pointers, row, col)\n",
    "    if found_X:\n",
    "        map_inside_pointers[row][col] = 'X'\n",
    "        mark_dots_inside(map_inside_pointers, row, col - 1)\n",
    "        mark_dots_inside(map_inside_pointers, row, col + 1)\n",
    "        mark_dots_inside(map_inside_pointers, row - 1, col)\n",
    "        mark_dots_inside(map_inside_pointers, row + 1, col)\n",
    "    return None\n",
    "\n",
    "## Loop through all elements of vector map. Check if it's a dot, and if so, if it should be marked X based on neighbouring vectors and X's..\n",
    "map_use = new_input\n",
    "for row in range(n_r):\n",
    "    for col in range(n_c):\n",
    "        if map_use[row][col] == '.':\n",
    "            mark_dots_inside(map_use, row, col)\n",
    "\n",
    "n_X = sum([sum(['X' in el for el in row]) for row in map_use])\n",
    "print(f'part 2: {n_X}')"
   ]
  }
 ],
 "metadata": {
  "kernelspec": {
   "display_name": "py37",
   "language": "python",
   "name": "python3"
  },
  "language_info": {
   "codemirror_mode": {
    "name": "ipython",
    "version": 3
   },
   "file_extension": ".py",
   "mimetype": "text/x-python",
   "name": "python",
   "nbconvert_exporter": "python",
   "pygments_lexer": "ipython3",
   "version": "3.7.4"
  }
 },
 "nbformat": 4,
 "nbformat_minor": 2
}
