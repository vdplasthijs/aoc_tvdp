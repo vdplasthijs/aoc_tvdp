{
 "cells": [
  {
   "cell_type": "code",
   "execution_count": 1,
   "metadata": {},
   "outputs": [],
   "source": [
    "%load_ext autoreload\n",
    "%autoreload 2\n",
    "\n",
    "import numpy as np\n",
    "import os, sys \n",
    "sys.path.append('..')\n",
    "import collections\n",
    "import copy\n",
    "import itertools\n",
    "import aoc_utils as au\n",
    "import math \n",
    "import matplotlib.pyplot as plt\n",
    "from tqdm import tqdm"
   ]
  },
  {
   "cell_type": "code",
   "execution_count": 56,
   "metadata": {},
   "outputs": [
    {
     "name": "stdout",
     "output_type": "stream",
     "text": [
      "680\n"
     ]
    }
   ],
   "source": [
    "input_text = au.read_txt_file_lines('input.txt')\n",
    "n_rows = len(input_text)\n",
    "print(n_rows)"
   ]
  },
  {
   "cell_type": "code",
   "execution_count": 57,
   "metadata": {},
   "outputs": [
    {
     "data": {
      "text/plain": [
       "[instruction(direction='R', distance=6, colour='#3a8da2'),\n",
       " instruction(direction='U', distance=3, colour='#2f9f73'),\n",
       " instruction(direction='L', distance=3, colour='#1fe640'),\n",
       " instruction(direction='U', distance=3, colour='#450603'),\n",
       " instruction(direction='L', distance=6, colour='#42b340')]"
      ]
     },
     "execution_count": 57,
     "metadata": {},
     "output_type": "execute_result"
    }
   ],
   "source": [
    "instruction = collections.namedtuple('instruction', 'direction distance colour')\n",
    "list_instructions = []\n",
    "for line in input_text: \n",
    "    line_split = line.split() \n",
    "    direction = line_split[0]\n",
    "    distance = int(line_split[1])\n",
    "    colour = line_split[2].rstrip(')').lstrip('(')\n",
    "    list_instructions.append(instruction(direction, distance, colour))\n",
    "# print(input_text[:5])\n",
    "# print(list_instructions[:5])\n",
    "list_instructions[:5]"
   ]
  },
  {
   "cell_type": "code",
   "execution_count": 58,
   "metadata": {},
   "outputs": [],
   "source": [
    "## first get the bounds of the grid\n",
    "def traverse_grid(list_instructions, x_min=0, x_max=0, y_min=0, y_max=0):\n",
    "    x = 0\n",
    "    y = 0\n",
    "    if x_min == 0 and x_max == 0 and y_min == 0 and y_max == 0:\n",
    "        create_map = False\n",
    "        find_min_max = True\n",
    "        new_map = None \n",
    "    else:\n",
    "        x_total = x_max - x_min + 3\n",
    "        y_total = y_max - y_min + 3\n",
    "        new_map = np.zeros((x_total, y_total), dtype=int)\n",
    "        create_map = True\n",
    "        find_min_max = False\n",
    "\n",
    "    for l in list_instructions:\n",
    "        direction = l.direction\n",
    "        distance = l.distance\n",
    "        assert direction in ['R', 'L', 'U', 'D'], 'direction not recognised'\n",
    "        \n",
    "        if find_min_max:\n",
    "            if direction == 'R':\n",
    "                x += distance\n",
    "            elif direction == 'L':\n",
    "                x -= distance\n",
    "            elif direction == 'U':\n",
    "                y += distance\n",
    "            elif direction == 'D':\n",
    "                y -= distance\n",
    "\n",
    "            x_min = min(x_min, x)\n",
    "            x_max = max(x_max, x)\n",
    "            y_min = min(y_min, y)\n",
    "            y_max = max(y_max, y)\n",
    "        \n",
    "        if create_map:\n",
    "            x_relative = x - x_min + 1\n",
    "            y_relative = y - y_min + 1\n",
    "            distance_corr = distance\n",
    "            # print(x_relative, y_relative, distance)\n",
    "            if direction == 'R':\n",
    "                new_map[x_relative:x_relative + distance_corr + 1, y_relative] = 1\n",
    "                x += distance\n",
    "            elif direction == 'L':\n",
    "                new_map[x_relative - distance_corr:x_relative, y_relative] = 1\n",
    "                x -= distance\n",
    "            elif direction == 'U':\n",
    "                new_map[x_relative, y_relative:y_relative + distance_corr + 1] = 1\n",
    "                y += distance\n",
    "            elif direction == 'D':\n",
    "                new_map[x_relative, y_relative - distance_corr:y_relative] = 1\n",
    "                y -= distance\n",
    "    return (x_min, x_max, y_min, y_max), new_map\n",
    "\n",
    "(x_min, x_max, y_min, y_max), _ = traverse_grid(list_instructions)\n",
    "# print(x_min, x_max, y_min, y_max)\n",
    "_, new_map = traverse_grid(list_instructions, x_min, x_max, y_min, y_max)"
   ]
  },
  {
   "cell_type": "code",
   "execution_count": 59,
   "metadata": {},
   "outputs": [
    {
     "data": {
      "text/plain": [
       "<matplotlib.image.AxesImage at 0x16bf75ea0>"
      ]
     },
     "execution_count": 59,
     "metadata": {},
     "output_type": "execute_result"
    },
    {
     "data": {
      "image/png": "[encoded data removed]",
      "text/plain": [
       "<Figure size 640x480 with 1 Axes>"
      ]
     },
     "metadata": {},
     "output_type": "display_data"
    }
   ],
   "source": [
    "plt.imshow(new_map, interpolation='none')"
   ]
  },
  {
   "cell_type": "code",
   "execution_count": 60,
   "metadata": {},
   "outputs": [],
   "source": [
    "\n",
    "\n",
    "def check_if_dot_inside(new_map, row, col):\n",
    "    '''see if dot is next to a X or a vector pointing to it.'''\n",
    "    if row < 0 or row >= new_map.shape[0] or col < 0 or col >= new_map.shape[1]:\n",
    "        return False\n",
    "    if new_map[row][col] == 0:\n",
    "        new_map[row][col] = 1\n",
    "        return True\n",
    "    else:\n",
    "        return False\n",
    "\n",
    "def mark_dots_inside(new_map, row, col):\n",
    "    '''Check if dot should be marked X. If so, check all its neighbours recursively.'''\n",
    "    found_X = check_if_dot_inside(new_map, row, col)\n",
    "    if found_X:\n",
    "        mark_dots_inside(new_map, row, col - 1)\n",
    "        mark_dots_inside(new_map, row, col + 1)\n",
    "        mark_dots_inside(new_map, row - 1, col)\n",
    "        mark_dots_inside(new_map, row + 1, col)\n",
    "    return None\n",
    "\n",
    "# mark_dots_inside(new_map[:50], 5, 200)  # should be correct but too many recursive calls  \n",
    "\n",
    "def mark_dots_inside_iterative(new_map, row, col):\n",
    "    '''Check if dot should be marked X. If so, check all its neighbours recursively.'''\n",
    "    stack = [(row, col)]\n",
    "    while stack:\n",
    "        row, col = stack.pop()\n",
    "        found_X = check_if_dot_inside(new_map, row, col)\n",
    "        if found_X:\n",
    "            stack.append((row, col - 1))\n",
    "            stack.append((row, col + 1))\n",
    "            stack.append((row - 1, col))\n",
    "            stack.append((row + 1, col))\n",
    "    return None\n",
    "\n",
    "# mark_dots_inside_iterative(new_map, 50, 200)  # should be correct but too many recursive calls\n",
    "mark_dots_inside_iterative(new_map, 5, 8)  # should be correct but too many recursive calls"
   ]
  },
  {
   "cell_type": "code",
   "execution_count": 61,
   "metadata": {},
   "outputs": [
    {
     "data": {
      "text/plain": [
       "51486"
      ]
     },
     "execution_count": 61,
     "metadata": {},
     "output_type": "execute_result"
    },
    {
     "data": {
      "image/png": "[encoded data removed]",
      "text/plain": [
       "<Figure size 640x480 with 1 Axes>"
      ]
     },
     "metadata": {},
     "output_type": "display_data"
    }
   ],
   "source": [
    "plt.imshow(new_map, interpolation='none')\n",
    "new_map.sum()"
   ]
  },
  {
   "cell_type": "markdown",
   "metadata": {},
   "source": [
    "## part 2 "
   ]
  },
  {
   "cell_type": "code",
   "execution_count": 62,
   "metadata": {},
   "outputs": [
    {
     "data": {
      "text/plain": [
       "[instruction(direction='L', distance=239834, colour=None),\n",
       " instruction(direction='U', distance=195063, colour=None),\n",
       " instruction(direction='R', distance=130660, colour=None),\n",
       " instruction(direction='U', distance=282720, colour=None),\n",
       " instruction(direction='R', distance=273204, colour=None)]"
      ]
     },
     "execution_count": 62,
     "metadata": {},
     "output_type": "execute_result"
    }
   ],
   "source": [
    "list_instructions_part2 = [] \n",
    "for l in list_instructions:\n",
    "    colour = l.colour \n",
    "    # print(colour)\n",
    "    dir_int = colour[-1]\n",
    "    if dir_int == '0':\n",
    "        direction = 'R'\n",
    "    elif dir_int == '1':\n",
    "        direction = 'D'\n",
    "    elif dir_int == '2':\n",
    "        direction = 'L'\n",
    "    elif dir_int == '3':\n",
    "        direction = 'U'\n",
    "    else:\n",
    "        print('error')\n",
    "\n",
    "    distance_hex = colour[1:-1]\n",
    "    distance = int(distance_hex, 16)\n",
    "    # print(distance_hex, distance)\n",
    "    list_instructions_part2.append(instruction(direction, distance, None))\n",
    "\n",
    "assert len(list_instructions) == len(list_instructions_part2)\n",
    "list_instructions_part2[:5]"
   ]
  },
  {
   "cell_type": "code",
   "execution_count": 63,
   "metadata": {},
   "outputs": [
    {
     "name": "stdout",
     "output_type": "stream",
     "text": [
      "x_total: 11194347, y_total: 13849654, x_min: -1102625, y_min: -4737967, x_max: 10091719, y_max: 9111684\n"
     ]
    }
   ],
   "source": [
    "(x_min, x_max, y_min, y_max), _ = traverse_grid(list_instructions_part2)\n",
    "x_total = x_max - x_min + 3\n",
    "y_total = y_max - y_min + 3 \n",
    "## +3 so it's with an empty edge around the grid\n",
    "print(f'x_total: {x_total}, y_total: {y_total}, x_min: {x_min}, y_min: {y_min}, x_max: {x_max}, y_max: {y_max}')"
   ]
  },
  {
   "cell_type": "code",
   "execution_count": 67,
   "metadata": {},
   "outputs": [
    {
     "data": {
      "text/plain": [
       "82712746433310.0"
      ]
     },
     "execution_count": 67,
     "metadata": {},
     "output_type": "execute_result"
    }
   ],
   "source": [
    "## saw a hint to use shapely, and then it finally dawned on me:\n",
    "\n",
    "def get_vertices(list_instructions):\n",
    "    x = 0\n",
    "    y = 0\n",
    "    vertices = [(x, y)]\n",
    "    for l in list_instructions:\n",
    "        direction = l.direction\n",
    "        distance = l.distance\n",
    "        assert direction in ['R', 'L', 'U', 'D'], 'direction not recognised'\n",
    "        \n",
    "        if direction == 'R':\n",
    "            x += distance\n",
    "        elif direction == 'L':\n",
    "            x -= distance\n",
    "        elif direction == 'U':\n",
    "            y += distance\n",
    "        elif direction == 'D':\n",
    "            y -= distance\n",
    "        vertices.append((x, y))\n",
    "\n",
    "    assert vertices[0] == vertices[-1]\n",
    "    return vertices\n",
    "\n",
    "vertices = get_vertices(list_instructions_part2)\n",
    "\n",
    "import shapely \n",
    "\n",
    "## need to buffer 0.5 because vertices are centre points. use square cap_style and mitre join_style to get the right shape (square corners)\n",
    "pol = shapely.geometry.Polygon(vertices).buffer(0.5, cap_style='square', join_style='mitre')\n",
    "pol.area"
   ]
  }
 ],
 "metadata": {
  "kernelspec": {
   "display_name": "py37",
   "language": "python",
   "name": "python3"
  },
  "language_info": {
   "codemirror_mode": {
    "name": "ipython",
    "version": 3
   },
   "file_extension": ".py",
   "mimetype": "text/x-python",
   "name": "python",
   "nbconvert_exporter": "python",
   "pygments_lexer": "ipython3",
   "version": "3.10.13"
  }
 },
 "nbformat": 4,
 "nbformat_minor": 2
}
