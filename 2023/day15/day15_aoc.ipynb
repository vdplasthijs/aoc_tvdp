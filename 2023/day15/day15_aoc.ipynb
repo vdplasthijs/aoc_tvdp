{
 "cells": [
  {
   "cell_type": "code",
   "execution_count": 23,
   "metadata": {},
   "outputs": [
    {
     "name": "stdout",
     "output_type": "stream",
     "text": [
      "The autoreload extension is already loaded. To reload it, use:\n",
      "  %reload_ext autoreload\n"
     ]
    }
   ],
   "source": [
    "%load_ext autoreload\n",
    "%autoreload 2\n",
    "\n",
    "import numpy as np\n",
    "import os, sys \n",
    "sys.path.append('..')\n",
    "import collections\n",
    "import copy\n",
    "import itertools\n",
    "import aoc_utils as au\n",
    "import math \n",
    "from tqdm import tqdm"
   ]
  },
  {
   "cell_type": "code",
   "execution_count": 40,
   "metadata": {},
   "outputs": [],
   "source": [
    "input_text = au.read_txt_file_lines()\n",
    "assert len(input_text) == 1\n",
    "# input_text = ['rn=1,cm-,qp=3,cm=2,qp-,pc=4,ot=9,ab=5,pc-,pc=6,ot=7']\n",
    "input_text = input_text[0].split(',')\n",
    "n_items = len(input_text) "
   ]
  },
  {
   "cell_type": "code",
   "execution_count": 41,
   "metadata": {},
   "outputs": [
    {
     "name": "stdout",
     "output_type": "stream",
     "text": [
      "504449\n"
     ]
    }
   ],
   "source": [
    "def get_hash_value(item):\n",
    "    current_val = 0 \n",
    "    ## transform to ascii\n",
    "    for c in item:\n",
    "        current_val += ord(c)\n",
    "        current_val *= 17 \n",
    "        current_val = current_val % 256\n",
    "    return current_val\n",
    "\n",
    "list_hash_values = [get_hash_value(item) for item in input_text]\n",
    "print(sum(list_hash_values))"
   ]
  },
  {
   "cell_type": "markdown",
   "metadata": {},
   "source": [
    "## part 2"
   ]
  },
  {
   "cell_type": "code",
   "execution_count": 42,
   "metadata": {},
   "outputs": [
    {
     "name": "stdout",
     "output_type": "stream",
     "text": [
      "262044\n"
     ]
    }
   ],
   "source": [
    "lens = collections.namedtuple('lens', ['label', 'focal_length'])\n",
    "dict_boxes = {i: [] for i in range(256)}\n",
    "\n",
    "def part2(item, dict_boxes):\n",
    "    dash_present = '-' in item \n",
    "    if not dash_present:\n",
    "        assert '=' in item \n",
    "        lens_label, focal_length = item.split('=')\n",
    "    else:\n",
    "        lens_label = item.rstrip('-')\n",
    "    box_label = get_hash_value(lens_label)\n",
    "\n",
    "    if dash_present:\n",
    "        curr_box = dict_boxes[box_label]\n",
    "        for l in curr_box:\n",
    "            if l.label == lens_label:  ## remove \n",
    "                curr_box.remove(l)\n",
    "    else:\n",
    "        curr_box = dict_boxes[box_label]\n",
    "        found_lens = False\n",
    "        for l in curr_box:\n",
    "            if l.label == lens_label:\n",
    "                # print(l.label, lens_label, focal_length)\n",
    "                ## change focal length\n",
    "                l = lens(lens_label, focal_length)\n",
    "                ## find where lens_label is in curr_box\n",
    "                ind_l = [i for i, x in enumerate(curr_box) if x.label == lens_label]\n",
    "                assert len(ind_l) == 1\n",
    "                ind_l = ind_l[0] \n",
    "                # ind_l = curr_box.index(l)\n",
    "                # print(ind_l, l, curr_box[ind_l])\n",
    "                curr_box[ind_l] = l\n",
    "                # print(ind_l, l, curr_box[ind_l])\n",
    "                found_lens = True \n",
    "                break\n",
    "\n",
    "        if not found_lens:\n",
    "            curr_box.append(lens(lens_label, focal_length))\n",
    "    # print(box_label, curr_box)\n",
    "    dict_boxes[box_label] = curr_box\n",
    "    return dict_boxes\n",
    "\n",
    "for item in input_text:\n",
    "    dict_boxes = part2(item, dict_boxes)\n",
    "\n",
    "def calculate_focus_power(dict_boxes):\n",
    "    focus_power = 0 \n",
    "    i_box = 0\n",
    "    for k, v in dict_boxes.items():\n",
    "        i_box += 1\n",
    "        if len(v) == 0:\n",
    "            continue\n",
    "        else: \n",
    "            for ind_l, l in enumerate(v):\n",
    "                focus_power += (ind_l + 1) * i_box * int(l.focal_length)\n",
    "    return focus_power\n",
    "\n",
    "print(calculate_focus_power(dict_boxes))"
   ]
  }
 ],
 "metadata": {
  "kernelspec": {
   "display_name": "py37",
   "language": "python",
   "name": "python3"
  },
  "language_info": {
   "codemirror_mode": {
    "name": "ipython",
    "version": 3
   },
   "file_extension": ".py",
   "mimetype": "text/x-python",
   "name": "python",
   "nbconvert_exporter": "python",
   "pygments_lexer": "ipython3",
   "version": "3.10.13"
  }
 },
 "nbformat": 4,
 "nbformat_minor": 2
}
