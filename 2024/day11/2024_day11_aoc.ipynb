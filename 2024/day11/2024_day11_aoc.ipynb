{
 "cells": [
  {
   "cell_type": "code",
   "execution_count": 30,
   "metadata": {},
   "outputs": [
    {
     "name": "stdout",
     "output_type": "stream",
     "text": [
      "The autoreload extension is already loaded. To reload it, use:\n",
      "  %reload_ext autoreload\n"
     ]
    }
   ],
   "source": [
    "%load_ext autoreload\n",
    "%autoreload 2\n",
    "\n",
    "import numpy as np\n",
    "import os, sys \n",
    "sys.path.append('..')\n",
    "from collections import deque, defaultdict\n",
    "import copy\n",
    "import itertools\n",
    "import aoc_utils as au\n",
    "import math \n",
    "from tqdm import tqdm\n",
    "import functools"
   ]
  },
  {
   "cell_type": "code",
   "execution_count": 2,
   "metadata": {},
   "outputs": [
    {
     "name": "stdout",
     "output_type": "stream",
     "text": [
      "input has 1 rows and 36 cols\n"
     ]
    }
   ],
   "source": [
    "input_text = au.read_txt_file_lines()\n",
    "n_rows = len(input_text)\n",
    "n_cols = len(input_text[0])\n",
    "for ii in range(1, n_rows):\n",
    "    assert len(input_text[ii]) == n_cols, f'row {ii} has {len(input_text[ii])} cols, not {n_cols}'\n",
    "print(f'input has {n_rows} rows and {n_cols} cols')"
   ]
  },
  {
   "cell_type": "markdown",
   "metadata": {},
   "source": [
    "## Part 1:\n",
    "- Simple BFS using queue"
   ]
  },
  {
   "cell_type": "code",
   "execution_count": 17,
   "metadata": {},
   "outputs": [
    {
     "name": "stderr",
     "output_type": "stream",
     "text": [
      "100%|██████████| 25/25 [00:00<00:00, 202.35it/s]\n"
     ]
    },
    {
     "data": {
      "text/plain": [
       "183435"
      ]
     },
     "execution_count": 17,
     "metadata": {},
     "output_type": "execute_result"
    }
   ],
   "source": [
    "stones = deque([int(x) for x in input_text[0].split()])\n",
    "\n",
    "for it in tqdm(range(25)):\n",
    "    for _ in range(len(stones)):\n",
    "        s = stones.popleft()\n",
    "        s_str = str(s)\n",
    "        if s == 0:\n",
    "            stones.append(1)\n",
    "        elif len(s_str) % 2 == 0:\n",
    "            stones.append(int(s_str[:len(s_str) // 2]))\n",
    "            stones.append(int(s_str[len(s_str) // 2:]))\n",
    "        else:\n",
    "            stones.append(s * 2024)\n",
    "\n",
    "len(stones)"
   ]
  },
  {
   "cell_type": "markdown",
   "metadata": {},
   "source": [
    "## part 2:\n",
    "- Brute forcing the BFS is too slow\n",
    "- Create graph (ignore all previously seen nodes)\n",
    "- Keep count of visits in state table and do one graph pass per iteration"
   ]
  },
  {
   "cell_type": "code",
   "execution_count": 64,
   "metadata": {},
   "outputs": [
    {
     "name": "stderr",
     "output_type": "stream",
     "text": [
      "100%|██████████| 75/75 [00:00<00:00, 32621.88it/s]\n"
     ]
    },
    {
     "data": {
      "text/plain": [
       "0"
      ]
     },
     "execution_count": 64,
     "metadata": {},
     "output_type": "execute_result"
    }
   ],
   "source": [
    "stones = deque([int(x) for x in input_text[0].split()])\n",
    "mapping = defaultdict(list)\n",
    "\n",
    "## create graph:\n",
    "for it in tqdm(range(75)):\n",
    "    for _ in range(len(stones)):\n",
    "        s = stones.popleft()\n",
    "        if s in mapping:\n",
    "            continue \n",
    "        \n",
    "        s_str = str(s)\n",
    "        if s == 0:\n",
    "            mapping[0] = [1]\n",
    "        elif len(s_str) % 2 == 0:\n",
    "            mapping[s] = [int(s_str[:len(s_str) // 2]), int(s_str[len(s_str) // 2:])]\n",
    "        else:\n",
    "            mapping[s] = [s * 2024]\n",
    "        stones += mapping[s]\n",
    "\n",
    "len(stones)"
   ]
  },
  {
   "cell_type": "code",
   "execution_count": 66,
   "metadata": {},
   "outputs": [
    {
     "data": {
      "text/plain": [
       "218279375708592"
      ]
     },
     "execution_count": 66,
     "metadata": {},
     "output_type": "execute_result"
    }
   ],
   "source": [
    "stones = [int(x) for x in input_text[0].split()]\n",
    "\n",
    "## two tables to flip between:\n",
    "state_table_old  = {s: 0 for s in mapping.keys()}\n",
    "state_table_new = {s: 0 for s in mapping.keys()}\n",
    "\n",
    "for start_s in stones:\n",
    "    state_table_old[start_s] = 1  # initiate\n",
    "\n",
    "for it in range(75):\n",
    "    for node_orig, nodes_dest in mapping.items():\n",
    "        for n in nodes_dest:\n",
    "            state_table_new[n] += state_table_old[node_orig]\n",
    "    \n",
    "    state_table_old = state_table_new\n",
    "    state_table_new = {s: 0 for s in mapping.keys()}\n",
    "\n",
    "sum(state_table_old.values())"
   ]
  }
 ],
 "metadata": {
  "kernelspec": {
   "display_name": "py37",
   "language": "python",
   "name": "python3"
  },
  "language_info": {
   "codemirror_mode": {
    "name": "ipython",
    "version": 3
   },
   "file_extension": ".py",
   "mimetype": "text/x-python",
   "name": "python",
   "nbconvert_exporter": "python",
   "pygments_lexer": "ipython3",
   "version": "3.10.13"
  }
 },
 "nbformat": 4,
 "nbformat_minor": 2
}
