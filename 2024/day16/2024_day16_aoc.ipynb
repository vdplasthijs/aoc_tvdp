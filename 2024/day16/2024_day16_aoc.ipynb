{
 "cells": [
  {
   "cell_type": "code",
   "execution_count": 2,
   "metadata": {},
   "outputs": [],
   "source": [
    "%load_ext autoreload\n",
    "%autoreload 2\n",
    "\n",
    "import numpy as np\n",
    "import os, sys \n",
    "sys.path.append('..')\n",
    "import collections\n",
    "import copy\n",
    "import itertools\n",
    "import aoc_utils as au\n",
    "import math \n",
    "from tqdm import tqdm\n",
    "import matplotlib.pyplot as plt"
   ]
  },
  {
   "cell_type": "code",
   "execution_count": 3,
   "metadata": {},
   "outputs": [
    {
     "name": "stdout",
     "output_type": "stream",
     "text": [
      "input has 15 rows and 15 cols\n"
     ]
    }
   ],
   "source": [
    "input_text = au.read_txt_file_lines()\n",
    "n_rows = len(input_text)\n",
    "n_cols = len(input_text[0])\n",
    "for ii in range(1, n_rows):\n",
    "    assert len(input_text[ii]) == n_cols, f'row {ii} has {len(input_text[ii])} cols, not {n_cols}'\n",
    "print(f'input has {n_rows} rows and {n_cols} cols')"
   ]
  },
  {
   "cell_type": "markdown",
   "metadata": {},
   "source": [
    "## THoughts\n",
    "- Just want to minimise turns"
   ]
  },
  {
   "cell_type": "code",
   "execution_count": 4,
   "metadata": {},
   "outputs": [
    {
     "name": "stdout",
     "output_type": "stream",
     "text": [
      "13 1 1 13\n"
     ]
    },
    {
     "data": {
      "image/png": "[encoded data removed]",
      "text/plain": [
       "<Figure size 640x480 with 1 Axes>"
      ]
     },
     "metadata": {},
     "output_type": "display_data"
    }
   ],
   "source": [
    "n = n_rows\n",
    "maze = np.zeros((n, n), dtype=int)\n",
    "\n",
    "for ir, r in enumerate(input_text):\n",
    "    for ic, c in enumerate(r):\n",
    "        if c == 'S':\n",
    "            start_r, start_c = ir, ic\n",
    "        elif c == 'E':\n",
    "            end_r, end_c = ir, ic\n",
    "        elif c == '#':\n",
    "            maze[ir, ic] = 1\n",
    "\n",
    "plt.imshow(maze, interpolation='none')\n",
    "\n",
    "print(start_r, start_c, end_r, end_c)"
   ]
  },
  {
   "cell_type": "code",
   "execution_count": 5,
   "metadata": {},
   "outputs": [
    {
     "data": {
      "text/plain": [
       "{(1, 0): [(1, 0), (0, 1), (0, -1)],\n",
       " (-1, 0): [(0, 1), (-1, 0), (0, -1)],\n",
       " (0, 1): [(1, 0), (0, 1), (-1, 0)],\n",
       " (0, -1): [(1, 0), (-1, 0), (0, -1)]}"
      ]
     },
     "execution_count": 5,
     "metadata": {},
     "output_type": "execute_result"
    }
   ],
   "source": [
    "dir_dict = {\n",
    "    (1, 0): [(1, 0), (0, 1), (0, -1)],\n",
    "    (-1, 0): [(0, 1), (-1, 0), (0, -1)],\n",
    "    (0, 1): [(1, 0), (0, 1), (-1, 0)],\n",
    "    (0, -1): [(1, 0), (-1, 0), (0, -1)]\n",
    "}\n",
    "\n",
    "dir_dict_diff = {\n",
    "    (1, 0): [(0, 1), (0, -1)],\n",
    "    (-1, 0): [(0, 1), (0, -1)],\n",
    "    (0, 1): [(1, 0), (-1, 0)],\n",
    "    (0, -1): [(1, 0), (-1, 0)]\n",
    "}\n",
    "\n",
    "dir_dict"
   ]
  },
  {
   "cell_type": "code",
   "execution_count": 11,
   "metadata": {},
   "outputs": [
    {
     "name": "stdout",
     "output_type": "stream",
     "text": [
      "new best 50092\n",
      "{1, (12, 1), 13, (5, 13), (3, 13), (9, 8), (11, 5), (13, 11), (11, 11), (13, 8), (7, 10), (8, 11), (11, 13), (6, 13), (12, 5), (11, 9), (1, 13), (13, 12), (7, 5), (12, 13), (9, 5), (11, 2), (10, 9), (9, 11), (13, 5), (7, 7), (7, 13), (12, 9), (9, 7), (8, 5), (11, 4), (11, 1), (10, 11), (9, 13), (13, 7), (2, 13), (13, 13), (7, 9), (7, 6), (12, 11), (4, 13), (9, 9), (9, 6), (11, 3), (10, 13), (8, 13), (13, 9), (13, 6), (7, 11), (7, 8)}\n",
      "new best 34066\n",
      "{1, (12, 1), 13, (3, 13), (5, 13), (11, 5), (13, 11), (11, 11), (7, 10), (8, 11), (10, 5), (11, 13), (6, 13), (1, 13), (13, 12), (7, 5), (12, 13), (11, 2), (9, 5), (9, 11), (7, 7), (7, 13), (11, 4), (8, 5), (11, 1), (9, 13), (10, 11), (2, 13), (13, 13), (7, 9), (7, 6), (12, 11), (4, 13), (11, 3), (8, 13), (10, 13), (7, 11), (7, 8)}\n"
     ]
    },
    {
     "data": {
      "text/plain": [
       "34066"
      ]
     },
     "execution_count": 11,
     "metadata": {},
     "output_type": "execute_result"
    }
   ],
   "source": [
    "dirs = [(1, 0), (0, 1), (-1, 0), (0, -1)]\n",
    "\n",
    "def backtrack(xy, curr_dir, curr_path, curr_cost, best_cost):\n",
    "    if xy == (end_r, end_c):\n",
    "        # print(curr_cost)\n",
    "        # assert False, curr_cost\n",
    "        if curr_cost < best_cost:\n",
    "            best_cost = curr_cost\n",
    "            print('new best', best_cost)\n",
    "            print(curr_path)\n",
    "        return best_cost\n",
    "    \n",
    "    # # print(xy)\n",
    "    # keep_going = True\n",
    "    # while keep_going:\n",
    "    #     for d in dir_dict_diff[curr_dir]:\n",
    "    #         xn = xy[0] + d[0]\n",
    "    #         yn = xy[1] + d[1]\n",
    "    #         if maze[xn, yn] == 0:\n",
    "    #             keep_going = False \n",
    "    #             break \n",
    "\n",
    "    #     if keep_going and (maze[xy[0] + curr_dir[0], xy[1] + curr_dir[1]] == 0):\n",
    "    #         curr_cost += 1\n",
    "    #         xy = (xy[0] + curr_dir[0], xy[1] + curr_dir[1])\n",
    "    #         curr_path.add(xy)\n",
    "    #     else:\n",
    "    #         keep_going = False\n",
    "    #         break\n",
    "\n",
    "    for d in dir_dict[curr_dir]:\n",
    "        if d == curr_dir:\n",
    "            curr_cost += 1\n",
    "        else:\n",
    "            curr_cost += 1001\n",
    "\n",
    "        xn = xy[0] + d[0]\n",
    "        yn = xy[1] + d[1]\n",
    "\n",
    "        # print(d, xn, yn)\n",
    "        \n",
    "        if maze[xn, yn] == 0 and (xn, yn) not in curr_path:\n",
    "            curr_path.add((xn, yn))\n",
    "            best_cost = backtrack((xn, yn), d, curr_path, curr_cost, best_cost)\n",
    "            curr_path.remove((xn, yn))\n",
    "\n",
    "    return best_cost\n",
    "\n",
    "# backtrack((start_r, start_c), (0, 1), set((start_r, start_c)), 0, np.inf)\n",
    "backtrack((start_r, start_c), (-1, 0), set((start_r, start_c)), 1000, np.inf)"
   ]
  },
  {
   "cell_type": "code",
   "execution_count": 15,
   "metadata": {},
   "outputs": [
    {
     "data": {
      "text/plain": [
       "array([[1, 0, 1],\n",
       "       [1, 0, 0],\n",
       "       [1, 1, 1]])"
      ]
     },
     "execution_count": 15,
     "metadata": {},
     "output_type": "execute_result"
    }
   ],
   "source": [
    "maze[138:141, :3]"
   ]
  },
  {
   "cell_type": "code",
   "execution_count": null,
   "metadata": {},
   "outputs": [],
   "source": []
  }
 ],
 "metadata": {
  "kernelspec": {
   "display_name": "py37",
   "language": "python",
   "name": "python3"
  },
  "language_info": {
   "codemirror_mode": {
    "name": "ipython",
    "version": 3
   },
   "file_extension": ".py",
   "mimetype": "text/x-python",
   "name": "python",
   "nbconvert_exporter": "python",
   "pygments_lexer": "ipython3",
   "version": "3.10.13"
  }
 },
 "nbformat": 4,
 "nbformat_minor": 2
}
