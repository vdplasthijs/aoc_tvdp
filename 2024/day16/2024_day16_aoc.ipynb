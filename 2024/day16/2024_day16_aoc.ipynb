{
 "cells": [
  {
   "cell_type": "code",
   "execution_count": 1,
   "metadata": {},
   "outputs": [],
   "source": [
    "%load_ext autoreload\n",
    "%autoreload 2\n",
    "\n",
    "import numpy as np\n",
    "import os, sys \n",
    "sys.path.append('..')\n",
    "from collections import deque \n",
    "import copy\n",
    "import itertools\n",
    "import aoc_utils as au\n",
    "import math \n",
    "from tqdm import tqdm\n",
    "import matplotlib.pyplot as plt"
   ]
  },
  {
   "cell_type": "code",
   "execution_count": 48,
   "metadata": {},
   "outputs": [
    {
     "name": "stdout",
     "output_type": "stream",
     "text": [
      "input has 141 rows and 141 cols\n"
     ]
    }
   ],
   "source": [
    "input_text = au.read_txt_file_lines()\n",
    "n_rows = len(input_text)\n",
    "n_cols = len(input_text[0])\n",
    "for ii in range(1, n_rows):\n",
    "    assert len(input_text[ii]) == n_cols, f'row {ii} has {len(input_text[ii])} cols, not {n_cols}'\n",
    "print(f'input has {n_rows} rows and {n_cols} cols')"
   ]
  },
  {
   "cell_type": "code",
   "execution_count": 49,
   "metadata": {},
   "outputs": [
    {
     "name": "stdout",
     "output_type": "stream",
     "text": [
      "139 1 1 139\n"
     ]
    },
    {
     "data": {
      "image/png": "[encoded data removed]",
      "text/plain": [
       "<Figure size 640x480 with 1 Axes>"
      ]
     },
     "metadata": {},
     "output_type": "display_data"
    }
   ],
   "source": [
    "n = n_rows\n",
    "maze = np.zeros((n, n), dtype=int)\n",
    "\n",
    "for ir, r in enumerate(input_text):\n",
    "    for ic, c in enumerate(r):\n",
    "        if c == 'S':\n",
    "            start_r, start_c = ir, ic\n",
    "        elif c == 'E':\n",
    "            end_r, end_c = ir, ic\n",
    "        elif c == '#':\n",
    "            maze[ir, ic] = 1\n",
    "\n",
    "plt.imshow(maze, interpolation='none')\n",
    "\n",
    "print(start_r, start_c, end_r, end_c)"
   ]
  },
  {
   "cell_type": "code",
   "execution_count": 50,
   "metadata": {},
   "outputs": [
    {
     "data": {
      "text/plain": [
       "{(1, 0): [(1, 0), (0, 1), (0, -1)],\n",
       " (-1, 0): [(0, 1), (-1, 0), (0, -1)],\n",
       " (0, 1): [(1, 0), (0, 1), (-1, 0)],\n",
       " (0, -1): [(1, 0), (-1, 0), (0, -1)]}"
      ]
     },
     "execution_count": 50,
     "metadata": {},
     "output_type": "execute_result"
    }
   ],
   "source": [
    "dir_dict = {\n",
    "    (1, 0): [(1, 0), (0, 1), (0, -1)],\n",
    "    (-1, 0): [(0, 1), (-1, 0), (0, -1)],\n",
    "    (0, 1): [(1, 0), (0, 1), (-1, 0)],\n",
    "    (0, -1): [(1, 0), (-1, 0), (0, -1)]\n",
    "}\n",
    "\n",
    "dir_dict_diff = {\n",
    "    (1, 0): [(0, 1), (0, -1)],\n",
    "    (-1, 0): [(0, 1), (0, -1)],\n",
    "    (0, 1): [(1, 0), (-1, 0)],\n",
    "    (0, -1): [(1, 0), (-1, 0)]\n",
    "}\n",
    "\n",
    "dir_dict"
   ]
  },
  {
   "cell_type": "code",
   "execution_count": 51,
   "metadata": {},
   "outputs": [
    {
     "name": "stdout",
     "output_type": "stream",
     "text": [
      "87368\n",
      "85396\n"
     ]
    }
   ],
   "source": [
    "cost = {d: np.zeros((n_rows, n_cols)) + np.inf for d in dir_dict.keys()}  # keep track of lowest cost per dir\n",
    "cost[(0, 1)][start_r, start_c] = 0\n",
    "queue = deque([((start_r, start_c, (0, 1)))])\n",
    "best_cost = np.inf \n",
    "\n",
    "def in_bounds(r, c):\n",
    "    return (r >= 0) and (c >= 0) and (r < n_rows) and (c < n_cols) and (maze[r, c] == 0)\n",
    "\n",
    "def check(rn, cn, dn, r, c, d, cost):\n",
    "    if in_bounds(rn, cn): \n",
    "        if d == dn:\n",
    "            tmp_cost = 1\n",
    "        else:\n",
    "            tmp_cost = 1001\n",
    "\n",
    "        if cost[dn][rn, cn] > cost[d][r, c] + tmp_cost:  # if cheaper, update mat and return (so it can be added to queue)\n",
    "            cost[dn][rn, cn] = cost[d][r, c] + tmp_cost\n",
    "            return cost, (rn, cn, dn)\n",
    "        \n",
    "    return cost, None\n",
    "\n",
    "while len(queue):\n",
    "    r, c, d = queue.popleft()\n",
    "\n",
    "    if r == end_r and c == end_c:\n",
    "        if best_cost > cost[d][r, c]:  # new best\n",
    "            best_cost = int(cost[d][r, c])\n",
    "            print(best_cost)\n",
    "        continue \n",
    "\n",
    "    for dn in dir_dict[d]:\n",
    "        cost, update = check(rn=r + dn[0], cn=c + dn[1], dn=dn, r=r, c=c, d=d, cost=cost)\n",
    "        if update is not None:\n",
    "            queue.append(update)\n",
    "\n",
    "    "
   ]
  },
  {
   "cell_type": "markdown",
   "metadata": {},
   "source": [
    "## part 2\n",
    "\n",
    "adjust to also save path\n",
    "\n",
    "I'll just use the best cost from p1\n",
    "\n",
    "To find multiple best paths, update checker to >= from >"
   ]
  },
  {
   "cell_type": "code",
   "execution_count": 52,
   "metadata": {},
   "outputs": [],
   "source": [
    "cost = {d: np.zeros((n_rows, n_cols)) + np.inf for d in dir_dict.keys()}\n",
    "cost[(0, 1)][start_r, start_c] = 0\n",
    "queue = deque([((start_r, start_c, (0, 1), [(0, 0)]))])  # also include list of path taken\n",
    "best_cost = np.inf \n",
    "list_best_paths = []\n",
    "best_cost_part1 = 85396  ## make life easy\n",
    "\n",
    "def in_bounds(r, c):\n",
    "    return (r >= 0) and (c >= 0) and (r < n_rows) and (c < n_cols) and (maze[r, c] == 0)\n",
    "\n",
    "def check(rn, cn, dn, r, c, d, cost):\n",
    "    if in_bounds(rn, cn): \n",
    "        if d == dn:\n",
    "            tmp_cost = 1\n",
    "        else:\n",
    "            tmp_cost = 1001\n",
    "\n",
    "        if cost[dn][rn, cn] >= cost[d][r, c] + tmp_cost:  # updated >= to find multiple best paths\n",
    "            cost[dn][rn, cn] = cost[d][r, c] + tmp_cost\n",
    "            return cost, (rn, cn, dn)\n",
    "        \n",
    "    return cost, None\n",
    "\n",
    "while len(queue):\n",
    "    r, c, d, p = queue.popleft()\n",
    "\n",
    "    if r == end_r and c == end_c:\n",
    "        if cost[d][r, c] == best_cost_part1:\n",
    "            list_best_paths.append(p) \n",
    "            continue \n",
    "\n",
    "    for dn in dir_dict[d]:\n",
    "        cost, update = check(rn=r + dn[0], cn=c + dn[1], dn=dn, r=r, c=c, d=d, cost=cost)\n",
    "        if update is not None:\n",
    "            queue.append((update[0], update[1], update[2], p + [(update[0], update[1])]))\n",
    "            "
   ]
  },
  {
   "cell_type": "code",
   "execution_count": 53,
   "metadata": {},
   "outputs": [
    {
     "data": {
      "text/plain": [
       "8"
      ]
     },
     "execution_count": 53,
     "metadata": {},
     "output_type": "execute_result"
    }
   ],
   "source": [
    "len(list_best_paths)"
   ]
  },
  {
   "cell_type": "code",
   "execution_count": 54,
   "metadata": {},
   "outputs": [
    {
     "data": {
      "text/plain": [
       "428"
      ]
     },
     "execution_count": 54,
     "metadata": {},
     "output_type": "execute_result"
    }
   ],
   "source": [
    "mat_best_tiles = np.zeros((n_rows, n_cols), dtype=int)\n",
    "\n",
    "for p in list_best_paths:\n",
    "    for (r, c) in p:\n",
    "        mat_best_tiles[r, c] = 1\n",
    "\n",
    "mat_best_tiles.sum()"
   ]
  },
  {
   "cell_type": "code",
   "execution_count": null,
   "metadata": {},
   "outputs": [],
   "source": []
  }
 ],
 "metadata": {
  "kernelspec": {
   "display_name": "py310",
   "language": "python",
   "name": "python3"
  },
  "language_info": {
   "codemirror_mode": {
    "name": "ipython",
    "version": 3
   },
   "file_extension": ".py",
   "mimetype": "text/x-python",
   "name": "python",
   "nbconvert_exporter": "python",
   "pygments_lexer": "ipython3",
   "version": "3.10.13"
  }
 },
 "nbformat": 4,
 "nbformat_minor": 2
}
