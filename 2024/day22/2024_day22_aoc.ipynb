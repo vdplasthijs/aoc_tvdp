{
 "cells": [
  {
   "cell_type": "code",
   "execution_count": 14,
   "metadata": {},
   "outputs": [
    {
     "name": "stdout",
     "output_type": "stream",
     "text": [
      "The autoreload extension is already loaded. To reload it, use:\n",
      "  %reload_ext autoreload\n"
     ]
    }
   ],
   "source": [
    "%load_ext autoreload\n",
    "%autoreload 2\n",
    "\n",
    "import numpy as np\n",
    "import os, sys \n",
    "sys.path.append('..')\n",
    "from collections import defaultdict, deque\n",
    "import copy\n",
    "import itertools\n",
    "import aoc_utils as au\n",
    "import math \n",
    "from tqdm import tqdm\n",
    "import itertools"
   ]
  },
  {
   "cell_type": "code",
   "execution_count": 2,
   "metadata": {},
   "outputs": [
    {
     "name": "stdout",
     "output_type": "stream",
     "text": [
      "input has 2032 rows\n"
     ]
    }
   ],
   "source": [
    "input_text = au.read_txt_file_lines()\n",
    "n_rows = len(input_text)\n",
    "print(f'input has {n_rows} rows')"
   ]
  },
  {
   "cell_type": "code",
   "execution_count": 4,
   "metadata": {},
   "outputs": [
    {
     "name": "stdout",
     "output_type": "stream",
     "text": [
      "15887950\n",
      "16495136\n",
      "527345\n",
      "704524\n",
      "1553684\n",
      "12683156\n",
      "11100544\n",
      "12249484\n",
      "7753432\n",
      "5908254\n"
     ]
    }
   ],
   "source": [
    "def bit_xor(x, y):\n",
    "        bin_x = bin(x)[2:]\n",
    "        bin_y = bin(y)[2:]\n",
    "        while len(bin_x) > len(bin_y):\n",
    "            bin_y = '0' + bin_y\n",
    "        while len(bin_x) < len(bin_y):\n",
    "            bin_x = '0' + bin_x \n",
    "\n",
    "        new = []\n",
    "        for ii, x_ in enumerate(bin_x):\n",
    "            y_ = bin_y[ii]\n",
    "            if int(x_) + int(y_) == 1:\n",
    "                new.append('1')\n",
    "            else:\n",
    "                new.append('0')\n",
    "        return int(''.join(new), 2)\n",
    "\n",
    "def mix(s, v):\n",
    "     return bit_xor(s, v)\n",
    "     \n",
    "def prune(s, v=None):\n",
    "     return s % 16777216\n",
    "\n",
    "def next_num(s):\n",
    "     val = s * 64\n",
    "     s = mix(s, val)\n",
    "     s = prune(s)\n",
    "     val = int(np.floor(s // 32))\n",
    "     s = mix(s, val)\n",
    "     s = prune(s)\n",
    "     val = s * 2048\n",
    "     s = mix(s, val)\n",
    "     s = prune(s)\n",
    "     return s\n",
    "\n",
    "n = 123\n",
    "for ii in range(10):\n",
    "    n = next_num(n)\n",
    "    print(n)"
   ]
  },
  {
   "cell_type": "code",
   "execution_count": 6,
   "metadata": {},
   "outputs": [
    {
     "name": "stderr",
     "output_type": "stream",
     "text": [
      "100%|██████████| 2032/2032 [01:10<00:00, 28.76it/s]\n"
     ]
    },
    {
     "data": {
      "text/plain": [
       "16999668565"
      ]
     },
     "execution_count": 6,
     "metadata": {},
     "output_type": "execute_result"
    }
   ],
   "source": [
    "list_s_2000 = []\n",
    "for l in tqdm(input_text):\n",
    "    n = int(l)\n",
    "    for ii in range(2000):\n",
    "        n = next_num(n)\n",
    "    list_s_2000.append(n)\n",
    "\n",
    "sum(list_s_2000)"
   ]
  },
  {
   "cell_type": "markdown",
   "metadata": {},
   "source": [
    "## part  2\n",
    "\n",
    "- bitwise operations would have been much faster presumably but worked so far.. \n",
    "- part 2 can just be done with a hash table and one forward pass I think ..?"
   ]
  },
  {
   "cell_type": "code",
   "execution_count": 13,
   "metadata": {},
   "outputs": [
    {
     "name": "stdout",
     "output_type": "stream",
     "text": [
      "2032\n"
     ]
    }
   ],
   "source": [
    "print(len(input_text))\n",
    "\n",
    "dict_best_price = {}"
   ]
  },
  {
   "cell_type": "code",
   "execution_count": 17,
   "metadata": {},
   "outputs": [
    {
     "name": "stderr",
     "output_type": "stream",
     "text": [
      "2032it [01:20, 25.30it/s]\n"
     ]
    }
   ],
   "source": [
    "n_codes = len(input_text)\n",
    "for i_l, l in tqdm(enumerate(input_text)):\n",
    "    n = int(l)\n",
    "    price = int(str(n)[-1])\n",
    "    q = deque([])\n",
    "    for ii in range(2000):\n",
    "        n = next_num(n)\n",
    "        new_price = int(str(n)[-1])\n",
    "        change = new_price - price\n",
    "        q.append(change)\n",
    "        if len(q) == 5:\n",
    "            q.popleft()\n",
    "        if len(q) == 4:\n",
    "            seq = tuple(q)\n",
    "            if seq in dict_best_price:\n",
    "                dict_best_price[seq][i_l] = max(new_price, dict_best_price[seq][i_l])\n",
    "            else:\n",
    "                dict_best_price[seq] = np.zeros((n_codes,), dtype=np.int8)\n",
    "                dict_best_price[seq][i_l] = new_price \n",
    "\n",
    "            \n",
    "        "
   ]
  },
  {
   "cell_type": "code",
   "execution_count": 21,
   "metadata": {},
   "outputs": [
    {
     "name": "stdout",
     "output_type": "stream",
     "text": [
      "(4, 6, -2, -1) 123\n",
      "(6, -2, -1, 7) 414\n",
      "(-1, 7, 4, 6) 541\n",
      "(4, 6, 3, 6) 1125\n",
      "(2, 2, 2, 5) 1416\n",
      "(3, 3, 2, 3) 1446\n",
      "(2, 3, 1, 3) 1625\n",
      "(1, 1, 3, 3) 1709\n",
      "(0, 1, -1, 1) 1784\n",
      "(-1, -1, -1, 0) 1810\n",
      "(0, 0, 0, 3) 1898\n"
     ]
    }
   ],
   "source": [
    "best = 0\n",
    "for k, v in dict_best_price.items():\n",
    "    total_price = np.sum(v)\n",
    "    if total_price > best:\n",
    "        best = total_price\n",
    "        print(k, v.sum())"
   ]
  }
 ],
 "metadata": {
  "kernelspec": {
   "display_name": "py310",
   "language": "python",
   "name": "python3"
  },
  "language_info": {
   "codemirror_mode": {
    "name": "ipython",
    "version": 3
   },
   "file_extension": ".py",
   "mimetype": "text/x-python",
   "name": "python",
   "nbconvert_exporter": "python",
   "pygments_lexer": "ipython3",
   "version": "3.10.13"
  }
 },
 "nbformat": 4,
 "nbformat_minor": 2
}
