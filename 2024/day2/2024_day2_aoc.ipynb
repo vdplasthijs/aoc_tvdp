{
 "cells": [
  {
   "cell_type": "code",
   "execution_count": 1,
   "metadata": {},
   "outputs": [],
   "source": [
    "%load_ext autoreload\n",
    "%autoreload 2\n",
    "\n",
    "import numpy as np\n",
    "import os, sys \n",
    "sys.path.append('..')\n",
    "import collections\n",
    "import copy\n",
    "import itertools\n",
    "import aoc_utils as au\n",
    "import math \n",
    "from tqdm import tqdm"
   ]
  },
  {
   "cell_type": "code",
   "execution_count": 3,
   "metadata": {},
   "outputs": [],
   "source": [
    "input_text = au.read_txt_file_lines()\n",
    "n_rows = len(input_text)\n",
    "n_cols = len(input_text[0])\n",
    "# for ii in range(1, n_rows):\n",
    "#     assert len(input_text[ii]) == n_cols, f'row {ii} has {len(input_text[ii])} cols, not {n_cols}'\n",
    "# print(f'input has {n_rows} rows and {n_cols} cols')"
   ]
  },
  {
   "cell_type": "code",
   "execution_count": 10,
   "metadata": {},
   "outputs": [
    {
     "data": {
      "text/plain": [
       "524"
      ]
     },
     "execution_count": 10,
     "metadata": {},
     "output_type": "execute_result"
    }
   ],
   "source": [
    "data = au.read_txt_file_lines_ints()\n",
    "sum_safe = 0\n",
    "for l in data:\n",
    "    diffs = np.diff(l)\n",
    "    if np.all(diffs > 0) and np.all(diffs < 4):\n",
    "        sum_safe += 1\n",
    "    elif np.all(diffs < 0) and np.all(diffs > -4):\n",
    "        sum_safe += 1\n",
    "\n",
    "sum_safe "
   ]
  },
  {
   "cell_type": "markdown",
   "metadata": {},
   "source": [
    "## part 2"
   ]
  },
  {
   "cell_type": "code",
   "execution_count": 9,
   "metadata": {},
   "outputs": [
    {
     "data": {
      "text/plain": [
       "569"
      ]
     },
     "execution_count": 9,
     "metadata": {},
     "output_type": "execute_result"
    }
   ],
   "source": [
    "data = au.read_txt_file_lines_ints()\n",
    "def check_safe(l):\n",
    "    diffs = np.diff(l)\n",
    "    if sum(diffs < 0) > sum(diffs > 0):\n",
    "        diffs = -1 * diffs\n",
    "    bool_diffs = [d > 0 and d < 4 for d in diffs]\n",
    "    if sum(bool_diffs) == len(bool_diffs):    \n",
    "        return True, bool_diffs\n",
    "    else:\n",
    "        return False, bool_diffs\n",
    "\n",
    "sum_safe = 0\n",
    "for l in data:\n",
    "    safe, bool_diffs = check_safe(l)\n",
    "    \n",
    "    if safe:\n",
    "        sum_safe += 1\n",
    "    elif sum(bool_diffs) >= len(bool_diffs) - 2:\n",
    "        ind = np.where(np.logical_not(bool_diffs))[0][0]\n",
    "        for tmp in [0, 1]:\n",
    "            l_new = l[:ind + tmp] + l[ind + 1 + tmp:]\n",
    "            safe, _ = check_safe(l_new)\n",
    "            if safe:\n",
    "                sum_safe += 1\n",
    "                break\n",
    "\n",
    "sum_safe "
   ]
  }
 ],
 "metadata": {
  "kernelspec": {
   "display_name": "py37",
   "language": "python",
   "name": "python3"
  },
  "language_info": {
   "codemirror_mode": {
    "name": "ipython",
    "version": 3
   },
   "file_extension": ".py",
   "mimetype": "text/x-python",
   "name": "python",
   "nbconvert_exporter": "python",
   "pygments_lexer": "ipython3",
   "version": "3.10.13"
  }
 },
 "nbformat": 4,
 "nbformat_minor": 2
}
