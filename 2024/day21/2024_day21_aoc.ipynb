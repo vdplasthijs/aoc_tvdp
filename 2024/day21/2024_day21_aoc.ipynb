{
 "cells": [
  {
   "cell_type": "code",
   "execution_count": 1,
   "metadata": {},
   "outputs": [],
   "source": [
    "%load_ext autoreload\n",
    "%autoreload 2\n",
    "\n",
    "import numpy as np\n",
    "import os, sys \n",
    "sys.path.append('..')\n",
    "from collections import deque\n",
    "import copy\n",
    "import itertools\n",
    "import aoc_utils as au\n",
    "import math \n",
    "from tqdm import tqdm\n",
    "import itertools\n",
    "import matplotlib.pyplot as plt\n",
    "import keypads as ke"
   ]
  },
  {
   "cell_type": "code",
   "execution_count": 2,
   "metadata": {},
   "outputs": [
    {
     "name": "stdout",
     "output_type": "stream",
     "text": [
      "['169A', '279A', '540A', '869A', '789A']\n"
     ]
    }
   ],
   "source": [
    "def get_data():\n",
    "    input_text = au.read_txt_file_lines()\n",
    "    codes = input_text\n",
    "    print(codes)\n",
    "    return codes\n",
    "\n",
    "codes = get_data()\n",
    "kp = ke.KeyPad()\n",
    "dr = ke.Direct()"
   ]
  },
  {
   "cell_type": "code",
   "execution_count": 3,
   "metadata": {},
   "outputs": [
    {
     "name": "stdout",
     "output_type": "stream",
     "text": [
      "['^<<A>>^A^AvvvA', '^<<A^>>A^AvvvA']\n"
     ]
    },
    {
     "name": "stderr",
     "output_type": "stream",
     "text": [
      "100%|██████████| 2/2 [00:00<00:00, 16131.94it/s]\n"
     ]
    },
    {
     "name": "stdout",
     "output_type": "stream",
     "text": [
      "76 169\n",
      "code 169A has 2 combis\n",
      "['<^A<^^A>>AvvvA', '<^A^^<A>>AvvvA', '^<A<^^A>>AvvvA', '^<A^^<A>>AvvvA']\n"
     ]
    },
    {
     "name": "stderr",
     "output_type": "stream",
     "text": [
      "100%|██████████| 2/2 [00:00<00:00, 19463.13it/s]\n"
     ]
    },
    {
     "name": "stdout",
     "output_type": "stream",
     "text": [
      "72 279\n",
      "code 279A has 1 combis\n",
      "['<^^A<A>vvA>A', '^^<A<A>vvA>A']\n"
     ]
    },
    {
     "name": "stderr",
     "output_type": "stream",
     "text": [
      "100%|██████████| 2/2 [00:00<00:00, 28149.69it/s]\n"
     ]
    },
    {
     "name": "stdout",
     "output_type": "stream",
     "text": [
      "72 540\n",
      "code 540A has 1 combis\n",
      "['<^^^Av>A^AvvvA', '<^^^A>vA^AvvvA', '^^^<Av>A^AvvvA', '^^^<A>vA^AvvvA']\n"
     ]
    },
    {
     "name": "stderr",
     "output_type": "stream",
     "text": [
      "100%|██████████| 2/2 [00:00<00:00, 17367.72it/s]\n"
     ]
    },
    {
     "name": "stdout",
     "output_type": "stream",
     "text": [
      "70 869\n",
      "code 869A has 1 combis\n",
      "['^^^<<A>A>AvvvA']\n"
     ]
    },
    {
     "name": "stderr",
     "output_type": "stream",
     "text": [
      "100%|██████████| 2/2 [00:00<00:00, 5882.61it/s]"
     ]
    },
    {
     "name": "stdout",
     "output_type": "stream",
     "text": [
      "66 789\n",
      "code 789A has 1 combis\n",
      "[12844, 20088, 38880, 60830, 52074]\n",
      "184716\n"
     ]
    },
    {
     "name": "stderr",
     "output_type": "stream",
     "text": [
      "\n"
     ]
    }
   ],
   "source": [
    "dict_bp = {}\n",
    "sums = []\n",
    "n_operators = 2  # number of robots (excl human)\n",
    "kp = ke.KeyPad()\n",
    "dr = ke.Direct(shortcuts=True)\n",
    "\n",
    "for c in codes:\n",
    "    num_c = int(''.join([x for x in c if x != 'A']))\n",
    "    c_paths = ke.get_first_keypad_problems(c)\n",
    "    dict_bp['kp'] = c\n",
    "    dict_bp[0] = c_paths  ## these are now the instructions for r1.\n",
    "    print(c_paths)\n",
    "\n",
    "\n",
    "    ## have to do this twice more for r2 and h\n",
    "    for i_operator in tqdm(range(1, n_operators + 1)):\n",
    "        op_paths = []\n",
    "        for combo in dict_bp[i_operator - 1]:  # previous paths\n",
    "            tmp_path = []\n",
    "            combo = 'A' + combo  # start at A position \n",
    "            for ii in range(len(combo) - 1):\n",
    "                d_combo = combo[ii] + combo[ii + 1]\n",
    "                tmp_path.append(dr.all_paths[d_combo])\n",
    "            tmp_path = [x if len(x) > 0 else [''] for x in tmp_path]\n",
    "            tmp_path = list(itertools.product(*tmp_path))\n",
    "            tmp_path = ke.insert_a_presses(tmp_path)\n",
    "            for p in tmp_path:\n",
    "                op_paths.append(p)\n",
    "\n",
    "        ## greedy but seems to work: only keep shortest paths at each stage. \n",
    "        lens = [len(x) for x in op_paths]\n",
    "        min_len = min(lens)\n",
    "        lens_keep = [True if l == min_len else False for l in lens]\n",
    "        # assert sum(lens_keep) == len(lens_keep), (sum(lens_keep), len(lens_keep))\n",
    "        dict_bp[i_operator] = [x for ix, x in enumerate(op_paths) if lens_keep[ix]]\n",
    "        # dict_bp[i_operator - 1] = None  # no longer needed\n",
    "        \n",
    "    len_c = min([len(x) for x in dict_bp[i_operator]])  # final min len\n",
    "    print(len_c, num_c)\n",
    "    print(f'code {c} has {len(dict_bp[i_operator])} combis')\n",
    "    # print(dict_bp[2])\n",
    "    sums.append(len_c * num_c)\n",
    "\n",
    "print(sums)\n",
    "print(sum(sums))\n"
   ]
  },
  {
   "cell_type": "markdown",
   "metadata": {},
   "source": [
    "# Idea:\n",
    "- We know how many (and which) taps keypad `i` needs for keypad `i + 1`. \n",
    "- "
   ]
  },
  {
   "cell_type": "code",
   "execution_count": 4,
   "metadata": {},
   "outputs": [
    {
     "name": "stdout",
     "output_type": "stream",
     "text": [
      "['169A', '279A', '540A', '869A', '789A']\n",
      "{'<<': ['A'], '<v': ['>A'], '<>': ['>>A'], '<^': ['>^A'], '<A': ['>>^A', '>^>A'], 'v<': ['<A'], 'vv': ['A'], 'v>': ['>A'], 'v^': ['^A'], 'vA': ['>^A', '^>A'], '><': ['<<A'], '>v': ['<A'], '>>': ['A'], '>^': ['<^A', '^<A'], '>A': ['^A'], '^<': ['v<A'], '^v': ['vA'], '^>': ['v>A', '>vA'], '^^': ['A'], '^A': ['>A'], 'A<': ['v<<A', '<v<A'], 'Av': ['v<A', '<vA'], 'A>': ['vA'], 'A^': ['<A'], 'AA': ['A']}\n"
     ]
    }
   ],
   "source": [
    "def get_data():\n",
    "    input_text = au.read_txt_file_lines()\n",
    "    codes = input_text\n",
    "    print(codes)\n",
    "    return codes\n",
    "\n",
    "codes = get_data()\n",
    "kp = ke.KeyPad()\n",
    "dr = ke.Direct(shortcuts=False)\n",
    "\n",
    "key_mapping = {k: ['A'] if len(v) == 0 else [p + 'A' for p in v] for k, v in dr.all_paths.items()}\n",
    "print(key_mapping)"
   ]
  },
  {
   "cell_type": "code",
   "execution_count": 5,
   "metadata": {},
   "outputs": [
    {
     "name": "stdout",
     "output_type": "stream",
     "text": [
      "169A A^<<A>>^A^AvvvA 92382122304 169\n",
      "169A A^<<A^>>A^AvvvA 91059074548 169\n",
      "279A A<^A<^^A>>AvvvA 91387668328 279\n",
      "279A A<^A^^<A>>AvvvA 94653078920 279\n",
      "279A A^<A<^^A>>AvvvA 94653078920 279\n",
      "279A A^<A^^<A>>AvvvA 97918489512 279\n",
      "540A A<^^A<A>vvA>A 91906526790 540\n",
      "540A A^^<A<A>vvA>A 95171937382 540\n",
      "869A A<^^^Av>A^AvvvA 86475783010 869\n",
      "869A A<^^^A>vA^AvvvA 90750571882 869\n",
      "869A A^^^<Av>A^AvvvA 89741193602 869\n",
      "869A A^^^<A>vA^AvvvA 94015982474 869\n",
      "789A A^^^<<A>A>AvvvA 80786362260 789\n",
      "Total:  229403562787554\n"
     ]
    }
   ],
   "source": [
    "dict_keypad1_moves_per_keypad = {1: {k: len(v[0]) for k, v in key_mapping.items()}}  # can do v[0] because all elemnts in v are equal (eg <<v, <v<)\n",
    "## level 1: how many presses does it take the human to move the first robot\n",
    "## from k[0] to k[1]? Eg for k=<v: 2. (Human needs to >A)\n",
    "\n",
    "## Now iteratively add another robot. For robot 2, 3, i.. how many human presses \n",
    "## are needed for a transition? Once that's known for the final robot,\n",
    "## we can evaluate the directions for the codepad. \n",
    "\n",
    "n_levels = 25\n",
    "for level in range(2, n_levels + 1):\n",
    "    dict_keypad1_moves_per_keypad[level] = {} \n",
    "\n",
    "    for k, v_list in key_mapping.items():  # check all (1 or 2) combinations (eg A to < can be v<< or <v<)\n",
    "        best = np.inf\n",
    "        for v in v_list:\n",
    "            n_presses = 0\n",
    "            v_tmp = 'A' + v  # always start at A\n",
    "            for ii in range(len(v_tmp) - 1):  # eg for k=<^, v=>^A, add transitions >^ and ^A\n",
    "                n_presses += dict_keypad1_moves_per_keypad[level - 1][v_tmp[ii:ii + 2]]  # get n_presses of previous layer \n",
    "            if n_presses < best:\n",
    "                best = int(n_presses)\n",
    "        dict_keypad1_moves_per_keypad[level][k] = best\n",
    "\n",
    "## Compute sum:\n",
    "grand_total = 0\n",
    "for c in codes:\n",
    "    num_c = int(''.join([x for x in c if x != 'A']))\n",
    "    c_paths = ke.get_first_keypad_problems(c)  # paths on dir keyboard of first robot.\n",
    "    best = np.inf \n",
    "    for cp in c_paths:  # some codes have different paths (of equal length)\n",
    "        cp = 'A' + cp  # start at A\n",
    "        total = 0\n",
    "        for ii in range(len(cp) - 1):\n",
    "            total += dict_keypad1_moves_per_keypad[level][cp[ii:ii + 2]]  # get numebr of human button presses of this robot \n",
    "        if total < best:\n",
    "            best = total\n",
    "        print(c, cp, total, num_c)\n",
    "    grand_total += (int(best) * num_c)\n",
    "    \n",
    "print('Total: ', grand_total)\n",
    "\n",
    "assert grand_total < 479497561257362 and grand_total > 186711883027826, (grand_total / 186711883027826, grand_total / 479497561257362)"
   ]
  }
 ],
 "metadata": {
  "kernelspec": {
   "display_name": "py310",
   "language": "python",
   "name": "python3"
  },
  "language_info": {
   "codemirror_mode": {
    "name": "ipython",
    "version": 3
   },
   "file_extension": ".py",
   "mimetype": "text/x-python",
   "name": "python",
   "nbconvert_exporter": "python",
   "pygments_lexer": "ipython3",
   "version": "3.10.13"
  }
 },
 "nbformat": 4,
 "nbformat_minor": 2
}
