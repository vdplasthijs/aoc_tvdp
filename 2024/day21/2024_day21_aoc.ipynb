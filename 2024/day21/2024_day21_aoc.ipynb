{
 "cells": [
  {
   "cell_type": "code",
   "execution_count": 22,
   "metadata": {},
   "outputs": [
    {
     "name": "stdout",
     "output_type": "stream",
     "text": [
      "The autoreload extension is already loaded. To reload it, use:\n",
      "  %reload_ext autoreload\n"
     ]
    }
   ],
   "source": [
    "%load_ext autoreload\n",
    "%autoreload 2\n",
    "\n",
    "import numpy as np\n",
    "import os, sys \n",
    "sys.path.append('..')\n",
    "from collections import deque\n",
    "import copy\n",
    "import itertools\n",
    "import aoc_utils as au\n",
    "import math \n",
    "from tqdm import tqdm\n",
    "import itertools\n",
    "import matplotlib.pyplot as plt"
   ]
  },
  {
   "cell_type": "code",
   "execution_count": 23,
   "metadata": {},
   "outputs": [
    {
     "name": "stdout",
     "output_type": "stream",
     "text": [
      "['169A', '279A', '540A', '869A', '789A']\n"
     ]
    }
   ],
   "source": [
    "input_text = au.read_txt_file_lines()\n",
    "n_rows = len(input_text)\n",
    "codes = input_text\n",
    "print(codes)"
   ]
  },
  {
   "cell_type": "markdown",
   "metadata": {},
   "source": [
    "## THoughts\n",
    "- Use Dijkstra to find shortest path(s) between each of the 11-keypad buttons. \n",
    "- Use Dijkstra to find shortest path(s) between A and any of the 4 arrows on 5-key button.\n",
    "- I think you can solve the problems layer by layer .. \n",
    "- Roll out .. "
   ]
  },
  {
   "cell_type": "code",
   "execution_count": 24,
   "metadata": {},
   "outputs": [],
   "source": [
    "\n",
    "class Graph:\n",
    "    def __init__(self, nodes, paths):\n",
    "        self.nodes = nodes\n",
    "        self.paths = paths\n",
    "        n = len(self.nodes)\n",
    "        self.adj = np.zeros((n, n), dtype=int)\n",
    "        for i1, n1 in enumerate(self.nodes):\n",
    "            for i2, n2 in enumerate(self.nodes):\n",
    "                if n1 + n2 in self.paths:\n",
    "                    self.adj[i1, i2] = 1\n",
    "                    self.adj[i2, i1] = 1\n",
    "\n",
    "        self.get_all_paths()\n",
    "        \n",
    "    def get_all_paths(self):\n",
    "        self.all_paths = {}\n",
    "        for i1, n1 in enumerate(self.nodes):\n",
    "            for i2, n2 in enumerate(self.nodes):\n",
    "                if n1 + n2 in self.paths:\n",
    "                    self.all_paths[n1 + n2] = [self.paths[n1 + n2]]\n",
    "                else:  # get ALL shortest paths\n",
    "                    self.all_paths[n1 + n2] = self.get_shortest_paths(i1, i2)\n",
    "\n",
    "    def get_shortest_paths(self, i1, i2):\n",
    "        '''BFS'''\n",
    "        shortest_paths = []\n",
    "        n_nod = len(self.nodes)\n",
    "\n",
    "        dist = [np.inf] * n_nod\n",
    "        dist[i1] = 0\n",
    "\n",
    "        queue = deque([(i1, [i1])])\n",
    "\n",
    "        while len(queue) > 0:\n",
    "            node, p = queue.popleft()\n",
    "            for neigh in np.where(self.adj[node, :])[0]:\n",
    "                if neigh == i2:\n",
    "                    if dist[node] + 1 <= dist[neigh]:\n",
    "                        shortest_paths.append((neigh, p + [neigh]))\n",
    "                        dist[neigh] = dist[node] + 1\n",
    "                elif node == i2:\n",
    "                    pass\n",
    "                elif dist[neigh] >= dist[node] + 1:\n",
    "                    dist[neigh] = dist[node] + 1\n",
    "                    if len(p) > dist[i2]:\n",
    "                        pass\n",
    "                    else:\n",
    "                        queue.append((neigh, p + [neigh]))\n",
    "\n",
    "        shortest_paths = [x[1] for x in shortest_paths]\n",
    "        new_paths = []\n",
    "        for p in shortest_paths:\n",
    "            p_new = []\n",
    "            for ii in range(len(p) - 1):\n",
    "                tmp = self.nodes[p[ii]] + self.nodes[p[ii + 1]]\n",
    "                p_new.append(self.paths[tmp])\n",
    "            p_new = ''.join(p_new)\n",
    "            new_paths.append(p_new)\n",
    "        return new_paths\n",
    "\n",
    "    def is_grouped(self, s):\n",
    "        # Remove consecutive duplicates and count unique groups\n",
    "        unique_groups = ''.join(char for i, char in enumerate(s) if i == 0 or s[i] != s[i-1])\n",
    "        return len(set(unique_groups)) == len(unique_groups)\n",
    "    \n",
    "class KeyPad(Graph):\n",
    "    def __init__(self):\n",
    "\n",
    "        self.paths = {}\n",
    "        for hor in ['12', '23', '45', '56', '78', '89', '0A']:\n",
    "            self.paths[hor] = '>'\n",
    "            self.paths[hor[::-1]] = '<'\n",
    "\n",
    "        for ver in ['41', '52', '63', '74', '85', '96', '20', '3A']:\n",
    "            self.paths[ver] = 'v'\n",
    "            self.paths[ver[::-1]] = '^'\n",
    "\n",
    "        super().__init__(nodes=list('0123456789A'), paths=self.paths)\n",
    "\n",
    "        ## get rid of all inefficient paths (<v< instead of <<v or v<<)\n",
    "        for k, v in self.all_paths.items():\n",
    "            self.all_paths[k] = [p for p in v if self.is_grouped(p)]\n",
    "\n",
    "class Direct(Graph):\n",
    "    def __init__(self):\n",
    "\n",
    "        self.paths = {}\n",
    "        for hor in ['^A', '<v', 'v>']:\n",
    "            self.paths[hor] = '>'\n",
    "            self.paths[hor[::-1]] = '<'\n",
    "\n",
    "        for ver in ['^v', 'A>']:\n",
    "            self.paths[ver] = 'v'\n",
    "            self.paths[ver[::-1]] = '^'\n",
    "\n",
    "        super().__init__(nodes=list('<v>^A'), paths=self.paths)\n",
    "        \n",
    "        ## get rid of inefficient paths:\n",
    "        self.all_paths['<A'] = ['>>^']\n",
    "        self.all_paths['A<'] = ['v<<']\n",
    "        self.all_paths['Av'] = ['v<']\n",
    "        self.all_paths['^>'] = ['>v']\n",
    "        self.all_paths['>^'] = ['^<']\n",
    "        self.all_paths['vA'] = ['>^']\n"
   ]
  },
  {
   "cell_type": "code",
   "execution_count": 25,
   "metadata": {},
   "outputs": [],
   "source": [
    "kp = KeyPad()\n",
    "dr = Direct()"
   ]
  },
  {
   "cell_type": "code",
   "execution_count": 26,
   "metadata": {},
   "outputs": [
    {
     "name": "stderr",
     "output_type": "stream",
     "text": [
      "100%|██████████| 6/6 [00:00<00:00, 7933.74it/s]\n"
     ]
    },
    {
     "name": "stdout",
     "output_type": "stream",
     "text": [
      "3160 169\n",
      "code A169A has 1 combis\n"
     ]
    },
    {
     "name": "stderr",
     "output_type": "stream",
     "text": [
      "100%|██████████| 6/6 [00:00<00:00, 7133.17it/s]\n"
     ]
    },
    {
     "name": "stdout",
     "output_type": "stream",
     "text": [
      "3146 279\n",
      "code A279A has 1 combis\n"
     ]
    },
    {
     "name": "stderr",
     "output_type": "stream",
     "text": [
      "100%|██████████| 6/6 [00:00<00:00, 5922.76it/s]\n"
     ]
    },
    {
     "name": "stdout",
     "output_type": "stream",
     "text": [
      "3138 540\n",
      "code A540A has 1 combis\n"
     ]
    },
    {
     "name": "stderr",
     "output_type": "stream",
     "text": [
      "100%|██████████| 6/6 [00:00<00:00, 3146.12it/s]\n"
     ]
    },
    {
     "name": "stdout",
     "output_type": "stream",
     "text": [
      "2988 869\n",
      "code A869A has 1 combis\n"
     ]
    },
    {
     "name": "stderr",
     "output_type": "stream",
     "text": [
      "100%|██████████| 6/6 [00:00<00:00, 2650.15it/s]"
     ]
    },
    {
     "name": "stdout",
     "output_type": "stream",
     "text": [
      "2792 789\n",
      "code A789A has 1 combis\n",
      "[534040, 877734, 1694520, 2596572, 2202888]\n",
      "7905754\n"
     ]
    },
    {
     "name": "stderr",
     "output_type": "stream",
     "text": [
      "\n"
     ]
    }
   ],
   "source": [
    "dict_bp = {}\n",
    "sums = []\n",
    "n_operators = 6  # number of robots (excl human)\n",
    "\n",
    "def insert_a_presses(c_paths):\n",
    "    ''' ['>>', '^v>'] becomes ['>>', 'A', '^v>', 'A']'''\n",
    "    result = [] \n",
    "    for c in c_paths:\n",
    "        tmp = []\n",
    "        for action in c:\n",
    "            tmp.append(action)\n",
    "            tmp.append('A')\n",
    "\n",
    "        result.append(''.join(tmp))\n",
    "    \n",
    "    return result\n",
    "\n",
    "for c in codes:\n",
    "    num_c = int(''.join([x for x in c if x != 'A']))\n",
    "    c_paths = []\n",
    "    dict_bp['kp'] = c\n",
    "    c = 'A' + c\n",
    "    for ii in range(len(c) - 1):\n",
    "        c_combo = c[ii] + c[ii + 1]\n",
    "        c_paths.append(kp.all_paths[c_combo])\n",
    "\n",
    "    c_paths = list(itertools.product(*c_paths))  # (path between A and 1st, path between 1st and 2nd, ..)\n",
    "    c_paths = insert_a_presses(c_paths)\n",
    "    dict_bp[0] = c_paths  ## these are now the instructions for r1.\n",
    "    \n",
    "    ## have to do this twice more for r2 and h\n",
    "    for i_operator in tqdm(range(1, n_operators + 1)):\n",
    "        op_paths = []\n",
    "        for combo in dict_bp[i_operator - 1]:  # previous paths\n",
    "            tmp_path = []\n",
    "            combo = 'A' + combo  # start at A position \n",
    "            for ii in range(len(combo) - 1):\n",
    "                d_combo = combo[ii] + combo[ii + 1]\n",
    "                tmp_path.append(dr.all_paths[d_combo])\n",
    "            tmp_path = [x if len(x) > 0 else [''] for x in tmp_path]\n",
    "            tmp_path = list(itertools.product(*tmp_path))\n",
    "            tmp_path = insert_a_presses(tmp_path)\n",
    "            for p in tmp_path:\n",
    "                op_paths.append(p)\n",
    "\n",
    "        ## greedy but seems to work: only keep shortest paths at each stage. \n",
    "        lens = [len(x) for x in op_paths]\n",
    "        min_len = min(lens)\n",
    "        lens_keep = [True if l == min_len else False for l in lens]\n",
    "        # assert sum(lens_keep) == len(lens_keep), (sum(lens_keep), len(lens_keep))\n",
    "        dict_bp[i_operator] = [x for ix, x in enumerate(op_paths) if lens_keep[ix]]\n",
    "        # dict_bp[i_operator - 1] = None  # no longer needed\n",
    "        \n",
    "    len_c = min([len(x) for x in dict_bp[i_operator]])  # final min len\n",
    "    print(len_c, num_c)\n",
    "    print(f'code {c} has {len(dict_bp[i_operator])} combis')\n",
    "    # print(dict_bp[2])\n",
    "    sums.append(len_c * num_c)\n",
    "\n",
    "print(sums)\n",
    "print(sum(sums))\n"
   ]
  },
  {
   "cell_type": "code",
   "execution_count": 20,
   "metadata": {},
   "outputs": [
    {
     "name": "stdout",
     "output_type": "stream",
     "text": [
      "789A\n",
      "['^^^<<A>A>AvvvA']\n",
      "['<AAAv<AA>>^AvA^AvA^Av<AAA>^A']\n",
      "['v<<A>>^AAAv<A<A>>^AAvAA^<A>Av<A>^A<A>Av<A>^A<A>Av<A<A>>^AAAvA^<A>A']\n"
     ]
    }
   ],
   "source": [
    "print(dict_bp['kp'])\n",
    "print(dict_bp[0])\n",
    "print(dict_bp[1])\n",
    "print(dict_bp[2])"
   ]
  },
  {
   "cell_type": "code",
   "execution_count": 21,
   "metadata": {},
   "outputs": [
    {
     "data": {
      "text/plain": [
       "['v<A<A>>^Av<<A>>^AvAA^<A>Av<A<AA>>^AvAA^<A>Av<A>^AA<Av<A>>^AvA^Av<A<A>>^Av<<A>>^AAvAA^<A>Av<A>^AA<Av<A>>^AvA^AAv<A<A>>^AvA^<A>AAv<<A>>^Av<A<A>>^AvAA^<A>Av<A>^A<A>Av<A<A>>^Av<<A>>^AvAA^<A>Av<A>^A<Av<A>>^AvA^AAv<A<AA>>^AvAA^<A>Av<A<A>>^Av<<A>>^AvAA^<A>Av<A>^AA<Av<A>>^AvA^Av<A<A>>^AvA^<A>Av<<A>>^AvA^AAAv<A<A>>^Av<<A>>^AvAA^<A>Av<A<AA>>^AvAA^<A>Av<A>^AA<Av<A>>^AvA^Av<A<A>>^Av<<A>>^AAvAA^<A>Av<A>^AA<Av<A>>^AvA^Av<A<A>>^AvA^<A>AAv<<A>>^Av<A<A>>^AvAA^<A>Av<A>^A<A>Av<A<A>>^Av<<A>>^AvAA^<A>Av<A<AA>>^AvAA^<A>AAv<A>^AA<Av<A>>^AvA^Av<A<A>>^AvA^<A>AAv<<A>>^Av<A<A>>^AvAA^<A>Av<A>^A<A>Av<A<A>>^Av<<A>>^AvAA^<A>Av<A>^A<Av<A>>^AvA^AAv<A<AA>>^AvAA^<A>Av<A<A>>^Av<<A>>^AvAA^<A>Av<A>^AA<Av<A>>^AvA^Av<A<A>>^AvA^<A>Av<<A>>^AvA^AAv<A<A>>^Av<<A>>^AvAA^<A>Av<A<AA>>^AvAA^<A>Av<A>^AA<Av<A>>^AvA^Av<A<A>>^AvA^<A>Av<<A>>^Av<A<A>>^AvAA^<A>Av<A>^A<A>AAv<A<A>>^Av<<A>>^AAvAA^<A>Av<A>^AA<Av<A>>^AvA^Av<A<A>>^Av<<A>>^AvAA^<A>Av<A<AA>>^AvAA^<A>Av<A>^AA<Av<A>>^AvA^Av<A<A>>^AvA^<A>AAv<<A>>^Av<A<A>>^AvAA^<A>Av<A>^A<A>Av<A<A>>^Av<<A>>^AvAA^<A>Av<A>^A<Av<A>>^AvA^Av<A<AA>>^AvAA^<A>Av<A>^A<A>Av<A<A>>^Av<<A>>^AvAA^<A>Av<A<AA>>^AvAA^<A>Av<A>^AA<Av<A>>^AvA^Av<A<A>>^Av<<A>>^AAvAA^<A>Av<A>^AA<Av<A>>^AvA^Av<A<A>>^AvA^<A>AAv<<A>>^Av<A<A>>^AvAA^<A>Av<A>^A<A>Av<A<A>>^Av<<A>>^AvAA^<A>Av<A>^A<Av<A>>^AvA^Av<A<AA>>^AvAA^<A>Av<A<A>>^Av<<A>>^AvAA^<A>Av<A>^AA<Av<A>>^AvA^Av<A<A>>^AvA^<A>Av<<A>>^AvA^Av<A<A>>^Av<<A>>^AvAA^<A>Av<A<AA>>^AvAA^<A>AAv<A>^AA<Av<A>>^AvA^Av<A<A>>^AvA^<A>AAv<<A>>^Av<A<A>>^AvAA^<A>Av<A>^A<A>Av<A<A>>^Av<<A>>^AvAA^<A>Av<A>^A<Av<A>>^AvA^Av<A<AA>>^AvAA^<A>Av<A>^A<A>Av<A<A>>^Av<<A>>^AvAA^<A>Av<A<AA>>^AvAA^<A>Av<A>^AA<Av<A>>^AvA^Av<A<A>>^Av<<A>>^AAvAA^<A>Av<A>^AA<Av<A>>^AvA^Av<A<A>>^AvA^<A>AAv<<A>>^Av<A<A>>^AvAA^<A>Av<A>^A<A>Av<A<A>>^Av<<A>>^AvAA^<A>Av<A>^A<Av<A>>^AvA^Av<A<AA>>^AvAA^<A>Av<A<A>>^Av<<A>>^AvAA^<A>Av<A>^AA<Av<A>>^AvA^Av<A<A>>^AvA^<A>Av<<A>>^AvA^Av<A<A>>^Av<<A>>^AvAA^<A>Av<A<AA>>^AvAA^<A>AAv<A>^AA<Av<A>>^AvA^Av<A<A>>^AvA^<A>AAv<<A>>^Av<A<A>>^AvAA^<A>Av<A>^A<A>Av<A<A>>^Av<<A>>^AvAA^<A>Av<A>^A<Av<A>>^AvA^Av<A<AA>>^AvAA^<A>Av<A>^A<A>Av<A<A>>^Av<<A>>^AvAA^<A>Av<A<AA>>^AvAA^<A>Av<A>^AA<Av<A>>^AvA^Av<A<A>>^Av<<A>>^AAvAA^<A>Av<A>^AA<Av<A>>^AvA^Av<A<A>>^AvA^<A>AAv<<A>>^Av<A<A>>^AvAA^<A>Av<A>^A<A>Av<A<A>>^Av<<A>>^AvAA^<A>Av<A<AA>>^AvAA^<A>AAv<A>^AA<Av<A>>^AvA^Av<A<A>>^AvA^<A>AAv<<A>>^Av<A<A>>^AvAA^<A>Av<A>^A<A>Av<A<A>>^Av<<A>>^AvAA^<A>Av<A>^A<Av<A>>^AvA^AAv<A<AA>>^AvAA^<A>Av<A<A>>^Av<<A>>^AvAA^<A>Av<A>^AA<Av<A>>^AvA^Av<A<A>>^AvA^<A>Av<<A>>^AvA^AAAv<A<A>>^Av<<A>>^AvAA^<A>Av<A<AA>>^AvAA^<A>Av<A>^AA<Av<A>>^AvA^Av<A<A>>^AvA^<A>Av<<A>>^Av<A<A>>^AvAA^<A>Av<A>^A<A>Av<A<A>>^Av<<A>>^AAvAA^<A>Av<A>^AA<Av<A>>^AvA^Av<A<A>>^Av<<A>>^AvAA^<A>Av<A<AA>>^AvAA^<A>Av<A>^AA<Av<A>>^AvA^Av<A<A>>^AvA^<A>AAv<<A>>^Av<A<A>>^AvAA^<A>Av<A>^A<A>Av<A<A>>^Av<<A>>^AvAA^<A>Av<A>^A<Av<A>>^AvA^Av<A<AA>>^AvAA^<A>Av<A>^A<A>A']"
      ]
     },
     "execution_count": 21,
     "metadata": {},
     "output_type": "execute_result"
    }
   ],
   "source": [
    "dict_bp[6]"
   ]
  },
  {
   "cell_type": "markdown",
   "metadata": {},
   "source": [
    "## Part 2:\n",
    "\n",
    "Have to make use of fact that it's just 1/few flips between seqs.. \n"
   ]
  },
  {
   "cell_type": "code",
   "execution_count": 10,
   "metadata": {},
   "outputs": [
    {
     "name": "stdout",
     "output_type": "stream",
     "text": [
      "28 A <\n",
      "29 > A\n",
      "30 ^ >\n",
      "31 A >\n",
      "32 A ^\n",
      "33 < A\n",
      "34 A v\n",
      "35 v A\n",
      "39 > ^\n",
      "40 ^ A\n",
      "42 v <\n",
      "44 ^ >\n"
     ]
    }
   ],
   "source": [
    "tmp = ['v<<A>>^Av<A<A>>^AAvAA^<A>Av<A>^AA<Av<A>>^AvA^Av<<A>>^AvA^Av<A<A>>^AAAvA^<A>A', \n",
    "       'v<<A>>^Av<A<A>>^AAvAA^<A>Av<<A>>^AvA<A>^AA<A>Av<<A>>^AvA^Av<A<A>>^AAAvA^<A>A']\n",
    "\n",
    "assert len(tmp[0]) == len(tmp[1])\n",
    "\n",
    "for i_s, s1 in enumerate(tmp[0]):\n",
    "    s2 = tmp[1][i_s]\n",
    "    if s1 != s2:\n",
    "        print(i_s, s1, s2) "
   ]
  },
  {
   "cell_type": "code",
   "execution_count": null,
   "metadata": {},
   "outputs": [],
   "source": []
  }
 ],
 "metadata": {
  "kernelspec": {
   "display_name": "py310",
   "language": "python",
   "name": "python3"
  },
  "language_info": {
   "codemirror_mode": {
    "name": "ipython",
    "version": 3
   },
   "file_extension": ".py",
   "mimetype": "text/x-python",
   "name": "python",
   "nbconvert_exporter": "python",
   "pygments_lexer": "ipython3",
   "version": "3.10.13"
  }
 },
 "nbformat": 4,
 "nbformat_minor": 2
}
