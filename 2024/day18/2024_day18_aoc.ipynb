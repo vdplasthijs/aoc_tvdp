{
 "cells": [
  {
   "cell_type": "code",
   "execution_count": 1,
   "metadata": {},
   "outputs": [],
   "source": [
    "%load_ext autoreload\n",
    "%autoreload 2\n",
    "\n",
    "import numpy as np\n",
    "import os, sys \n",
    "sys.path.append('..')\n",
    "from collections import deque\n",
    "import copy\n",
    "import itertools\n",
    "import aoc_utils as au\n",
    "import math \n",
    "from tqdm import tqdm"
   ]
  },
  {
   "cell_type": "code",
   "execution_count": 10,
   "metadata": {},
   "outputs": [
    {
     "name": "stdout",
     "output_type": "stream",
     "text": [
      "3450\n"
     ]
    }
   ],
   "source": [
    "input_text = au.read_txt_file_lines()\n",
    "print(len(input_text))"
   ]
  },
  {
   "cell_type": "code",
   "execution_count": 7,
   "metadata": {},
   "outputs": [
    {
     "data": {
      "text/plain": [
       "330"
      ]
     },
     "execution_count": 7,
     "metadata": {},
     "output_type": "execute_result"
    }
   ],
   "source": [
    "def maze_solve(n_blocks, input_text=input_text):\n",
    "    n = 71\n",
    "    maze = np.zeros((n, n), dtype=int)\n",
    "    for l in input_text[:n_blocks]:\n",
    "        x, y = l.split(',')\n",
    "        x, y = int(x), int(y)\n",
    "        maze[x, y] = 1\n",
    "\n",
    "    dirs = [(1, 0), (0, 1), (-1, 0), (0, -1)]\n",
    "\n",
    "    def in_bounds(x, y):\n",
    "        return x >= 0 and x < n and y >= 0 and y < n and maze[x, y] == 0\n",
    "\n",
    "    cost = np.zeros((n, n), dtype=int) + np.inf\n",
    "    cost[0, 0] = 0\n",
    "    queue = deque([(0, 0)])\n",
    "    end_r, end_c = n - 1, n -1\n",
    "\n",
    "    while len(queue) > 0:\n",
    "        (r, c) = queue.popleft() \n",
    "\n",
    "        if r == end_r and c == end_c:\n",
    "            return int(cost[r, c])\n",
    "\n",
    "        for d in dirs:\n",
    "            rn, cn, = r + d[0], c + d[1]\n",
    "            if in_bounds(rn, cn) and cost[rn, cn] > cost[r, c] + 1:\n",
    "                cost[rn, cn] = cost[r, c] + 1\n",
    "                queue.append((rn, cn))\n",
    "\n",
    "    return None \n",
    "\n",
    "maze_solve(1024) \n"
   ]
  },
  {
   "cell_type": "markdown",
   "metadata": {},
   "source": [
    "## part 2:\n",
    "(binary) search"
   ]
  },
  {
   "cell_type": "code",
   "execution_count": 20,
   "metadata": {},
   "outputs": [
    {
     "name": "stdout",
     "output_type": "stream",
     "text": [
      "3013 10,38\n"
     ]
    }
   ],
   "source": [
    "l, r = 1024, len(input_text) + 1\n",
    "\n",
    "while l <= r:\n",
    "    m = (l + r) // 2\n",
    "    is_solved = maze_solve(m)\n",
    "    if is_solved is None:\n",
    "        r = m - 1\n",
    "    else:\n",
    "        l = m + 1\n",
    "\n",
    "assert maze_solve(m) is None \n",
    "assert maze_solve(m - 1) is not None\n",
    "print(m - 1, input_text[m - 1])\n"
   ]
  }
 ],
 "metadata": {
  "kernelspec": {
   "display_name": "py310",
   "language": "python",
   "name": "python3"
  },
  "language_info": {
   "codemirror_mode": {
    "name": "ipython",
    "version": 3
   },
   "file_extension": ".py",
   "mimetype": "text/x-python",
   "name": "python",
   "nbconvert_exporter": "python",
   "pygments_lexer": "ipython3",
   "version": "3.10.13"
  }
 },
 "nbformat": 4,
 "nbformat_minor": 2
}
