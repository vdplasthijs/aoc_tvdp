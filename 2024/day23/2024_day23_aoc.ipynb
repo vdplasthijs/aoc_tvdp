{
 "cells": [
  {
   "cell_type": "code",
   "execution_count": 3,
   "metadata": {},
   "outputs": [
    {
     "name": "stdout",
     "output_type": "stream",
     "text": [
      "The autoreload extension is already loaded. To reload it, use:\n",
      "  %reload_ext autoreload\n"
     ]
    }
   ],
   "source": [
    "%load_ext autoreload\n",
    "%autoreload 2\n",
    "\n",
    "import numpy as np\n",
    "import os, sys \n",
    "sys.path.append('..')\n",
    "from collections import defaultdict\n",
    "import copy\n",
    "import itertools\n",
    "import aoc_utils as au\n",
    "import math \n",
    "from tqdm import tqdm"
   ]
  },
  {
   "cell_type": "code",
   "execution_count": 90,
   "metadata": {},
   "outputs": [
    {
     "name": "stdout",
     "output_type": "stream",
     "text": [
      "input has 3380 rows and 5 cols\n"
     ]
    }
   ],
   "source": [
    "input_text = au.read_txt_file_lines()\n",
    "n_rows = len(input_text)\n",
    "n_cols = len(input_text[0])\n",
    "for ii in range(1, n_rows):\n",
    "    assert len(input_text[ii]) == n_cols, f'row {ii} has {len(input_text[ii])} cols, not {n_cols}'\n",
    "print(f'input has {n_rows} rows and {n_cols} cols')"
   ]
  },
  {
   "cell_type": "code",
   "execution_count": 91,
   "metadata": {},
   "outputs": [
    {
     "name": "stdout",
     "output_type": "stream",
     "text": [
      "520\n"
     ]
    }
   ],
   "source": [
    "connections = [tuple(x.split('-')) for x in input_text]\n",
    "graph = defaultdict(list) \n",
    "\n",
    "for (n1, n2) in connections:\n",
    "    graph[n1].append(n2)\n",
    "    graph[n2].append(n1)\n",
    "\n",
    "print(len(graph))\n",
    "assert sum([len(v) for v in graph.values()]) // 2 == len(input_text)"
   ]
  },
  {
   "cell_type": "code",
   "execution_count": 92,
   "metadata": {},
   "outputs": [
    {
     "name": "stderr",
     "output_type": "stream",
     "text": [
      "100%|██████████| 520/520 [00:00<00:00, 466731.88it/s]\n"
     ]
    }
   ],
   "source": [
    "groups = set()\n",
    "\n",
    "for n1, cn in tqdm(graph.items()):\n",
    "    if 't' == n1[0]:\n",
    "        for n2 in cn:\n",
    "            for n3 in cn:\n",
    "                if n3 in graph[n2]:\n",
    "                    groups.add(tuple(sorted([n1, n2, n3])))"
   ]
  },
  {
   "cell_type": "code",
   "execution_count": 93,
   "metadata": {},
   "outputs": [
    {
     "name": "stdout",
     "output_type": "stream",
     "text": [
      "{('bn', 'cn', 'tn'), ('cn', 're', 'tn'), ('ej', 'rf', 'th'), ('mr', 'pb', 'tq'), ('re', 'tt', 'tu'), ('pn', 'ti', 'uw'), ('hk', 'ma', 'th'), ('kk', 'ma', 'th'), ('hi', 'tp', 'vv'), ('ms', 'ox', 'tw'), ('gx', 'tx', 'uv'), ('tn', 'yl', 'zt'), ('ia', 'pg', 'ts'), ('fz', 'iw', 'ti'), ('bu', 'oi', 'te'), ('cn', 'tt', 'wf'), ('te', 'ur', 'wy'), ('mx', 'tw', 'ud'), ('jx', 'pk', 'tr'), ('mr', 'pb', 'tx'), ('cw', 'hi', 'tp'), ('tk', 'xy', 'zp'), ('kp', 'ky', 'tq'), ('eg', 'ny', 'tm'), ('tk', 'uf', 'wv'), ('by', 'qx', 'ts'), ('tk', 'vc', 'wv'), ('fe', 'tw', 'ud'), ('tn', 'tu', 'zy'), ('to', 'tv', 'vk'), ('bu', 'py', 'te'), ('pj', 'to', 'tv'), ('kp', 'ky', 'tx'), ('jf', 'qg', 'ti'), ('js', 'tp', 'vd'), ('og', 'tk', 'vc'), ('fn', 'ja', 'ts'), ('ht', 'mn', 'tl'), ('gz', 'rr', 'tb'), ('tt', 'yl', 'zt'), ('tv', 'yy', 'zc'), ('ar', 'bn', 'tn'), ('qc', 'tp', 'yr'), ('kk', 'rl', 'th'), ('hr', 'ob', 'ty'), ('cz', 'lo', 'tr'), ('ay', 'te', 'ur'), ('ms', 'nw', 'tw'), ('ip', 'tv', 'wi'), ('iw', 'ti', 'uw'), ('ci', 'me', 'te'), ('pg', 'qv', 'ts'), ('al', 'rr', 'tb'), ('tt', 'tu', 'zy'), ('jf', 'mf', 'ti'), ('ew', 'pg', 'ts'), ('mn', 'si', 'tl'), ('jg', 'pn', 'ti'), ('ci', 'df', 'te'), ('bn', 'tu', 'wf'), ('ja', 'qx', 'ts'), ('as', 'fr', 'to'), ('pb', 'tq', 'tx'), ('al', 'im', 'tb'), ('gx', 'it', 'tq'), ('jl', 'jp', 'tm'), ('ef', 'er', 'tw'), ('er', 'mx', 'tw'), ('bv', 'fr', 'tv'), ('kp', 'pb', 'tq'), ('jf', 'pn', 'ti'), ('kp', 'mr', 'tq'), ('hi', 'qc', 'tp'), ('bi', 'hq', 'tl'), ('ar', 'cn', 'tt'), ('mb', 'pw', 'th'), ('lk', 'ty', 'vz'), ('dq', 'rf', 'th'), ('bn', 'tn', 'zt'), ('gx', 'it', 'tx'), ('lo', 'ri', 'tr'), ('kp', 'pb', 'tx'), ('nu', 'tq', 'xv'), ('kp', 'mr', 'tx'), ('cn', 'tt', 'zh'), ('ef', 'nw', 'tw'), ('gs', 'pj', 'to'), ('cz', 'px', 'tr'), ('mb', 'qh', 'th'), ('lb', 'tk', 'zp'), ('kp', 'nu', 'tq'), ('lo', 'qk', 'tr'), ('fe', 'ms', 'tw'), ('bu', 'te', 'wy'), ('ar', 'tn', 'tu'), ('od', 'tu', 'zy'), ('ew', 'ts', 'zs'), ('ci', 'oi', 'te'), ('cw', 'ge', 'tp'), ('kw', 'lk', 'ty'), ('gz', 'tb', 'vi'), ('sa', 'to', 'vk'), ('fz', 'qg', 'ti'), ('jk', 'tb', 'zq'), ('nu', 'tq', 'uv'), ('eg', 'jl', 'tm'), ('kp', 'nu', 'tx'), ('me', 'te', 'ur'), ('gd', 'qg', 'ti'), ('js', 'qc', 'tp'), ('bp', 'jk', 'tb'), ('pg', 'rc', 'ts'), ('nw', 'ox', 'tw'), ('nl', 'tk', 'wv'), ('ku', 'tl', 'zb'), ('ci', 'py', 'te'), ('kk', 'rf', 'th'), ('al', 'tb', 'vi'), ('bn', 'tt', 'tu'), ('gl', 'hr', 'ty'), ('bi', 'mn', 'tl'), ('by', 'ia', 'ts'), ('tk', 'wv', 'xc'), ('re', 'tn', 'tu'), ('ge', 'tp', 'yr'), ('ck', 'jp', 'tm'), ('ez', 'tw', 'ud'), ('ks', 'tk', 'wv'), ('jl', 'tm', 'xb'), ('at', 'bi', 'tl'), ('cn', 'tn', 'wf'), ('eg', 'kn', 'tm'), ('as', 'tv', 'yy'), ('ge', 'tp', 'zi'), ('bn', 'tu', 'zh'), ('fz', 'jf', 'ti'), ('it', 'tq', 'xv'), ('pg', 'ts', 'zs'), ('cn', 'tu', 'zy'), ('df', 'te', 'ur'), ('ez', 'fe', 'tw'), ('gd', 'jf', 'ti'), ('ey', 'tk', 'zp'), ('ar', 'tu', 'yl'), ('bp', 'gz', 'tb'), ('to', 'tv', 'zc'), ('nl', 'og', 'tk'), ('gh', 'lk', 'ty'), ('ks', 'nl', 'tk'), ('ku', 'si', 'tl'), ('dq', 'nk', 'th'), ('tt', 'wf', 'zh'), ('ar', 'tn', 'zy'), ('jx', 'lo', 'tr'), ('hm', 'id', 'tp'), ('pj', 'to', 'wi'), ('bv', 'pj', 'to'), ('hi', 'tp', 'vd'), ('bi', 'ht', 'tl'), ('it', 'tq', 'uv'), ('tu', 'yl', 'zh'), ('ht', 'in', 'tl'), ('io', 'tw', 'zm'), ('rr', 'tb', 'zq'), ('ep', 'pk', 'tr'), ('la', 'py', 'te'), ('re', 'tu', 'yl'), ('at', 'tl', 'zb'), ('al', 'da', 'tb'), ('ct', 'df', 'te'), ('ct', 'te', 'ur'), ('bn', 'tt', 'zy'), ('pk', 'px', 'tr'), ('qb', 'ti', 'uw'), ('px', 'qk', 'tr'), ('od', 'tn', 'wf'), ('re', 'tn', 'zy'), ('kp', 'no', 'tq'), ('fs', 'jp', 'tm'), ('io', 'iv', 'tw'), ('jg', 'qg', 'ti'), ('ck', 'tm', 'xb'), ('tt', 'tu', 'yl'), ('ms', 'tw', 'zm'), ('as', 'tv', 'vk'), ('ac', 'lk', 'ty'), ('od', 'tt', 'zt'), ('bv', 'sa', 'tv'), ('pj', 'tv', 'yy'), ('bv', 'gs', 'tv'), ('gs', 'sa', 'to'), ('ci', 'la', 'te'), ('tm', 'wd', 'xb'), ('sh', 'tk', 'uf'), ('ez', 'ms', 'tw'), ('nl', 'tk', 'uf'), ('lf', 'nx', 'ty'), ('kp', 'no', 'tx'), ('ov', 'qb', 'ti'), ('kn', 'ny', 'tm'), ('ip', 'to', 'yy'), ('od', 're', 'tt'), ('ch', 'lo', 'tr'), ('og', 'tk', 'zp'), ('cw', 'tp', 'yr'), ('ks', 'tk', 'uf'), ('gl', 'kw', 'ty'), ('jk', 'rk', 'tb'), ('tq', 'tx', 'xv'), ('cn', 'tn', 'zh'), ('fs', 'sd', 'tm'), ('pg', 'ts', 'wq'), ('as', 'bv', 'to'), ('gl', 'gn', 'ty'), ('ge', 'tp', 'vv'), ('nk', 'rf', 'th'), ('ck', 'fs', 'tm'), ('by', 'pg', 'ts'), ('cw', 'tp', 'zi'), ('sa', 'to', 'zc'), ('ar', 're', 'tu'), ('ar', 'tt', 'wf'), ('pn', 'qb', 'ti'), ('od', 'tu', 'yl'), ('ay', 'sg', 'te'), ('tn', 'zt', 'zy'), ('gs', 'to', 'vk'), ('ej', 'nk', 'th'), ('ek', 'it', 'tq'), ('sg', 'te', 'ur'), ('tn', 'wf', 'zy'), ('da', 'tb', 'zq'), ('qv', 'qx', 'ts'), ('qu', 'tm', 'wd'), ('ia', 'qx', 'ts'), ('fr', 'pj', 'to'), ('ey', 'lb', 'tk'), ('ek', 'it', 'tx'), ('bi', 'in', 'tl'), ('ox', 'tw', 'zm'), ('lk', 'ob', 'ty'), ('mx', 'ox', 'tw'), ('tv', 'vk', 'yy'), ('gz', 'rz', 'tb'), ('er', 'tw', 'ud'), ('qu', 'sd', 'tm'), ('az', 'jx', 'tr'), ('gd', 'sr', 'ti'), ('od', 'tn', 'zh'), ('bi', 'ku', 'tl'), ('ky', 'tq', 'xv'), ('rl', 'th', 'xn'), ('jl', 'sd', 'tm'), ('jp', 'tm', 'wd'), ('by', 'ts', 'zs'), ('ch', 'ep', 'tr'), ('pb', 'tx', 'xv'), ('da', 'rk', 'tb'), ('cn', 'tu', 'yl'), ('gx', 'tq', 'xv'), ('jf', 'sr', 'ti'), ('gz', 'tb', 'wm'), ('ax', 'ri', 'tr'), ('mr', 'tq', 'tx'), ('er', 'fe', 'tw'), ('at', 'gm', 'tl'), ('gz', 'jk', 'tb'), ('id', 'js', 'tp'), ('hk', 'mb', 'th'), ('gs', 'ip', 'to'), ('dq', 'ma', 'th'), ('dq', 'th', 'xn'), ('kk', 'mb', 'th'), ('al', 'tb', 'wm'), ('sd', 'tm', 'xb'), ('pb', 'tx', 'uv'), ('qh', 'rf', 'th'), ('jx', 'px', 'tr'), ('gx', 'tq', 'uv'), ('al', 'jk', 'tb'), ('ej', 'ma', 'th'), ('gn', 'kw', 'ty'), ('iv', 'tw', 'zm'), ('cw', 'tp', 'vv'), ('ar', 'tt', 'zh'), ('tu', 'zh', 'zy'), ('cn', 'tt', 'zt'), ('gn', 'hr', 'ty'), ('bn', 'od', 'tt'), ('bv', 'to', 'vk'), ('ar', 're', 'tn'), ('jp', 'ny', 'tm'), ('in', 'tl', 'zb'), ('ox', 'tw', 'ud'), ('ac', 'hr', 'ty'), ('ny', 'tm', 'xb'), ('tn', 'tu', 'wf'), ('ep', 'lo', 'tr'), ('og', 'sh', 'tk'), ('sq', 'tl', 'zb'), ('az', 'qk', 'tr'), ('bn', 'cn', 'tt'), ('cn', 're', 'tt'), ('ef', 'tw', 'zm'), ('an', 'gm', 'tl'), ('tn', 'yl', 'zy'), ('dq', 'rl', 'th'), ('sa', 'to', 'tv'), ('no', 'tq', 'xv'), ('hi', 'tp', 'yr'), ('ax', 'ch', 'tr'), ('df', 'sg', 'te'), ('dj', 'ew', 'ts'), ('er', 'ms', 'tw'), ('gl', 'lf', 'ty'), ('lb', 'tk', 'vc'), ('ja', 'pg', 'ts'), ('as', 'fr', 'tv'), ('ej', 'rl', 'th'), ('dj', 'qv', 'ts'), ('ef', 'iv', 'tw'), ('bi', 'sq', 'tl'), ('eg', 'jq', 'tm'), ('ck', 'qu', 'tm'), ('qb', 'qg', 'ti'), ('ma', 'nk', 'th'), ('fe', 'ox', 'tw'), ('iv', 'ms', 'tw'), ('sh', 'tk', 'vc'), ('no', 'tq', 'uv'), ('cn', 'od', 'tu'), ('kw', 'nd', 'ty'), ('re', 'tt', 'wf'), ('ch', 'px', 'tr'), ('fr', 'sa', 'to'), ('ej', 'kk', 'th'), ('in', 'si', 'tl'), ('jk', 'rr', 'tb'), ('ew', 'qv', 'ts'), ('bv', 'ip', 'to'), ('gs', 'to', 'zc'), ('jl', 'qu', 'tm'), ('ge', 'qc', 'tp'), ('bn', 'tu', 'zt'), ('dq', 'kk', 'th'), ('gs', 'pj', 'tv'), ('py', 'te', 'ur'), ('oi', 'py', 'te'), ('gh', 'kw', 'ty'), ('si', 'sq', 'tl'), ('tn', 'wf', 'yl'), ('ez', 'ox', 'tw'), ('iw', 'qb', 'ti'), ('ej', 'th', 'xn'), ('gh', 'hr', 'ty'), ('ar', 'bn', 'tu'), ('ge', 'tp', 'vd'), ('tt', 'wf', 'zt'), ('to', 'tv', 'wi'), ('fr', 'ip', 'to'), ('qk', 'ri', 'tr'), ('rz', 'tb', 'zq'), ('tu', 'yl', 'zt'), ('tv', 'wi', 'yy'), ('as', 'gs', 'to'), ('fz', 'mf', 'ti'), ('ma', 'th', 'xn'), ('by', 'dj', 'ts'), ('eg', 'tm', 'wd'), ('ey', 'tk', 'vc'), ('od', 'tu', 'wf'), ('im', 'tb', 'zq'), ('lf', 'lk', 'ty'), ('mf', 'sr', 'ti'), ('mr', 'tx', 'xv'), ('id', 'tp', 'zi'), ('tn', 'tu', 'zh'), ('gh', 'nd', 'ty'), ('ip', 'tv', 'yy'), ('fr', 'to', 'vk'), ('bn', 'tn', 'zy'), ('gm', 'ku', 'tl'), ('pw', 'rl', 'th'), ('me', 'te', 'wy'), ('nd', 'nx', 'ty'), ('ac', 'kw', 'ty'), ('fv', 'js', 'tp'), ('fz', 'jg', 'ti'), ('pj', 'tv', 'wi'), ('er', 'ez', 'tw'), ('mr', 'tx', 'uv'), ('ac', 'gn', 'ty'), ('fe', 'io', 'tw'), ('da', 'rr', 'tb'), ('tb', 'wm', 'zq'), ('cz', 'ri', 'tr'), ('hm', 'js', 'tp'), ('jq', 'tm', 'xb'), ('tq', 'uv', 'xv'), ('as', 'pj', 'to'), ('sa', 'tv', 'zc'), ('kk', 'th', 'xn'), ('an', 'bi', 'tl'), ('bv', 'to', 'zc'), ('gn', 'lf', 'ty'), ('re', 'tt', 'zh'), ('cn', 'od', 'tn'), ('tk', 'uf', 'zp'), ('da', 'im', 'tb'), ('jp', 'kn', 'tm'), ('cn', 'tn', 'zt'), ('gs', 'tv', 'vk'), ('ia', 'rc', 'ts'), ('tk', 'vc', 'zp'), ('ar', 'tu', 'zy'), ('pw', 'th', 'xn'), ('hi', 'id', 'tp'), ('bv', 'pj', 'tv'), ('kw', 'lf', 'ty'), ('fv', 'hm', 'tp'), ('bp', 'tb', 'vi'), ('pk', 'qk', 'tr'), ('cw', 'qc', 'tp'), ('ar', 'tn', 'wf'), ('ay', 'bu', 'te'), ('od', 'tt', 'tu'), ('ny', 'sd', 'tm'), ('as', 'ip', 'to'), ('as', 'gs', 'tv'), ('sa', 'to', 'wi'), ('ci', 'te', 'ur'), ('py', 'sg', 'te'), ('fs', 'kn', 'tm'), ('io', 'mx', 'tw'), ('gs', 'to', 'tv'), ('cw', 'tp', 'vd'), ('re', 'tu', 'zy'), ('gs', 'sa', 'tv'), ('jg', 'mf', 'ti'), ('dj', 'ja', 'ts'), ('an', 'tl', 'zb'), ('kp', 'tx', 'xv'), ('bn', 'tt', 'wf'), ('ct', 'te', 'wy'), ('az', 'cz', 'tr'), ('mf', 'ti', 'uw'), ('re', 'tn', 'wf'), ('id', 'tp', 'vv'), ('bu', 'sg', 'te'), ('od', 'tn', 'zt'), ('da', 'tb', 'vi'), ('jq', 'sd', 'tm'), ('ew', 'rc', 'ts'), ('kp', 'tx', 'uv'), ('ia', 'ts', 'zs'), ('as', 'bv', 'tv'), ('gh', 'lf', 'ty'), ('ay', 'ct', 'te'), ('nu', 'tq', 'tx'), ('tu', 'wf', 'zh'), ('gn', 'nd', 'ty'), ('tp', 'vd', 'zi'), ('ht', 'tl', 'zb'), ('bv', 'tv', 'vk'), ('pj', 'to', 'yy'), ('od', 'tt', 'zy'), ('ej', 'pw', 'th'), ('er', 'ox', 'tw'), ('az', 'pk', 'tr'), ('lb', 'tk', 'xy'), ('gm', 'mn', 'tl'), ('ez', 'io', 'tw'), ('ma', 'rl', 'th'), ('by', 'qv', 'ts'), ('iw', 'jg', 'ti'), ('fr', 'to', 'zc'), ('jk', 'tb', 'wm'), ('as', 'sa', 'to'), ('ej', 'hk', 'th'), ('tn', 'zh', 'zt'), ('fv', 'tp', 'vv'), ('sh', 'tk', 'xy'), ('nl', 'tk', 'zp'), ('sh', 'tk', 'zp'), ('ar', 'tn', 'zh'), ('lb', 'sh', 'tk'), ('nk', 'th', 'xn'), ('ar', 'tt', 'zt'), ('bn', 'tn', 'yl'), ('ac', 'lf', 'ty'), ('oi', 'te', 'wy'), ('ep', 'px', 'tr'), ('bv', 'to', 'tv'), ('mr', 'nu', 'tq'), ('ks', 'tk', 'zp'), ('ek', 'tq', 'xv'), ('hr', 'lk', 'ty'), ('id', 'qc', 'tp'), ('ny', 'qu', 'tm'), ('gl', 'ty', 'vz'), ('mr', 'nu', 'tx'), ('bn', 'tt', 'zh'), ('it', 'tq', 'tx'), ('ov', 'qg', 'ti'), ('re', 'tn', 'zh'), ('bn', 're', 'tn'), ('ku', 'mn', 'tl'), ('hk', 'pw', 'th'), ('kk', 'pw', 'th'), ('tt', 'zh', 'zt'), ('gs', 'tv', 'zc'), ('gm', 'hq', 'tl'), ('it', 'ky', 'tq'), ('ek', 'tq', 'uv'), ('nk', 'rl', 'th'), ('qh', 'rl', 'th'), ('gs', 'ip', 'tv'), ('lk', 'nx', 'ty'), ('gn', 'ob', 'ty'), ('ar', 'od', 'tu'), ('ey', 'tk', 'xy'), ('im', 'rr', 'tb'), ('as', 'to', 'vk'), ('it', 'ky', 'tx'), ('qg', 'sr', 'ti'), ('ar', 'cn', 'tu'), ('er', 'io', 'tw'), ('jq', 'qu', 'tm'), ('sa', 'tv', 'yy'), ('fv', 'hi', 'tp'), ('ey', 'sh', 'tk'), ('tp', 'vd', 'vv'), ('pn', 'qg', 'ti'), ('nx', 'ty', 'vz'), ('ks', 'og', 'tk'), ('ch', 'ri', 'tr'), ('gs', 'to', 'wi'), ('ew', 'ts', 'wq'), ('ob', 'ty', 'vz'), ('lb', 'nl', 'tk'), ('fs', 'jq', 'tm'), ('fr', 'tv', 'vk'), ('ov', 'pn', 'ti'), ('iv', 'mx', 'tw'), ('ay', 'oi', 'te'), ('qh', 'th', 'xn'), ('la', 'te', 'ur'), ('bp', 'rz', 'tb'), ('an', 'si', 'tl'), ('iw', 'pn', 'ti'), ('mn', 'sq', 'tl'), ('ct', 'me', 'te'), ('nl', 'sh', 'tk'), ('ef', 'mx', 'tw'), ('hq', 'tl', 'zb'), ('fs', 'tm', 'wd'), ('tn', 'tu', 'zt'), ('bp', 'tb', 'wm'), ('it', 'pb', 'tq'), ('fr', 'to', 'tv'), ('it', 'mr', 'tq'), ('rz', 'tb', 'vi'), ('jx', 'ri', 'tr'), ('mr', 'no', 'tq'), ('cn', 'tt', 'zy'), ('fr', 'sa', 'tv'), ('bv', 'tv', 'zc'), ('to', 'wi', 'zc'), ('an', 'ku', 'tl'), ('da', 'gz', 'tb'), ('og', 'tk', 'xy'), ('ja', 'qv', 'ts'), ('fr', 'gs', 'tv'), ('bv', 'ip', 'tv'), ('iw', 'qg', 'ti'), ('it', 'pb', 'tx'), ('it', 'mr', 'tx'), ('id', 'tp', 'vd'), ('ar', 're', 'tt'), ('nw', 'tw', 'zm'), ('od', 'tt', 'yl'), ('mr', 'no', 'tx'), ('hk', 'qh', 'th'), ('jp', 'jq', 'tm'), ('jl', 'ny', 'tm'), ('ci', 'sg', 'te'), ('rk', 'tb', 'zq'), ('jf', 'ov', 'ti'), ('mb', 'nk', 'th'), ('pw', 'rf', 'th'), ('io', 'tw', 'ud'), ('gm', 'ht', 'tl'), ('df', 'me', 'te'), ('by', 'rc', 'ts'), ('ew', 'ja', 'ts'), ('ar', 'od', 'tn'), ('re', 'tt', 'zt'), ('fr', 'ip', 'tv'), ('tq', 'tx', 'uv'), ('ge', 'id', 'tp'), ('sa', 'tv', 'wi'), ('ct', 'py', 'te'), ('da', 'tb', 'wm'), ('kw', 'ty', 'vz'), ('bv', 'to', 'wi'), ('gl', 'nd', 'ty'), ('ej', 'mb', 'th'), ('fs', 'ny', 'tm'), ('ar', 'cn', 'tn'), ('da', 'jk', 'tb'), ('fn', 'qx', 'ts'), ('ck', 'sd', 'tm'), ('ax', 'jx', 'tr'), ('ms', 'tw', 'ud'), ('it', 'tx', 'xv'), ('kn', 'tm', 'xb'), ('pj', 'sa', 'to'), ('dq', 'mb', 'th'), ('ky', 'tq', 'tx'), ('tk', 'uf', 'vc'), ('ax', 'az', 'tr'), ('bn', 'tu', 'zy'), ('me', 'py', 'te'), ('tb', 'vi', 'zq'), ('rc', 'ts', 'zs'), ('gh', 'gl', 'ty'), ('ip', 'pj', 'to'), ('ma', 'pw', 'th'), ('tw', 'ud', 'zm'), ('gx', 'tq', 'tx'), ('it', 'tx', 'uv'), ('mb', 'th', 'xn'), ('od', 'tu', 'zt'), ('tt', 'wf', 'zy'), ('as', 'to', 'zc'), ('tk', 'xc', 'zp'), ('ck', 'ny', 'tm'), ('as', 'pj', 'tv'), ('hi', 'js', 'tp'), ('ky', 'tq', 'uv'), ('nu', 'tx', 'xv'), ('og', 'tk', 'wv'), ('fe', 'nw', 'tw'), ('bu', 'te', 'ur'), ('cz', 'jx', 'tr'), ('tu', 'wf', 'zt'), ('fr', 'tv', 'zc'), ('ac', 'gl', 'ty'), ('io', 'ms', 'tw'), ('gd', 'ov', 'ti'), ('ja', 'ts', 'zs'), ('to', 'tv', 'yy'), ('ax', 'qk', 'tr'), ('lb', 'tk', 'xc'), ('ar', 'tu', 'wf'), ('at', 'si', 'tl'), ('nu', 'pb', 'tq'), ('jq', 'kn', 'tm'), ('ct', 'oi', 'te'), ('kn', 'qu', 'tm'), ('nk', 'pw', 'th'), ('as', 'ip', 'tv'), ('dj', 'fn', 'ts'), ('pn', 'sr', 'ti'), ('cw', 'id', 'tp'), ('no', 'tq', 'tx'), ('hi', 'hm', 'tp'), ('gm', 'in', 'tl'), ('kk', 'qh', 'th'), ('ky', 'mr', 'tq'), ('ky', 'pb', 'tq'), ('ac', 'gh', 'ty'), ('nu', 'pb', 'tx'), ('ac', 'ty', 'vz'), ('ar', 'tn', 'zt'), ('fr', 'to', 'wi'), ('hq', 'si', 'tl'), ('qg', 'ti', 'uw'), ('ky', 'pb', 'tx'), ('by', 'ts', 'wq'), ('ky', 'mr', 'tx'), ('at', 'ku', 'tl'), ('re', 'tu', 'wf'), ('me', 'oi', 'te'), ('cn', 'tt', 'yl'), ('sr', 'ti', 'uw'), ('jg', 'sr', 'ti'), ('kp', 'tq', 'xv'), ('ay', 'te', 'wy'), ('nx', 'ob', 'ty'), ('bn', 'tn', 'tu'), ('mf', 'ov', 'ti'), ('ja', 'rc', 'ts'), ('iw', 'jf', 'ti'), ('jk', 'tb', 'vi'), ('tt', 'tu', 'wf'), ('nl', 'tk', 'vc'), ('fn', 'ia', 'ts'), ('df', 'oi', 'te'), ('gz', 'tb', 'zq'), ('bi', 'gm', 'tl'), ('fz', 'sr', 'ti'), ('hr', 'nx', 'ty'), ('eg', 'jp', 'tm'), ('ku', 'sq', 'tl'), ('bn', 'tt', 'zt'), ('re', 'tn', 'zt'), ('rf', 'rl', 'th'), ('jf', 'ti', 'uw'), ('tt', 'yl', 'zy'), ('ey', 'ks', 'tk'), ('ey', 'tk', 'xc'), ('tt', 'zt', 'zy'), ('ks', 'tk', 'vc'), ('ip', 'sa', 'to'), ('ar', 'bn', 'tt'), ('ar', 'tt', 'tu'), ('gs', 'tv', 'wi'), ('la', 'sg', 'te'), ('ky', 'tx', 'xv'), ('iv', 'tw', 'ud'), ('gx', 'ky', 'tq'), ('al', 'rz', 'tb'), ('as', 'to', 'tv'), ('ja', 'ts', 'wq'), ('rz', 'tb', 'wm'), ('mf', 'qb', 'ti'), ('as', 'sa', 'tv'), ('lo', 'pk', 'tr'), ('gh', 'ty', 'vz'), ('id', 'tp', 'yr'), ('ef', 'tw', 'ud'), ('sa', 'to', 'yy'), ('gx', 'ky', 'tx'), ('gz', 'rk', 'tb'), ('ax', 'cz', 'tr'), ('it', 'nu', 'tq'), ('ar', 'tu', 'zh'), ('gn', 'ty', 'vz'), ('bn', 'tu', 'yl'), ('rf', 'th', 'xn'), ('by', 'ja', 'ts'), ('mb', 'rl', 'th'), ('ia', 'qv', 'ts'), ('gl', 'ob', 'ty'), ('oi', 'sg', 'te'), ('tk', 'wv', 'zp'), ('rk', 'rr', 'tb'), ('ew', 'fn', 'ts'), ('it', 'nu', 'tx'), ('tt', 'wf', 'yl'), ('pj', 'tv', 'vk'), ('ef', 'fe', 'tw'), ('az', 'lo', 'tr'), ('gm', 'sq', 'tl'), ('gd', 'iw', 'ti'), ('to', 'vk', 'zc'), ('rr', 'tb', 'vi'), ('ip', 'to', 'vk'), ('eg', 'tm', 'xb'), ('ez', 'nw', 'tw'), ('at', 'sq', 'tl'), ('fv', 'ge', 'tp'), ('re', 'tu', 'zh'), ('ma', 'mb', 'th'), ('tn', 'zh', 'zy'), ('og', 'tk', 'xc'), ('fn', 'pg', 'ts'), ('ar', 'tt', 'zy'), ('gx', 'pb', 'tq'), ('tt', 'tu', 'zh'), ('gx', 'mr', 'tq'), ('fs', 'jl', 'tm'), ('fv', 'tp', 'yr'), ('qv', 'rc', 'ts'), ('fz', 'ti', 'uw'), ('tk', 'uf', 'xy'), ('ac', 'nd', 'ty'), ('bv', 'tv', 'wi'), ('gd', 'ti', 'uw'), ('tk', 'vc', 'xy'), ('cn', 'tu', 'wf'), ('tp', 'vv', 'zi'), ('df', 'te', 'wy'), ('jl', 'kn', 'tm'), ('dj', 'pg', 'ts'), ('mx', 'tw', 'zm'), ('dq', 'hk', 'th'), ('ep', 'ri', 'tr'), ('gx', 'pb', 'tx'), ('gx', 'mr', 'tx'), ('fv', 'tp', 'zi'), ('gz', 'im', 'tb'), ('ax', 'ep', 'tr'), ('cz', 'qk', 'tr'), ('lf', 'ob', 'ty'), ('hq', 'ku', 'tl'), ('fe', 'tw', 'zm'), ('er', 'nw', 'tw'), ('qx', 'ts', 'zs'), ('an', 'ht', 'tl'), ('ef', 'ms', 'tw'), ('iw', 'sr', 'ti'), ('az', 'ep', 'tr'), ('cn', 'tn', 'yl'), ('rk', 'tb', 'vi'), ('jq', 'tm', 'wd'), ('fe', 'iv', 'tw'), ('od', 'tu', 'zh'), ('bn', 're', 'tu'), ('as', 'tv', 'zc'), ('al', 'rk', 'tb'), ('bn', 'od', 'tn'), ('in', 'ku', 'tl'), ('io', 'ox', 'tw'), ('gx', 'tx', 'xv'), ('mb', 'rf', 'th'), ('it', 'no', 'tq'), ('no', 'pb', 'tq'), ('tu', 'zh', 'zt'), ('tp', 'vd', 'yr'), ('ay', 'ci', 'te'), ('ci', 'ct', 'te'), ('pg', 'qx', 'ts'), ('an', 'mn', 'tl'), ('it', 'no', 'tx'), ('no', 'pb', 'tx'), ('ck', 'kn', 'tm'), ('qx', 'rc', 'ts'), ('ge', 'js', 'tp'), ('at', 'hq', 'tl'), ('cz', 'ep', 'tr'), ('ax', 'pk', 'tr'), ('as', 'to', 'wi'), ('ky', 'no', 'tq'), ('jk', 'rz', 'tb'), ('ky', 'nu', 'tq'), ('kw', 'ob', 'ty'), ('mn', 'tl', 'zb'), ('od', 'tn', 'yl'), ('jg', 'ti', 'uw'), ('jq', 'ny', 'tm'), ('gs', 'to', 'yy'), ('cn', 'tu', 'zh'), ('it', 'kp', 'tq'), ('ky', 'no', 'tx'), ('eg', 'fs', 'tm'), ('gx', 'nu', 'tq'), ('ky', 'nu', 'tx'), ('pj', 'sa', 'tv'), ('ek', 'gx', 'tq'), ('ia', 'ja', 'ts'), ('nl', 'tk', 'xy'), ('no', 'tx', 'xv'), ('qx', 'ts', 'wq'), ('fr', 'tv', 'wi'), ('ip', 'to', 'zc'), ('ek', 'tq', 'tx'), ('it', 'kp', 'tx'), ('ge', 'hm', 'tp'), ('lb', 'og', 'tk'), ('sg', 'te', 'wy'), ('ck', 'jq', 'tm'), ('gx', 'nu', 'tx'), ('an', 'hq', 'tl'), ('ef', 'ez', 'tw'), ('fv', 'id', 'tp'), ('ip', 'pj', 'tv'), ('ek', 'gx', 'tx'), ('hm', 'tp', 'yr'), ('ek', 'ky', 'tq'), ('ks', 'tk', 'xy'), ('qc', 'tp', 'zi'), ('at', 'mn', 'tl'), ('eg', 'sd', 'tm'), ('az', 'px', 'tr'), ('gd', 'pn', 'ti'), ('eg', 'qu', 'tm'), ('no', 'tx', 'uv'), ('re', 'tt', 'zy'), ('ay', 'me', 'te'), ('jl', 'jq', 'tm'), ('ez', 'tw', 'zm'), ('hm', 'tp', 'zi'), ('ch', 'jx', 'tr'), ('ek', 'ky', 'tx'), ('in', 'sq', 'tl'), ('ck', 'eg', 'tm'), ('qv', 'ts', 'wq'), ('ar', 'tt', 'yl'), ('ar', 'od', 'tt'), ('gh', 'ob', 'ty'), ('jx', 'qk', 'tr'), ('ay', 'df', 'te'), ('pk', 'ri', 'tr'), ('iv', 'nw', 'tw'), ('ia', 'ts', 'wq'), ('fz', 'gd', 'ti'), ('to', 'vk', 'yy'), ('pb', 'tq', 'xv'), ('hq', 'mn', 'tl'), ('rr', 'rz', 'tb'), ('cn', 'tt', 'tu'), ('by', 'fn', 'ts'), ('px', 'ri', 'tr'), ('ms', 'mx', 'tw'), ('tp', 'yr', 'zi'), ('ey', 'nl', 'tk'), ('cw', 'fv', 'tp'), ('al', 'bp', 'tb'), ('cw', 'js', 'tp'), ('rr', 'tb', 'wm'), ('at', 'ht', 'tl'), ('pb', 'tq', 'uv'), ('lk', 'nd', 'ty'), ('bv', 'to', 'yy'), ('ey', 'og', 'tk'), ('iw', 'mf', 'ti'), ('lb', 'tk', 'wv'), ('bi', 'tl', 'zb'), ('qb', 'sr', 'ti'), ('dq', 'pw', 'th'), ('tv', 'vk', 'zc'), ('ac', 'ob', 'ty'), ('jl', 'tm', 'wd'), ('ek', 'pb', 'tq'), ('ek', 'mr', 'tq'), ('sh', 'tk', 'wv'), ('hk', 'rf', 'th'), ('dq', 'qh', 'th'), ('by', 'ew', 'ts'), ('ip', 'tv', 'vk'), ('ar', 'tu', 'zt'), ('ek', 'pb', 'tx'), ('tn', 'wf', 'zh'), ('ek', 'mr', 'tx'), ('ch', 'qk', 'tr'), ('tu', 'wf', 'zy'), ('iv', 'ox', 'tw'), ('ej', 'qh', 'th'), ('fr', 'pj', 'tv'), ('ay', 'py', 'te'), ('an', 'in', 'tl'), ('rk', 'rz', 'tb'), ('an', 'at', 'tl'), ('lf', 'ty', 'vz'), ('qc', 'tp', 'vv'), ('ip', 'to', 'tv'), ('gm', 'tl', 'zb'), ('hm', 'tp', 'vv'), ('im', 'tb', 'vi'), ('re', 'tu', 'zt'), ('ip', 'sa', 'tv'), ('mf', 'qg', 'ti'), ('ht', 'si', 'tl'), ('to', 'vk', 'wi'), ('rk', 'tb', 'wm'), ('fs', 'tm', 'xb'), ('cz', 'pk', 'tr'), ('ey', 'tk', 'wv'), ('tk', 'uf', 'xc'), ('tn', 'tu', 'yl'), ('ek', 'tx', 'xv'), ('fz', 'ov', 'ti'), ('tt', 'tu', 'zt'), ('ks', 'sh', 'tk'), ('tk', 'vc', 'xc'), ('gn', 'lk', 'ty'), ('gx', 'kp', 'tq'), ('nd', 'ob', 'ty'), ('fz', 'qb', 'ti'), ('py', 'te', 'wy'), ('gd', 'qb', 'ti'), ('ht', 'ku', 'tl'), ('ez', 'iv', 'tw'), ('ek', 'tx', 'uv'), ('gx', 'kp', 'tx'), ('no', 'nu', 'tq'), ('lo', 'px', 'tr'), ('lb', 'tk', 'uf'), ('fr', 'to', 'yy'), ('tb', 'vi', 'wm'), ('re', 'tt', 'yl'), ('jf', 'qb', 'ti'), ('mf', 'pn', 'ti'), ('hr', 'ty', 'vz'), ('fv', 'tp', 'vd'), ('no', 'nu', 'tx'), ('dj', 'qx', 'ts'), ('ts', 'wq', 'zs'), ('la', 'me', 'te'), ('ct', 'sg', 'te'), ('er', 'tw', 'zm'), ('js', 'tp', 'yr'), ('qu', 'tm', 'xb'), ('bp', 'tb', 'zq'), ('bn', 'tn', 'wf'), ('ay', 'la', 'te'), ('cn', 'tn', 'tu'), ('si', 'tl', 'zb'), ('tk', 'xc', 'xy'), ('tn', 'yl', 'zh'), ('df', 'la', 'te'), ('nw', 'tw', 'ud'), ('hq', 'ht', 'tl'), ('tu', 'yl', 'zy'), ('as', 'tv', 'wi'), ('ma', 'qh', 'th'), ('js', 'tp', 'zi'), ('ef', 'ox', 'tw'), ('od', 're', 'tu'), ('tu', 'zt', 'zy'), ('er', 'iv', 'tw'), ('bv', 'fr', 'to'), ('an', 'sq', 'tl'), ('gl', 'nx', 'ty'), ('jp', 'tm', 'xb'), ('bu', 'ci', 'te'), ('bu', 'df', 'te'), ('kn', 'tm', 'wd'), ('gs', 'tv', 'yy'), ('pj', 'to', 'vk'), ('tv', 'wi', 'zc'), ('nu', 'tx', 'uv'), ('jg', 'ov', 'ti'), ('ey', 'tk', 'uf'), ('oi', 'te', 'ur'), ('kn', 'sd', 'tm'), ('tt', 'yl', 'zh'), ('ip', 'tv', 'zc'), ('lf', 'nd', 'ty'), ('da', 'rz', 'tb'), ('la', 'oi', 'te'), ('ep', 'jx', 'tr'), ('cn', 'tu', 'zt'), ('ax', 'lo', 'tr'), ('ks', 'lb', 'tk'), ('jg', 'qb', 'ti'), ('nl', 'tk', 'xc'), ('od', 'tn', 'tu'), ('bu', 'ct', 'te'), ('ht', 'sq', 'tl'), ('at', 'in', 'tl'), ('tu', 'wf', 'yl'), ('ek', 'kp', 'tq'), ('kp', 'tq', 'tx'), ('ci', 'te', 'wy'), ('cn', 'tn', 'zy'), ('pw', 'qh', 'th'), ('rc', 'ts', 'wq'), ('ks', 'tk', 'xc'), ('iw', 'ov', 'ti'), ('in', 'mn', 'tl'), ('cn', 'od', 'tt'), ('sd', 'tm', 'wd'), ('fv', 'qc', 'tp'), ('tx', 'uv', 'xv'), ('hr', 'kw', 'ty'), ('ip', 'to', 'wi'), ('ek', 'kp', 'tx'), ('ch', 'cz', 'tr'), ('to', 'yy', 'zc'), ('ge', 'hi', 'tp'), ('gm', 'si', 'tl'), ('bn', 'tn', 'zh'), ('hk', 'nk', 'th'), ('ef', 'io', 'tw'), ('hm', 'qc', 'tp'), ('ar', 'tn', 'yl'), ('kk', 'nk', 'th'), ('kp', 'tq', 'uv'), ('hk', 'rl', 'th'), ('mr', 'tq', 'xv'), ('fn', 'rc', 'ts'), ('qc', 'tp', 'vd'), ('az', 'ri', 'tr'), ('ny', 'tm', 'wd'), ('dj', 'ia', 'ts'), ('bv', 'tv', 'yy'), ('to', 'wi', 'yy'), ('js', 'tp', 'vv'), ('me', 'sg', 'te'), ('ek', 'nu', 'tq'), ('al', 'tb', 'zq'), ('bp', 'im', 'tb'), ('od', 're', 'tn'), ('df', 'py', 'te'), ('hq', 'in', 'tl'), ('hm', 'tp', 'vd'), ('og', 'tk', 'uf'), ('hr', 'nd', 'ty'), ('ep', 'qk', 'tr'), ('sa', 'tv', 'vk'), ('bu', 'me', 'te'), ('fs', 'qu', 'tm'), ('mr', 'tq', 'uv'), ('bp', 'rk', 'tb'), ('od', 'tn', 'zy'), ('ek', 'nu', 'tx'), ('od', 'tt', 'wf'), ('ov', 'sr', 'ti'), ('bn', 'tt', 'yl'), ('ch', 'pk', 'tr'), ('re', 'tn', 'yl'), ('ky', 'tx', 'uv'), ('im', 'tb', 'wm'), ('bn', 'od', 'tu'), ('fn', 'ts', 'zs'), ('fn', 'qv', 'ts'), ('im', 'jk', 'tb'), ('hk', 'th', 'xn'), ('fe', 'mx', 'tw'), ('kw', 'nx', 'ty'), ('tv', 'vk', 'wi'), ('tk', 'wv', 'xy'), ('bn', 'cn', 'tu'), ('cn', 're', 'tu'), ('bv', 'sa', 'to'), ('bv', 'gs', 'to'), ('dj', 'ts', 'zs'), ('nd', 'ty', 'vz'), ('al', 'gz', 'tb'), ('tn', 'wf', 'zt'), ('hi', 'tp', 'zi'), ('az', 'ch', 'tr'), ('nk', 'qh', 'th'), ('jp', 'sd', 'tm'), ('io', 'nw', 'tw'), ('ez', 'mx', 'tw'), ('tp', 'vv', 'yr'), ('bu', 'la', 'te'), ('dq', 'ej', 'th'), ('jp', 'qu', 'tm'), ('fr', 'gs', 'to'), ('as', 'to', 'yy'), ('ew', 'qx', 'ts'), ('dj', 'rc', 'ts'), ('gh', 'nx', 'ty'), ('bp', 'rr', 'tb'), ('gh', 'gn', 'ty'), ('ew', 'ia', 'ts'), ('tt', 'zh', 'zy'), ('fr', 'tv', 'yy'), ('gn', 'nx', 'ty'), ('ek', 'no', 'tq'), ('hq', 'sq', 'tl'), ('od', 'tt', 'zh'), ('gd', 'mf', 'ti'), ('bn', 're', 'tt'), ('ov', 'ti', 'uw'), ('ax', 'px', 'tr'), ('ck', 'jl', 'tm'), ('fn', 'ts', 'wq'), ('im', 'rz', 'tb'), ('hr', 'lf', 'ty'), ('hk', 'kk', 'th'), ('ek', 'no', 'tx'), ('la', 'te', 'wy'), ('bp', 'da', 'tb'), ('jf', 'jg', 'ti'), ('dj', 'ts', 'wq'), ('gl', 'lk', 'ty'), ('gd', 'jg', 'ti')}\n"
     ]
    },
    {
     "data": {
      "text/plain": [
       "1163"
      ]
     },
     "execution_count": 93,
     "metadata": {},
     "output_type": "execute_result"
    }
   ],
   "source": [
    "print(groups)\n",
    "len(groups)\n"
   ]
  },
  {
   "cell_type": "markdown",
   "metadata": {},
   "source": [
    "## part 2 "
   ]
  },
  {
   "cell_type": "code",
   "execution_count": 94,
   "metadata": {},
   "outputs": [
    {
     "name": "stderr",
     "output_type": "stream",
     "text": [
      "100%|██████████| 520/520 [00:00<00:00, 13210.09it/s]"
     ]
    },
    {
     "name": "stdout",
     "output_type": "stream",
     "text": [
      "fg,gc,kj,lm,qs,rs,rw,vu,vy,we,xm,yb\n",
      "as,bv,fr,gs,ip,sa,to,tv,vk,wi,yy,zc\n",
      "dn,et,li,lt,nq,qr,ua,ue,ug,uo,xq,yo\n",
      "aq,gw,hx,iy,jb,mg,oc,rq,sx,vo,xf,yf\n",
      "dc,ds,jj,ni,ql,rv,sj,so,wo,wu,xe,yn\n",
      "ar,bn,cn,od,re,tn,tu,wf,yl,zh,zt,zy\n",
      "ey,ks,lb,nl,og,sh,tk,uf,vc,wv,xy,zp\n",
      "dz,ii,ir,ka,kr,le,lg,lr,lu,qy,vt,yg\n",
      "ca,eb,fa,ix,lp,lq,na,pi,qo,rp,se,sm\n",
      "cj,co,cp,fb,fp,gf,iq,kt,mo,or,sw,wb\n",
      "cw,fv,ge,hi,id,js,qc,tp,vd,vv,yr,zi\n",
      "ck,eg,fs,jl,jp,jq,kn,ny,qu,sd,tm,xb\n",
      "ay,bu,ci,ct,df,me,oi,py,sg,te,ur,wy\n",
      "cj,co,cp,fb,fp,gf,iq,kt,oo,or,sw,wb\n",
      "au,bl,ke,kz,mm,oe,oj,ok,sn,vg,wn,xo\n",
      "gh,gl,gn,hr,kw,lf,lk,nd,nx,ob,ty,vz\n",
      "al,bp,da,gz,jk,rk,rr,rz,tb,vi,wm,zq\n",
      "ey,ks,lb,nl,og,tk,uf,vc,wv,xc,xy,zp\n",
      "hw,ih,km,ld,ml,ns,oq,pq,uz,vb,wg,ws\n",
      "ai,bs,de,dg,dh,is,kb,lw,nr,ow,qt,wz\n",
      "ao,du,ic,ji,nz,ot,qe,qf,st,vj,vq,yi\n",
      "bh,dt,ed,gk,ll,lx,sy,ww,xd,xw,za,zr\n",
      "dq,ej,hk,kk,ma,mb,nk,pw,qh,rl,th,xn\n",
      "cc,ce,el,hh,jo,jt,ls,oa,pr,wt,ym,zw\n",
      "cb,cf,fu,fx,gv,hb,jn,oh,qw,uk,xa,yw\n",
      "ad,ap,fd,gq,ik,kh,ly,mt,op,qq,sf,yd\n",
      "cc,ce,hh,jo,jt,ls,oa,pr,qj,wt,ym,zw\n",
      "bm,bo,ee,fo,gt,hv,jv,kd,md,mu,nm,wx,xh\n",
      "bm,bo,ee,fo,gt,hv,jv,kd,md,mu,nm,wx,xh\n",
      "bm,bo,ee,fo,gt,hv,jv,kd,md,mu,nm,wx,xh\n",
      "bm,bo,ee,fo,gt,hv,jv,kd,md,mu,nm,wx,xh\n",
      "bm,bo,ee,fo,gt,hv,jv,kd,md,mu,nm,wx,xh\n",
      "bm,bo,ee,fo,gt,hv,jv,kd,md,mu,nm,wx,xh\n",
      "bm,bo,ee,fo,gt,hv,jv,kd,md,mu,nm,wx,xh\n",
      "bm,bo,ee,fo,gt,hv,jv,kd,md,mu,nm,wx,xh\n",
      "bm,bo,ee,fo,gt,hv,jv,kd,md,mu,nm,wx,xh\n",
      "bm,bo,ee,fo,gt,hv,jv,kd,md,mu,nm,wx,xh\n",
      "bm,bo,ee,fo,gt,hv,jv,kd,md,mu,nm,wx,xh\n",
      "bm,bo,ee,fo,gt,hv,jv,kd,md,mu,nm,wx,xh\n",
      "bm,bo,ee,fo,gt,hv,jv,kd,md,mu,nm,wx,xh\n"
     ]
    },
    {
     "name": "stderr",
     "output_type": "stream",
     "text": [
      "\n"
     ]
    }
   ],
   "source": [
    "groups = set()\n",
    "best = (0, None)\n",
    "\n",
    "for n1, cn in tqdm(graph.items()):\n",
    "    adj = np.zeros((len(cn), len(cn)), dtype=int)\n",
    "    for i2, n2 in enumerate(cn):\n",
    "        adj[i2, i2] = 1\n",
    "        for i3, n3 in enumerate(cn):\n",
    "            if n3 in graph[n2]:\n",
    "                adj[i2, i3] = 1\n",
    "\n",
    "    name_nodes = cn\n",
    "    while np.all(np.sum(adj, 0) != adj.shape[0]):\n",
    "        # print(adj)\n",
    "        row_sum = np.sum(adj, 0)\n",
    "        ind_min = np.argmin(row_sum)\n",
    "        name_nodes = [n for i_n, n in enumerate(name_nodes) if i_n != ind_min]\n",
    "        adj = np.delete(np.delete(adj, ind_min, 0), ind_min, 1)\n",
    "        assert len(name_nodes) == adj.shape[0]\n",
    "\n",
    "    cand = [n1] + name_nodes\n",
    "    success = True\n",
    "    for c1 in cand:\n",
    "        for c2 in cand:\n",
    "            if c1 != c2 and c1 not in graph[c2]:\n",
    "                success = False\n",
    "                # assert c1 in graph[c2], (c1, c2, cand)\n",
    "    # print(success)\n",
    "    if success and adj.shape[0] + 1 >= best[0]:\n",
    "        best = (adj.shape[0] + 1, [n1] + name_nodes)\n",
    "        print(','.join(sorted(best[1])))\n",
    "            "
   ]
  },
  {
   "cell_type": "code",
   "execution_count": 95,
   "metadata": {},
   "outputs": [
    {
     "data": {
      "text/plain": [
       "'bm,bo,ee,fo,gt,hv,jv,kd,md,mu,nm,wx,xh'"
      ]
     },
     "execution_count": 95,
     "metadata": {},
     "output_type": "execute_result"
    }
   ],
   "source": [
    "','.join(sorted(best[1]))"
   ]
  }
 ],
 "metadata": {
  "kernelspec": {
   "display_name": "py310",
   "language": "python",
   "name": "python3"
  },
  "language_info": {
   "codemirror_mode": {
    "name": "ipython",
    "version": 3
   },
   "file_extension": ".py",
   "mimetype": "text/x-python",
   "name": "python",
   "nbconvert_exporter": "python",
   "pygments_lexer": "ipython3",
   "version": "3.10.13"
  }
 },
 "nbformat": 4,
 "nbformat_minor": 2
}
