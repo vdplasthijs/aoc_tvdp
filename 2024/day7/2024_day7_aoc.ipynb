{
 "cells": [
  {
   "cell_type": "code",
   "execution_count": 1,
   "metadata": {},
   "outputs": [],
   "source": [
    "%load_ext autoreload\n",
    "%autoreload 2\n",
    "\n",
    "import numpy as np\n",
    "import os, sys \n",
    "sys.path.append('..')\n",
    "import collections\n",
    "import copy\n",
    "import itertools\n",
    "import aoc_utils as au\n",
    "import math \n",
    "from tqdm import tqdm"
   ]
  },
  {
   "cell_type": "code",
   "execution_count": 18,
   "metadata": {},
   "outputs": [
    {
     "name": "stdout",
     "output_type": "stream",
     "text": [
      "input has 850 rows\n"
     ]
    }
   ],
   "source": [
    "input_text = au.read_txt_file_lines()\n",
    "n_rows = len(input_text)\n",
    "# n_cols = len(input_text[0])\n",
    "# for ii in range(1, n_rows):\n",
    "#     assert len(input_text[ii]) == n_cols, f'row {ii} has {len(input_text[ii])} cols, not {n_cols}'\n",
    "print(f'input has {n_rows} rows')"
   ]
  },
  {
   "cell_type": "code",
   "execution_count": 23,
   "metadata": {},
   "outputs": [
    {
     "data": {
      "text/plain": [
       "500335179214836"
      ]
     },
     "execution_count": 23,
     "metadata": {},
     "output_type": "execute_result"
    }
   ],
   "source": [
    "def is_valid(a, e, part2=True):\n",
    "    e = collections.deque(e)\n",
    "    tmp = e.popleft()\n",
    "    stack = [(tmp, e)] \n",
    "\n",
    "    while len(stack) > 0:\n",
    "        curr, queue = stack.pop()\n",
    "        if curr == a and len(queue) == 0:\n",
    "            return True\n",
    "        elif len(queue) == 0:\n",
    "            continue \n",
    "\n",
    "        new = queue.popleft() \n",
    "        stack.append((curr * new, copy.deepcopy(queue)))\n",
    "        stack.append((curr + new, copy.deepcopy(queue)))\n",
    "        if part2:\n",
    "            num_tmp = int(str(curr) + str(new))\n",
    "        stack.append((num_tmp, copy.deepcopy(queue)))\n",
    "    return False\n",
    "\n",
    "total = 0\n",
    "\n",
    "for l in input_text:\n",
    "    ans, eq = l.split(':')\n",
    "    ans = int(ans)\n",
    "    eq = [int(x) for x in eq.split()]\n",
    "    if is_valid(ans, eq):\n",
    "        total += ans\n",
    "\n",
    "total "
   ]
  }
 ],
 "metadata": {
  "kernelspec": {
   "display_name": "py37",
   "language": "python",
   "name": "python3"
  },
  "language_info": {
   "codemirror_mode": {
    "name": "ipython",
    "version": 3
   },
   "file_extension": ".py",
   "mimetype": "text/x-python",
   "name": "python",
   "nbconvert_exporter": "python",
   "pygments_lexer": "ipython3",
   "version": "3.10.13"
  }
 },
 "nbformat": 4,
 "nbformat_minor": 2
}
