{
 "cells": [
  {
   "cell_type": "code",
   "execution_count": 35,
   "metadata": {},
   "outputs": [
    {
     "name": "stdout",
     "output_type": "stream",
     "text": [
      "The autoreload extension is already loaded. To reload it, use:\n",
      "  %reload_ext autoreload\n"
     ]
    }
   ],
   "source": [
    "%load_ext autoreload\n",
    "%autoreload 2\n",
    "\n",
    "import numpy as np\n",
    "import os, sys \n",
    "sys.path.append('..')\n",
    "import collections\n",
    "import copy\n",
    "import itertools\n",
    "import aoc_utils as au\n",
    "import math \n",
    "from tqdm import tqdm"
   ]
  },
  {
   "cell_type": "code",
   "execution_count": 36,
   "metadata": {},
   "outputs": [
    {
     "name": "stdout",
     "output_type": "stream",
     "text": [
      "250 keys and 250 locks\n"
     ]
    }
   ],
   "source": [
    "def get_data():\n",
    "    input_text = au.read_txt_file_lines()\n",
    "    keys, locks = [], []\n",
    "    input_text.append('')\n",
    "    tmp = []\n",
    "    for ir, r in enumerate(input_text):\n",
    "        if r != '':\n",
    "            tmp.append(r)\n",
    "        else:\n",
    "            if tmp[0] == '#####':\n",
    "                locks.append(tmp)\n",
    "            elif tmp[0] == '.....':\n",
    "                keys.append(tmp)\n",
    "            else:\n",
    "                assert False, tmp \n",
    "\n",
    "            tmp = []\n",
    "\n",
    "    return keys, locks \n",
    "\n",
    "keys, locks = get_data()\n",
    "print(f'{len(keys)} keys and {len(locks)} locks')"
   ]
  },
  {
   "cell_type": "code",
   "execution_count": 37,
   "metadata": {},
   "outputs": [],
   "source": [
    "def get_heights(keys, locks):\n",
    "    h_k, h_l = [], []\n",
    "    n_cols = len(keys[0][0])\n",
    "    for k in keys:\n",
    "        tmp = [0] * n_cols\n",
    "        for r in k:\n",
    "            for ic, c in enumerate(r):\n",
    "                if c == '#':\n",
    "                    tmp[ic] += 1\n",
    "\n",
    "        h_k.append(tmp)\n",
    "\n",
    "    for k in locks:\n",
    "        tmp = [0] * n_cols\n",
    "        for r in k:\n",
    "            for ic, c in enumerate(r):\n",
    "                if c == '#':\n",
    "                    tmp[ic] += 1\n",
    "\n",
    "        h_l.append(np.array(tmp))\n",
    "\n",
    "    return h_k, h_l \n",
    "\n",
    "\n",
    "heights_k, heights_l = get_heights(keys, locks)\n",
    "\n",
    "# heights_k, heights_l\n"
   ]
  },
  {
   "cell_type": "code",
   "execution_count": null,
   "metadata": {},
   "outputs": [],
   "source": []
  },
  {
   "cell_type": "code",
   "execution_count": 39,
   "metadata": {},
   "outputs": [
    {
     "data": {
      "text/plain": [
       "3451"
      ]
     },
     "execution_count": 39,
     "metadata": {},
     "output_type": "execute_result"
    }
   ],
   "source": [
    "total_combos = 0\n",
    "n_max = list(set([len(k) for k in keys] + [len(k) for k in locks]))[0]\n",
    "for k in heights_k:\n",
    "    for l in heights_l:\n",
    "     \n",
    "        if np.all(k + l <= n_max):\n",
    "            total_combos += 1\n",
    "\n",
    "total_combos"
   ]
  },
  {
   "cell_type": "code",
   "execution_count": null,
   "metadata": {},
   "outputs": [],
   "source": []
  }
 ],
 "metadata": {
  "kernelspec": {
   "display_name": "py310",
   "language": "python",
   "name": "python3"
  },
  "language_info": {
   "codemirror_mode": {
    "name": "ipython",
    "version": 3
   },
   "file_extension": ".py",
   "mimetype": "text/x-python",
   "name": "python",
   "nbconvert_exporter": "python",
   "pygments_lexer": "ipython3",
   "version": "3.10.13"
  }
 },
 "nbformat": 4,
 "nbformat_minor": 2
}
