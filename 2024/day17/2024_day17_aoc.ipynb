{
 "cells": [
  {
   "cell_type": "code",
   "execution_count": 1,
   "metadata": {},
   "outputs": [],
   "source": [
    "%load_ext autoreload\n",
    "%autoreload 2\n",
    "\n",
    "import numpy as np\n",
    "import os, sys \n",
    "sys.path.append('..')\n",
    "from collections import deque\n",
    "import copy\n",
    "import itertools\n",
    "import aoc_utils as au\n",
    "import math \n",
    "from tqdm import tqdm\n",
    "import machine as ma"
   ]
  },
  {
   "cell_type": "code",
   "execution_count": 2,
   "metadata": {},
   "outputs": [
    {
     "name": "stdout",
     "output_type": "stream",
     "text": [
      "23999685 0 0\n",
      "[2, 4, 1, 1, 7, 5, 1, 5, 0, 3, 4, 4, 5, 5, 3, 0]\n"
     ]
    }
   ],
   "source": [
    "input_text = au.read_txt_file_lines()\n",
    "\n",
    "a = int(input_text[0].split(':')[1].lstrip())\n",
    "b = int(input_text[1].split(':')[1].lstrip())\n",
    "c = int(input_text[2].split(':')[1].lstrip())\n",
    "print(a, b, c)\n",
    "\n",
    "programme = [int(x) for x in input_text[4].split(':')[1].lstrip().split(',')]\n",
    "print(programme)"
   ]
  },
  {
   "cell_type": "code",
   "execution_count": 3,
   "metadata": {},
   "outputs": [
    {
     "name": "stdout",
     "output_type": "stream",
     "text": [
      "[2, 4, 1, 1, 7, 5, 1, 5, 0, 3, 4, 4, 5, 5, 3, 0] 23999685 0 0\n",
      "[5, 0, 3, 5, 7, 6, 1, 5, 4]\n",
      "5,0,3,5,7,6,1,5,4\n"
     ]
    }
   ],
   "source": [
    "print(programme, a, b, c)\n",
    "m = ma.Machine(a, b, c)\n",
    "\n",
    "instruct = 0\n",
    "while instruct < len(programme):\n",
    "    tmp = m.call(programme[instruct], programme[instruct + 1])\n",
    "    if tmp is None:\n",
    "        instruct += 2\n",
    "    else:\n",
    "        instruct = tmp \n",
    "\n",
    "print(m.output)\n",
    "\n",
    "print(','.join([str(x) for x in m.output]))"
   ]
  },
  {
   "cell_type": "markdown",
   "metadata": {},
   "source": [
    "## part 2\n",
    "- Bit of a mess. just brute forced the search (by decreasing the intervals). There is some structure (apparently): if there are a lot of 12-matches in a range, there will also be quite a few 13-matches, etc. "
   ]
  },
  {
   "cell_type": "code",
   "execution_count": 9,
   "metadata": {},
   "outputs": [
    {
     "name": "stdout",
     "output_type": "stream",
     "text": [
      "6 156598984929294\n",
      "6 156598984929294\n",
      "6 156598984929294\n"
     ]
    }
   ],
   "source": [
    "\n",
    "# def binary_search_machine(l, h, target=programme):\n",
    "#     target = tuple(target)\n",
    "#     assert l < h\n",
    "#     tmp = ma.solve_machine(h, b, c, programme)\n",
    "#     assert len(tmp) >= len(target)\n",
    "#     tmp = ma.solve_machine(l, b, c, programme)\n",
    "#     assert len(tmp) <= len(target)\n",
    "\n",
    "#     it = 0 \n",
    "#     max_it = 2\n",
    "#     while l < h and it <= max_it:\n",
    "#         it += 1\n",
    "#         m = (l + h) // 2\n",
    "#         output = ma.solve_machine(m, b, c, programme)\n",
    "#         output = tuple(output)\n",
    "\n",
    "#         if output == target:\n",
    "#             print(f'Found a!: {m}')\n",
    "#             return m \n",
    "        \n",
    "#         if len(output) > len(target):\n",
    "#             h = m - 1\n",
    "#             continue \n",
    "#         elif len(output) < len(target):\n",
    "#             l = m + 1\n",
    "#             continue \n",
    "\n",
    "#         assert len(output) == len(target)\n",
    "#         n_match_m = sum([x == y for x, y in zip(output, target)])\n",
    "#         print(n_match_m, m)\n",
    "\n",
    "# # solve_machine(a_init=310096999859990)\n",
    "# binary_search_machine(l=3100969998599, h=310096999859990)\n"
   ]
  },
  {
   "cell_type": "markdown",
   "metadata": {},
   "source": [
    "First, I searched the range of (correct number of matches). let it run for a little bit and saw there is a lot of hits for `n_matches` > 10 at 51% of range.  "
   ]
  },
  {
   "cell_type": "code",
   "execution_count": null,
   "metadata": {},
   "outputs": [
    {
     "name": "stdout",
     "output_type": "stream",
     "text": [
      "2560960\n"
     ]
    },
    {
     "name": "stderr",
     "output_type": "stream",
     "text": [
      "  3%|▎         | 2945822/100000012 [00:55<30:49, 52474.15it/s]"
     ]
    },
    {
     "name": "stdout",
     "output_type": "stream",
     "text": [
      "searching around: 41522022936199\n"
     ]
    },
    {
     "name": "stderr",
     "output_type": "stream",
     "text": [
      "  8%|▊         | 7877542/100000012 [02:29<29:09, 52660.65it/s]"
     ]
    },
    {
     "name": "stdout",
     "output_type": "stream",
     "text": [
      "searching around: 54152974727559\n"
     ]
    },
    {
     "name": "stderr",
     "output_type": "stream",
     "text": [
      " 17%|█▋        | 16633587/100000012 [05:17<26:22, 52693.27it/s]"
     ]
    },
    {
     "name": "stdout",
     "output_type": "stream",
     "text": [
      "searching around: 76575654640519\n"
     ]
    },
    {
     "name": "stderr",
     "output_type": "stream",
     "text": [
      " 20%|██        | 20064995/100000012 [06:23<25:12, 52834.32it/s]"
     ]
    },
    {
     "name": "stdout",
     "output_type": "stream",
     "text": [
      "searching around: 85369335674759\n"
     ]
    },
    {
     "name": "stderr",
     "output_type": "stream",
     "text": [
      " 24%|██▍       | 23760347/100000012 [07:33<24:10, 52562.11it/s]"
     ]
    },
    {
     "name": "stdout",
     "output_type": "stream",
     "text": [
      "searching around: 94834905052679\n"
     ]
    },
    {
     "name": "stderr",
     "output_type": "stream",
     "text": [
      " 25%|██▌       | 25478664/100000012 [08:06<23:30, 52831.91it/s]"
     ]
    },
    {
     "name": "stdout",
     "output_type": "stream",
     "text": [
      "searching around: 99232949220999\n"
     ]
    },
    {
     "name": "stderr",
     "output_type": "stream",
     "text": [
      " 27%|██▋       | 26926915/100000012 [08:33<22:57, 53050.40it/s]"
     ]
    },
    {
     "name": "stdout",
     "output_type": "stream",
     "text": [
      "searching around: 102943803309639\n"
     ]
    },
    {
     "name": "stderr",
     "output_type": "stream",
     "text": [
      " 27%|██▋       | 27086974/100000012 [08:36<22:54, 53061.02it/s]"
     ]
    },
    {
     "name": "stdout",
     "output_type": "stream",
     "text": [
      "searching around: 103355039705479\n"
     ]
    },
    {
     "name": "stderr",
     "output_type": "stream",
     "text": [
      " 27%|██▋       | 27145574/100000012 [08:37<22:53, 53040.16it/s]"
     ]
    },
    {
     "name": "stdout",
     "output_type": "stream",
     "text": [
      "searching around: 103493556909959\n"
     ]
    },
    {
     "name": "stderr",
     "output_type": "stream",
     "text": [
      " 31%|███       | 30801052/100000012 [09:46<21:48, 52884.66it/s]"
     ]
    },
    {
     "name": "stdout",
     "output_type": "stream",
     "text": [
      "searching around: 112855415090759\n"
     ]
    },
    {
     "name": "stderr",
     "output_type": "stream",
     "text": [
      " 37%|███▋      | 37237650/100000012 [11:48<19:40, 53178.57it/s]"
     ]
    },
    {
     "name": "stdout",
     "output_type": "stream",
     "text": [
      "searching around: 129343088130439\n"
     ]
    },
    {
     "name": "stderr",
     "output_type": "stream",
     "text": [
      " 42%|████▏     | 41996612/100000012 [13:17<18:07, 53333.59it/s]"
     ]
    },
    {
     "name": "stdout",
     "output_type": "stream",
     "text": [
      "searching around: 141537785507719\n"
     ]
    },
    {
     "name": "stderr",
     "output_type": "stream",
     "text": [
      " 44%|████▍     | 44099568/100000012 [13:57<17:27, 53348.80it/s]"
     ]
    },
    {
     "name": "stdout",
     "output_type": "stream",
     "text": [
      "searching around: 146922449759879\n",
      "searching around: 146940258675719\n",
      "searching around: 146940276602439\n",
      "searching around: 146940642819719\n"
     ]
    },
    {
     "name": "stderr",
     "output_type": "stream",
     "text": [
      " 47%|████▋     | 47331106/100000012 [14:57<16:28, 53278.43it/s]"
     ]
    },
    {
     "name": "stdout",
     "output_type": "stream",
     "text": [
      "searching around: 155188726691719\n"
     ]
    },
    {
     "name": "stderr",
     "output_type": "stream",
     "text": [
      " 47%|████▋     | 47427232/100000012 [14:59<16:27, 53225.37it/s]"
     ]
    },
    {
     "name": "stdout",
     "output_type": "stream",
     "text": [
      "searching around: 155445483419399\n"
     ]
    },
    {
     "name": "stderr",
     "output_type": "stream",
     "text": [
      " 50%|█████     | 50388449/100000012 [15:55<15:32, 53190.10it/s]"
     ]
    },
    {
     "name": "stdout",
     "output_type": "stream",
     "text": [
      "searching around: 163020675051399\n"
     ]
    },
    {
     "name": "stderr",
     "output_type": "stream",
     "text": [
      " 51%|█████     | 50812198/100000012 [16:03<15:21, 53404.35it/s]"
     ]
    },
    {
     "name": "stdout",
     "output_type": "stream",
     "text": [
      "searching around: 164104135276679\n"
     ]
    },
    {
     "name": "stderr",
     "output_type": "stream",
     "text": [
      " 51%|█████     | 50870722/100000012 [16:04<15:26, 53043.21it/s]"
     ]
    },
    {
     "name": "stdout",
     "output_type": "stream",
     "text": [
      "searching around: 164252783638919\n"
     ]
    },
    {
     "name": "stderr",
     "output_type": "stream",
     "text": [
      " 51%|█████     | 50918794/100000012 [16:05<15:17, 53504.96it/s]"
     ]
    },
    {
     "name": "stdout",
     "output_type": "stream",
     "text": [
      "searching around: 164377297514119\n",
      "searching around: 164379082503239\n",
      "searching around: 164387605378119\n",
      "searching around: 164391239380359\n"
     ]
    },
    {
     "name": "stderr",
     "output_type": "stream",
     "text": [
      " 51%|█████     | 50972337/100000012 [16:06<15:17, 53416.45it/s]"
     ]
    },
    {
     "name": "stdout",
     "output_type": "stream",
     "text": [
      "searching around: 164515374233479\n",
      "searching around: 164516449836679\n",
      "searching around: 164516454958599\n",
      "searching around: 164516521543559\n",
      "searching around: 164518585677319\n",
      "searching around: 164519067137799\n",
      "searching around: 164519400062599\n",
      "searching around: 164519484574279\n",
      "searching around: 164519505061959\n",
      "searching around: 164519668963399\n",
      "searching around: 164519689451079\n",
      "searching around: 164527461964679\n",
      "searching around: 164527797450439\n",
      "searching around: 164529961461639\n",
      "searching around: 164531190722439\n",
      "searching around: 164531974376199\n",
      "searching around: 164532419983239\n",
      "searching around: 164532453275719\n",
      "searching around: 164532512177799\n",
      "searching around: 164532545470279\n",
      "searching around: 164532558275079\n",
      "searching around: 164533521196039\n",
      "searching around: 164533592902919\n",
      "searching around: 164533633878279\n",
      "searching around: 164533900218119\n",
      "searching around: 164534248508679\n",
      "searching around: 164534432897799\n",
      "searching around: 164534596799239\n",
      "searching around: 164534642896519\n",
      "searching around: 164534676188999\n",
      "searching around: 164536169228679\n",
      "searching around: 164536584104199\n",
      "searching around: 164544356617799\n"
     ]
    },
    {
     "name": "stderr",
     "output_type": "stream",
     "text": [
      " 51%|█████     | 50983003/100000012 [16:06<15:22, 53160.02it/s]"
     ]
    },
    {
     "name": "stdout",
     "output_type": "stream",
     "text": [
      "searching around: 164548618055239\n",
      "searching around: 164558541775239\n",
      "searching around: 164559299819399\n",
      "searching around: 164564319300999\n",
      "searching around: 164564447348999\n",
      "searching around: 164572022668679\n"
     ]
    },
    {
     "name": "stderr",
     "output_type": "stream",
     "text": [
      " 51%|█████     | 50998886/100000012 [16:06<15:52, 51454.86it/s]"
     ]
    },
    {
     "name": "stdout",
     "output_type": "stream",
     "text": [
      "searching around: 164581493098759\n",
      "searching around: 164593698634119\n"
     ]
    },
    {
     "name": "stderr",
     "output_type": "stream",
     "text": [
      " 51%|█████     | 51068190/100000012 [16:08<15:20, 53165.13it/s]"
     ]
    },
    {
     "name": "stdout",
     "output_type": "stream",
     "text": [
      "searching around: 164761533708679\n"
     ]
    },
    {
     "name": "stderr",
     "output_type": "stream",
     "text": [
      " 51%|█████     | 51078814/100000012 [16:08<15:24, 52944.92it/s]"
     ]
    },
    {
     "name": "stdout",
     "output_type": "stream",
     "text": [
      "searching around: 164795625208199\n",
      "searching around: 164810560726919\n",
      "searching around: 164811626086279\n"
     ]
    },
    {
     "name": "stderr",
     "output_type": "stream",
     "text": [
      " 51%|█████     | 51180534/100000012 [16:10<15:37, 52064.26it/s]"
     ]
    },
    {
     "name": "stdout",
     "output_type": "stream",
     "text": [
      "searching around: 165048637812359\n"
     ]
    },
    {
     "name": "stderr",
     "output_type": "stream",
     "text": [
      " 51%|█████▏    | 51437574/100000012 [16:15<15:47, 51233.87it/s]"
     ]
    },
    {
     "name": "stdout",
     "output_type": "stream",
     "text": [
      "searching around: 165706036244359\n",
      "searching around: 165731830233479\n",
      "searching around: 165735149237639\n"
     ]
    },
    {
     "name": "stderr",
     "output_type": "stream",
     "text": [
      " 52%|█████▏    | 51565951/100000012 [16:17<15:07, 53359.53it/s]"
     ]
    },
    {
     "name": "stdout",
     "output_type": "stream",
     "text": [
      "searching around: 166041706393479\n"
     ]
    },
    {
     "name": "stderr",
     "output_type": "stream",
     "text": [
      " 52%|█████▏    | 51619333/100000012 [16:18<15:11, 53103.71it/s]"
     ]
    },
    {
     "name": "stdout",
     "output_type": "stream",
     "text": [
      "searching around: 166172164256839\n"
     ]
    },
    {
     "name": "stderr",
     "output_type": "stream",
     "text": [
      " 52%|█████▏    | 51833150/100000012 [16:22<15:03, 53308.70it/s]"
     ]
    },
    {
     "name": "stdout",
     "output_type": "stream",
     "text": [
      "searching around: 166726988557959\n"
     ]
    },
    {
     "name": "stderr",
     "output_type": "stream",
     "text": [
      " 52%|█████▏    | 51961030/100000012 [16:25<15:07, 52908.87it/s]"
     ]
    },
    {
     "name": "stdout",
     "output_type": "stream",
     "text": [
      "searching around: 167049946101639\n"
     ]
    },
    {
     "name": "stderr",
     "output_type": "stream",
     "text": [
      " 52%|█████▏    | 52473380/100000012 [16:34<14:57, 52927.73it/s]"
     ]
    },
    {
     "name": "stdout",
     "output_type": "stream",
     "text": [
      "searching around: 168364742965639\n"
     ]
    },
    {
     "name": "stderr",
     "output_type": "stream",
     "text": [
      " 54%|█████▎    | 53709485/100000012 [16:57<14:26, 53394.17it/s]"
     ]
    },
    {
     "name": "stdout",
     "output_type": "stream",
     "text": [
      "searching around: 171525840892999\n"
     ]
    },
    {
     "name": "stderr",
     "output_type": "stream",
     "text": [
      " 54%|█████▍    | 53978136/100000012 [17:03<14:26, 53116.06it/s]"
     ]
    },
    {
     "name": "stdout",
     "output_type": "stream",
     "text": [
      "searching around: 172215986320519\n"
     ]
    },
    {
     "name": "stderr",
     "output_type": "stream",
     "text": [
      " 54%|█████▍    | 54326366/100000012 [17:09<14:16, 53318.74it/s]"
     ]
    },
    {
     "name": "stdout",
     "output_type": "stream",
     "text": [
      "searching around: 173104721391239\n"
     ]
    },
    {
     "name": "stderr",
     "output_type": "stream",
     "text": [
      " 54%|█████▍    | 54406395/100000012 [17:11<14:16, 53245.59it/s]"
     ]
    },
    {
     "name": "stdout",
     "output_type": "stream",
     "text": [
      "searching around: 173315877665159\n",
      "searching around: 173327791251079\n"
     ]
    },
    {
     "name": "stderr",
     "output_type": "stream",
     "text": [
      " 55%|█████▍    | 54625795/100000012 [17:15<15:01, 50355.16it/s]"
     ]
    },
    {
     "name": "stdout",
     "output_type": "stream",
     "text": [
      "searching around: 173873654753159\n"
     ]
    },
    {
     "name": "stderr",
     "output_type": "stream",
     "text": [
      " 55%|█████▍    | 54748547/100000012 [17:17<14:18, 52722.92it/s]"
     ]
    },
    {
     "name": "stdout",
     "output_type": "stream",
     "text": [
      "searching around: 174188181616519\n"
     ]
    },
    {
     "name": "stderr",
     "output_type": "stream",
     "text": [
      " 55%|█████▍    | 54919714/100000012 [17:20<14:09, 53084.28it/s]"
     ]
    },
    {
     "name": "stdout",
     "output_type": "stream",
     "text": [
      "searching around: 174626807479559\n"
     ]
    },
    {
     "name": "stderr",
     "output_type": "stream",
     "text": [
      " 55%|█████▌    | 55064136/100000012 [17:23<14:04, 53179.68it/s]"
     ]
    },
    {
     "name": "stdout",
     "output_type": "stream",
     "text": [
      "searching around: 174994228410759\n"
     ]
    },
    {
     "name": "stderr",
     "output_type": "stream",
     "text": [
      " 55%|█████▌    | 55261992/100000012 [17:27<14:04, 52993.72it/s]"
     ]
    },
    {
     "name": "stdout",
     "output_type": "stream",
     "text": [
      "searching around: 175502978480519\n",
      "searching around: 175529725146759\n"
     ]
    },
    {
     "name": "stderr",
     "output_type": "stream",
     "text": [
      " 55%|█████▌    | 55373447/100000012 [17:29<14:41, 50627.86it/s]"
     ]
    },
    {
     "name": "stdout",
     "output_type": "stream",
     "text": [
      "searching around: 175790082584199\n"
     ]
    },
    {
     "name": "stderr",
     "output_type": "stream",
     "text": [
      " 58%|█████▊    | 57841263/100000012 [18:16<13:16, 52934.08it/s]"
     ]
    },
    {
     "name": "stdout",
     "output_type": "stream",
     "text": [
      "searching around: 182110787960199\n"
     ]
    },
    {
     "name": "stderr",
     "output_type": "stream",
     "text": [
      " 60%|█████▉    | 59534882/100000012 [18:48<12:46, 52765.03it/s]\n"
     ]
    },
    {
     "ename": "KeyboardInterrupt",
     "evalue": "",
     "output_type": "error",
     "traceback": [
      "\u001b[0;31m---------------------------------------------------------------------------\u001b[0m",
      "\u001b[0;31mKeyboardInterrupt\u001b[0m                         Traceback (most recent call last)",
      "Cell \u001b[0;32mIn[76], line 14\u001b[0m\n\u001b[1;32m     11\u001b[0m n_inner \u001b[38;5;241m=\u001b[39m \u001b[38;5;241m1e6\u001b[39m\n\u001b[1;32m     13\u001b[0m \u001b[38;5;28;01mfor\u001b[39;00m a_init \u001b[38;5;129;01min\u001b[39;00m tqdm(\u001b[38;5;28mrange\u001b[39m(a_start, a_end, a_step)):\n\u001b[0;32m---> 14\u001b[0m     n_matches \u001b[38;5;241m=\u001b[39m \u001b[43mma\u001b[49m\u001b[38;5;241;43m.\u001b[39;49m\u001b[43mcalc_n_match\u001b[49m\u001b[43m(\u001b[49m\u001b[43ma_init\u001b[49m\u001b[43m,\u001b[49m\u001b[43m \u001b[49m\u001b[43mb\u001b[49m\u001b[43m,\u001b[49m\u001b[43m \u001b[49m\u001b[43mc\u001b[49m\u001b[43m,\u001b[49m\u001b[43m \u001b[49m\u001b[43mprogramme\u001b[49m\u001b[43m)\u001b[49m\n\u001b[1;32m     15\u001b[0m     \u001b[38;5;28;01mif\u001b[39;00m n_matches \u001b[38;5;129;01mis\u001b[39;00m \u001b[38;5;129;01mnot\u001b[39;00m \u001b[38;5;28;01mNone\u001b[39;00m \u001b[38;5;129;01mand\u001b[39;00m n_matches \u001b[38;5;241m>\u001b[39m \u001b[38;5;241m10\u001b[39m:\n\u001b[1;32m     16\u001b[0m         best_inner \u001b[38;5;241m=\u001b[39m n_matches\n",
      "File \u001b[0;32m~/repos/aoc_tvdp/2024/day17/machine.py:295\u001b[0m, in \u001b[0;36mcalc_n_match\u001b[0;34m(a_init, b, c, programme)\u001b[0m\n\u001b[1;32m    294\u001b[0m \u001b[38;5;28;01mdef\u001b[39;00m \u001b[38;5;21mcalc_n_match\u001b[39m(a_init, b, c, programme):\n\u001b[0;32m--> 295\u001b[0m     output \u001b[38;5;241m=\u001b[39m \u001b[43msolve_machine_opt\u001b[49m\u001b[43m(\u001b[49m\u001b[43ma_init\u001b[49m\u001b[43m,\u001b[49m\u001b[43m \u001b[49m\u001b[43mb\u001b[49m\u001b[43m,\u001b[49m\u001b[43m \u001b[49m\u001b[43mc\u001b[49m\u001b[43m,\u001b[49m\u001b[43m \u001b[49m\u001b[43mprogramme\u001b[49m\u001b[43m)\u001b[49m\n\u001b[1;32m    296\u001b[0m     \u001b[38;5;28;01mif\u001b[39;00m \u001b[38;5;28mlen\u001b[39m(programme) \u001b[38;5;241m!=\u001b[39m \u001b[38;5;28mlen\u001b[39m(output):\n\u001b[1;32m    297\u001b[0m         \u001b[38;5;28;01mreturn\u001b[39;00m \u001b[38;5;28;01mNone\u001b[39;00m\n",
      "File \u001b[0;32m~/repos/aoc_tvdp/2024/day17/machine.py:270\u001b[0m, in \u001b[0;36msolve_machine_opt\u001b[0;34m(a, b, c, programme)\u001b[0m\n\u001b[1;32m    268\u001b[0m instruct \u001b[38;5;241m=\u001b[39m \u001b[38;5;241m0\u001b[39m\n\u001b[1;32m    269\u001b[0m output \u001b[38;5;241m=\u001b[39m []\n\u001b[0;32m--> 270\u001b[0m \u001b[38;5;28;01mwhile\u001b[39;00m instruct \u001b[38;5;241m<\u001b[39m len_programme:\n\u001b[1;32m    271\u001b[0m     code \u001b[38;5;241m=\u001b[39m programme[instruct]\n\u001b[1;32m    272\u001b[0m     op \u001b[38;5;241m=\u001b[39m programme[instruct \u001b[38;5;241m+\u001b[39m \u001b[38;5;241m1\u001b[39m]\n",
      "\u001b[0;31mKeyboardInterrupt\u001b[0m: "
     ]
    }
   ],
   "source": [
    "a_start = 34000969998599  # just too small to get correct number of matches\n",
    "a_end = 290096999859990  # just too large\n",
    "a_diff = a_end - a_start \n",
    "n = 1e8 \n",
    "a_step = int(a_diff // n) \n",
    "print(a_step)  # outer interval\n",
    "if type(programme) == list:\n",
    "    programme = tuple(programme)\n",
    "\n",
    "for a_init in tqdm(range(a_start, a_end, a_step)):  # loop in big steps\n",
    "    n_matches = ma.calc_n_match(a_init, b, c, programme)\n",
    "    if n_matches is not None and n_matches > 10:\n",
    "        print('searching around:', a_init)"
   ]
  },
  {
   "cell_type": "markdown",
   "metadata": {},
   "source": [
    "Then, searched around this range using an outer (> 12 matche) and inner range:"
   ]
  },
  {
   "cell_type": "code",
   "execution_count": 87,
   "metadata": {},
   "outputs": [
    {
     "name": "stdout",
     "output_type": "stream",
     "text": [
      "28982\n"
     ]
    },
    {
     "name": "stderr",
     "output_type": "stream",
     "text": [
      "  4%|▎         | 36829/1000014 [00:00<00:18, 52811.58it/s]"
     ]
    },
    {
     "name": "stdout",
     "output_type": "stream",
     "text": [
      "searching around: 164516450074301\n",
      "8 164516449074301\n",
      "9 164516449074302\n",
      "10 164516449074338\n",
      "11 164516449074877\n",
      "12 164516449105484\n"
     ]
    },
    {
     "name": "stderr",
     "output_type": "stream",
     "text": [
      "  4%|▎         | 36829/1000014 [00:12<00:18, 52811.58it/s]"
     ]
    },
    {
     "name": "stdout",
     "output_type": "stream",
     "text": [
      "13 164516449816253\n",
      "14 164516450040245\n"
     ]
    },
    {
     "name": "stderr",
     "output_type": "stream",
     "text": [
      "  4%|▎         | 37122/1000014 [00:38<52:20, 306.58it/s]  "
     ]
    },
    {
     "name": "stdout",
     "output_type": "stream",
     "text": [
      "searching around: 164516454479565\n",
      "15 164516454234549\n"
     ]
    },
    {
     "name": "stderr",
     "output_type": "stream",
     "text": [
      "  4%|▎         | 37273/1000014 [00:54<23:37, 679.10it/s]"
     ]
    },
    {
     "name": "stdout",
     "output_type": "stream",
     "text": [
      "16 164516454365621\n"
     ]
    },
    {
     "name": "stderr",
     "output_type": "stream",
     "text": [
      "\n"
     ]
    },
    {
     "ename": "AssertionError",
     "evalue": "Found it! 164516454365621",
     "output_type": "error",
     "traceback": [
      "\u001b[0;31m---------------------------------------------------------------------------\u001b[0m",
      "\u001b[0;31mAssertionError\u001b[0m                            Traceback (most recent call last)",
      "Cell \u001b[0;32mIn[87], line 23\u001b[0m\n\u001b[1;32m     21\u001b[0m     \u001b[38;5;28mprint\u001b[39m(best, a_inner)\n\u001b[1;32m     22\u001b[0m \u001b[38;5;28;01mif\u001b[39;00m n_matches \u001b[38;5;241m==\u001b[39m \u001b[38;5;28mlen\u001b[39m(programme):\n\u001b[0;32m---> 23\u001b[0m     \u001b[38;5;28;01massert\u001b[39;00m \u001b[38;5;28;01mFalse\u001b[39;00m, \u001b[38;5;124mf\u001b[39m\u001b[38;5;124m'\u001b[39m\u001b[38;5;124mFound it! \u001b[39m\u001b[38;5;132;01m{\u001b[39;00ma_inner\u001b[38;5;132;01m}\u001b[39;00m\u001b[38;5;124m'\u001b[39m\n",
      "\u001b[0;31mAssertionError\u001b[0m: Found it! 164516454365621"
     ]
    }
   ],
   "source": [
    "a_start = 164515374233479\n",
    "a_end = 164544356617799\n",
    "a_diff = a_end - a_start \n",
    "n = 1e6 \n",
    "a_step = int(a_diff // n)\n",
    "print(a_step)\n",
    "if type(programme) == list:\n",
    "    programme = tuple(programme)\n",
    "\n",
    "best = 1\n",
    "n_inner = a_step\n",
    "\n",
    "for a_init in tqdm(range(a_start, a_end, a_step)):\n",
    "    n_matches = ma.calc_n_match(a_init, b, c, programme)\n",
    "    if n_matches is not None and n_matches > 12:\n",
    "        print('searching around:', a_init)\n",
    "        for a_inner in range(int(a_init - 1e6), int(a_init + 1e6)):\n",
    "            n_matches = ma.calc_n_match(a_inner, b, c, programme)\n",
    "            if n_matches > best:\n",
    "                best = n_matches \n",
    "                print(best, a_inner)\n",
    "            if n_matches == len(programme):\n",
    "                assert False, f'Found it! {a_inner}'"
   ]
  }
 ],
 "metadata": {
  "kernelspec": {
   "display_name": "py310",
   "language": "python",
   "name": "python3"
  },
  "language_info": {
   "codemirror_mode": {
    "name": "ipython",
    "version": 3
   },
   "file_extension": ".py",
   "mimetype": "text/x-python",
   "name": "python",
   "nbconvert_exporter": "python",
   "pygments_lexer": "ipython3",
   "version": "3.10.13"
  }
 },
 "nbformat": 4,
 "nbformat_minor": 2
}
