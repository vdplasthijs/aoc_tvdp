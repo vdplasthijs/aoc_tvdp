{
 "cells": [
  {
   "cell_type": "code",
   "execution_count": 1,
   "metadata": {},
   "outputs": [],
   "source": [
    "%load_ext autoreload\n",
    "%autoreload 2\n",
    "\n",
    "import numpy as np\n",
    "import os, sys \n",
    "sys.path.append('..')\n",
    "from collections import deque\n",
    "import copy\n",
    "import itertools\n",
    "import aoc_utils as au\n",
    "import math \n",
    "from tqdm import tqdm"
   ]
  },
  {
   "cell_type": "code",
   "execution_count": 8,
   "metadata": {},
   "outputs": [
    {
     "name": "stdout",
     "output_type": "stream",
     "text": [
      "input has 1279 rows\n"
     ]
    }
   ],
   "source": [
    "input_text = au.read_txt_file_lines()\n",
    "n_rows = len(input_text)\n",
    "n_cols = len(input_text[0])\n",
    "# for ii in range(1, n_rows):\n",
    "#     assert len(input_text[ii]) == n_cols, f'row {ii} has {len(input_text[ii])} cols, not {n_cols}'\n",
    "print(f'input has {n_rows} rows')"
   ]
  },
  {
   "cell_type": "code",
   "execution_count": 23,
   "metadata": {},
   "outputs": [],
   "source": [
    "list_problems = []\n",
    "\n",
    "for row in range(len(input_text) // 4 + 1):\n",
    "    button_a = input_text[(int(row * 4))].split(':')[1].split()\n",
    "    button_b = input_text[(int(row * 4 + 1))].split(':')[1].split()\n",
    "    prize = input_text[(int(row * 4 + 2))].split(':')[1].split()\n",
    "\n",
    "    list_problems.append(((int(button_a[0].split('+')[1].rstrip(',')), int(button_a[1].split('+')[1])),\n",
    "                          (int(button_b[0].split('+')[1].rstrip(',')), int(button_b[1].split('+')[1])),\n",
    "                          (int(prize[0].split('=')[1].rstrip(',')), int(prize[1].split('=')[1]))))"
   ]
  },
  {
   "cell_type": "code",
   "execution_count": 26,
   "metadata": {},
   "outputs": [
    {
     "data": {
      "text/plain": [
       "33209"
      ]
     },
     "execution_count": 26,
     "metadata": {},
     "output_type": "execute_result"
    }
   ],
   "source": [
    "def solve_bfs(a, b, p):\n",
    "    # queue = deque([(0, 0, )])\n",
    "    pass \n",
    "\n",
    "def solve_mat(a, b, p):\n",
    "    a_x, a_y = a \n",
    "    b_x, b_y = b \n",
    "    p_x, p_y = p \n",
    "\n",
    "    vec_a_x = np.arange(101) * a_x\n",
    "    vec_b_x = np.arange(101) * b_x\n",
    "    mat_x = vec_a_x[:, None] + vec_b_x[None, :]\n",
    "    ind_x = np.where(mat_x == p_x)\n",
    "\n",
    "    sol = []\n",
    "    for ii in range(len(ind_x[0])):\n",
    "        if a_y * ind_x[0][ii] + b_y * ind_x[1][ii] == p_y:\n",
    "            sol.append(3 * ind_x[0][ii] + ind_x[1][ii])\n",
    "    if len(sol) == 0:\n",
    "        # print(0, a, b, p)\n",
    "        return 0\n",
    "\n",
    "    # elif len(sol) >= 1:\n",
    "    #     # print(sol, ind_x[0][0], ind_x[1][0], a, b, p)\n",
    "\n",
    "    return min(sol)\n",
    "\n",
    "total = 0\n",
    "for (a, b, p) in list_problems:\n",
    "    tmp = solve_mat(a, b, p)\n",
    "    total += tmp\n",
    "\n",
    "total"
   ]
  },
  {
   "cell_type": "code",
   "execution_count": 27,
   "metadata": {},
   "outputs": [],
   "source": [
    "n_add = 10000000000000"
   ]
  },
  {
   "cell_type": "markdown",
   "metadata": {},
   "source": [
    "Part 2; if a > 3 * b, get there via a's and residual with b. Else reverse"
   ]
  },
  {
   "cell_type": "code",
   "execution_count": 29,
   "metadata": {},
   "outputs": [
    {
     "name": "stdout",
     "output_type": "stream",
     "text": [
      "108695652273 588235294480 370370370709 163934426330\n"
     ]
    },
    {
     "ename": "AssertionError",
     "evalue": "",
     "output_type": "error",
     "traceback": [
      "\u001b[0;31m---------------------------------------------------------------------------\u001b[0m",
      "\u001b[0;31mAssertionError\u001b[0m                            Traceback (most recent call last)",
      "Cell \u001b[0;32mIn[29], line 18\u001b[0m\n\u001b[1;32m     16\u001b[0m \u001b[38;5;28;01mfor\u001b[39;00m (a, b, p) \u001b[38;5;129;01min\u001b[39;00m list_problems:\n\u001b[1;32m     17\u001b[0m     tmp \u001b[38;5;241m=\u001b[39m solve_part2(a, b, p)\n\u001b[0;32m---> 18\u001b[0m     \u001b[38;5;28;01massert\u001b[39;00m \u001b[38;5;28;01mFalse\u001b[39;00m\n",
      "\u001b[0;31mAssertionError\u001b[0m: "
     ]
    }
   ],
   "source": [
    "def solve_part2(a, b, p):\n",
    "    a_x, a_y = a \n",
    "    b_x, b_y = b \n",
    "    p_x, p_y = p \n",
    "    n_add = 10000000000000\n",
    "    p_x, p_y = p_x + n_add, p_y + n_add \n",
    "\n",
    "    min_ax = int(np.floor(p_x / a_x))\n",
    "    min_ay = int(np.floor(p_y / a_y))\n",
    "    min_bx = int(np.floor(p_x / b_x))\n",
    "    min_by = int(np.floor(p_y / b_y))\n",
    "\n",
    "    print(min_ax, min_ay, min_bx, min_by)\n",
    "\n",
    "\n",
    "for (a, b, p) in list_problems:\n",
    "    tmp = solve_part2(a, b, p)\n",
    "    assert False3"
   ]
  },
  {
   "cell_type": "code",
   "execution_count": null,
   "metadata": {},
   "outputs": [],
   "source": []
  }
 ],
 "metadata": {
  "kernelspec": {
   "display_name": "py37",
   "language": "python",
   "name": "python3"
  },
  "language_info": {
   "codemirror_mode": {
    "name": "ipython",
    "version": 3
   },
   "file_extension": ".py",
   "mimetype": "text/x-python",
   "name": "python",
   "nbconvert_exporter": "python",
   "pygments_lexer": "ipython3",
   "version": "3.10.13"
  }
 },
 "nbformat": 4,
 "nbformat_minor": 2
}
