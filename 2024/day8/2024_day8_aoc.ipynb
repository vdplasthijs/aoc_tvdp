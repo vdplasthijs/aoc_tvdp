{
 "cells": [
  {
   "cell_type": "code",
   "execution_count": 4,
   "metadata": {},
   "outputs": [
    {
     "name": "stdout",
     "output_type": "stream",
     "text": [
      "The autoreload extension is already loaded. To reload it, use:\n",
      "  %reload_ext autoreload\n"
     ]
    }
   ],
   "source": [
    "%load_ext autoreload\n",
    "%autoreload 2\n",
    "\n",
    "import numpy as np\n",
    "import os, sys \n",
    "sys.path.append('..')\n",
    "import collections\n",
    "import copy\n",
    "import itertools\n",
    "import aoc_utils as au\n",
    "import math \n",
    "from tqdm import tqdm\n",
    "from collections import defaultdict"
   ]
  },
  {
   "cell_type": "code",
   "execution_count": 2,
   "metadata": {},
   "outputs": [
    {
     "name": "stdout",
     "output_type": "stream",
     "text": [
      "input has 50 rows and 50 cols\n"
     ]
    }
   ],
   "source": [
    "input_text = au.read_txt_file_lines()\n",
    "n_rows = len(input_text)\n",
    "n_cols = len(input_text[0])\n",
    "for ii in range(1, n_rows):\n",
    "    assert len(input_text[ii]) == n_cols, f'row {ii} has {len(input_text[ii])} cols, not {n_cols}'\n",
    "print(f'input has {n_rows} rows and {n_cols} cols')"
   ]
  },
  {
   "cell_type": "code",
   "execution_count": 11,
   "metadata": {},
   "outputs": [
    {
     "name": "stdout",
     "output_type": "stream",
     "text": [
      "332\n"
     ]
    }
   ],
   "source": [
    "dict_locs = defaultdict(list)\n",
    "list_antinodes = []\n",
    "\n",
    "for i_r, r in enumerate(input_text):\n",
    "    for i_c, el in enumerate(r):\n",
    "        if el != '.':\n",
    "            dict_locs[el].append((i_r, i_c))\n",
    "\n",
    "## loop through all unique pairs per character and add new locations (if in bounds)\n",
    "for char, list_nodes in dict_locs.items():\n",
    "    for combis in itertools.combinations(list_nodes, 2):\n",
    "        diff = (combis[1][0] - combis[0][0], combis[1][1] - combis[0][1])\n",
    "        option_1 = (combis[0][0] - diff[0], combis[0][1] - diff[1])\n",
    "        option_2 = (combis[1][0] + diff[0], combis[1][1] + diff[1])\n",
    "        for o in [option_1, option_2]:\n",
    "            if o[0] >= 0 and o[0] < n_rows and o[1] >= 0 and o[1] < n_cols:\n",
    "                list_antinodes.append(o)\n",
    "\n",
    "print(len(set(list_antinodes)))"
   ]
  },
  {
   "cell_type": "markdown",
   "metadata": {},
   "source": [
    "part 2"
   ]
  },
  {
   "cell_type": "code",
   "execution_count": 12,
   "metadata": {},
   "outputs": [
    {
     "name": "stdout",
     "output_type": "stream",
     "text": [
      "1174\n"
     ]
    }
   ],
   "source": [
    "dict_locs = defaultdict(list)\n",
    "list_antinodes = []\n",
    "\n",
    "for i_r, r in enumerate(input_text):\n",
    "    for i_c, el in enumerate(r):\n",
    "        if el != '.':\n",
    "            dict_locs[el].append((i_r, i_c))\n",
    "\n",
    "## same but just while loop to find new locations \n",
    "for char, list_nodes in dict_locs.items():\n",
    "    for combis in itertools.combinations(list_nodes, 2):\n",
    "        diff = (combis[1][0] - combis[0][0], combis[1][1] - combis[0][1])\n",
    "\n",
    "        o = combis[0]\n",
    "        while o[0] >= 0 and o[0] < n_rows and o[1] >= 0 and o[1] < n_cols:\n",
    "            list_antinodes.append(o)\n",
    "            o = (o[0] - diff[0], o[1] - diff[1])\n",
    "\n",
    "        o = combis[1]\n",
    "        while o[0] >= 0 and o[0] < n_rows and o[1] >= 0 and o[1] < n_cols:\n",
    "            list_antinodes.append(o)\n",
    "            o = (o[0] + diff[0], o[1] + diff[1])\n",
    "\n",
    "print(len(set(list_antinodes)))"
   ]
  }
 ],
 "metadata": {
  "kernelspec": {
   "display_name": "py37",
   "language": "python",
   "name": "python3"
  },
  "language_info": {
   "codemirror_mode": {
    "name": "ipython",
    "version": 3
   },
   "file_extension": ".py",
   "mimetype": "text/x-python",
   "name": "python",
   "nbconvert_exporter": "python",
   "pygments_lexer": "ipython3",
   "version": "3.10.13"
  }
 },
 "nbformat": 4,
 "nbformat_minor": 2
}
