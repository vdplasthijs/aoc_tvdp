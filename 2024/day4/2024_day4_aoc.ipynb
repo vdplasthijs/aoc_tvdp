{
 "cells": [
  {
   "cell_type": "code",
   "execution_count": 1,
   "metadata": {},
   "outputs": [],
   "source": [
    "%load_ext autoreload\n",
    "%autoreload 2\n",
    "\n",
    "import numpy as np\n",
    "import os, sys \n",
    "sys.path.append('..')\n",
    "import collections\n",
    "import copy\n",
    "import itertools\n",
    "import aoc_utils as au\n",
    "import math \n",
    "from tqdm import tqdm\n",
    "import re"
   ]
  },
  {
   "cell_type": "code",
   "execution_count": 2,
   "metadata": {},
   "outputs": [
    {
     "name": "stdout",
     "output_type": "stream",
     "text": [
      "input has 140 rows and 140 cols\n"
     ]
    }
   ],
   "source": [
    "input_text = au.read_txt_file_lines()\n",
    "n_rows = len(input_text)\n",
    "n_cols = len(input_text[0])\n",
    "for ii in range(1, n_rows):\n",
    "    assert len(input_text[ii]) == n_cols, f'row {ii} has {len(input_text[ii])} cols, not {n_cols}'\n",
    "print(f'input has {n_rows} rows and {n_cols} cols')\n",
    "# for i_r, r in enumerate(input_text):\n",
    "#     input_text[i_r] = list(r)"
   ]
  },
  {
   "cell_type": "code",
   "execution_count": 3,
   "metadata": {},
   "outputs": [],
   "source": [
    "rows = [''.join(r) for r in input_text] \n",
    "cols = [''.join([input_text[r][c] for r in range(n_rows)]) for c in range(n_cols)]\n",
    "diag = []\n",
    "assert n_rows == n_cols \n",
    "\n",
    "for start in range(n_rows):\n",
    "    diag.append(''.join([input_text[start + i][i] for i in range(n_rows - start)]))\n",
    "    diag.append(''.join([input_text[n_rows - start - i - 1][i] for i in range(n_rows - start)]))\n",
    "\n",
    "    if start != 0:  # same for start  == 0\n",
    "        diag.append(''.join([input_text[i][start + i] for i in range(n_rows - start)]))\n",
    "        diag.append(''.join([input_text[n_rows - i - 1][i + start] for i in range(n_rows - start)]))\n"
   ]
  },
  {
   "cell_type": "code",
   "execution_count": 4,
   "metadata": {},
   "outputs": [
    {
     "data": {
      "text/plain": [
       "2560"
      ]
     },
     "execution_count": 4,
     "metadata": {},
     "output_type": "execute_result"
    }
   ],
   "source": [
    "total = 0 \n",
    "for data in [diag, rows, cols]:\n",
    "    # print(data)\n",
    "    for i, l in enumerate(data):\n",
    "        # if len(re.findall('SAMX', l)) > 0:\n",
    "        #     print(i, l, re.findall('SAMX', l))\n",
    "        # if len(re.findall('XMAS', l)) > 0:\n",
    "        #     print(i, l, re.findall('XMAS', l))\n",
    "        total += len(re.findall('XMAS', l))\n",
    "        total += len(re.findall('SAMX', l))\n",
    "\n",
    "total"
   ]
  },
  {
   "cell_type": "markdown",
   "metadata": {},
   "source": [
    "# part 2"
   ]
  },
  {
   "cell_type": "code",
   "execution_count": 5,
   "metadata": {},
   "outputs": [
    {
     "data": {
      "text/plain": [
       "1910"
      ]
     },
     "execution_count": 5,
     "metadata": {},
     "output_type": "execute_result"
    }
   ],
   "source": [
    "total = 0\n",
    "for i_r in range(1, n_rows - 1):\n",
    "    for i_c in range(1, n_cols - 1):\n",
    "        diag_1 = ''.join([input_text[i_r + i][i_c - i] for i in range(-1, 2)])\n",
    "        diag_2 = ''.join([input_text[i_r + i][i_c + i] for i in range(-1, 2)])\n",
    "\n",
    "        if diag_1 in ['MAS', 'SAM'] and diag_2 in ['MAS', 'SAM']:\n",
    "            total += 1\n",
    "\n",
    "total"
   ]
  }
 ],
 "metadata": {
  "kernelspec": {
   "display_name": "py37",
   "language": "python",
   "name": "python3"
  },
  "language_info": {
   "codemirror_mode": {
    "name": "ipython",
    "version": 3
   },
   "file_extension": ".py",
   "mimetype": "text/x-python",
   "name": "python",
   "nbconvert_exporter": "python",
   "pygments_lexer": "ipython3",
   "version": "3.10.13"
  }
 },
 "nbformat": 4,
 "nbformat_minor": 2
}
