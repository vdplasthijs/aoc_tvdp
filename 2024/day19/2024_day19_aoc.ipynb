{
 "cells": [
  {
   "cell_type": "code",
   "execution_count": 2,
   "metadata": {},
   "outputs": [],
   "source": [
    "%load_ext autoreload\n",
    "%autoreload 2\n",
    "\n",
    "import numpy as np\n",
    "import os, sys \n",
    "sys.path.append('..')\n",
    "from collections import deque, defaultdict\n",
    "import copy\n",
    "import itertools\n",
    "import aoc_utils as au\n",
    "import math \n",
    "from tqdm import tqdm\n",
    "import functools, itertools"
   ]
  },
  {
   "cell_type": "code",
   "execution_count": 2,
   "metadata": {},
   "outputs": [],
   "source": [
    "input_text = au.read_txt_file_lines()\n",
    "designs = input_text[0].split(', ')\n",
    "patterns = input_text[2:]"
   ]
  },
  {
   "cell_type": "code",
   "execution_count": 14,
   "metadata": {},
   "outputs": [],
   "source": [
    "## This algorithm works, but is too slow:\n",
    "possible = 0 \n",
    "\n",
    "for p_start in patterns:\n",
    "\n",
    "    queue = deque([p_start])\n",
    "    \n",
    "    while len(queue) > 0:\n",
    "        p = queue.popleft()\n",
    "\n",
    "        for d in designs:\n",
    "            if p[:len(d)] == d:\n",
    "                if len(p) == len(d):\n",
    "                    possible += 1\n",
    "                    queue = []\n",
    "                    break \n",
    "\n",
    "                queue.append(p[len(d):])"
   ]
  },
  {
   "cell_type": "code",
   "execution_count": 22,
   "metadata": {},
   "outputs": [
    {
     "name": "stdout",
     "output_type": "stream",
     "text": [
      "['r', 'g', 'w', 'b']\n",
      "['ug', 'wb', 'bw', 'rr', 'br', 'ru', 'gb', 'rg', 'gw', 'bu', 'rb', 'wu', 'ww', 'wg', 'ur', 'uw', 'bg', 'ub', 'rw', 'gr', 'gg', 'bb', 'wr']\n"
     ]
    }
   ],
   "source": [
    "## inspecting data: all single letters are available except u(!!)\n",
    "\n",
    "dict_designs = defaultdict(list)\n",
    "for d in designs:\n",
    "    dict_designs[len(d)].append(d)\n",
    "\n",
    "print(dict_designs[1])\n",
    "print(dict_designs[2])"
   ]
  },
  {
   "cell_type": "markdown",
   "metadata": {},
   "source": [
    "Can we alter the algorithm to tailor towards `u`?\n",
    "- We only need to find fancy patterns to match the `u`'s\n",
    "- Idea: find the first `u`, match it to all designs (with `u`), if successful then just need consider what comes after.\n",
    "- Runtime: 2mins. Note: could be (a lot?) faster by grouping designs by len and if 1 works skipping all others."
   ]
  },
  {
   "cell_type": "code",
   "execution_count": 30,
   "metadata": {},
   "outputs": [
    {
     "name": "stderr",
     "output_type": "stream",
     "text": [
      "100%|██████████| 400/400 [01:55<00:00,  3.46it/s]\n"
     ]
    }
   ],
   "source": [
    "tmp = [d for d in designs if 'u' in d]\n",
    "designs_u = []\n",
    "for d in tmp:\n",
    "    for i_s, s in enumerate(d):\n",
    "        if s == 'u':  # first occurence\n",
    "            designs_u.append((d, i_s))\n",
    "            break\n",
    "\n",
    "possible = 0\n",
    "\n",
    "for p_start in tqdm(patterns):\n",
    "    if 'u' not in p_start:\n",
    "        possible += 1\n",
    "        continue\n",
    "\n",
    "    queue = deque([p_start])\n",
    "    \n",
    "    while len(queue) > 0:\n",
    "        p = queue.popleft()\n",
    "        if 'u' not in p:\n",
    "            possible += 1\n",
    "            queue = []\n",
    "            break \n",
    "\n",
    "        for i_s, s in enumerate(p):  # find ind of first u\n",
    "            if s == 'u':  # first occurrence:\n",
    "                break \n",
    "\n",
    "        for (d, i_u) in designs_u:\n",
    "            if i_u > i_s:  # d u occurs later than p u \n",
    "                continue \n",
    "\n",
    "            if p[i_s - i_u:i_s - i_u + len(d)] == d:\n",
    "                if 'u' not in p[i_s - i_u + len(d):]:\n",
    "                    possible += 1\n",
    "                    queue = []\n",
    "                    break \n",
    "                queue.append(p[i_s - i_u + len(d):])\n",
    "\n"
   ]
  },
  {
   "cell_type": "code",
   "execution_count": 31,
   "metadata": {},
   "outputs": [
    {
     "data": {
      "text/plain": [
       "333"
      ]
     },
     "execution_count": 31,
     "metadata": {},
     "output_type": "execute_result"
    }
   ],
   "source": [
    "possible"
   ]
  },
  {
   "cell_type": "markdown",
   "metadata": {},
   "source": [
    "## part 2 \n",
    "- essentially just remove break clause of original algorithm.. But would take ages to find all perms. \n",
    "- Tried implementing a lazy, cached approach but not fast enough .. Started again with a forward pass and that worked straight away! see below"
   ]
  },
  {
   "cell_type": "code",
   "execution_count": 22,
   "metadata": {},
   "outputs": [
    {
     "name": "stdout",
     "output_type": "stream",
     "text": [
      "max len design 8 . n designs: 447\n"
     ]
    }
   ],
   "source": [
    "input_text = au.read_txt_file_lines()\n",
    "designs = input_text[0].split(', ')\n",
    "patterns = input_text[2:]\n",
    "max_len_d = max([len(x) for x in designs])\n",
    "print('max len design', max_len_d, '. n designs:', len(designs))\n"
   ]
  },
  {
   "cell_type": "code",
   "execution_count": null,
   "metadata": {},
   "outputs": [
    {
     "name": "stdout",
     "output_type": "stream",
     "text": [
      "['ggbwrgwu', 'bbbgru', 'wwbg', 'gbuuruwu', 'bwww', 'r', 'guw', 'gwgg', 'ggbuwwr', 'wwb', 'wrwggwr', 'wwrbuwu', 'bgrr', 'urugr', 'bww', 'g', 'wurb', 'gwug', 'ruwg', 'gubw', 'bgbbwr', 'gurubr', 'www', 'uwww', 'brug', 'bwgr', 'bbgu', 'gbguuww', 'bgu', 'bgrbbrg', 'bbu', 'bwuwg', 'bbg', 'bgr', 'rgu', 'rwbbb', 'bwrw', 'gwg', 'buuwg', 'bbbwuu', 'bbwgb', 'ggwwr', 'wrww', 'wgr', 'bwb', 'ugr', 'gbwgwgbu', 'wggug', 'wuu', 'rbuw', 'rggww', 'gwrguu', 'gru', 'gubu', 'wbgbw', 'uwru', 'gggrr', 'gwwuw', 'wbbwrr', 'rgg', 'wbwgubrr', 'ruwuug', 'bbuw', 'gwbwgwgr', 'gguwrugr', 'urrbgg', 'ubwr', 'wwu', 'gbw', 'ggwbu', 'rug', 'bgb', 'ruur', 'bwg', 'wbgrrbu', 'wrrguww', 'rrbw', 'brb', 'gbg', 'rrrugrb', 'rrr', 'rwr', 'rbg', 'grwurw', 'wurr', 'gguu', 'ubuug', 'bgguuwwr', 'bwu', 'wwr', 'ggr', 'brgg', 'bugbrgu', 'ggu', 'w', 'bbubrw', 'ug', 'uwrru', 'wbwgrbu', 'wb', 'wgw', 'ruwbrg', 'bw', 'burgrurb', 'bwgb', 'wgg', 'bwrbbrww', 'rbu', 'wgb', 'ubu', 'brwgggbb', 'wbgbg', 'brrgb', 'rwb', 'bbbggwb', 'uwgggw', 'rr', 'brubr', 'wur', 'ubgrwww', 'rgwwb', 'gug', 'rgwbw', 'br', 'gwgbu', 'wurbwb', 'ubuggw', 'gwbw', 'ugbr', 'bbb', 'gubuu', 'bgbb', 'gwubrrb', 'bwwubwgg', 'bgg', 'urww', 'gwrw', 'ggubug', 'wgu', 'gur', 'bbug', 'bgbbw', 'gurgbu', 'rgubbwr', 'urb', 'uurwgwb', 'urrwww', 'uuu', 'rbrgw', 'wugug', 'wbugr', 'rgruurug', 'b', 'wrrrrg', 'bggr', 'wgbu', 'wwgu', 'wwwgbb', 'guwbr', 'uuwrwbb', 'rbw', 'rrwr', 'wggu', 'gguru', 'bwbb', 'uwbbu', 'uuug', 'rbb', 'ugwwggb', 'rbr', 'bguu', 'ggrgr', 'bbwb', 'rwg', 'ugb', 'ubugwbb', 'wbbgbg', 'ruu', 'ubrrg', 'ru', 'ggb', 'ubwbwru', 'uuww', 'brggwb', 'gb', 'uggw', 'grw', 'ubbrww', 'bbuwgbu', 'buurwu', 'wrurg', 'uug', 'uuw', 'rbwrg', 'wuwgw', 'wbgrgbu', 'rwuwug', 'rbbbbug', 'wruru', 'wuw', 'wuugr', 'rg', 'bbr', 'ggg', 'rrrwbrgg', 'grgbg', 'uubbr', 'wwbu', 'bbrw', 'wwg', 'ururrb', 'wrg', 'brurwu', 'gbr', 'wugww', 'wrrw', 'wru', 'rbwr', 'bbrbggwg', 'rwbgb', 'rgwuwu', 'ggwu', 'uru', 'gbu', 'rgwu', 'guur', 'rgw', 'gugwu', 'brrw', 'wuwg', 'wgbg', 'ububu', 'uwuuu', 'urg', 'rur', 'uubbww', 'urr', 'gw', 'rruru', 'bu', 'rwwr', 'ugg', 'gubuw', 'uuuu', 'brbwubg', 'bugu', 'ubuu', 'rbbbuu', 'rb', 'wbb', 'bru', 'bgruw', 'wggw', 'rrbrb', 'uwu', 'urw', 'wrb', 'gbubwb', 'rugb', 'wrwu', 'bbbgrg', 'bbgrgw', 'wwur', 'urwg', 'ubwb', 'buwrur', 'rbwbrb', 'gub', 'uuwrbu', 'rwrgu', 'wrwbub', 'uwubu', 'ubb', 'rgrugub', 'bwbwu', 'wu', 'ubgwb', 'wrub', 'bggwuu', 'rru', 'gwbrg', 'rwrbb', 'bbuugr', 'uwr', 'bwur', 'ubgu', 'gwb', 'uuwgb', 'bbww', 'wwrubwu', 'gwur', 'gbrrgww', 'brgwb', 'guug', 'gwwwrr', 'grbgrgrb', 'brgu', 'rwww', 'rbgr', 'ugubugu', 'rwbuw', 'wrbgbww', 'brrurg', 'rgrb', 'rgb', 'wguurb', 'rwbu', 'brw', 'uwrgu', 'bug', 'rbguw', 'guu', 'rrgu', 'gwbbgg', 'burg', 'rguw', 'wwwruubu', 'ugu', 'grg', 'ugw', 'gbrg', 'urbub', 'gwr', 'wgww', 'wbg', 'ww', 'rburwgg', 'wg', 'gbwu', 'gwbr', 'bwgub', 'bub', 'rub', 'uurbbwr', 'rwu', 'rbrbbu', 'bbwwuww', 'brg', 'ur', 'bbbw', 'uwg', 'bbwgwbbw', 'guwb', 'rbbwubb', 'rwbwg', 'rwbg', 'wbr', 'bwr', 'wbu', 'rbgwb', 'rrg', 'rgwub', 'rbwuuu', 'uw', 'guub', 'wrw', 'gubbrgr', 'gbb', 'ggw', 'ubugw', 'rgwg', 'uggb', 'wgwr', 'bbw', 'buu', 'ubw', 'uwwuru', 'gbrubur', 'uwguu', 'grrbbru', 'gbwbugg', 'bwrwgu', 'ggbuuug', 'gwbwwu', 'ggbbr', 'rrb', 'grrru', 'ubbwg', 'bg', 'ub', 'rww', 'ubg', 'gww', 'gwru', 'uugubb', 'wwrugubr', 'rwwru', 'wwbw', 'ubrwg', 'wwuwww', 'wgwwwrwg', 'rw', 'rwrwru', 'wrwbb', 'guruw', 'buw', 'ggwwug', 'gwbbg', 'rgurgw', 'bwuww', 'gwu', 'grb', 'grbgu', 'urwru', 'bwru', 'bgw', 'bwrurbw', 'rwuu', 'uur', 'bwgubrb', 'ruw', 'rbwb', 'brwruw', 'gr', 'rbwg', 'uwub', 'gbbub', 'ubgwbuur', 'urgbgb', 'ubgr', 'grgbrw', 'wgbug', 'wug', 'bubg', 'gg', 'rrwggg', 'bubu', 'bb', 'rbug', 'bburbu', 'brr', 'ubr', 'grwgu', 'bur', 'wr', 'grr', 'rgwbrb', 'wbw', 'bgbr', 'bgbrb', 'rrw', 'bgwwgb', 'ggrwr', 'wbggbr', 'gubbrbw', 'bbwg', 'uwb']\n"
     ]
    },
    {
     "name": "stderr",
     "output_type": "stream",
     "text": [
      "100%|██████████| 400/400 [00:00<00:00, 13296.89it/s]\n"
     ]
    },
    {
     "data": {
      "text/plain": [
       "678536865274732"
      ]
     },
     "execution_count": 24,
     "metadata": {},
     "output_type": "execute_result"
    }
   ],
   "source": [
    "print(designs)\n",
    "dict_designs_by_len_exact = {x: [d for d in designs if len(d) == x] for x in range(1, max_len_d + 1)}\n",
    "set_designs = set(designs)\n",
    "\n",
    "total = 0\n",
    "for p in tqdm(patterns):\n",
    "    list_counts = [0] * len(p) \n",
    "    for ind, char in enumerate(p):  # iteratively build up number of combinations possible\n",
    "        n_chars = ind + 1\n",
    "\n",
    "        if n_chars <= max_len_d:  # if it could be a design, check\n",
    "            if p[:n_chars] in dict_designs_by_len_exact[n_chars]:\n",
    "                list_counts[ind] = 1\n",
    "\n",
    "        if n_chars == 1:\n",
    "            continue \n",
    "\n",
    "        for size_d in range(1, min(max_len_d + 1, n_chars)):  # go back through possible inds that designs (of various sizes) could reach\n",
    "            candidate_d = p[ind - size_d + 1:ind + 1]\n",
    "            if candidate_d in set_designs:  # if this design exists, then we get new permutations (old count * 1)\n",
    "                list_counts[ind] += list_counts[ind - size_d]\n",
    "\n",
    "    total += list_counts[-1]\n",
    "\n",
    "total\n",
    "\n",
    "\n",
    "\n"
   ]
  },
  {
   "cell_type": "markdown",
   "metadata": {},
   "source": [
    "## Old recursion code that didn't work (fast enough):"
   ]
  },
  {
   "cell_type": "code",
   "execution_count": null,
   "metadata": {},
   "outputs": [
    {
     "name": "stdout",
     "output_type": "stream",
     "text": [
      "max len design 8 . n designs: 447\n",
      "['ggbwrgwu', 'bbbgru', 'wwbg', 'gbuuruwu', 'bwww', 'r', 'guw', 'gwgg', 'ggbuwwr', 'wwb', 'wrwggwr', 'wwrbuwu', 'bgrr', 'urugr', 'bww', 'g', 'wurb', 'gwug', 'ruwg', 'gubw', 'bgbbwr', 'gurubr', 'www', 'uwww', 'brug', 'bwgr', 'bbgu', 'gbguuww', 'bgu', 'bgrbbrg', 'bbu', 'bwuwg', 'bbg', 'bgr', 'rgu', 'rwbbb', 'bwrw', 'gwg', 'buuwg', 'bbbwuu', 'bbwgb', 'ggwwr', 'wrww', 'wgr', 'bwb', 'ugr', 'gbwgwgbu', 'wggug', 'wuu', 'rbuw', 'rggww', 'gwrguu', 'gru', 'gubu', 'wbgbw', 'uwru', 'gggrr', 'gwwuw', 'wbbwrr', 'rgg', 'wbwgubrr', 'ruwuug', 'bbuw', 'gwbwgwgr', 'gguwrugr', 'urrbgg', 'ubwr', 'wwu', 'gbw', 'ggwbu', 'rug', 'bgb', 'ruur', 'bwg', 'wbgrrbu', 'wrrguww', 'rrbw', 'brb', 'gbg', 'rrrugrb', 'rrr', 'rwr', 'rbg', 'grwurw', 'wurr', 'gguu', 'ubuug', 'bgguuwwr', 'bwu', 'wwr', 'ggr', 'brgg', 'bugbrgu', 'ggu', 'w', 'bbubrw', 'ug', 'uwrru', 'wbwgrbu', 'wb', 'wgw', 'ruwbrg', 'bw', 'burgrurb', 'bwgb', 'wgg', 'bwrbbrww', 'rbu', 'wgb', 'ubu', 'brwgggbb', 'wbgbg', 'brrgb', 'rwb', 'bbbggwb', 'uwgggw', 'rr', 'brubr', 'wur', 'ubgrwww', 'rgwwb', 'gug', 'rgwbw', 'br', 'gwgbu', 'wurbwb', 'ubuggw', 'gwbw', 'ugbr', 'bbb', 'gubuu', 'bgbb', 'gwubrrb', 'bwwubwgg', 'bgg', 'urww', 'gwrw', 'ggubug', 'wgu', 'gur', 'bbug', 'bgbbw', 'gurgbu', 'rgubbwr', 'urb', 'uurwgwb', 'urrwww', 'uuu', 'rbrgw', 'wugug', 'wbugr', 'rgruurug', 'b', 'wrrrrg', 'bggr', 'wgbu', 'wwgu', 'wwwgbb', 'guwbr', 'uuwrwbb', 'rbw', 'rrwr', 'wggu', 'gguru', 'bwbb', 'uwbbu', 'uuug', 'rbb', 'ugwwggb', 'rbr', 'bguu', 'ggrgr', 'bbwb', 'rwg', 'ugb', 'ubugwbb', 'wbbgbg', 'ruu', 'ubrrg', 'ru', 'ggb', 'ubwbwru', 'uuww', 'brggwb', 'gb', 'uggw', 'grw', 'ubbrww', 'bbuwgbu', 'buurwu', 'wrurg', 'uug', 'uuw', 'rbwrg', 'wuwgw', 'wbgrgbu', 'rwuwug', 'rbbbbug', 'wruru', 'wuw', 'wuugr', 'rg', 'bbr', 'ggg', 'rrrwbrgg', 'grgbg', 'uubbr', 'wwbu', 'bbrw', 'wwg', 'ururrb', 'wrg', 'brurwu', 'gbr', 'wugww', 'wrrw', 'wru', 'rbwr', 'bbrbggwg', 'rwbgb', 'rgwuwu', 'ggwu', 'uru', 'gbu', 'rgwu', 'guur', 'rgw', 'gugwu', 'brrw', 'wuwg', 'wgbg', 'ububu', 'uwuuu', 'urg', 'rur', 'uubbww', 'urr', 'gw', 'rruru', 'bu', 'rwwr', 'ugg', 'gubuw', 'uuuu', 'brbwubg', 'bugu', 'ubuu', 'rbbbuu', 'rb', 'wbb', 'bru', 'bgruw', 'wggw', 'rrbrb', 'uwu', 'urw', 'wrb', 'gbubwb', 'rugb', 'wrwu', 'bbbgrg', 'bbgrgw', 'wwur', 'urwg', 'ubwb', 'buwrur', 'rbwbrb', 'gub', 'uuwrbu', 'rwrgu', 'wrwbub', 'uwubu', 'ubb', 'rgrugub', 'bwbwu', 'wu', 'ubgwb', 'wrub', 'bggwuu', 'rru', 'gwbrg', 'rwrbb', 'bbuugr', 'uwr', 'bwur', 'ubgu', 'gwb', 'uuwgb', 'bbww', 'wwrubwu', 'gwur', 'gbrrgww', 'brgwb', 'guug', 'gwwwrr', 'grbgrgrb', 'brgu', 'rwww', 'rbgr', 'ugubugu', 'rwbuw', 'wrbgbww', 'brrurg', 'rgrb', 'rgb', 'wguurb', 'rwbu', 'brw', 'uwrgu', 'bug', 'rbguw', 'guu', 'rrgu', 'gwbbgg', 'burg', 'rguw', 'wwwruubu', 'ugu', 'grg', 'ugw', 'gbrg', 'urbub', 'gwr', 'wgww', 'wbg', 'ww', 'rburwgg', 'wg', 'gbwu', 'gwbr', 'bwgub', 'bub', 'rub', 'uurbbwr', 'rwu', 'rbrbbu', 'bbwwuww', 'brg', 'ur', 'bbbw', 'uwg', 'bbwgwbbw', 'guwb', 'rbbwubb', 'rwbwg', 'rwbg', 'wbr', 'bwr', 'wbu', 'rbgwb', 'rrg', 'rgwub', 'rbwuuu', 'uw', 'guub', 'wrw', 'gubbrgr', 'gbb', 'ggw', 'ubugw', 'rgwg', 'uggb', 'wgwr', 'bbw', 'buu', 'ubw', 'uwwuru', 'gbrubur', 'uwguu', 'grrbbru', 'gbwbugg', 'bwrwgu', 'ggbuuug', 'gwbwwu', 'ggbbr', 'rrb', 'grrru', 'ubbwg', 'bg', 'ub', 'rww', 'ubg', 'gww', 'gwru', 'uugubb', 'wwrugubr', 'rwwru', 'wwbw', 'ubrwg', 'wwuwww', 'wgwwwrwg', 'rw', 'rwrwru', 'wrwbb', 'guruw', 'buw', 'ggwwug', 'gwbbg', 'rgurgw', 'bwuww', 'gwu', 'grb', 'grbgu', 'urwru', 'bwru', 'bgw', 'bwrurbw', 'rwuu', 'uur', 'bwgubrb', 'ruw', 'rbwb', 'brwruw', 'gr', 'rbwg', 'uwub', 'gbbub', 'ubgwbuur', 'urgbgb', 'ubgr', 'grgbrw', 'wgbug', 'wug', 'bubg', 'gg', 'rrwggg', 'bubu', 'bb', 'rbug', 'bburbu', 'brr', 'ubr', 'grwgu', 'bur', 'wr', 'grr', 'rgwbrb', 'wbw', 'bgbr', 'bgbrb', 'rrw', 'bgwwgb', 'ggrwr', 'wbggbr', 'gubbrbw', 'bbwg', 'uwb']\n"
     ]
    },
    {
     "name": "stderr",
     "output_type": "stream",
     "text": [
      "  0%|          | 0/2 [00:00<?, ?it/s]"
     ]
    },
    {
     "name": "stdout",
     "output_type": "stream",
     "text": [
      "uububurrububbrwruubububugbgwugrbrrrbbbwwbgwrbwgb 0\n"
     ]
    }
   ],
   "source": [
    "assert False\n",
    "max_len_d = max([len(x) for x in designs])\n",
    "print('max len design', max_len_d, '. n designs:', len(designs))\n",
    "# dict_designs_by_len\n",
    "dict_designs_by_len = {x: [d for d in designs if len(d) <= x] for x in range(1, max_len_d + 1)}\n",
    "dict_designs_by_len_exact = {x: [d for d in designs if len(d) == x] for x in range(1, max_len_d + 1)}\n",
    "\n",
    "@functools.cache  # cannot cache the yield function .. \n",
    "def get_perms(s):\n",
    "    return list(_get_perms(s))\n",
    "\n",
    "def _get_perms(s):\n",
    "    yielded = False \n",
    "    if len(s) < max_len_d + 1 and s in dict_designs_by_len_exact[len(s)]:\n",
    "        # yielded = True\n",
    "        yield [len(s)]\n",
    "\n",
    "    for ind in range(len(s) - 1, 0, -1):\n",
    "        for x in get_perms(s[:ind]):\n",
    "            for y in get_perms(s[ind:]):\n",
    "                # yielded = True\n",
    "                yield x + y\n",
    "\n",
    "    # if not yielded:\n",
    "    #     yield []\n",
    "\n",
    "def get_n_perms(s):\n",
    "    total = 0\n",
    "    set_p = set()\n",
    "    for perm in get_perms(s):\n",
    "        # print('r', perm)\n",
    "        if tuple(perm) not in set_p:\n",
    "            set_p.add(tuple(perm))\n",
    "            total += 1\n",
    "    return total\n",
    "\n",
    "print(designs)\n",
    "# print(get_n_perms('brb'))\n",
    "\n",
    "total_all = 0\n",
    "for p in tqdm(patterns[:2]):\n",
    "    t = get_n_perms(p[:15])\n",
    "    print(p, t)\n",
    "    total_all += t \n"
   ]
  }
 ],
 "metadata": {
  "kernelspec": {
   "display_name": "py310",
   "language": "python",
   "name": "python3"
  },
  "language_info": {
   "codemirror_mode": {
    "name": "ipython",
    "version": 3
   },
   "file_extension": ".py",
   "mimetype": "text/x-python",
   "name": "python",
   "nbconvert_exporter": "python",
   "pygments_lexer": "ipython3",
   "version": "3.10.13"
  }
 },
 "nbformat": 4,
 "nbformat_minor": 2
}
