{
 "cells": [
  {
   "cell_type": "code",
   "execution_count": 1,
   "metadata": {},
   "outputs": [],
   "source": [
    "%load_ext autoreload\n",
    "%autoreload 2\n",
    "\n",
    "import numpy as np\n",
    "import os, sys \n",
    "sys.path.append('..')\n",
    "from collections import deque, defaultdict\n",
    "import copy\n",
    "import itertools\n",
    "import aoc_utils as au\n",
    "import math \n",
    "from tqdm import tqdm"
   ]
  },
  {
   "cell_type": "code",
   "execution_count": 2,
   "metadata": {},
   "outputs": [],
   "source": [
    "input_text = au.read_txt_file_lines()"
   ]
  },
  {
   "cell_type": "code",
   "execution_count": 3,
   "metadata": {},
   "outputs": [],
   "source": [
    "designs = input_text[0].split(', ')\n",
    "patterns = input_text[2:]"
   ]
  },
  {
   "cell_type": "code",
   "execution_count": 14,
   "metadata": {},
   "outputs": [],
   "source": [
    "## This algorithm works, but is too slow:\n",
    "possible = 0 \n",
    "\n",
    "for p_start in patterns:\n",
    "\n",
    "    queue = deque([p_start])\n",
    "    \n",
    "    while len(queue) > 0:\n",
    "        p = queue.popleft()\n",
    "\n",
    "        for d in designs:\n",
    "            if p[:len(d)] == d:\n",
    "                if len(p) == len(d):\n",
    "                    possible += 1\n",
    "                    queue = []\n",
    "                    break \n",
    "\n",
    "                queue.append(p[len(d):])"
   ]
  },
  {
   "cell_type": "code",
   "execution_count": 22,
   "metadata": {},
   "outputs": [
    {
     "name": "stdout",
     "output_type": "stream",
     "text": [
      "['r', 'g', 'w', 'b']\n",
      "['ug', 'wb', 'bw', 'rr', 'br', 'ru', 'gb', 'rg', 'gw', 'bu', 'rb', 'wu', 'ww', 'wg', 'ur', 'uw', 'bg', 'ub', 'rw', 'gr', 'gg', 'bb', 'wr']\n"
     ]
    }
   ],
   "source": [
    "## inspecting data: all single letters are available except u(!!)\n",
    "\n",
    "dict_designs = defaultdict(list)\n",
    "for d in designs:\n",
    "    dict_designs[len(d)].append(d)\n",
    "\n",
    "print(dict_designs[1])\n",
    "print(dict_designs[2])"
   ]
  },
  {
   "cell_type": "markdown",
   "metadata": {},
   "source": [
    "Can we alter the algorithm to tailor towards `u`?\n",
    "- We only need to find fancy patterns to match the `u`'s\n",
    "- Idea: find the first `u`, match it to all designs (with `u`), if successful then just need consider what comes after.\n",
    "- Runtime: 2mins. Note: could be (a lot?) faster by grouping designs by len and if 1 works skipping all others."
   ]
  },
  {
   "cell_type": "code",
   "execution_count": 30,
   "metadata": {},
   "outputs": [
    {
     "name": "stderr",
     "output_type": "stream",
     "text": [
      "100%|██████████| 400/400 [01:55<00:00,  3.46it/s]\n"
     ]
    }
   ],
   "source": [
    "tmp = [d for d in designs if 'u' in d]\n",
    "designs_u = []\n",
    "for d in tmp:\n",
    "    for i_s, s in enumerate(d):\n",
    "        if s == 'u':  # first occurence\n",
    "            designs_u.append((d, i_s))\n",
    "            break\n",
    "\n",
    "possible = 0\n",
    "\n",
    "for p_start in tqdm(patterns):\n",
    "    if 'u' not in p_start:\n",
    "        possible += 1\n",
    "        continue\n",
    "\n",
    "    queue = deque([p_start])\n",
    "    \n",
    "    while len(queue) > 0:\n",
    "        p = queue.popleft()\n",
    "        if 'u' not in p:\n",
    "            possible += 1\n",
    "            queue = []\n",
    "            break \n",
    "\n",
    "        for i_s, s in enumerate(p):  # find ind of first u\n",
    "            if s == 'u':  # first occurrence:\n",
    "                break \n",
    "\n",
    "        for (d, i_u) in designs_u:\n",
    "            if i_u > i_s:  # d u occurs later than p u \n",
    "                continue \n",
    "\n",
    "            if p[i_s - i_u:i_s - i_u + len(d)] == d:\n",
    "                if 'u' not in p[i_s - i_u + len(d):]:\n",
    "                    possible += 1\n",
    "                    queue = []\n",
    "                    break \n",
    "                queue.append(p[i_s - i_u + len(d):])\n",
    "\n"
   ]
  },
  {
   "cell_type": "code",
   "execution_count": 31,
   "metadata": {},
   "outputs": [
    {
     "data": {
      "text/plain": [
       "333"
      ]
     },
     "execution_count": 31,
     "metadata": {},
     "output_type": "execute_result"
    }
   ],
   "source": [
    "possible"
   ]
  },
  {
   "cell_type": "markdown",
   "metadata": {},
   "source": [
    "## part 2 \n",
    "- essentially just remove break clause of original algorithm.. But would take ages to find all perms. \n",
    "- Can use part 1 to at least filter 50% that is impossible. \n",
    "- Now also need to do the non-`u` sequences"
   ]
  },
  {
   "cell_type": "code",
   "execution_count": 32,
   "metadata": {},
   "outputs": [
    {
     "data": {
      "text/plain": [
       "447"
      ]
     },
     "execution_count": 32,
     "metadata": {},
     "output_type": "execute_result"
    }
   ],
   "source": [
    "len(designs)"
   ]
  },
  {
   "cell_type": "code",
   "execution_count": 7,
   "metadata": {},
   "outputs": [],
   "source": [
    "max_len_d = max([len(x) for x in designs])\n",
    "\n",
    "dict_designs_by_len = {x: [d for d in designs if len(d) <= x] for x in range(1, max_len_d + 1)}\n",
    "\n",
    "def get_n_perms(s):\n",
    "    if len(s) == 0:\n",
    "        return 1\n",
    "\n",
    "    tmp_designs = dict_designs_by_len[min(len(s), max_len_d)]\n",
    "\n",
    "    for d in tmp_designs:\n",
    "        if s[:len(d)] == d:\n",
    "            n = get_n_perms(s[len(d):]) + 1\n",
    "\n",
    "    return 0\n"
   ]
  },
  {
   "cell_type": "code",
   "execution_count": 8,
   "metadata": {},
   "outputs": [
    {
     "data": {
      "text/plain": [
       "['ggbwrgwu', 'bbbgru', 'wwbg', 'gbuuruwu']"
      ]
     },
     "execution_count": 8,
     "metadata": {},
     "output_type": "execute_result"
    }
   ],
   "source": [
    "designs[:4]"
   ]
  },
  {
   "cell_type": "code",
   "execution_count": 10,
   "metadata": {},
   "outputs": [
    {
     "name": "stdout",
     "output_type": "stream",
     "text": [
      "('ggbwrgwu', 'bbbgru')\n",
      "('ggbwrgwu', 'wwbg')\n",
      "('ggbwrgwu', 'gbuuruwu')\n",
      "('bbbgru', 'ggbwrgwu')\n",
      "('bbbgru', 'wwbg')\n",
      "('bbbgru', 'gbuuruwu')\n",
      "('wwbg', 'ggbwrgwu')\n",
      "('wwbg', 'bbbgru')\n",
      "('wwbg', 'gbuuruwu')\n",
      "('gbuuruwu', 'ggbwrgwu')\n",
      "('gbuuruwu', 'bbbgru')\n",
      "('gbuuruwu', 'wwbg')\n"
     ]
    }
   ],
   "source": [
    "for x in itertools.permutations(designs[:4], 2):\n",
    "    print(x)"
   ]
  },
  {
   "cell_type": "code",
   "execution_count": 33,
   "metadata": {},
   "outputs": [],
   "source": [
    "import functools \n",
    "@functools.cache\n",
    "def permute(d):\n",
    "    res = []\n",
    "    if len(d) == 1:\n",
    "        res = [d[0]]\n",
    "    else:\n",
    "        for pos, ch in enumerate(d):\n",
    "            for perm in permute(tuple(list(d[:pos]) + list(d[pos + 1:]))):\n",
    "                res += [ch + perm]\n",
    "    return res\n",
    "\n",
    "designs.sort(key=len)"
   ]
  },
  {
   "cell_type": "code",
   "execution_count": 1,
   "metadata": {},
   "outputs": [
    {
     "ename": "NameError",
     "evalue": "name 'permute' is not defined",
     "output_type": "error",
     "traceback": [
      "\u001b[0;31m---------------------------------------------------------------------------\u001b[0m",
      "\u001b[0;31mNameError\u001b[0m                                 Traceback (most recent call last)",
      "Cell \u001b[0;32mIn[1], line 1\u001b[0m\n\u001b[0;32m----> 1\u001b[0m \u001b[43mpermute\u001b[49m(\u001b[38;5;28mtuple\u001b[39m(designs[:\u001b[38;5;241m10\u001b[39m]))\n",
      "\u001b[0;31mNameError\u001b[0m: name 'permute' is not defined"
     ]
    }
   ],
   "source": [
    "permute(tuple(designs[:10]))"
   ]
  },
  {
   "cell_type": "code",
   "execution_count": 30,
   "metadata": {},
   "outputs": [
    {
     "data": {
      "text/plain": [
       "(0,)"
      ]
     },
     "execution_count": 30,
     "metadata": {},
     "output_type": "execute_result"
    }
   ],
   "source": [
    "(0, 1, 2)[:1]"
   ]
  },
  {
   "cell_type": "code",
   "execution_count": null,
   "metadata": {},
   "outputs": [],
   "source": []
  }
 ],
 "metadata": {
  "kernelspec": {
   "display_name": "py37",
   "language": "python",
   "name": "python3"
  },
  "language_info": {
   "codemirror_mode": {
    "name": "ipython",
    "version": 3
   },
   "file_extension": ".py",
   "mimetype": "text/x-python",
   "name": "python",
   "nbconvert_exporter": "python",
   "pygments_lexer": "ipython3",
   "version": "3.10.13"
  }
 },
 "nbformat": 4,
 "nbformat_minor": 2
}
