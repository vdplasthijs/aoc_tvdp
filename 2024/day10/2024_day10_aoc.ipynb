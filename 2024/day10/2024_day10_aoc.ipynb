{
 "cells": [
  {
   "cell_type": "code",
   "execution_count": 1,
   "metadata": {},
   "outputs": [],
   "source": [
    "%load_ext autoreload\n",
    "%autoreload 2\n",
    "\n",
    "import numpy as np\n",
    "import os, sys \n",
    "sys.path.append('..')\n",
    "import collections\n",
    "import copy\n",
    "import itertools\n",
    "import aoc_utils as au\n",
    "import math \n",
    "from tqdm import tqdm"
   ]
  },
  {
   "cell_type": "code",
   "execution_count": 19,
   "metadata": {},
   "outputs": [
    {
     "name": "stdout",
     "output_type": "stream",
     "text": [
      "input has 54 rows and 54 cols\n"
     ]
    }
   ],
   "source": [
    "input_text = au.read_txt_file_lines()\n",
    "n_rows = len(input_text)\n",
    "n_cols = len(input_text[0])\n",
    "for ii in range(1, n_rows):\n",
    "    assert len(input_text[ii]) == n_cols, f'row {ii} has {len(input_text[ii])} cols, not {n_cols}'\n",
    "print(f'input has {n_rows} rows and {n_cols} cols')"
   ]
  },
  {
   "cell_type": "markdown",
   "metadata": {},
   "source": [
    "Thoughts\n",
    "- Because you have to go for increasing numbers, paths will always be unique if you check for valid paths. \n",
    "- Can just do recursive"
   ]
  },
  {
   "cell_type": "code",
   "execution_count": 22,
   "metadata": {},
   "outputs": [
    {
     "name": "stdout",
     "output_type": "stream",
     "text": [
      "733\n",
      "1514\n"
     ]
    }
   ],
   "source": [
    "map = [[int(c) for c in r] for r in input_text]\n",
    "\n",
    "def in_bounds(row, col, n_rows=n_rows, n_cols=n_cols):\n",
    "    if row >= 0 and col >= 0 and row < n_rows and col < n_cols:\n",
    "        return True \n",
    "    return False\n",
    "\n",
    "def find_paths(start_r, start_c, tops_reached, rating, map=map):\n",
    "    if map[start_r][start_c] == 9:\n",
    "        rating += 1\n",
    "        if (start_r, start_c) not in tops_reached:\n",
    "            tops_reached.add((start_r, start_c))\n",
    "        return tops_reached, rating\n",
    "    \n",
    "    dirs = [(0, 1), (1, 0), (0, -1), (-1, 0)]\n",
    "    for d in dirs:\n",
    "        new_row, new_col = start_r + d[0], start_c + d[1]\n",
    "        if in_bounds(new_row, new_col):\n",
    "            if map[new_row][new_col] == map[start_r][start_c] + 1:\n",
    "                tops_reached, rating = find_paths(new_row, new_col, tops_reached, rating) \n",
    "\n",
    "    return tops_reached, rating\n",
    "\n",
    "n_paths = 0\n",
    "total_rating = 0\n",
    "for i_r, r in enumerate(map):\n",
    "    for i_c, c in enumerate(r):\n",
    "        if c == 0:\n",
    "            tops_reached, rating = find_paths(i_r, i_c, set(), 0)\n",
    "            n_paths += len(tops_reached)\n",
    "            total_rating += rating\n",
    "\n",
    "print(n_paths)  # part 1\n",
    "print(total_rating)  # part 2"
   ]
  }
 ],
 "metadata": {
  "kernelspec": {
   "display_name": "py37",
   "language": "python",
   "name": "python3"
  },
  "language_info": {
   "codemirror_mode": {
    "name": "ipython",
    "version": 3
   },
   "file_extension": ".py",
   "mimetype": "text/x-python",
   "name": "python",
   "nbconvert_exporter": "python",
   "pygments_lexer": "ipython3",
   "version": "3.10.13"
  }
 },
 "nbformat": 4,
 "nbformat_minor": 2
}
