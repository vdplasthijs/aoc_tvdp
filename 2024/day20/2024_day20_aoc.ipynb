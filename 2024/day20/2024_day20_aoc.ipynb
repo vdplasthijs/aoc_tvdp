{
 "cells": [
  {
   "cell_type": "code",
   "execution_count": 1,
   "metadata": {},
   "outputs": [],
   "source": [
    "%load_ext autoreload\n",
    "%autoreload 2\n",
    "\n",
    "import numpy as np\n",
    "import os, sys \n",
    "sys.path.append('..')\n",
    "from collections import deque\n",
    "import copy\n",
    "import itertools\n",
    "import aoc_utils as au\n",
    "import math \n",
    "from tqdm import tqdm"
   ]
  },
  {
   "cell_type": "code",
   "execution_count": 2,
   "metadata": {},
   "outputs": [
    {
     "name": "stdout",
     "output_type": "stream",
     "text": [
      "input has 141 rows and 141 cols\n"
     ]
    }
   ],
   "source": [
    "input_text = au.read_txt_file_lines()\n",
    "n_rows = len(input_text)\n",
    "n_cols = len(input_text[0])\n",
    "for ii in range(1, n_rows):\n",
    "    assert len(input_text[ii]) == n_cols, f'row {ii} has {len(input_text[ii])} cols, not {n_cols}'\n",
    "print(f'input has {n_rows} rows and {n_cols} cols')"
   ]
  },
  {
   "cell_type": "code",
   "execution_count": 3,
   "metadata": {},
   "outputs": [
    {
     "name": "stdout",
     "output_type": "stream",
     "text": [
      "49 61 69 69\n"
     ]
    }
   ],
   "source": [
    "for ir, r in enumerate(input_text):\n",
    "    for ic, el in enumerate(r):\n",
    "        if el == 'S':\n",
    "            start_r, start_c = ir, ic \n",
    "        elif el == 'E':\n",
    "            end_r, end_c = ir, ic \n",
    "\n",
    "print(start_r, start_c, end_r, end_c)"
   ]
  },
  {
   "cell_type": "code",
   "execution_count": 4,
   "metadata": {},
   "outputs": [],
   "source": [
    "dirs = [(1, 0), (0, 1), (-1, 0), (0, -1)]\n",
    "mat = np.zeros((n_rows, n_cols)) + np.inf # steps from end\n",
    "mat[end_r, end_c] = 0\n",
    "n = n_rows \n",
    "\n",
    "def in_bounds(x, y):\n",
    "    if x >= 0 and x < n and y >= 0 and y < n:\n",
    "        return True\n",
    "    return False\n",
    "\n",
    "queue = deque([((end_r, end_c, set([end_r, end_c])))])\n",
    "\n",
    "## BFS to find maze solution\n",
    "while len(queue) > 0:\n",
    "    x, y, visited = queue.popleft()\n",
    "    for d in dirs:\n",
    "        xn, yn = x + d[0], y + d[1]\n",
    "        if (xn, yn) not in visited and in_bounds(xn, yn) and input_text[xn][yn] != '#':\n",
    "            mat[xn, yn] = min(mat[xn, yn], mat[x, y] + 1)  ## add min distance to end\n",
    "            visited.add((xn, yn))\n",
    "            queue.append((xn, yn, visited))\n"
   ]
  },
  {
   "cell_type": "code",
   "execution_count": 5,
   "metadata": {},
   "outputs": [
    {
     "data": {
      "text/plain": [
       "<matplotlib.image.AxesImage at 0x127469b70>"
      ]
     },
     "execution_count": 5,
     "metadata": {},
     "output_type": "execute_result"
    },
    {
     "data": {
      "image/png": "[encoded data removed]",
      "text/plain": [
       "<Figure size 640x480 with 1 Axes>"
      ]
     },
     "metadata": {},
     "output_type": "display_data"
    }
   ],
   "source": [
    "import matplotlib.pyplot as plt\n",
    "plt.imshow(mat)"
   ]
  },
  {
   "cell_type": "code",
   "execution_count": 6,
   "metadata": {},
   "outputs": [
    {
     "name": "stdout",
     "output_type": "stream",
     "text": [
      "1524\n"
     ]
    }
   ],
   "source": [
    "list_bars = []\n",
    "total = 0\n",
    "threshold = 100\n",
    "\n",
    "## try all cheat combos:\n",
    "for ir in range(n_rows):\n",
    "    for ic in range(n_cols):\n",
    "\n",
    "        if mat[ir, ic] == np.inf:  # start on path\n",
    "            continue \n",
    "\n",
    "        for d in dirs:\n",
    "            if (not in_bounds(ir + 2 * d[0], ic + 2 * d[1])) or (mat[ir + d[0], ic + d[1]] != np.inf):  # only consider wall jumps\n",
    "                continue \n",
    "\n",
    "            s = (ir, ic)\n",
    "            e = (ir + 2 * d[0], ic + 2 * d[1])\n",
    "            end = mat[e]\n",
    "            if end != np.inf and abs(end - mat[s]) >= threshold + 2:  # end on path and above threshold:\n",
    "                list_bars.append((s, e))\n",
    "                total += 1\n",
    "\n",
    "print(total // 2)  ## double counted so / 2\n",
    "# print(list_bars)"
   ]
  },
  {
   "cell_type": "markdown",
   "metadata": {},
   "source": [
    "## part 2\n",
    "- Use something like manhattan distance and loop through all "
   ]
  },
  {
   "cell_type": "code",
   "execution_count": 7,
   "metadata": {},
   "outputs": [],
   "source": [
    "## Create manhattan grid:\n",
    "arr = np.arange(50)\n",
    "grid = np.meshgrid(arr, arr)\n",
    "center = np.array([25, 25]).reshape(-1, 1, 1)\n",
    "distance = 20\n",
    "\n",
    "inds_base = np.where(np.abs(grid - center).sum(0) <= distance)\n",
    "inds_base = (inds_base[0] - 25, inds_base[1] - 25)"
   ]
  },
  {
   "cell_type": "code",
   "execution_count": 8,
   "metadata": {},
   "outputs": [],
   "source": [
    "\n",
    "def get_inds_within_manh_range(x, y, max_dist=20, n=n_rows, inds_base=inds_base):\n",
    "    '''Recentre manhattan grid and remove all points not in bounds'''\n",
    "    inds = (inds_base[0] + x, inds_base[1] + y)\n",
    "    \n",
    "    tmp1 = np.logical_and(inds[0] >= 0, inds[0] < n)\n",
    "    tmp2 = np.logical_and(inds[1] >= 0, inds[1] < n)\n",
    "    tmp3 = np.logical_and(tmp1, tmp2)\n",
    "\n",
    "    inds = (inds[0][tmp3], inds[1][tmp3])\n",
    "    dist = np.array([abs(x - inds[0][ii]) + abs(y - inds[1][ii]) for ii in range(len(inds[0]))])\n",
    "\n",
    "    results = []\n",
    "    for ii, d in enumerate(dist):  # return as (row, col, dist)\n",
    "        results.append((inds[0][ii], inds[1][ii], d))\n",
    "    return results\n"
   ]
  },
  {
   "cell_type": "code",
   "execution_count": 9,
   "metadata": {},
   "outputs": [
    {
     "name": "stdout",
     "output_type": "stream",
     "text": [
      "1033746\n"
     ]
    }
   ],
   "source": [
    "\n",
    "total = 0 \n",
    "threshold = 100\n",
    "\n",
    "## try all combos\n",
    "for ir in range(n_rows):\n",
    "    for ic in range(n_cols):\n",
    "\n",
    "        if mat[ir, ic] == np.inf:  # start on path\n",
    "            continue \n",
    "\n",
    "        all_inds = get_inds_within_manh_range(ir, ic)  # get possible jumps\n",
    "\n",
    "        for (xn, yn, dist) in all_inds:\n",
    "            if mat[xn, yn] == np.inf:  # end on path\n",
    "                continue \n",
    "\n",
    "            if abs(mat[xn, yn] - mat[ir, ic]) >= threshold + dist:  # if threshold, go\n",
    "                total += 1\n",
    "                \n",
    "print(total // 2)  # correct for double count\n"
   ]
  }
 ],
 "metadata": {
  "kernelspec": {
   "display_name": "py37",
   "language": "python",
   "name": "python3"
  },
  "language_info": {
   "codemirror_mode": {
    "name": "ipython",
    "version": 3
   },
   "file_extension": ".py",
   "mimetype": "text/x-python",
   "name": "python",
   "nbconvert_exporter": "python",
   "pygments_lexer": "ipython3",
   "version": "3.10.13"
  }
 },
 "nbformat": 4,
 "nbformat_minor": 2
}
