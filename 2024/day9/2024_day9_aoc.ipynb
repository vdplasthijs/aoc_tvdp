{
 "cells": [
  {
   "cell_type": "code",
   "execution_count": 33,
   "metadata": {},
   "outputs": [
    {
     "name": "stdout",
     "output_type": "stream",
     "text": [
      "The autoreload extension is already loaded. To reload it, use:\n",
      "  %reload_ext autoreload\n"
     ]
    }
   ],
   "source": [
    "%load_ext autoreload\n",
    "%autoreload 2\n",
    "\n",
    "import numpy as np\n",
    "import os, sys \n",
    "sys.path.append('..')\n",
    "from collections import defaultdict\n",
    "import copy\n",
    "import itertools\n",
    "import aoc_utils as au\n",
    "import math \n",
    "from tqdm import tqdm"
   ]
  },
  {
   "cell_type": "code",
   "execution_count": 51,
   "metadata": {},
   "outputs": [
    {
     "name": "stdout",
     "output_type": "stream",
     "text": [
      "input has 1 rows and 19999 cols\n"
     ]
    }
   ],
   "source": [
    "input_text = au.read_txt_file_lines()\n",
    "n_rows = len(input_text)\n",
    "n_cols = len(input_text[0])\n",
    "for ii in range(1, n_rows):\n",
    "    assert len(input_text[ii]) == n_cols, f'row {ii} has {len(input_text[ii])} cols, not {n_cols}'\n",
    "print(f'input has {n_rows} rows and {n_cols} cols')\n",
    "input_text = input_text[0]"
   ]
  },
  {
   "cell_type": "code",
   "execution_count": 20,
   "metadata": {},
   "outputs": [
    {
     "name": "stdout",
     "output_type": "stream",
     "text": [
      "6341711060162\n"
     ]
    }
   ],
   "source": [
    "## Create expanded form of numbers:\n",
    "list_nums = []\n",
    "count = 0\n",
    "for ii, num in enumerate(input_text):\n",
    "    for jj in range(int(num)):\n",
    "        if ii % 2 == 0:\n",
    "            list_nums.append(count)\n",
    "        else:\n",
    "            list_nums.append('')\n",
    "    \n",
    "    if ii % 2 == 0:\n",
    "        count += 1\n",
    "\n",
    "## Use pointer going forwards and one going backwards to do swaps until they meet:\n",
    "point_f = 0\n",
    "point_b = len(list_nums) - 1\n",
    "\n",
    "while point_f < point_b:\n",
    "    while list_nums[point_f] != '':\n",
    "        point_f += 1\n",
    "\n",
    "    while list_nums[point_b] == '':\n",
    "        point_b -= 1\n",
    "\n",
    "    if point_f < point_b:\n",
    "        list_nums[point_f], list_nums[point_b] = list_nums[point_b], ''\n",
    "\n",
    "    \n",
    "total_sum = sum([ii * int(n) for ii, n in enumerate(list_nums[:point_f])])\n",
    "print(total_sum)"
   ]
  },
  {
   "cell_type": "markdown",
   "metadata": {},
   "source": [
    "# part 2:"
   ]
  },
  {
   "cell_type": "code",
   "execution_count": 56,
   "metadata": {},
   "outputs": [
    {
     "name": "stdout",
     "output_type": "stream",
     "text": [
      "6377400869326\n"
     ]
    }
   ],
   "source": [
    "list_nums = []\n",
    "# save locs of gaps and nums:\n",
    "list_locs_gaps = []  \n",
    "list_locs_nums = []\n",
    "count = 0\n",
    "for ii, num in enumerate(input_text):\n",
    "    start_ind = len(list_nums)\n",
    "    size = int(num)\n",
    "    for jj in range(int(num)):\n",
    "        if ii % 2 == 0:\n",
    "            if jj == 0:\n",
    "                list_locs_nums.append((start_ind, count, size))\n",
    "            list_nums.append(count)\n",
    "        else:\n",
    "            if jj == 0:\n",
    "                list_locs_gaps.append((start_ind, size))\n",
    "            list_nums.append('')\n",
    "    \n",
    "    if ii % 2 == 0:\n",
    "        count += 1\n",
    "\n",
    "## Loop backwards through number (intervals), find first matching gap and replace/udpate:\n",
    "for (start_ind_nums, id_nums, size_nums) in list_locs_nums[::-1]:\n",
    "    for i_gap, (start_ind_gap, size_gap) in enumerate(list_locs_gaps):\n",
    "        if size_gap == size_nums:  # if exact fit; remove gap from list\n",
    "            list_locs_gaps.pop(i_gap)\n",
    "        elif size_gap > size_nums:  # if gap larger, adjust size and start:\n",
    "            list_locs_gaps[i_gap] = (start_ind_gap + size_nums, size_gap - size_nums)\n",
    "        else:\n",
    "            continue \n",
    "\n",
    "        if start_ind_gap > start_ind_nums:  # if algorithm goes beyond the swap let it die\n",
    "            continue\n",
    "\n",
    "        for kk in range(size_nums):  # swap numbers:\n",
    "            list_nums[start_ind_gap + kk] = id_nums\n",
    "            list_nums[start_ind_nums + kk] = ''\n",
    "        break\n",
    "\n",
    "total_sum = sum([ii * int(n) if n != '' else 0 for ii, n in enumerate(list_nums)])\n",
    "print(total_sum)"
   ]
  }
 ],
 "metadata": {
  "kernelspec": {
   "display_name": "py37",
   "language": "python",
   "name": "python3"
  },
  "language_info": {
   "codemirror_mode": {
    "name": "ipython",
    "version": 3
   },
   "file_extension": ".py",
   "mimetype": "text/x-python",
   "name": "python",
   "nbconvert_exporter": "python",
   "pygments_lexer": "ipython3",
   "version": "3.10.13"
  }
 },
 "nbformat": 4,
 "nbformat_minor": 2
}
