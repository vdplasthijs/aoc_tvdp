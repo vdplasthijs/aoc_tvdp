{
 "cells": [
  {
   "cell_type": "code",
   "execution_count": 6,
   "metadata": {},
   "outputs": [
    {
     "name": "stdout",
     "output_type": "stream",
     "text": [
      "The autoreload extension is already loaded. To reload it, use:\n",
      "  %reload_ext autoreload\n"
     ]
    }
   ],
   "source": [
    "%load_ext autoreload\n",
    "%autoreload 2\n",
    "\n",
    "import numpy as np\n",
    "import os, sys \n",
    "sys.path.append('..')\n",
    "import collections\n",
    "import copy\n",
    "import itertools\n",
    "import aoc_utils as au\n",
    "import math \n",
    "from tqdm import tqdm\n",
    "from collections import defaultdict"
   ]
  },
  {
   "cell_type": "code",
   "execution_count": 2,
   "metadata": {},
   "outputs": [],
   "source": [
    "input_text = au.read_txt_file_lines()\n",
    "n_rows = len(input_text)\n",
    "n_cols = len(input_text[0])\n",
    "# for ii in range(1, n_rows):\n",
    "#     assert len(input_text[ii]) == n_cols, f'row {ii} has {len(input_text[ii])} cols, not {n_cols}'\n",
    "# print(f'input has {n_rows} rows and {n_cols} cols')"
   ]
  },
  {
   "cell_type": "code",
   "execution_count": 13,
   "metadata": {},
   "outputs": [
    {
     "name": "stdout",
     "output_type": "stream",
     "text": [
      "174 [[79, 65, 51, 72, 41, 95, 37, 24, 97, 61, 13, 44, 21, 38, 71, 56, 17, 31, 47, 62, 22, 88, 19], [62, 97, 72, 71, 54, 95, 41, 51, 44, 13, 79, 31, 24, 37, 65, 56, 88, 61, 45, 39, 52], [13, 79, 21, 69, 97, 54, 22, 17, 56, 51, 44, 65, 72, 19, 71, 61, 88, 62, 24, 41, 95]]\n",
      "defaultdict(<class 'list'>, {96: [89, 58, 22, 49, 77, 82, 32, 57, 19, 21, 87, 55, 33, 38, 15, 63, 17, 53, 12, 67, 26, 25, 91, 93], 15: [17, 93, 19, 54, 13, 77, 38, 31, 72, 32, 41, 51, 71, 44, 53, 97, 95, 82, 67, 57, 21, 79, 62, 22], 55: [49, 82, 72, 33, 15, 93, 12, 38, 22, 89, 58, 21, 62, 67, 19, 97, 91, 17, 32, 25, 57, 63, 77, 53], 37: [87, 26, 33, 12, 77, 25, 91, 49, 52, 58, 15, 63, 89, 56, 39, 47, 96, 88, 84, 69, 65, 61, 55, 45], 52: [57, 89, 67, 19, 38, 12, 82, 96, 53, 77, 58, 25, 49, 93, 55, 22, 33, 26, 32, 87, 15, 63, 91, 17], 58: [97, 22, 91, 93, 32, 12, 19, 25, 21, 71, 62, 67, 82, 15, 33, 89, 49, 77, 63, 38, 17, 57, 53, 72], 61: [49, 87, 58, 39, 63, 52, 84, 32, 26, 57, 77, 47, 33, 96, 45, 55, 25, 12, 82, 15, 93, 91, 89, 69], 33: [51, 49, 21, 71, 44, 97, 57, 67, 53, 63, 77, 62, 19, 54, 38, 32, 93, 72, 82, 22, 95, 17, 15, 41], 54: [41, 56, 26, 96, 39, 44, 95, 52, 45, 55, 51, 13, 87, 58, 65, 88, 47, 79, 84, 31, 24, 69, 37, 61], 88: [57, 84, 55, 89, 91, 32, 25, 63, 33, 69, 61, 87, 82, 12, 39, 15, 49, 52, 77, 47, 26, 58, 45, 96], 24: [26, 37, 45, 33, 25, 69, 15, 56, 87, 84, 63, 39, 12, 91, 61, 52, 88, 96, 49, 47, 65, 58, 55, 89], 32: [24, 21, 93, 62, 51, 72, 41, 71, 19, 95, 17, 53, 57, 65, 37, 67, 38, 44, 97, 13, 31, 79, 54, 22], 13: [55, 65, 87, 96, 69, 25, 24, 26, 84, 33, 52, 39, 79, 37, 88, 91, 31, 56, 58, 61, 47, 45, 12, 89], 31: [25, 96, 55, 45, 61, 49, 39, 87, 58, 12, 37, 84, 89, 24, 63, 91, 65, 26, 88, 33, 56, 47, 52, 69], 93: [38, 51, 62, 17, 44, 41, 79, 53, 65, 88, 56, 19, 71, 97, 24, 72, 54, 37, 22, 31, 21, 67, 13, 95], 87: [21, 19, 17, 89, 97, 93, 62, 55, 57, 15, 82, 22, 12, 63, 33, 49, 25, 38, 53, 32, 58, 67, 77, 91], 53: [56, 37, 71, 54, 97, 17, 31, 88, 51, 79, 13, 61, 38, 95, 19, 47, 72, 44, 62, 65, 21, 41, 24, 22], 71: [51, 61, 37, 69, 96, 24, 87, 39, 65, 95, 47, 31, 79, 44, 88, 54, 84, 26, 55, 13, 45, 52, 56, 41], 84: [58, 25, 77, 89, 82, 63, 57, 52, 33, 55, 17, 12, 26, 49, 67, 93, 53, 32, 91, 96, 38, 87, 22, 15], 21: [65, 39, 41, 56, 52, 37, 88, 62, 31, 47, 79, 61, 51, 69, 13, 72, 24, 54, 84, 95, 44, 45, 71, 97], 69: [45, 57, 89, 33, 84, 58, 91, 63, 82, 96, 25, 15, 67, 49, 39, 93, 32, 87, 52, 12, 55, 26, 53, 77], 49: [17, 79, 67, 51, 54, 22, 57, 93, 72, 77, 38, 13, 82, 62, 44, 21, 95, 71, 32, 15, 53, 19, 41, 97], 47: [58, 57, 39, 63, 89, 96, 33, 93, 91, 26, 45, 55, 25, 15, 82, 69, 67, 77, 32, 87, 49, 52, 12, 84], 25: [57, 32, 62, 63, 33, 77, 71, 19, 91, 21, 38, 72, 97, 93, 95, 12, 15, 82, 54, 53, 22, 67, 49, 17], 65: [26, 52, 63, 47, 77, 91, 12, 39, 82, 96, 61, 56, 15, 49, 55, 88, 58, 25, 84, 87, 45, 89, 69, 33], 62: [71, 45, 52, 95, 44, 56, 61, 39, 72, 65, 41, 31, 37, 97, 96, 47, 24, 69, 79, 84, 13, 54, 51, 88], 63: [57, 97, 19, 15, 21, 77, 72, 54, 13, 67, 51, 71, 53, 38, 49, 17, 93, 95, 41, 32, 22, 82, 44, 62], 57: [67, 93, 44, 54, 19, 79, 56, 38, 62, 21, 53, 13, 37, 22, 24, 31, 72, 17, 95, 65, 71, 51, 97, 41], 77: [19, 79, 31, 22, 21, 67, 97, 62, 54, 82, 32, 51, 71, 53, 44, 95, 38, 57, 41, 24, 13, 93, 72, 17], 19: [62, 97, 39, 21, 13, 54, 69, 88, 79, 45, 47, 56, 51, 84, 95, 72, 31, 61, 24, 44, 37, 41, 65, 71], 39: [84, 67, 91, 12, 32, 53, 87, 25, 63, 89, 96, 58, 15, 49, 38, 52, 33, 22, 55, 57, 77, 93, 26, 82], 79: [87, 88, 26, 61, 24, 52, 47, 37, 33, 91, 84, 65, 45, 63, 25, 39, 31, 56, 12, 58, 96, 69, 89, 55], 41: [87, 79, 65, 39, 44, 55, 61, 37, 84, 58, 52, 45, 69, 56, 96, 47, 13, 51, 24, 31, 88, 25, 26, 89], 12: [41, 77, 71, 67, 97, 93, 91, 82, 63, 62, 19, 32, 57, 21, 54, 38, 95, 53, 15, 49, 72, 17, 33, 22], 91: [71, 63, 77, 49, 57, 51, 53, 33, 38, 82, 93, 62, 32, 41, 15, 22, 97, 21, 54, 17, 72, 95, 67, 19], 51: [61, 26, 87, 65, 44, 84, 24, 39, 45, 52, 56, 96, 79, 47, 13, 89, 12, 69, 55, 31, 25, 58, 37, 88], 95: [56, 58, 41, 39, 96, 79, 26, 47, 55, 45, 31, 61, 88, 84, 89, 65, 69, 44, 52, 87, 37, 24, 13, 51], 22: [47, 21, 31, 62, 88, 45, 79, 97, 41, 37, 19, 61, 13, 24, 54, 69, 65, 44, 51, 95, 17, 71, 56, 72], 97: [51, 31, 41, 54, 61, 71, 84, 45, 47, 95, 24, 26, 79, 96, 37, 72, 52, 69, 13, 44, 56, 65, 88, 39], 38: [61, 31, 47, 65, 44, 88, 41, 37, 95, 62, 56, 79, 22, 17, 19, 97, 21, 71, 24, 51, 54, 72, 69, 13], 82: [32, 53, 79, 17, 37, 44, 57, 31, 38, 54, 95, 13, 41, 19, 72, 24, 62, 71, 21, 93, 51, 67, 22, 97], 44: [45, 87, 37, 47, 25, 56, 84, 58, 24, 89, 69, 13, 79, 26, 88, 52, 31, 91, 39, 12, 55, 61, 65, 96], 72: [52, 65, 54, 84, 88, 44, 26, 96, 47, 37, 79, 39, 69, 71, 87, 95, 56, 31, 24, 41, 45, 51, 61, 13], 26: [17, 57, 91, 67, 12, 89, 15, 32, 22, 82, 77, 38, 33, 55, 63, 49, 21, 58, 93, 19, 25, 53, 87, 62], 17: [88, 45, 71, 44, 41, 79, 19, 97, 62, 39, 69, 54, 72, 37, 13, 47, 61, 21, 51, 31, 56, 24, 95, 65], 45: [89, 53, 39, 52, 87, 63, 12, 91, 67, 32, 33, 93, 82, 57, 15, 77, 25, 96, 38, 84, 55, 58, 49, 26], 67: [71, 61, 19, 95, 97, 21, 56, 41, 79, 24, 65, 37, 38, 22, 54, 72, 17, 51, 31, 13, 62, 88, 44, 53], 89: [53, 25, 97, 93, 91, 62, 22, 54, 32, 15, 82, 38, 12, 17, 33, 49, 57, 19, 63, 21, 72, 77, 67, 71], 56: [52, 87, 96, 25, 45, 63, 89, 88, 82, 61, 26, 33, 58, 84, 12, 39, 55, 15, 91, 47, 77, 32, 49, 69]})\n"
     ]
    }
   ],
   "source": [
    "hm_rules = defaultdict(list)\n",
    "seq = []\n",
    "\n",
    "for l in input_text:\n",
    "    if l == '':\n",
    "        continue \n",
    "        \n",
    "    elif l[2] == '|':\n",
    "        tmp = [int(x) for x in l.split('|')]\n",
    "        hm_rules[tmp[0]].append(tmp[1])\n",
    "\n",
    "    else:\n",
    "        tmp = [int(x) for x in l.split(',')]\n",
    "        assert len(tmp) % 2 == 1\n",
    "        seq.append(tmp)\n",
    "\n",
    "print(len(seq), seq[:3])\n",
    "print(hm_rules)"
   ]
  },
  {
   "cell_type": "code",
   "execution_count": 37,
   "metadata": {},
   "outputs": [
    {
     "data": {
      "text/plain": [
       "5166"
      ]
     },
     "execution_count": 37,
     "metadata": {},
     "output_type": "execute_result"
    }
   ],
   "source": [
    "total = 0 \n",
    "seq_wrong = []\n",
    "\n",
    "for s in seq:\n",
    "    not_possible = set()\n",
    "    bool_seq_ok = True \n",
    "\n",
    "    for char in s[::-1]:  # loop in reverse to check previous constraints\n",
    "        if char in not_possible:\n",
    "            bool_seq_ok = False\n",
    "            seq_wrong.append(s)\n",
    "            break\n",
    "        \n",
    "        not_possible.update(hm_rules[char])\n",
    "\n",
    "    if bool_seq_ok:\n",
    "        total += s[len(s) // 2]\n",
    "\n",
    "total"
   ]
  },
  {
   "cell_type": "markdown",
   "metadata": {},
   "source": [
    "## part 2:\n"
   ]
  },
  {
   "cell_type": "code",
   "execution_count": 38,
   "metadata": {},
   "outputs": [
    {
     "data": {
      "text/plain": [
       "(81, 174)"
      ]
     },
     "execution_count": 38,
     "metadata": {},
     "output_type": "execute_result"
    }
   ],
   "source": [
    "len(seq_wrong), len(seq)"
   ]
  },
  {
   "cell_type": "code",
   "execution_count": 43,
   "metadata": {},
   "outputs": [
    {
     "data": {
      "text/plain": [
       "4679"
      ]
     },
     "execution_count": 43,
     "metadata": {},
     "output_type": "execute_result"
    }
   ],
   "source": [
    "total = 0\n",
    "\n",
    "for i_s, s in enumerate(seq_wrong):\n",
    "    not_possible = defaultdict(list)\n",
    "    s_rev = s[::-1]\n",
    "    bool_add_ok = True\n",
    "\n",
    "    for i_char, char in enumerate(s_rev):  # loop in reverse to check previous constraints\n",
    "        if char in not_possible.keys():\n",
    "            if len(not_possible[char]) == 1:  # if 1 conflict, swap\n",
    "                char_swap, i_char_swap = not_possible[char][0]\n",
    "            else:  # if multiple conflict, swap with first\n",
    "                curr_min = len(s_rev)\n",
    "                for (char_swap_tmp, i_char_swap_tmp) in not_possible[char]:\n",
    "                    if i_char_swap_tmp < curr_min:\n",
    "                        i_char_swap = i_char_swap_tmp\n",
    "                        char_swap = char_swap_tmp\n",
    "            \n",
    "            s_rev[i_char], s_rev[i_char_swap] = char_swap, char\n",
    "            seq_wrong.append(s_rev[::-1])  # add updated sequence back to queue\n",
    "            bool_add_ok = False  # don't add up to total yet\n",
    "            break\n",
    "        \n",
    "        for tmp in hm_rules[char]:  # this time, don't just create set but hash map with conflicting char\n",
    "            not_possible[tmp].append((char, i_char))\n",
    "\n",
    "    if bool_add_ok:\n",
    "        total += s[len(s) // 2]\n",
    "\n",
    "total"
   ]
  }
 ],
 "metadata": {
  "kernelspec": {
   "display_name": "py37",
   "language": "python",
   "name": "python3"
  },
  "language_info": {
   "codemirror_mode": {
    "name": "ipython",
    "version": 3
   },
   "file_extension": ".py",
   "mimetype": "text/x-python",
   "name": "python",
   "nbconvert_exporter": "python",
   "pygments_lexer": "ipython3",
   "version": "3.10.13"
  }
 },
 "nbformat": 4,
 "nbformat_minor": 2
}
