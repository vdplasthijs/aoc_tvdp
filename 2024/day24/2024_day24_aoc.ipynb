{
 "cells": [
  {
   "cell_type": "code",
   "execution_count": 1,
   "metadata": {},
   "outputs": [],
   "source": [
    "%load_ext autoreload\n",
    "%autoreload 2\n",
    "\n",
    "import numpy as np\n",
    "import os, sys \n",
    "sys.path.append('..')\n",
    "from collections import defaultdict, deque\n",
    "import copy\n",
    "import itertools\n",
    "import aoc_utils as au\n",
    "import math \n",
    "from tqdm import tqdm"
   ]
  },
  {
   "cell_type": "code",
   "execution_count": 2,
   "metadata": {},
   "outputs": [
    {
     "name": "stdout",
     "output_type": "stream",
     "text": [
      "N gates: 222\n"
     ]
    }
   ],
   "source": [
    "def get_data():\n",
    "    input_text = au.read_txt_file_lines()\n",
    "    ind_split = np.where([x == '' for x in input_text])[0][0]\n",
    "    init = []\n",
    "    for ii in input_text[:ind_split]:\n",
    "        tmp1, tmp2 = ii.split(':')\n",
    "        tmp2 = int(tmp2.lstrip())\n",
    "        init.append((tmp1, tmp2))\n",
    "\n",
    "    gates = []\n",
    "    dict_in = defaultdict(list)\n",
    "    dict_out = defaultdict(list)\n",
    "\n",
    "    for ig, gg in enumerate(input_text[ind_split + 1:]):\n",
    "        tmp_in, tmp_out = gg.split('->')\n",
    "        tmp_out = tmp_out.lstrip()\n",
    "        in1, t, in2 = tmp_in.split()\n",
    "        gates.append((in1, in2, tmp_out, t))\n",
    "\n",
    "        dict_in[in1].append(ig)\n",
    "        dict_in[in2].append(ig)\n",
    "        dict_out[tmp_out].append(ig)\n",
    "    return gates, init, dict_in, dict_out\n",
    "\n",
    "gates, init, dict_in, dict_out = get_data()\n",
    "print(f'N gates: {len(gates)}')\n"
   ]
  },
  {
   "cell_type": "code",
   "execution_count": 3,
   "metadata": {},
   "outputs": [
    {
     "name": "stdout",
     "output_type": "stream",
     "text": [
      "1101000110101010100101111010011000011100100110 57632654722854\n"
     ]
    }
   ],
   "source": [
    "## there are no loops ... just one loop then (for now?)\n",
    "def eval_machine(gates, init, dict_in):\n",
    "    vals = {ii[0]: ii[1] for ii in init}\n",
    "    wires = {ig: [None, None, None] for ig in range(len(gates))}\n",
    "    queue = deque(init)\n",
    "\n",
    "    while len(queue) > 0:\n",
    "        iw = queue.popleft()\n",
    "        ind_gates = dict_in[iw[0]]\n",
    "\n",
    "        for ig in ind_gates:\n",
    "            ind_w = np.where([tmp_g == iw[0] for tmp_g in gates[ig]])[0][0]\n",
    "            wires[ig][ind_w] = iw[1]\n",
    "\n",
    "            if wires[ig][0] is not None and wires[ig][1] is not None:\n",
    "                assert wires[ig][2] is None, wires[ig]\n",
    "                assert wires[ig][0] in [0, 1] and wires[ig][1] in [0, 1]\n",
    "                if gates[ig][3] == 'AND':\n",
    "                    wires[ig][2] = wires[ig][0] & wires[ig][1]\n",
    "                elif gates[ig][3] == 'OR':\n",
    "                    wires[ig][2] = wires[ig][0] | wires[ig][1]\n",
    "                elif gates[ig][3] == 'XOR':\n",
    "                    wires[ig][2] = wires[ig][0] ^ wires[ig][1]\n",
    "                vals[gates[ig][2]] = wires[ig][2]\n",
    "                queue.append((gates[ig][2], wires[ig][2]))\n",
    "    return vals, wires, gates\n",
    "\n",
    "def join_bits(vals_z, verbose=True):\n",
    "    vals_key = list(vals_z.keys())\n",
    "    tmp = [v[0] for v in vals_key]\n",
    "    assert len(set(tmp)) == 1, tmp\n",
    "    lead_str = tmp[0]\n",
    "    final_z = ''\n",
    "    ind = 0 \n",
    "    str_z = lead_str + str(ind).zfill(2) \n",
    "    while str_z in vals_z.keys():\n",
    "        final_z = str(vals_z[str_z]) + final_z\n",
    "        ind += 1\n",
    "        str_z = lead_str + str(ind).zfill(2) \n",
    "\n",
    "    if verbose:\n",
    "        print(final_z, int(final_z, 2))\n",
    "    return final_z, int(final_z, 2)\n",
    "\n",
    "vals, wires, gates = eval_machine(gates, init, dict_in)\n",
    "vals_z = {k: v for k, v in vals.items() if k[0] == 'z'}\n",
    "_ = join_bits(vals_z)\n"
   ]
  },
  {
   "cell_type": "markdown",
   "metadata": {},
   "source": [
    "## part 2"
   ]
  },
  {
   "cell_type": "code",
   "execution_count": 60,
   "metadata": {},
   "outputs": [
    {
     "data": {
      "text/plain": [
       "[('x15', 'y15', 'z15', 'AND'),\n",
       " ('rqt', 'rdt', 'z23', 'OR'),\n",
       " ('vbt', 'vqr', 'z39', 'AND'),\n",
       " ('jwh', 'tmh', 'z45', 'OR')]"
      ]
     },
     "execution_count": 60,
     "metadata": {},
     "output_type": "execute_result"
    }
   ],
   "source": [
    "## Look for anomalies, this was the winning search: \n",
    "## (z45 OR is fine, others are wrong)\n",
    "\n",
    "gates, init, dict_in, dict_out = get_data()\n",
    "\n",
    "gates_and = []\n",
    "for g in gates:\n",
    "    if 'z' in g[2] and g[3] != 'XOR':\n",
    "    # if 'x' in g[0] and 'y' in g[1] and g[3] == 'AND':\n",
    "    # if 'x06' in g[0]:\n",
    "        gates_and.append(g)\n",
    "\n",
    "gates_and = sorted(gates_and, key=lambda g: g[2])\n",
    "gates_and"
   ]
  },
  {
   "cell_type": "code",
   "execution_count": null,
   "metadata": {},
   "outputs": [
    {
     "name": "stdout",
     "output_type": "stream",
     "text": [
      "N gates: 222\n",
      "111000011010110000101100011101101111011001101 31016199577293\n",
      "101111011010100100000110110101010100000011001 26066707720217\n",
      "1100111110101010100110011010011000011100100110 57082907297574\n",
      "57082907297574\n",
      "57082907297510\n",
      "0111000011010110000101100011101101111011001101\n",
      "0101111011010100100000110110101010100000011001\n",
      "1100111110101010100110011010011000011100100110\n"
     ]
    }
   ],
   "source": [
    "## Just one extra pair needs to be found. Just do brute force N^2 possibilities:\n",
    "\n",
    "def get_data_part2(extra_swap=None):\n",
    "    wrong = [('qbw', 'fqf', 'ckj', 'XOR'), \n",
    "            ('x15', 'y15', 'z15', 'AND'), \n",
    "            ('nsr', 'gsd', 'kdf', 'XOR'),   \n",
    "            ('rqt', 'rdt', 'z23', 'OR'),  \n",
    "            ('vbt', 'vqr', 'z39', 'AND'),\n",
    "            ('vqr', 'vbt', 'rpp', 'XOR')]\n",
    "    \n",
    "    right = [('qbw', 'fqf', 'z15', 'XOR'), \n",
    "            ('x15', 'y15', 'ckj', 'AND'), \n",
    "            ('nsr', 'gsd', 'z23', 'XOR'),   \n",
    "            ('rqt', 'rdt', 'kdf', 'OR'),  \n",
    "            ('vbt', 'vqr', 'rpp', 'AND'),\n",
    "            ('vqr', 'vbt', 'z39', 'XOR')]\n",
    "    \n",
    "    input_text = au.read_txt_file_lines()\n",
    "    ind_split = np.where([x == '' for x in input_text])[0][0]\n",
    "    init = []\n",
    "    for ii in input_text[:ind_split]:\n",
    "        tmp1, tmp2 = ii.split(':')\n",
    "        tmp2 = int(tmp2.lstrip())\n",
    "        init.append((tmp1, tmp2))\n",
    "\n",
    "    gates = []\n",
    "    dict_in = defaultdict(list)\n",
    "    dict_out = defaultdict(list)\n",
    "\n",
    "    for ig, gg in enumerate(input_text[ind_split + 1:]):\n",
    "        tmp_in, tmp_out = gg.split('->')\n",
    "        tmp_out = tmp_out.lstrip()\n",
    "        in1, t, in2 = tmp_in.split()\n",
    "        gate = (in1, in2, tmp_out, t)\n",
    "        if gate in wrong:  # swap 3 wrong paris\n",
    "            ind_wrong_gate = np.where([x == gate for x in wrong])[0][0]\n",
    "\n",
    "            gate = right[ind_wrong_gate]\n",
    "        gates.append(gate)\n",
    "\n",
    "        dict_in[in1].append(ig)\n",
    "        dict_in[in2].append(ig)\n",
    "        dict_out[tmp_out].append(ig)\n",
    "\n",
    "    if extra_swap is not None:  # swap an arbitrary pair (i1, i2)\n",
    "        ig1, ig2 = extra_swap\n",
    "        g1 = list(gates[ig1])\n",
    "        g2 = list(gates[ig2])\n",
    "\n",
    "        g1s, g2s = g1, g2\n",
    "        g1s[2], g2s[2] = g2[2], g1[2]\n",
    "\n",
    "        gates[ig1] = tuple(g1s)\n",
    "        gates[ig2] = tuple(g2s)\n",
    "\n",
    "    return gates, init, dict_in, dict_out\n",
    "\n",
    "gates, init, dict_in, dict_out = get_data_part2()\n",
    "print(f'N gates: {len(gates)}')\n",
    "\n",
    "vals_x = {ii[0]: ii[1] for ii in init if ii[0][0] == 'x'}\n",
    "vals_y = {ii[0]: ii[1] for ii in init if ii[0][0] == 'y'}\n",
    "\n",
    "vals, wires, gates = eval_machine(gates, init, dict_in)\n",
    "vals_z = {k: v for k, v in vals.items() if k[0] == 'z'}\n",
    "\n",
    "x_bin, x_int = join_bits(vals_x)\n",
    "y_bin, y_int = join_bits(vals_y)\n",
    "z_bin, z_int = join_bits(vals_z)\n",
    "print(z_int)\n",
    "print(x_int + y_int)\n",
    "\n",
    "print('0' + x_bin)\n",
    "print('0' + y_bin)\n",
    "print(z_bin)"
   ]
  },
  {
   "cell_type": "code",
   "execution_count": 56,
   "metadata": {},
   "outputs": [
    {
     "ename": "AssertionError",
     "evalue": "(75, 151)",
     "output_type": "error",
     "traceback": [
      "\u001b[0;31m---------------------------------------------------------------------------\u001b[0m",
      "\u001b[0;31mAssertionError\u001b[0m                            Traceback (most recent call last)",
      "Cell \u001b[0;32mIn[56], line 20\u001b[0m\n\u001b[1;32m     17\u001b[0m         z_bin, z_int \u001b[38;5;241m=\u001b[39m join_bits(vals_z, \u001b[38;5;241m0\u001b[39m)\n\u001b[1;32m     19\u001b[0m         \u001b[38;5;28;01mif\u001b[39;00m z_int \u001b[38;5;241m==\u001b[39m (x_int \u001b[38;5;241m+\u001b[39m y_int):\n\u001b[0;32m---> 20\u001b[0m             \u001b[38;5;28;01massert\u001b[39;00m \u001b[38;5;28;01mFalse\u001b[39;00m, (i1, i2)\n\u001b[1;32m     22\u001b[0m gates, init, dict_in, dict_out \u001b[38;5;241m=\u001b[39m get_data_part2()\n\u001b[1;32m     23\u001b[0m \u001b[38;5;28mprint\u001b[39m(gates[i1], i1)\n",
      "\u001b[0;31mAssertionError\u001b[0m: (75, 151)"
     ]
    }
   ],
   "source": [
    "n = len(gates)\n",
    "\n",
    "for i1 in range(n - 1):\n",
    "    for i2 in range(i1 + 1, n):\n",
    "\n",
    "\n",
    "        gates, init, dict_in, dict_out = get_data_part2((i1, i2))\n",
    "        \n",
    "        vals_x = {ii[0]: ii[1] for ii in init if ii[0][0] == 'x'}\n",
    "        vals_y = {ii[0]: ii[1] for ii in init if ii[0][0] == 'y'}\n",
    "\n",
    "        vals, wires, gates = eval_machine(gates, init, dict_in)\n",
    "        vals_z = {k: v for k, v in vals.items() if k[0] == 'z'}\n",
    "\n",
    "        x_bin, x_int = join_bits(vals_x, 0)\n",
    "        y_bin, y_int = join_bits(vals_y, 0)\n",
    "        z_bin, z_int = join_bits(vals_z, 0)\n",
    "        \n",
    "        if z_int == (x_int + y_int):\n",
    "            assert False, (i1, i2)\n"
   ]
  },
  {
   "cell_type": "code",
   "execution_count": 57,
   "metadata": {},
   "outputs": [
    {
     "name": "stdout",
     "output_type": "stream",
     "text": [
      "('y06', 'x06', 'fdv', 'AND') 75\n",
      "('x06', 'y06', 'dbp', 'XOR') 151\n"
     ]
    }
   ],
   "source": [
    "\n",
    "gates, init, dict_in, dict_out = get_data_part2()\n",
    "print(gates[i1], i1)\n",
    "print(gates[i2], i2)"
   ]
  },
  {
   "cell_type": "code",
   "execution_count": 61,
   "metadata": {},
   "outputs": [
    {
     "data": {
      "text/plain": [
       "'ckj,dbp,fdv,kdf,rpp,z15,z23,z39'"
      ]
     },
     "execution_count": 61,
     "metadata": {},
     "output_type": "execute_result"
    }
   ],
   "source": [
    "wrong_outputs = ['ckj', 'z15', 'kdf', 'z23', 'z39', 'rpp', 'fdv', 'dbp']\n",
    "','.join(sorted(wrong_outputs))\n"
   ]
  },
  {
   "cell_type": "markdown",
   "metadata": {},
   "source": [
    "## some misc code:"
   ]
  },
  {
   "cell_type": "code",
   "execution_count": 54,
   "metadata": {},
   "outputs": [
    {
     "name": "stdout",
     "output_type": "stream",
     "text": [
      "('x00', 'y00', 'rfg', 'AND')\n",
      "('x00', 'y00', 'z00', 'XOR')\n",
      "('y01', 'x01', 'fps', 'XOR')\n",
      "('x01', 'y01', 'hnq', 'AND')\n",
      "('x02', 'y02', 'hvw', 'AND')\n",
      "('x02', 'y02', 'nfs', 'XOR')\n",
      "('x03', 'y03', 'dcf', 'AND')\n",
      "('x03', 'y03', 'qtf', 'XOR')\n",
      "('x04', 'y04', 'ppf', 'AND')\n",
      "('y04', 'x04', 'rqm', 'XOR')\n",
      "('x05', 'y05', 'frt', 'AND')\n",
      "('y05', 'x05', 'wgk', 'XOR')\n",
      "('y06', 'x06', 'fdv', 'AND')\n",
      "('x06', 'y06', 'dbp', 'XOR')\n",
      "('x07', 'y07', 'twn', 'XOR')\n",
      "('x07', 'y07', 'rnh', 'AND')\n",
      "('x08', 'y08', 'vvd', 'XOR')\n",
      "('y08', 'x08', 'ndk', 'AND')\n",
      "('x09', 'y09', 'ggk', 'AND')\n",
      "('x09', 'y09', 'pnd', 'XOR')\n",
      "('x10', 'y10', 'wkd', 'AND')\n",
      "('y10', 'x10', 'mtg', 'XOR')\n",
      "('y11', 'x11', 'cdk', 'AND')\n",
      "('y11', 'x11', 'gcg', 'XOR')\n",
      "('x12', 'y12', 'gnr', 'AND')\n",
      "('y12', 'x12', 'mtq', 'XOR')\n",
      "('y13', 'x13', 'fcm', 'XOR')\n",
      "('y13', 'x13', 'nhj', 'AND')\n",
      "('y14', 'x14', 'prf', 'AND')\n",
      "('y14', 'x14', 'ths', 'XOR')\n",
      "('x15', 'y15', 'fqf', 'XOR')\n",
      "('x15', 'y15', 'z15', 'AND')\n",
      "('x16', 'y16', 'wfs', 'AND')\n",
      "('x16', 'y16', 'ftv', 'XOR')\n",
      "('y17', 'x17', 'qdh', 'XOR')\n",
      "('y17', 'x17', 'mbd', 'AND')\n",
      "('x18', 'y18', 'fgn', 'XOR')\n",
      "('y18', 'x18', 'tpt', 'AND')\n",
      "('y19', 'x19', 'wcn', 'AND')\n",
      "('y19', 'x19', 'pwn', 'XOR')\n",
      "('x20', 'y20', 'bkt', 'XOR')\n",
      "('x20', 'y20', 'vpq', 'AND')\n",
      "('y21', 'x21', 'jbs', 'XOR')\n",
      "('x21', 'y21', 'rhm', 'AND')\n",
      "('y22', 'x22', 'pjd', 'XOR')\n",
      "('x22', 'y22', 'dhv', 'AND')\n",
      "('y23', 'x23', 'rdt', 'AND')\n",
      "('y23', 'x23', 'nsr', 'XOR')\n",
      "('y24', 'x24', 'jvq', 'AND')\n",
      "('y24', 'x24', 'hnr', 'XOR')\n",
      "('x25', 'y25', 'rjd', 'XOR')\n",
      "('x25', 'y25', 'dnq', 'AND')\n",
      "('y26', 'x26', 'tpb', 'XOR')\n",
      "('x26', 'y26', 'tpw', 'AND')\n",
      "('y27', 'x27', 'dcr', 'AND')\n",
      "('y27', 'x27', 'dfh', 'XOR')\n",
      "('x28', 'y28', 'rcq', 'AND')\n",
      "('x28', 'y28', 'svn', 'XOR')\n",
      "('y29', 'x29', 'vwc', 'AND')\n",
      "('y29', 'x29', 'mfw', 'XOR')\n",
      "('y30', 'x30', 'wbp', 'XOR')\n",
      "('x30', 'y30', 'tvj', 'AND')\n",
      "('x31', 'y31', 'kqm', 'XOR')\n",
      "('x31', 'y31', 'jwg', 'AND')\n",
      "('x32', 'y32', 'ckn', 'AND')\n",
      "('x32', 'y32', 'bvs', 'XOR')\n",
      "('y33', 'x33', 'wsk', 'XOR')\n",
      "('y33', 'x33', 'ktr', 'AND')\n",
      "('y34', 'x34', 'cgd', 'AND')\n",
      "('y34', 'x34', 'wpp', 'XOR')\n",
      "('x35', 'y35', 'rfc', 'XOR')\n",
      "('x35', 'y35', 'dsc', 'AND')\n",
      "('x36', 'y36', 'rth', 'AND')\n",
      "('y36', 'x36', 'kgf', 'XOR')\n",
      "('x37', 'y37', 'ffp', 'AND')\n",
      "('x37', 'y37', 'bkk', 'XOR')\n",
      "('y38', 'x38', 'ngh', 'AND')\n",
      "('x38', 'y38', 'vft', 'XOR')\n",
      "('y39', 'x39', 'vqr', 'XOR')\n",
      "('y39', 'x39', 'jdk', 'AND')\n",
      "('y40', 'x40', 'mbk', 'AND')\n",
      "('x40', 'y40', 'bvt', 'XOR')\n",
      "('y41', 'x41', 'fkk', 'XOR')\n",
      "('y41', 'x41', 'tjr', 'AND')\n",
      "('x42', 'y42', 'jsf', 'AND')\n",
      "('x42', 'y42', 'jdh', 'XOR')\n",
      "('x43', 'y43', 'djn', 'XOR')\n",
      "('x43', 'y43', 'vcd', 'AND')\n",
      "('x44', 'y44', 'tmh', 'AND')\n",
      "('y44', 'x44', 'qcq', 'XOR')\n"
     ]
    }
   ],
   "source": [
    "print_queue = deque([])\n",
    "\n",
    "def find_ind_g(w):\n",
    "    tmp = []\n",
    "    for ind_g in dict_in[w]:\n",
    "        tmp.append(ind_g)\n",
    "    \n",
    "    for ind_g in dict_out[w]:\n",
    "        tmp.append(ind_g)\n",
    "\n",
    "    return tmp\n",
    "\n",
    "def find_xy_gates(n):\n",
    "    str_n = str(n).zfill(2)\n",
    "    inds_x = find_ind_g('x' + str_n)\n",
    "    inds_y = find_ind_g('y' + str_n)\n",
    "    return list(set(inds_x).union(set(inds_y)))\n",
    "\n",
    "for ind_g in find_xy_gates(0):\n",
    "    print_queue.append(ind_g)\n",
    "\n",
    "n = 0\n",
    "while print_queue:\n",
    "    ind_g = print_queue.popleft()\n",
    "    print(gates[ind_g])\n",
    "\n",
    "    if len(print_queue) == 0:\n",
    "        n += 1\n",
    "        for ind_g in find_xy_gates(n):\n",
    "            print_queue.append(ind_g)\n",
    "        if len(print_queue) > 0:\n",
    "            assert len(print_queue) == 2\n"
   ]
  },
  {
   "cell_type": "code",
   "execution_count": 46,
   "metadata": {},
   "outputs": [
    {
     "name": "stdout",
     "output_type": "stream",
     "text": [
      "IN\n",
      "('vpn', 'mtg', 'pbg', 'AND')\n",
      "('vpn', 'mtg', 'z10', 'XOR')\n",
      "OUT\n",
      "('jpj', 'ggk', 'vpn', 'OR')\n"
     ]
    }
   ],
   "source": [
    "# w = 'chk'\n",
    "\n",
    "w = 'vpn'\n",
    "\n",
    "# w = 'z15'\n",
    "# w = 'qbw'\n",
    "\n",
    "print('IN')\n",
    "for ind_g in dict_in[w]:\n",
    "    print(gates[ind_g])\n",
    "\n",
    "\n",
    "print('OUT')\n",
    "for ind_g in dict_out[w]:\n",
    "    print(gates[ind_g])"
   ]
  }
 ],
 "metadata": {
  "kernelspec": {
   "display_name": "py310",
   "language": "python",
   "name": "python3"
  },
  "language_info": {
   "codemirror_mode": {
    "name": "ipython",
    "version": 3
   },
   "file_extension": ".py",
   "mimetype": "text/x-python",
   "name": "python",
   "nbconvert_exporter": "python",
   "pygments_lexer": "ipython3",
   "version": "3.10.13"
  }
 },
 "nbformat": 4,
 "nbformat_minor": 2
}
