{
 "cells": [
  {
   "cell_type": "code",
   "execution_count": 1,
   "metadata": {},
   "outputs": [],
   "source": [
    "%load_ext autoreload\n",
    "%autoreload 2\n",
    "\n",
    "import numpy as np\n",
    "import os, sys \n",
    "sys.path.append('..')\n",
    "import collections\n",
    "import copy\n",
    "import itertools\n",
    "import aoc_utils as au\n",
    "import math \n",
    "from tqdm import tqdm"
   ]
  },
  {
   "cell_type": "code",
   "execution_count": 3,
   "metadata": {},
   "outputs": [],
   "source": [
    "input_text = au.read_txt_file_lines()\n",
    "n_rows = len(input_text)\n",
    "n_cols = len(input_text[0])\n",
    "# for ii in range(1, n_rows):\n",
    "#     assert len(input_text[ii]) == n_cols, f'row {ii} has {len(input_text[ii])} cols, not {n_cols}'\n",
    "# print(f'input has {n_rows} rows and {n_cols} cols')"
   ]
  },
  {
   "cell_type": "code",
   "execution_count": 29,
   "metadata": {},
   "outputs": [],
   "source": [
    "len(input_text)\n",
    "text = ''.join(input_text)\n",
    "# text = 'xmul(2,4)%&mul[3,7]!@^do_not_mul(5,5)+mul(32,64]then(mul(11,8)mul(8,5))'"
   ]
  },
  {
   "cell_type": "code",
   "execution_count": 31,
   "metadata": {},
   "outputs": [
    {
     "data": {
      "text/plain": [
       "89823704"
      ]
     },
     "execution_count": 31,
     "metadata": {},
     "output_type": "execute_result"
    }
   ],
   "source": [
    "total = 0\n",
    "enable = True\n",
    "\n",
    "for ii in range(len(text) - 5):\n",
    "    ## part 2:\n",
    "    if text[ii:ii + 4] == 'do()':\n",
    "        enable = True \n",
    "    elif text[ii:ii + 7] == \"don't()\":\n",
    "        enable = False\n",
    "        continue\n",
    "    if not enable:\n",
    "        continue\n",
    "\n",
    "    ## part 1 (and 2):\n",
    "    if text[ii:ii + 4] != 'mul(':\n",
    "        continue\n",
    "    kk, ll = 0, 0\n",
    "    dig1, dig2 = '', ''\n",
    "    while au.is_digit(text[ii + 4 + kk]) and kk < 3:\n",
    "        dig1 += text[ii + 4 + kk]\n",
    "        kk += 1\n",
    "    if len(dig1) == 0:\n",
    "        continue \n",
    "    if text[ii + 4 + kk] != ',':\n",
    "        continue\n",
    "\n",
    "    while au.is_digit(text[ii + 4 + kk + ll + 1]) and ll < 3:\n",
    "        dig2 += text[ii + 4 + kk + ll + 1]\n",
    "        ll += 1\n",
    "    \n",
    "    if len(dig2) == 0:\n",
    "        continue\n",
    "    if text[ii + 4 + kk + ll + 1] != ')':\n",
    "        continue \n",
    "\n",
    "    total += int(dig1) * int(dig2)\n",
    "\n",
    "total\n",
    "        "
   ]
  }
 ],
 "metadata": {
  "kernelspec": {
   "display_name": "py37",
   "language": "python",
   "name": "python3"
  },
  "language_info": {
   "codemirror_mode": {
    "name": "ipython",
    "version": 3
   },
   "file_extension": ".py",
   "mimetype": "text/x-python",
   "name": "python",
   "nbconvert_exporter": "python",
   "pygments_lexer": "ipython3",
   "version": "3.10.13"
  }
 },
 "nbformat": 4,
 "nbformat_minor": 2
}
