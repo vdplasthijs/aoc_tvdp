{
 "cells": [
  {
   "cell_type": "code",
   "execution_count": 31,
   "metadata": {},
   "outputs": [
    {
     "name": "stdout",
     "output_type": "stream",
     "text": [
      "The autoreload extension is already loaded. To reload it, use:\n",
      "  %reload_ext autoreload\n"
     ]
    }
   ],
   "source": [
    "%load_ext autoreload\n",
    "%autoreload 2\n",
    "\n",
    "import numpy as np\n",
    "import os, sys \n",
    "sys.path.append('..')\n",
    "import collections\n",
    "import copy\n",
    "import itertools\n",
    "import aoc_utils as au\n",
    "import math \n",
    "from tqdm import tqdm\n",
    "from collections import deque, namedtuple"
   ]
  },
  {
   "cell_type": "code",
   "execution_count": 28,
   "metadata": {},
   "outputs": [
    {
     "name": "stdout",
     "output_type": "stream",
     "text": [
      "input has 130 rows and 130 cols\n"
     ]
    }
   ],
   "source": [
    "input_text = au.read_txt_file_lines()\n",
    "n_rows = len(input_text)\n",
    "n_cols = len(input_text[0])\n",
    "for ii in range(1, n_rows):\n",
    "    assert len(input_text[ii]) == n_cols, f'row {ii} has {len(input_text[ii])} cols, not {n_cols}'\n",
    "print(f'input has {n_rows} rows and {n_cols} cols')"
   ]
  },
  {
   "cell_type": "code",
   "execution_count": 29,
   "metadata": {},
   "outputs": [
    {
     "name": "stdout",
     "output_type": "stream",
     "text": [
      "5177.0\n"
     ]
    }
   ],
   "source": [
    "mat_visited = np.zeros((n_rows, n_cols))\n",
    "for i_r, r in enumerate(input_text):\n",
    "    if '^' in r:\n",
    "        start_r = i_r\n",
    "        for i_c, c in enumerate(r):\n",
    "            if c == '^':\n",
    "                start_c = i_c\n",
    "                break \n",
    "        break \n",
    "\n",
    "start_r, start_c\n",
    "assert input_text[start_r][start_c] == '^'\n",
    "\n",
    "mat_visited[start_r, start_c] = 1\n",
    "dirs = deque([(-1, 0), (0, 1), (1, 0), (0, -1)])\n",
    "curr_dir = dirs.popleft()\n",
    "seen = set((start_r, start_c, curr_dir))\n",
    "keep_searching = True \n",
    "it = 0\n",
    "max_it = 200000\n",
    "\n",
    "while keep_searching and it < max_it:\n",
    "    it += 1\n",
    "    next_r = i_r + curr_dir[0]\n",
    "    next_c = i_c + curr_dir[1]\n",
    "\n",
    "    if next_r < 0 or next_c < 0 or next_r >= n_rows or next_c >= n_cols:  #out of bounds\n",
    "        keep_searching = False\n",
    "        break \n",
    "    elif (next_r, next_c, curr_dir) in seen:  # in a loop\n",
    "        keep_searching = False\n",
    "        break \n",
    "    elif input_text[next_r][next_c] == '#':  # turn right\n",
    "        dirs.append(curr_dir)\n",
    "        curr_dir = dirs.popleft()\n",
    "    else:  # step ahead\n",
    "        mat_visited[next_r, next_c] = 1\n",
    "        seen.add((next_r, next_c, curr_dir))\n",
    "        i_r, i_c = next_r, next_c \n",
    "\n",
    "print(mat_visited.sum())"
   ]
  },
  {
   "cell_type": "markdown",
   "metadata": {},
   "source": [
    "## part 2"
   ]
  },
  {
   "cell_type": "code",
   "execution_count": 39,
   "metadata": {},
   "outputs": [
    {
     "data": {
      "text/plain": [
       "0"
      ]
     },
     "execution_count": 39,
     "metadata": {},
     "output_type": "execute_result"
    }
   ],
   "source": [
    "## part 2 brute force possible? Put everything in function and iterate through new obstacles\n",
    "\n",
    "mat_visited = np.zeros((n_rows, n_cols))\n",
    "for i_r, r in enumerate(input_text):\n",
    "    if '^' in r:\n",
    "        start_r = i_r\n",
    "        for i_c, c in enumerate(r):\n",
    "            if c == '^':\n",
    "                start_c = i_c\n",
    "                break \n",
    "        break \n",
    "\n",
    "start_r, start_c\n",
    "assert input_text[start_r][start_c] == '^'\n",
    "\n",
    "mat_visited[start_r, start_c] = 1\n",
    "\n",
    "def run(map):\n",
    "    i_r, i_c = start_r, start_c\n",
    "    is_loop = False\n",
    "    dirs = deque([(-1, 0), (0, 1), (1, 0), (0, -1)])\n",
    "    curr_dir = dirs.popleft()\n",
    "    seen = set((start_r, start_c, curr_dir))\n",
    "    keep_searching = True \n",
    "    it = 0\n",
    "    max_it = 200000\n",
    "\n",
    "    while keep_searching and it < max_it:\n",
    "        it += 1\n",
    "        next_r = i_r + curr_dir[0]\n",
    "        next_c = i_c + curr_dir[1]\n",
    "\n",
    "        if next_r < 0 or next_c < 0 or next_r >= n_rows or next_c  >= n_cols:  # end\n",
    "            keep_searching = False\n",
    "            break \n",
    "        elif (next_r, next_c, curr_dir) in seen:\n",
    "            keep_searching = False\n",
    "            is_loop = True\n",
    "            return 1\n",
    "            break \n",
    "        elif map[next_r][next_c] == '#':  # turn right\n",
    "            dirs.append(curr_dir)\n",
    "            curr_dir = dirs.popleft()\n",
    "            \n",
    "        else:\n",
    "            # mat_visited[next_r, next_c] = 1\n",
    "            seen.add((next_r, next_c, curr_dir))\n",
    "            i_r, i_c = next_r, next_c \n",
    "\n",
    "    return 0 \n",
    "\n",
    "run(input_text)"
   ]
  },
  {
   "cell_type": "code",
   "execution_count": 44,
   "metadata": {},
   "outputs": [
    {
     "name": "stdout",
     "output_type": "stream",
     "text": [
      "1.57 ms ± 16.2 µs per loop (mean ± std. dev. of 7 runs, 1,000 loops each)\n"
     ]
    }
   ],
   "source": [
    "%timeit run(input_text)\n",
    "## yes bit lazy but works"
   ]
  },
  {
   "cell_type": "code",
   "execution_count": 42,
   "metadata": {},
   "outputs": [
    {
     "name": "stdout",
     "output_type": "stream",
     "text": [
      "1686\n"
     ]
    }
   ],
   "source": [
    "total = 0\n",
    "for iir in range(n_rows):\n",
    "    for iic in range(n_cols):\n",
    "        if input_text[iir][iic] == '.':  # temporarily add wall, run, and remove wall\n",
    "            tmp = list(input_text[iir])\n",
    "            tmp[iic] = '#'\n",
    "            input_text[iir] = ''.join(tmp)\n",
    "            total += run(map=input_text)\n",
    "            tmp[iic] = '.'\n",
    "            input_text[iir] = ''.join(tmp)\n",
    "\n",
    "print(total)"
   ]
  }
 ],
 "metadata": {
  "kernelspec": {
   "display_name": "py37",
   "language": "python",
   "name": "python3"
  },
  "language_info": {
   "codemirror_mode": {
    "name": "ipython",
    "version": 3
   },
   "file_extension": ".py",
   "mimetype": "text/x-python",
   "name": "python",
   "nbconvert_exporter": "python",
   "pygments_lexer": "ipython3",
   "version": "3.10.13"
  }
 },
 "nbformat": 4,
 "nbformat_minor": 2
}
