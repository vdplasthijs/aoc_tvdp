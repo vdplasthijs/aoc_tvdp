{
 "cells": [
  {
   "cell_type": "code",
   "execution_count": 1,
   "metadata": {},
   "outputs": [],
   "source": [
    "%load_ext autoreload\n",
    "%autoreload 2\n",
    "\n",
    "import numpy as np\n",
    "import os, sys \n",
    "sys.path.append('..')\n",
    "import collections\n",
    "import copy\n",
    "import itertools\n",
    "import aoc_utils as au\n",
    "import math \n",
    "from tqdm import tqdm\n",
    "import matplotlib.pyplot as plt\n"
   ]
  },
  {
   "cell_type": "code",
   "execution_count": 5,
   "metadata": {},
   "outputs": [],
   "source": [
    "input_text = au.read_txt_file_lines()\n",
    "# input_mat = input_text[:8]\n",
    "# input_dirs = input_text[9:]"
   ]
  },
  {
   "cell_type": "code",
   "execution_count": null,
   "metadata": {},
   "outputs": [
    {
     "name": "stdout",
     "output_type": "stream",
     "text": [
      "['##########', '#..O..O.O#', '#......O.#', '#.OO..O.O#', '#..O@..O.#', '#O#..O...#', '#O..O..O.#', '#.OO.O.OO#', '#....O...#', '##########']\n"
     ]
    }
   ],
   "source": [
    "# input_mat = input_text[:50]\n",
    "# input_dirs = input_text[51:]\n",
    "\n",
    "input_mat = input_text[:10]\n",
    "input_dirs = input_text[11:]\n",
    "\n",
    "print(input_mat)"
   ]
  },
  {
   "cell_type": "code",
   "execution_count": null,
   "metadata": {},
   "outputs": [
    {
     "name": "stdout",
     "output_type": "stream",
     "text": [
      "['<vv>^<v^>v>^vv^v>v<>v^v<v<^vv<<<^><<><>>v<vvv<>^v^>^<<<><<v<<<v^vv^v>^', 'vvv<<^>^v^^><<>>><>^<<><^vv^^<>vvv<>><^^v>^>vv<>v<<<<v<^v>^<^^>>>^<v<v', '><>vv>v^v^<>><>>>><^^>vv>v<^^^>>v^v^<^^>v^^>v^<^v>v<>>v^v^<v>v^^<^^vv<', '<<v<^>>^^^^>>>v^<>vvv^><v<<<>^^^vv^<vvv>^>v<^^^^v<>^>vvvv><>>v^<<^^^^^', '^><^><>>><>^^<<^^v>>><^<v>^<vv>>v>>>^v><>^v><<<<v>>v<v<v>vvv>^<><<>^><', '^>><>^v<><^vvv<^^<><v<<<<<><^v<<<><<<^^<v<^^^><^>>^<v^><<<^>>^v<v^v<v^', '>^>>^v>vv>^<<^v<>><<><<v<<v><>v<^vv<<<>^^v^>^^>>><<^v>>v^v><^^>>^<>vv^', '<><^^>^^^<><vvvvv^v<v<<>^v<v>v<<^><<><<><<<^^<<<^<<>><<><^^^>^^<>^>v<>', '^^>vv<^v^v<vv>^<><v<^v>^^^>>>^^vvv^>vvv<>>>^<^>>>>>^<<^v>^vvv<>^<><<v>', 'v^^>>><<^^<>>^v^<v^vv<>v^<<>^<^v^v><^<<<><<^<v><v<>vv>>v><v^<vv<>v^<<^']\n"
     ]
    }
   ],
   "source": [
    "print(input_dirs)"
   ]
  },
  {
   "cell_type": "code",
   "execution_count": null,
   "metadata": {},
   "outputs": [
    {
     "name": "stdout",
     "output_type": "stream",
     "text": [
      "input map has 10 rows and 10 cols\n"
     ]
    }
   ],
   "source": [
    "dirs = ''.join(input_dirs)\n",
    "\n",
    "n_rows = len(input_mat)\n",
    "n_cols = len(input_mat[0])\n",
    "for ii in range(1, n_rows):\n",
    "    assert len(input_mat[ii]) == n_cols, f'row {ii} has {len(input_mat[ii])} cols, not {n_cols}'\n",
    "print(f'input map has {n_rows} rows and {n_cols} cols')"
   ]
  },
  {
   "cell_type": "code",
   "execution_count": null,
   "metadata": {},
   "outputs": [
    {
     "name": "stdout",
     "output_type": "stream",
     "text": [
      "4 4\n"
     ]
    }
   ],
   "source": [
    "# mat = copy.deepcopy(input_mat)\n",
    "mapping_els = {'.': 0, 'O': 1, '@': 2, '#': 3}\n",
    "mat = np.zeros((n_rows, n_cols), dtype=int)\n",
    "for ir in range(n_rows):\n",
    "    for ic in range(n_cols):\n",
    "        mat[ir, ic] = mapping_els[input_mat[ir][ic]]\n",
    "\n",
    "start_ir, start_ic = np.where(mat == 2)\n",
    "start_ir, start_ic = start_ir[0], start_ic[0]\n",
    "print(start_ir, start_ic)\n",
    "ir, ic = start_ir, start_ic\n",
    "\n",
    "map_dirs = {'>': (0, 1), '<': (0, -1), 'v': (1, 0), '^': (-1, 0)}\n",
    "# print(mat)\n",
    "for str_d in dirs:\n",
    "    \n",
    "    d = map_dirs[str_d]\n",
    "    # print(str_d, d)\n",
    "    start_ir, start_ic = copy.deepcopy(ir), copy.deepcopy(ic)\n",
    "\n",
    "    if mat[ir + d[0], ic + d[1]] == 0:\n",
    "        # print('step')\n",
    "        mat[ir + d[0], ic + d[1]] = 2\n",
    "        mat[ir, ic] = 0\n",
    "        ir += d[0]\n",
    "        ic += d[1]\n",
    "        # print(mat)\n",
    "        continue \n",
    "\n",
    "    while mat[ir + d[0], ic + d[1]] == 1:\n",
    "        # print('box')\n",
    "        ir += d[0]\n",
    "        ic += d[1]\n",
    "\n",
    "    if mat[ir + d[0], ic + d[1]] == 3:\n",
    "        # print('wall')\n",
    "        ir, ic = start_ir, start_ic\n",
    "        continue \n",
    "    else:\n",
    "        # print('post box step')\n",
    "        mat[ir + d[0], ic + d[1]] = 1\n",
    "        mat[start_ir + d[0], start_ic + d[1]] = 2\n",
    "        mat[start_ir, start_ic] = 0\n",
    "        ir = start_ir + d[0]\n",
    "        ic = start_ic + d[1]\n",
    "        # print(mat)\n",
    "        continue \n",
    "\n",
    "\n"
   ]
  },
  {
   "cell_type": "code",
   "execution_count": 11,
   "metadata": {},
   "outputs": [
    {
     "data": {
      "text/plain": [
       "0"
      ]
     },
     "execution_count": 11,
     "metadata": {},
     "output_type": "execute_result"
    }
   ],
   "source": [
    "total = 0\n",
    "for ir in range(n_rows):\n",
    "    for ic in range(n_cols):\n",
    "        if mat[ir, ic] == 1:\n",
    "            total += ir * 100\n",
    "            total += ic\n",
    "\n",
    "total"
   ]
  },
  {
   "cell_type": "markdown",
   "metadata": {},
   "source": [
    "# part 2"
   ]
  },
  {
   "cell_type": "code",
   "execution_count": 20,
   "metadata": {},
   "outputs": [
    {
     "name": "stdout",
     "output_type": "stream",
     "text": [
      "input map has 13 rows and 10 cols\n",
      "['##########', '#.O......#', '#....@...#', '#........#', '#........#', '#........#', '#.....O..#', '#........#', '#........#', '#..O.....#', '#........#', '#........#', '##########']\n",
      ">\n",
      "> ---- >\n"
     ]
    },
    {
     "data": {
      "text/plain": [
       "['####################',\n",
       " '##..[]............##',\n",
       " '##........@.......##',\n",
       " '##................##',\n",
       " '##................##',\n",
       " '##................##',\n",
       " '##..........[]....##',\n",
       " '##................##',\n",
       " '##................##',\n",
       " '##....[]..........##',\n",
       " '##................##',\n",
       " '##................##',\n",
       " '####################']"
      ]
     },
     "execution_count": 20,
     "metadata": {},
     "output_type": "execute_result"
    }
   ],
   "source": [
    "input_text = au.read_txt_file_lines()\n",
    "\n",
    "# input_mat = input_text[:50]\n",
    "# input_dirs = input_text[51:]\n",
    "# input_mat = input_text[:14]\n",
    "# input_dirs = input_text[15:]\n",
    "input_mat = input_text[:13]\n",
    "input_dirs = input_text[14:]\n",
    "\n",
    "# input_mat = input_text[:10]\n",
    "# input_dirs = input_text[11:]\n",
    "dirs = ''.join(input_dirs)\n",
    "\n",
    "n_rows = len(input_mat)\n",
    "n_cols = len(input_mat[0])\n",
    "for ii in range(1, n_rows):\n",
    "    assert len(input_mat[ii]) == n_cols, f'row {ii} has {len(input_mat[ii])} cols, not {n_cols}'\n",
    "print(f'input map has {n_rows} rows and {n_cols} cols')\n",
    "\n",
    "print(input_mat)\n",
    "print(dirs)\n",
    "\n",
    "for ir, r in enumerate(input_mat):\n",
    "    input_mat[ir] = ''.join([x.replace('#', '##').replace('O', '[]').replace('.', '..').replace('@', '@.') for x in r])\n",
    "\n",
    "print(dirs[:20], '----', dirs[-20:])\n",
    "input_mat\n"
   ]
  },
  {
   "cell_type": "code",
   "execution_count": 21,
   "metadata": {},
   "outputs": [
    {
     "name": "stdout",
     "output_type": "stream",
     "text": [
      "3 boxes and 84 walls\n",
      "finished\n"
     ]
    },
    {
     "data": {
      "image/png": "[encoded data removed]",
      "text/plain": [
       "<Figure size 1400x300 with 7 Axes>"
      ]
     },
     "metadata": {},
     "output_type": "display_data"
    },
    {
     "name": "stdout",
     "output_type": "stream",
     "text": [
      "it:  1\n"
     ]
    },
    {
     "data": {
      "text/plain": [
       "1622"
      ]
     },
     "execution_count": 21,
     "metadata": {},
     "output_type": "execute_result"
    }
   ],
   "source": [
    "plotting = True\n",
    "verbose = False\n",
    "# dirs = dirs[:10]\n",
    "\n",
    "def plot_mat(mat, ax=None, t='', show=True, save=False):\n",
    "    if ax is None:\n",
    "        fig, ax = plt.subplots(figsize=(20, 20))\n",
    "    else:\n",
    "        fig = ax.figure\n",
    "    \n",
    "    im = ax.imshow(mat, interpolation='none')\n",
    "    ax.set_xticks([])\n",
    "    ax.set_yticks([])\n",
    "    ax.set_title(t)\n",
    "    \n",
    "    if save:\n",
    "        fig.savefig(f'figs/{t}.png', bbox_inches='tight')\n",
    "        ax.clear()\n",
    "    if show:\n",
    "        plt.show()\n",
    "    \n",
    "n_rows = len(input_mat)\n",
    "n_cols = len(input_mat[0])\n",
    "mapping_els = {'.': 0, '[': 4, ']': 5, '@': 2, '#': 3}\n",
    "mat = np.zeros((n_rows, n_cols), dtype=int)\n",
    "for ir in range(n_rows):\n",
    "    for ic in range(n_cols):\n",
    "        mat[ir, ic] = mapping_els[input_mat[ir][ic]]\n",
    "\n",
    "start_ir, start_ic = np.where(mat == 2)\n",
    "start_ir, start_ic = start_ir[0], start_ic[0]\n",
    "ir, ic = start_ir, start_ic\n",
    "\n",
    "map_dirs = {'>': (0, 1), '<': (0, -1), 'v': (1, 0), '^': (-1, 0)}\n",
    "if plotting:\n",
    "    fig, ax = plt.subplots(len(dirs) // 7 + 1, 7, figsize=(14, 3 * (len(dirs) // 7) + 3), gridspec_kw={'hspace': 0.03})\n",
    "    ax = np.ravel(ax)\n",
    "    # fig, ax = plt.subplots()\n",
    "it = 0\n",
    "\n",
    "sum_boxes = np.sum(mat == 4)\n",
    "sum_walls = np.sum(mat == 3)\n",
    "\n",
    "print(f'{sum_boxes} boxes and {sum_walls} walls')\n",
    "# assert False\n",
    "for str_d in dirs:\n",
    "    assert np.sum(mat == 4) == sum_boxes, f'left box wrong: it {it}, L: {np.sum(mat == 4)}, R: {np.sum(mat == 5)}, start: {np.where(mat == 2)}, walls: {np.sum(mat == 3)}'\n",
    "    assert np.sum(mat == 5) == sum_boxes, f'right box wrong: it {it}, L: {np.sum(mat == 4)}, R: {np.sum(mat == 5)}, start: {np.where(mat == 2)}, walls: {np.sum(mat == 3)}'\n",
    "    assert np.sum(mat == 3) == sum_walls, f'walls wrong: it {it}, L: {np.sum(mat == 4)}, R: {np.sum(mat == 5)}, start: {np.where(mat == 2)}, walls: {np.sum(mat == 3)}'\n",
    "    assert np.sum(mat == 2) == 1, f'start wrong: it {it}, L: {np.sum(mat == 4)}, R: {np.sum(mat == 5)}, start: {np.where(mat == 2)}, walls: {np.sum(mat == 3)}'\n",
    "\n",
    "    if plotting:\n",
    "        # plot_mat(mat, ax, f'{it} {str_d}', show=False, save=True)\n",
    "        # ax.clear()\n",
    "        plot_mat(mat, ax[it], f'{it} {str_d}', show=False)\n",
    "        # plt.draw()\n",
    "        # input(\"Press Enter to continue...\")\n",
    "    it += 1\n",
    "    d = map_dirs[str_d]\n",
    "    start_ir, start_ic = copy.deepcopy(ir), copy.deepcopy(ic)\n",
    "    dict_cols = {}\n",
    "    hit_wall = False\n",
    "    tmp_mat_old = copy.deepcopy(mat)\n",
    "\n",
    "    if mat[ir + d[0], ic + d[1]] == 0:  # direct step possible\n",
    "        mat[ir + d[0], ic + d[1]] = 2\n",
    "        mat[ir, ic] = 0\n",
    "        ir += d[0]\n",
    "        ic += d[1]\n",
    "        continue \n",
    "    elif mat[ir + d[0], ic + d[1]] == 3:  # wall\n",
    "        continue \n",
    "\n",
    "    if d in [(0, 1), (0, -1)]:  ## if moving horizontally, keep going until end of boxes:\n",
    "        assert d[1] != 0 and d[0] == 0, d\n",
    "        ic += d[1]\n",
    "        while mat[ir, ic] in [4, 5]:\n",
    "            ic += d[1]\n",
    "        \n",
    "    else:  # vertical:\n",
    "        assert d[1] == 0 and d[0] != 0, d\n",
    "        dict_cols = {ir: [start_ic]}  # dict of columns that will need moving. start with robot. \n",
    "        keep_going = True\n",
    "        ir += d[0]  # move to next row, which will NOT be .\n",
    "        dict_cols[ir] = [start_ic]  # item behind robot is a candidate for moving\n",
    "        assert mat[ir, start_ic] != 0, (ir, start_ic)\n",
    "        while keep_going:\n",
    "            next_row_clear = True  # default to true \n",
    "            tmp_to_add = []\n",
    "            for c in dict_cols[ir]:  # check all candidates\n",
    "                if mat[ir, c] == 4:  # if box hit, row not clear, include right neighbour\n",
    "                    if c + 1 not in dict_cols[ir]:  \n",
    "                        tmp_to_add.append(c + 1)  # might mess up loop but not really an issue I think .. \n",
    "                    next_row_clear = False\n",
    "                elif mat[ir, c] == 5:  # box, add left neighbour\n",
    "                    if c - 1 not in dict_cols[ir]:\n",
    "                        tmp_to_add.append(c - 1)\n",
    "                    next_row_clear = False\n",
    "                elif mat[ir, c] == 3:  # wall \n",
    "                    next_row_clear = False\n",
    "                    hit_wall = True\n",
    "                    keep_going = False\n",
    "                    break\n",
    "\n",
    "            if next_row_clear:  # end of loop\n",
    "                keep_going = False\n",
    "            elif not hit_wall:  # \n",
    "                for c in list(set(tmp_to_add)):\n",
    "                    dict_cols[ir].append(c)\n",
    "                dict_cols[ir + d[0]] = []  # create next set of candidates\n",
    "                for x in dict_cols[ir]:\n",
    "                    if mat[ir, x] != 0:  # box/agent behind it that will push\n",
    "                        dict_cols[ir + d[0]].append(x)\n",
    "                    elif mat[ir + d[0], x] in [4, 5]:  # nothing behind it, but part of a box: check other half\n",
    "                        if mat[ir + d[0], x] == 4:\n",
    "                            ind_neigh = 1\n",
    "                        else:\n",
    "                            ind_neigh = -1\n",
    "                        if mat[ir, x + ind_neigh] in [2, 4, 5] and x + ind_neigh in dict_cols[ir]:  # if moving box/agent behind other half\n",
    "                            dict_cols[ir + d[0]].append(x)\n",
    "                            dict_cols[ir + d[0]].append(x + ind_neigh)\n",
    "                ir += d[0]\n",
    "\n",
    "        if not hit_wall:  # don't think this matters\n",
    "            for tmp_r, cols in dict_cols.items():\n",
    "                if tmp_r == ir:\n",
    "                    continue\n",
    "                dict_cols[tmp_r] = [c for c in cols if mat[tmp_r, c] in [2, 4, 5]]\n",
    "                \n",
    "    if hit_wall or (mat[ir, ic] == 3):  #if wall hit \n",
    "        ir, ic = start_ir, start_ic  # stay still \n",
    "        continue \n",
    "\n",
    "    else:  # clear point after boxes:\n",
    "        # assert mat[ir, ic] == 0, (ir, ic, start_ir, start_ic, mat[ir, ic], d)\n",
    "        if d in [(0, 1), (0, -1)]:  # horizontal\n",
    "            for tmp_c in range(ic, start_ic, -d[1]):  # end to beginning in reverse\n",
    "                mat[ir, tmp_c] = mat[ir, tmp_c - d[1]]  # take on previous element\n",
    "            assert ir == start_ir\n",
    "            assert tmp_c - d[1] == start_ic\n",
    "\n",
    "            mat[ir, tmp_c - d[1]] = 0  \n",
    "            \n",
    "        else:  # vertical # {'.': 0, '[': 4, ']': 5, '@': 2, '#': 3}\n",
    "            # tmp_mat_old = copy.deepcopy(mat)\n",
    "            for tmp_r in dict_cols.keys():\n",
    "                assert tmp_r in range(start_ir, ir + d[0], d[0]), (tmp_r, start_ir, ir, d[0])\n",
    "            for tmp_r in range(start_ir, ir + d[0], d[0]):  # loop from start to new row\n",
    "                for c in dict_cols[tmp_r]:  # loop through cols\n",
    "                    if tmp_mat_old[tmp_r, c] == 2:  # if robot, move it\n",
    "                        mat[tmp_r, c] = 0\n",
    "                        assert tmp_mat_old[tmp_r, c] == 2\n",
    "                        mat[tmp_r + d[0], c] = 2\n",
    "                    elif tmp_mat_old[tmp_r, c] in [4, 5]:  # if box, see if it's pushed\n",
    "                        ## if behind it is a moving box/agent\n",
    "                        if (tmp_mat_old[tmp_r - d[0], c] == 2) or (tmp_mat_old[tmp_r - d[0], c] in [4, 5] and tmp_r - d[0] in dict_cols.keys() and c in dict_cols[tmp_r - d[0]]):\n",
    "                            mat[tmp_r + d[0], c] = tmp_mat_old[tmp_r, c]\n",
    "                        else:  # see if a moving box/agent is behind the other half\n",
    "                            assert tmp_mat_old[tmp_r, c] in [4, 5], tmp_mat_old[tmp_r, c]\n",
    "                            # assert tmp_mat_old[tmp_r - d[0], c] == 0, (tmp_mat_old[:, c], tmp_r, d[0])\n",
    "                            # assert tmp_mat_old[tmp_r + d[0], c] == 0\n",
    "                            if tmp_mat_old[tmp_r, c] == 4:\n",
    "                                neighbour, n_el = 1, 5\n",
    "                            else:\n",
    "                                neighbour, n_el = -1, 4\n",
    "                            assert tmp_mat_old[tmp_r, c + neighbour] == n_el, tmp_mat_old[tmp_r, c + neighbour]\n",
    "                            # if tmp_mat_old[tmp_r - d[0], c + neighbour] in [2, 4, 5]:\n",
    "                            if (tmp_mat_old[tmp_r - d[0], c + neighbour] == 2) or (tmp_mat_old[tmp_r - d[0], c + neighbour] in [4, 5] and tmp_r - d[0] in dict_cols.keys() and c + neighbour in dict_cols[tmp_r - d[0]]):\n",
    "                                mat[tmp_r + d[0], c] = tmp_mat_old[tmp_r, c]\n",
    "                                mat[tmp_r, c] = 0\n",
    "                    elif tmp_mat_old[tmp_r, c] == 3:\n",
    "                        assert False\n",
    "\n",
    "        ir = start_ir + d[0]  # move\n",
    "        ic = start_ic + d[1]\n",
    "\n",
    "print('finished')\n",
    "if plotting:\n",
    "    plot_mat(mat, ax[it], it)\n",
    "\n",
    "print('it: ', it)\n",
    "total = 0\n",
    "for ir in range(n_rows):\n",
    "    for ic in range(n_cols):\n",
    "        if mat[ir, ic] == 4:\n",
    "            total += ir * 100\n",
    "            total += ic\n",
    "\n",
    "total"
   ]
  },
  {
   "cell_type": "code",
   "execution_count": 24,
   "metadata": {},
   "outputs": [
    {
     "name": "stdout",
     "output_type": "stream",
     "text": [
      "1 4 104\n",
      "6 12 612\n",
      "9 6 906\n"
     ]
    },
    {
     "data": {
      "text/plain": [
       "1622"
      ]
     },
     "execution_count": 24,
     "metadata": {},
     "output_type": "execute_result"
    }
   ],
   "source": [
    "assert mat.shape == (n_rows, n_cols)\n",
    "total = 0\n",
    "for ir in range(n_rows):\n",
    "    for ic in range(n_cols):\n",
    "        if mat[ir, ic] == 4:\n",
    "            print(ir, ic, ir * 100 + ic)\n",
    "            total += ir * 100\n",
    "            total += ic\n",
    "\n",
    "total"
   ]
  },
  {
   "cell_type": "code",
   "execution_count": 70,
   "metadata": {},
   "outputs": [
    {
     "name": "stdout",
     "output_type": "stream",
     "text": [
      "42 [45, 44] (1, 0) 42 47 35 47\n",
      "{35: [47], 36: [47, 46], 37: [47, 46, 48, 45], 38: [47, 46, 48, 45, 49, 44], 39: [45, 44], 40: [45, 44], 41: [45, 44], 42: [45, 44]}\n"
     ]
    },
    {
     "data": {
      "text/plain": [
       "array([[0, 4, 5, 0, 0, 0, 0, 0],\n",
       "       [0, 0, 0, 0, 0, 0, 0, 0],\n",
       "       [4, 5, 0, 0, 0, 2, 0, 0],\n",
       "       [3, 3, 0, 0, 4, 5, 0, 0],\n",
       "       [4, 5, 0, 4, 5, 4, 5, 0],\n",
       "       [4, 5, 4, 5, 4, 5, 4, 5],\n",
       "       [4, 5, 4, 5, 0, 0, 0, 0],\n",
       "       [4, 5, 4, 5, 0, 0, 0, 0],\n",
       "       [4, 5, 4, 5, 0, 0, 4, 5],\n",
       "       [0, 0, 0, 0, 4, 5, 0, 0],\n",
       "       [0, 0, 0, 0, 0, 0, 0, 0]])"
      ]
     },
     "execution_count": 70,
     "metadata": {},
     "output_type": "execute_result"
    }
   ],
   "source": [
    "print(tmp_r, cols, d, ir, ic, start_ir, start_ic)\n",
    "print(dict_cols)\n",
    "mat[33:44, 42:50]"
   ]
  },
  {
   "cell_type": "code",
   "execution_count": null,
   "metadata": {},
   "outputs": [],
   "source": [
    "1516806\n",
    "1501209"
   ]
  }
 ],
 "metadata": {
  "kernelspec": {
   "display_name": "py310",
   "language": "python",
   "name": "python3"
  },
  "language_info": {
   "codemirror_mode": {
    "name": "ipython",
    "version": 3
   },
   "file_extension": ".py",
   "mimetype": "text/x-python",
   "name": "python",
   "nbconvert_exporter": "python",
   "pygments_lexer": "ipython3",
   "version": "3.10.13"
  }
 },
 "nbformat": 4,
 "nbformat_minor": 2
}
