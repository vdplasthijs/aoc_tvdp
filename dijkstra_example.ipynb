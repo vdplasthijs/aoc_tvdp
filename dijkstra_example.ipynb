{
 "cells": [
  {
   "cell_type": "code",
   "execution_count": 1,
   "metadata": {},
   "outputs": [],
   "source": [
    "class Graph:\n",
    "    '''Directed, path finding Dijkstra'''\n",
    "    def __init__(self, size):\n",
    "        self.adj_matrix = [[0] * size for _ in range(size)]\n",
    "        self.size = size\n",
    "        self.vertex_data = [''] * size\n",
    "\n",
    "    def add_edge(self, u, v, weight):\n",
    "        if 0 <= u < self.size and 0 <= v < self.size:\n",
    "            self.adj_matrix[u][v] = weight\n",
    "            #self.adj_matrix[v][u] = weight   For undirected graph\n",
    "\n",
    "    def add_vertex_data(self, vertex, data):\n",
    "        if 0 <= vertex < self.size:\n",
    "            self.vertex_data[vertex] = data\n",
    "\n",
    "    def dijkstra(self, start_vertex_data):\n",
    "        start_vertex = self.vertex_data.index(start_vertex_data)\n",
    "        distances = [float('inf')] * self.size\n",
    "        predecessors = [None] * self.size\n",
    "        distances[start_vertex] = 0\n",
    "        visited = [False] * self.size\n",
    "\n",
    "        for _ in range(self.size):\n",
    "            min_distance = float('inf')\n",
    "            u = None\n",
    "            for i in range(self.size):\n",
    "                if not visited[i] and distances[i] < min_distance:\n",
    "                    min_distance = distances[i]\n",
    "                    u = i\n",
    "\n",
    "            if u is None:\n",
    "                break\n",
    "\n",
    "            visited[u] = True\n",
    "\n",
    "            for v in range(self.size):\n",
    "                if self.adj_matrix[u][v] != 0 and not visited[v]:\n",
    "                    alt = distances[u] + self.adj_matrix[u][v]\n",
    "                    if alt < distances[v]:\n",
    "                        distances[v] = alt\n",
    "                        predecessors[v] = u\n",
    "\n",
    "        return distances, predecessors\n",
    "\n",
    "    def get_path(self, predecessors, start_vertex, end_vertex):\n",
    "        path = []\n",
    "        current = self.vertex_data.index(end_vertex)\n",
    "        while current is not None:\n",
    "            path.insert(0, self.vertex_data[current])\n",
    "            current = predecessors[current]\n",
    "            if current == self.vertex_data.index(start_vertex):\n",
    "                path.insert(0, start_vertex)\n",
    "                break\n",
    "        return '->'.join(path)  # Join the vertices with '->'"
   ]
  },
  {
   "cell_type": "code",
   "execution_count": 2,
   "metadata": {},
   "outputs": [
    {
     "name": "stdout",
     "output_type": "stream",
     "text": [
      "Dijkstra's Algorithm starting from vertex D:\n",
      "\n",
      "D->A, Distance: 4\n",
      "B, Distance: inf\n",
      "D->E->C, Distance: 6\n",
      "D, Distance: 0\n",
      "D->E, Distance: 2\n",
      "D->E->C->F, Distance: 11\n",
      "D->E->G, Distance: 7\n"
     ]
    }
   ],
   "source": [
    "g = Graph(7)\n",
    "\n",
    "g.add_vertex_data(0, 'A')\n",
    "g.add_vertex_data(1, 'B')\n",
    "g.add_vertex_data(2, 'C')\n",
    "g.add_vertex_data(3, 'D')\n",
    "g.add_vertex_data(4, 'E')\n",
    "g.add_vertex_data(5, 'F')\n",
    "g.add_vertex_data(6, 'G')\n",
    "\n",
    "g.add_edge(3, 0, 4)  # D -> A, weight 5\n",
    "g.add_edge(3, 4, 2)  # D -> E, weight 2\n",
    "g.add_edge(0, 2, 3)  # A -> C, weight 3\n",
    "g.add_edge(0, 4, 4)  # A -> E, weight 4\n",
    "g.add_edge(4, 2, 4)  # E -> C, weight 4\n",
    "g.add_edge(4, 6, 5)  # E -> G, weight 5\n",
    "g.add_edge(2, 5, 5)  # C -> F, weight 5\n",
    "g.add_edge(1, 2, 2)  # B -> C, weight 2\n",
    "g.add_edge(1, 5, 2)  # B -> F, weight 2\n",
    "g.add_edge(6, 5, 5)  # G -> F, weight 5\n",
    "\n",
    "# Dijkstra's algorithm from D to all vertices\n",
    "print(\"Dijkstra's Algorithm starting from vertex D:\\n\")\n",
    "distances, predecessors = g.dijkstra('D')\n",
    "for i, d in enumerate(distances):\n",
    "    path = g.get_path(predecessors, 'D', g.vertex_data[i])\n",
    "    print(f\"{path}, Distance: {d}\")"
   ]
  },
  {
   "cell_type": "code",
   "execution_count": null,
   "metadata": {},
   "outputs": [],
   "source": []
  }
 ],
 "metadata": {
  "kernelspec": {
   "display_name": "py310",
   "language": "python",
   "name": "python3"
  },
  "language_info": {
   "codemirror_mode": {
    "name": "ipython",
    "version": 3
   },
   "file_extension": ".py",
   "mimetype": "text/x-python",
   "name": "python",
   "nbconvert_exporter": "python",
   "pygments_lexer": "ipython3",
   "version": "3.10.13"
  }
 },
 "nbformat": 4,
 "nbformat_minor": 2
}
